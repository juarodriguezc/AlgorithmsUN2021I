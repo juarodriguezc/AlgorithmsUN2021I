{
  "nbformat": 4,
  "nbformat_minor": 0,
  "metadata": {
    "colab": {
      "name": "juarodriguezcAlgorithmicToolboxWeek4.ipynb",
      "provenance": [],
      "collapsed_sections": []
    },
    "kernelspec": {
      "name": "python3",
      "display_name": "Python 3"
    },
    "language_info": {
      "name": "python"
    }
  },
  "cells": [
    {
      "cell_type": "markdown",
      "metadata": {
        "id": "pMCIDRY0VdZE"
      },
      "source": [
        "# **Programming Assignment 4:**\n",
        "##Divide-and-Conquer"
      ]
    },
    {
      "cell_type": "markdown",
      "metadata": {
        "id": "N1ok_-56OjB1"
      },
      "source": [
        "## **I Solving the  Binary Search Challenge**"
      ]
    },
    {
      "cell_type": "markdown",
      "metadata": {
        "id": "f7t9ftDKVw9T"
      },
      "source": [
        "C++"
      ]
    },
    {
      "cell_type": "code",
      "metadata": {
        "colab": {
          "base_uri": "https://localhost:8080/"
        },
        "id": "drIHVdDrVwSd",
        "outputId": "da8afe0f-b0eb-47d0-d12a-608d126ceb4b"
      },
      "source": [
        "%%writefile exercise1.cpp\n",
        "#include <iostream>\n",
        "#include <cassert>\n",
        "#include <vector>\n",
        "\n",
        "using std::vector;\n",
        "using std::endl;\n",
        "using std::cout;\n",
        "int binary_search(const vector<int> &a, int x) {\n",
        "  int left = 0, right = (int)a.size();\n",
        "  //write your code here\n",
        "}\n",
        "\n",
        "int linear_search(const vector<int> &a, int x, int low, int high) {\n",
        "\n",
        "    if(x > a[high])return -1;\n",
        "    if(x < a[low])return -1;\n",
        "    if (high < low)return -1;\n",
        "    int mid = (low+(high-low)/2);\n",
        "\n",
        "\n",
        "    if(x == a[mid])return mid;\n",
        "    else if(x<a[mid]){\n",
        "        return linear_search(a, x, low, mid-1);\n",
        "    }\n",
        "    else{\n",
        "        return linear_search(a, x, mid+1, high);\n",
        "    }\n",
        "}\n",
        "\n",
        "int main() {\n",
        "  int n;\n",
        "  std::cin >> n;\n",
        "  vector<int> a(n);\n",
        "  for (size_t i = 0; i < a.size(); i++) {\n",
        "    std::cin >> a[i];\n",
        "  }\n",
        "  int m;\n",
        "  std::cin >> m;\n",
        "  vector<int> b(m);\n",
        "  for (int i = 0; i < m; ++i) {\n",
        "    std::cin >> b[i];\n",
        "  }\n",
        "  for (int i = 0; i < m; ++i) {\n",
        "    //replace with the call to binary_search when implemented\n",
        "    std::cout << linear_search(a, b[i],0,a.size()-1) << ' ';\n",
        "  }\n",
        "}\n",
        "\n"
      ],
      "execution_count": 1,
      "outputs": [
        {
          "output_type": "stream",
          "text": [
            "Writing exercise1.cpp\n"
          ],
          "name": "stdout"
        }
      ]
    },
    {
      "cell_type": "code",
      "metadata": {
        "colab": {
          "base_uri": "https://localhost:8080/"
        },
        "id": "YBkgn9HjWGr7",
        "outputId": "0a1757b1-f819-46b8-e678-ef0786216f32"
      },
      "source": [
        "!g++ exercise1.cpp -o exercise1\n",
        "!./exercise1"
      ],
      "execution_count": 2,
      "outputs": [
        {
          "output_type": "stream",
          "text": [
            "5 1 5 8 12 13\n",
            "5 8 1 23 1 11\n",
            "2 0 -1 0 -1 "
          ],
          "name": "stdout"
        }
      ]
    },
    {
      "cell_type": "markdown",
      "metadata": {
        "id": "9t9mAMwuXdvE"
      },
      "source": [
        "## **II Solving the Majority Element Challenge**"
      ]
    },
    {
      "cell_type": "markdown",
      "metadata": {
        "id": "jpBHhjtkXmJX"
      },
      "source": [
        "C++"
      ]
    },
    {
      "cell_type": "code",
      "metadata": {
        "colab": {
          "base_uri": "https://localhost:8080/"
        },
        "id": "WEV_Zwm6XmJY",
        "outputId": "9f17fe77-ffaa-4d98-f66e-3ad4807804a8"
      },
      "source": [
        "%%writefile exercise2.cpp\n",
        "#include <algorithm>\n",
        "#include <iostream>\n",
        "#include <vector>\n",
        "#include <cmath>\n",
        "using std::vector;\n",
        "using std::endl;\n",
        "using std::cout;\n",
        "vector<int> Merge(vector<int> b, vector<int> c){\n",
        "    int bSize = b.size();\n",
        "    int cSize = c.size();\n",
        "    vector<int> d(bSize+cSize);\n",
        "    int bIterator = 0;\n",
        "    int cIterator = 0;\n",
        "    for(int dIterator = 0; dIterator < bSize+cSize; dIterator++){\n",
        "        if(b[bIterator] == -1 && c[cIterator] == -1)break;\n",
        "        if(b[bIterator] ==-1){\n",
        "            d[dIterator]=c[cIterator];\n",
        "            c[cIterator]= -1;\n",
        "            if(cIterator < cSize-1)cIterator++;\n",
        "        }else if(c[cIterator] == -1){\n",
        "            d[dIterator] = b[bIterator];\n",
        "            b[bIterator]=-1;\n",
        "            if(bIterator < bSize-1)bIterator++;\n",
        "        }\n",
        "        else if(b[bIterator]<= c[cIterator]){\n",
        "            d[dIterator] = b[bIterator];\n",
        "            b[bIterator]=-1;\n",
        "            if(bIterator < bSize-1)bIterator++;\n",
        "        }\n",
        "        else if (c[cIterator] < b[bIterator]){\n",
        "            d[dIterator]=c[cIterator];\n",
        "            c[cIterator]= -1;\n",
        "            if(cIterator < cSize-1)cIterator++;\n",
        "        }\n",
        "    }\n",
        "\n",
        "    return d;\n",
        "}\n",
        "vector<int> MergeSort(vector<int> &a){\n",
        "    if(a.size()==1){\n",
        "        return a;\n",
        "    }\n",
        "    int m = floor(a.size()/2.0);\n",
        "    //Create a1[] array\n",
        "    vector<int> a1(m);\n",
        "    for(int x=0; x<m;x++){\n",
        "        a1[x]=a[x];\n",
        "    }\n",
        "    //Create a2[] array\n",
        "    vector<int> a2(a.size()-m);\n",
        "    for(int x=m; x<a.size();x++){\n",
        "        a2[x-m]=a[x];\n",
        "    }\n",
        "    vector<int> b = MergeSort(a1);\n",
        "    vector<int> c = MergeSort(a2);\n",
        "    vector<int> afin = Merge(b,c);\n",
        "    return afin;\n",
        "}\n",
        "\n",
        "int get_majority_element(vector<int> &a) {\n",
        "    vector<int> sortA = MergeSort(a);\n",
        "    int element = sortA[0];\n",
        "    int elementCounter = 1;\n",
        "    for(int x=1; x<sortA.size();x++){\n",
        "        if(element == sortA[x]){\n",
        "            elementCounter++;\n",
        "            if(elementCounter >= (sortA.size()/2)+1)return 1;\n",
        "        }\n",
        "        else{\n",
        "            elementCounter = 1;\n",
        "            element = sortA[x];\n",
        "        }\n",
        "    }\n",
        "    return -1;\n",
        "}\n",
        "int main() {\n",
        "  int n;\n",
        "  std::cin >> n;\n",
        "  vector<int> a(n);\n",
        "  for (size_t i = 0; i < a.size(); ++i) {\n",
        "    std::cin >> a[i];\n",
        "  }\n",
        "  std::cout << (get_majority_element(a) != -1) << '\\n';\n",
        "}\n"
      ],
      "execution_count": 3,
      "outputs": [
        {
          "output_type": "stream",
          "text": [
            "Writing exercise2.cpp\n"
          ],
          "name": "stdout"
        }
      ]
    },
    {
      "cell_type": "code",
      "metadata": {
        "colab": {
          "base_uri": "https://localhost:8080/"
        },
        "id": "UgbI0uBcXuq0",
        "outputId": "508908e1-98e0-4f40-d7ea-7e9dcd6944ec"
      },
      "source": [
        "!g++ exercise2.cpp -o exercise2\n",
        "!./exercise2"
      ],
      "execution_count": 4,
      "outputs": [
        {
          "output_type": "stream",
          "text": [
            "5\n",
            "2 3 9 2 2\n",
            "1\n"
          ],
          "name": "stdout"
        }
      ]
    },
    {
      "cell_type": "markdown",
      "metadata": {
        "id": "zbqh2LeRX76n"
      },
      "source": [
        "## **III Solving the Improving Quick Sort Challenge**"
      ]
    },
    {
      "cell_type": "markdown",
      "metadata": {
        "id": "Q3ZRCFjgYGHt"
      },
      "source": [
        "C++"
      ]
    },
    {
      "cell_type": "code",
      "metadata": {
        "colab": {
          "base_uri": "https://localhost:8080/"
        },
        "id": "ojka1gLtYGHu",
        "outputId": "0094ccf4-fb87-4eaa-f7a5-a1978d36e923"
      },
      "source": [
        "%%writefile exercise3.cpp\n",
        "#include <iostream>\n",
        "#include <vector>\n",
        "#include <cstdlib>\n",
        "\n",
        "using std::vector;\n",
        "using std::swap;\n",
        "using std::cout;\n",
        "using std::endl;\n",
        "\n",
        "void swapVector (vector<int> &a, int i, int j){\n",
        "    int temp = a[j];\n",
        "    a[j] = a[i];\n",
        "    a[i] = temp;\n",
        "}\n",
        "vector<int> Partition (vector<int> &a, int l, int r){\n",
        "    int value = a[l];\n",
        "    vector<int> j(2);\n",
        "    j[0] = l;\n",
        "    j[1] = l;\n",
        "    for (int i = l+1; i<=r; i++){\n",
        "        if(a[i] <= value){\n",
        "            j[0]++;\n",
        "            swapVector(a,i,j[0]);\n",
        "        }\n",
        "    }\n",
        "    swapVector(a,l,j[0]);\n",
        "    j[1] = j[0];\n",
        "    for(int i = j[0]-1; i>=l;i--){\n",
        "        if(a[i] == value){\n",
        "            j[1]--;\n",
        "            swapVector(a,i,j[1]);\n",
        "        }\n",
        "    }\n",
        "    return j;\n",
        "}\n",
        "void QuickSort(vector<int> &a, int l, int r){\n",
        "    if (l >= r){\n",
        "        return;\n",
        "    }\n",
        "    vector<int> m = Partition(a,l,r);\n",
        "    QuickSort(a, l, m[1]-1);\n",
        "    QuickSort(a, m[0]+1, r);\n",
        "}\n",
        "int main() {\n",
        "  int n;\n",
        "  std::cin >> n;\n",
        "  vector<int> a(n);\n",
        "  for (size_t i = 0; i < a.size(); ++i) {\n",
        "    std::cin >> a[i];\n",
        "  }\n",
        "  QuickSort(a, 0, a.size() - 1);\n",
        "  cout<<endl;\n",
        "  for (size_t i = 0; i < a.size(); ++i) {\n",
        "    std::cout << a[i] << ' ';\n",
        "  }\n",
        "}\n"
      ],
      "execution_count": 5,
      "outputs": [
        {
          "output_type": "stream",
          "text": [
            "Writing exercise3.cpp\n"
          ],
          "name": "stdout"
        }
      ]
    },
    {
      "cell_type": "code",
      "metadata": {
        "colab": {
          "base_uri": "https://localhost:8080/"
        },
        "id": "mza5mWenYGHv",
        "outputId": "fb50b528-a104-492b-92d2-1d9006b375db"
      },
      "source": [
        "!g++ exercise3.cpp -o exercise3\n",
        "!./exercise3"
      ],
      "execution_count": 6,
      "outputs": [
        {
          "output_type": "stream",
          "text": [
            "5\n",
            "2 3 9 2 2\n",
            "\n",
            "2 2 2 3 9 "
          ],
          "name": "stdout"
        }
      ]
    },
    {
      "cell_type": "markdown",
      "metadata": {
        "id": "TQYUb5JGYV6x"
      },
      "source": [
        "## **IV Solving the Number of Inversions Challenge**"
      ]
    },
    {
      "cell_type": "markdown",
      "metadata": {
        "id": "___X61G5YV6y"
      },
      "source": [
        "C++"
      ]
    },
    {
      "cell_type": "code",
      "metadata": {
        "colab": {
          "base_uri": "https://localhost:8080/"
        },
        "id": "Ua01SBv6YV6z",
        "outputId": "4160526c-3f2f-44fd-cd82-adf0d07e9974"
      },
      "source": [
        "%%writefile exercise4.cpp\n",
        "#include <iostream>\n",
        "#include <vector>\n",
        "#include <cmath>\n",
        "using std::vector;\n",
        "using std::cout;\n",
        "using std::endl;\n",
        "\n",
        "vector<int> Merge(vector<int> b, vector<int> c, long long &num_inv){\n",
        "    int bSize = b.size();\n",
        "    int cSize = c.size();\n",
        "    vector<int> d(bSize+cSize);\n",
        "    int bIterator = 0;\n",
        "    int cIterator = 0;\n",
        "    for(int x=0; x<bSize; x++){\n",
        "        for(int y=0; y<cSize;y++){\n",
        "            if(b[x] > c[y])num_inv++;\n",
        "        }\n",
        "    }\n",
        "    for(int dIterator = 0; dIterator < bSize+cSize; dIterator++){\n",
        "        if(b[bIterator] == -1 && c[cIterator] == -1)break;\n",
        "        if(b[bIterator] ==-1){\n",
        "            d[dIterator]=c[cIterator];\n",
        "            c[cIterator]= -1;\n",
        "            if(cIterator < cSize-1)cIterator++;\n",
        "        }else if(c[cIterator] == -1){\n",
        "            d[dIterator] = b[bIterator];\n",
        "            b[bIterator]=-1;\n",
        "            if(bIterator < bSize-1)bIterator++;\n",
        "        }\n",
        "        else if(b[bIterator]<= c[cIterator]){\n",
        "            d[dIterator] = b[bIterator];\n",
        "            b[bIterator]=-1;\n",
        "            if(bIterator < bSize-1)bIterator++;\n",
        "        }\n",
        "        else if (c[cIterator] < b[bIterator]){\n",
        "            d[dIterator]=c[cIterator];\n",
        "            c[cIterator]= -1;\n",
        "            if(cIterator < cSize-1)cIterator++;\n",
        "        }\n",
        "    }\n",
        "\n",
        "    return d;\n",
        "}\n",
        "vector<int> MergeSort(vector<int> &a, int l, int r, long long &num_inv){\n",
        "    if(l >= r){\n",
        "        vector<int> retA{a[l]};\n",
        "        return retA;\n",
        "    }\n",
        "    int m = l+floor((r-l)/2.0);\n",
        "    vector<int> b = MergeSort(a,l,m,num_inv);\n",
        "    vector<int> c = MergeSort(a,m+1,r,num_inv);\n",
        "    vector<int> afin = Merge(b,c, num_inv);\n",
        "    return afin;\n",
        "}\n",
        "\n",
        "long long get_number_of_inversions(vector<int> &a) {\n",
        "    long long num_inv = 0;\n",
        "    vector<int> mergedVector = MergeSort(a, 0,  a.size()-1, num_inv);\n",
        "    return num_inv;\n",
        "}\n",
        "\n",
        "int main() {\n",
        "    int n;\n",
        "    std::cin >> n;\n",
        "    vector<int> a(n);\n",
        "    for (size_t i = 0; i < a.size(); i++) {\n",
        "        std::cin >> a[i];\n",
        "    }\n",
        "    vector<int> b(a.size());\n",
        "    std::cout << get_number_of_inversions(a) << '\\n';\n",
        "}\n"
      ],
      "execution_count": 7,
      "outputs": [
        {
          "output_type": "stream",
          "text": [
            "Writing exercise4.cpp\n"
          ],
          "name": "stdout"
        }
      ]
    },
    {
      "cell_type": "code",
      "metadata": {
        "colab": {
          "base_uri": "https://localhost:8080/"
        },
        "id": "V2lgb3SfYV60",
        "outputId": "e44189b3-951b-473c-c791-f304d3f05d6d"
      },
      "source": [
        "!g++ exercise4.cpp -o exercise4\n",
        "!./exercise4"
      ],
      "execution_count": 8,
      "outputs": [
        {
          "output_type": "stream",
          "text": [
            "5\n",
            "2 3 9 2 9\n",
            "2\n"
          ],
          "name": "stdout"
        }
      ]
    },
    {
      "cell_type": "markdown",
      "metadata": {
        "id": "ka68IkUVSoxt"
      },
      "source": [
        "## **Screenhsoots of the Coursera Submissions in C++**"
      ]
    },
    {
      "cell_type": "markdown",
      "metadata": {
        "id": "G_vGvIsbSwiC"
      },
      "source": [
        "<img src =\"https://raw.githubusercontent.com/juarodriguezc/AlgorithmsUN2021I/master/Lab8/juarodriguezc.JPG\">"
      ]
    }
  ]
}