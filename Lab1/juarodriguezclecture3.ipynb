{
  "nbformat": 4,
  "nbformat_minor": 0,
  "metadata": {
    "kernelspec": {
      "name": "python3",
      "display_name": "Python 3"
    },
    "colab": {
      "name": "juarodriguezclecture3.ipynb",
      "provenance": [],
      "collapsed_sections": [
        "vEvNN7uRvLFO",
        "dsRF-o_PvLFP",
        "uJt3eMvLvLFS"
      ]
    }
  },
  "cells": [
    {
      "cell_type": "markdown",
      "metadata": {
        "id": "L1SBYq7ovLE3"
      },
      "source": [
        "# Introduction to NumPy\n",
        "by Maxwell Margenot\n",
        "\n",
        "Part of the Quantopian Lecture Series:\n",
        "\n",
        "* [www.quantopian.com/lectures](https://www.quantopian.com/lectures)\n",
        "* [github.com/quantopian/research_public](https://github.com/quantopian/research_public)\n",
        "\n",
        "Notebook released under the Creative Commons Attribution 4.0 License."
      ]
    },
    {
      "cell_type": "markdown",
      "metadata": {
        "id": "oUTPkNUgvLFA"
      },
      "source": [
        "NumPy is an incredibly powerful package in Python that is ubiquitous throughout the Quantopian platform. It has strong integration with Pandas, another tool we will be covering in the lecture series. NumPy adds support for multi-dimensional arrays and mathematical functions that allow you to easily perform linear algebra calculations. This lecture will be a collection of linear algebra examples computed using NumPy."
      ]
    },
    {
      "cell_type": "code",
      "metadata": {
        "collapsed": true,
        "id": "nEPQ3NfdvLFB"
      },
      "source": [
        "import numpy as np\n",
        "import matplotlib.pyplot as plt"
      ],
      "execution_count": 6,
      "outputs": []
    },
    {
      "cell_type": "markdown",
      "metadata": {
        "id": "WswIfYjvvLFC"
      },
      "source": [
        "### Basic NumPy arrays"
      ]
    },
    {
      "cell_type": "markdown",
      "metadata": {
        "id": "YndlUUtqvLFC"
      },
      "source": [
        "The most basic way that we could make use of NumPy in finance is calculating the mean return of a portfolio. Say that we have a list containing the historical return of several stocks."
      ]
    },
    {
      "cell_type": "code",
      "metadata": {
        "collapsed": true,
        "id": "x9MP4oxpvLFC"
      },
      "source": [
        "stock_list = [3.5, 5, 2, 8, 4.2]"
      ],
      "execution_count": null,
      "outputs": []
    },
    {
      "cell_type": "markdown",
      "metadata": {
        "id": "Mg7FIIEgvLFD"
      },
      "source": [
        "We can make an array by calling a function on the list:"
      ]
    },
    {
      "cell_type": "code",
      "metadata": {
        "colab": {
          "base_uri": "https://localhost:8080/"
        },
        "id": "29K_X3MrvLFD",
        "outputId": "ad2563cf-0785-4ce0-b61f-fb108ec8eec8"
      },
      "source": [
        "returns = np.array(stock_list)\n",
        "print (returns, type(returns))"
      ],
      "execution_count": null,
      "outputs": [
        {
          "output_type": "stream",
          "text": [
            "[3.5 5.  2.  8.  4.2] <class 'numpy.ndarray'>\n"
          ],
          "name": "stdout"
        }
      ]
    },
    {
      "cell_type": "markdown",
      "metadata": {
        "id": "-Wf0g0mEvLFE"
      },
      "source": [
        "You'll notice that the type of our array is 'ndarray', not just 'array'. This is because NumPy arrays can be created with multiple dimensions. If we pass np.array() a list of lists, it will create a 2-dimensional array. If we pass a list of lists of lists, it will create a 3-dimensional array, and so on and so forth."
      ]
    },
    {
      "cell_type": "code",
      "metadata": {
        "colab": {
          "base_uri": "https://localhost:8080/"
        },
        "id": "N0Eas7VJvLFF",
        "outputId": "23bbd8d1-c1cd-4555-c8b9-be36da8c68d3"
      },
      "source": [
        "A = np.array([[1, 2], [3, 4]])\n",
        "print (A, type(A))"
      ],
      "execution_count": null,
      "outputs": [
        {
          "output_type": "stream",
          "text": [
            "[[1 2]\n",
            " [3 4]] <class 'numpy.ndarray'>\n"
          ],
          "name": "stdout"
        }
      ]
    },
    {
      "cell_type": "markdown",
      "metadata": {
        "id": "ho4xIPL2vLFF"
      },
      "source": [
        "We can access the dimensions of an array by looking at its `shape` member variable."
      ]
    },
    {
      "cell_type": "code",
      "metadata": {
        "colab": {
          "base_uri": "https://localhost:8080/"
        },
        "id": "wlRknmDkvLFF",
        "outputId": "cbc74eaf-ddc5-4d56-a05b-334fb65e136e"
      },
      "source": [
        "print (A.shape)"
      ],
      "execution_count": null,
      "outputs": [
        {
          "output_type": "stream",
          "text": [
            "(2, 2)\n"
          ],
          "name": "stdout"
        }
      ]
    },
    {
      "cell_type": "markdown",
      "metadata": {
        "id": "--3jaMgzvLFG"
      },
      "source": [
        "Arrays are indexed in much the same way as lists in Python. Elements of a list begin indexing from $0$ and end at $n - 1$, where $n$ is the length of the array."
      ]
    },
    {
      "cell_type": "code",
      "metadata": {
        "colab": {
          "base_uri": "https://localhost:8080/"
        },
        "id": "naqSEb3RvLFG",
        "outputId": "6e18733c-097d-4cfe-a6b2-d108afc56a7b"
      },
      "source": [
        "print (returns[0], returns[len(returns) - 1])"
      ],
      "execution_count": null,
      "outputs": [
        {
          "output_type": "stream",
          "text": [
            "3.5 4.2\n"
          ],
          "name": "stdout"
        }
      ]
    },
    {
      "cell_type": "markdown",
      "metadata": {
        "id": "4XfmAzgpvLFG"
      },
      "source": [
        "We can take a slice of an array using a colon, just like in a list."
      ]
    },
    {
      "cell_type": "code",
      "metadata": {
        "colab": {
          "base_uri": "https://localhost:8080/"
        },
        "id": "xrRmJAFKvLFH",
        "outputId": "613d8383-6acc-4fd5-d48e-030dd1e2d148"
      },
      "source": [
        "print (returns[1:3])"
      ],
      "execution_count": null,
      "outputs": [
        {
          "output_type": "stream",
          "text": [
            "[5. 2.]\n"
          ],
          "name": "stdout"
        }
      ]
    },
    {
      "cell_type": "markdown",
      "metadata": {
        "id": "mJTjp2IPvLFH"
      },
      "source": [
        "A slice of an array, like in a list, will select a group of elements in the array starting from the first element indicated and going up to (but not including) the last element indicated.\n",
        "\n",
        "In the case of multidimensional arrays, many of the same conventions with slicing and indexing hold. We can access the first column of a 2-dimensional array like so:"
      ]
    },
    {
      "cell_type": "code",
      "metadata": {
        "colab": {
          "base_uri": "https://localhost:8080/"
        },
        "id": "tn-MoDKHvLFH",
        "outputId": "6b9b9921-f969-4195-98d5-892da386780b"
      },
      "source": [
        "print (A[:, 0])"
      ],
      "execution_count": null,
      "outputs": [
        {
          "output_type": "stream",
          "text": [
            "[1 3]\n"
          ],
          "name": "stdout"
        }
      ]
    },
    {
      "cell_type": "markdown",
      "metadata": {
        "id": "JOtJmE8YvLFI"
      },
      "source": [
        "And the first row of a 2-dimensional array like so:"
      ]
    },
    {
      "cell_type": "code",
      "metadata": {
        "colab": {
          "base_uri": "https://localhost:8080/"
        },
        "id": "ZfTJQWMrvLFI",
        "outputId": "0345cfa2-2ac3-4f85-d61e-f663eef369dc"
      },
      "source": [
        "print (A[0, :])"
      ],
      "execution_count": null,
      "outputs": [
        {
          "output_type": "stream",
          "text": [
            "[1 2]\n"
          ],
          "name": "stdout"
        }
      ]
    },
    {
      "cell_type": "markdown",
      "metadata": {
        "id": "9Jkez9c7vLFI"
      },
      "source": [
        "Notice that each slice of the array returns yet another array!"
      ]
    },
    {
      "cell_type": "code",
      "metadata": {
        "colab": {
          "base_uri": "https://localhost:8080/"
        },
        "id": "GR3jm8DZvLFI",
        "outputId": "8f05b960-c6b6-4e67-82ce-3da70441763d"
      },
      "source": [
        "print (type(A[0,:]))"
      ],
      "execution_count": null,
      "outputs": [
        {
          "output_type": "stream",
          "text": [
            "<class 'numpy.ndarray'>\n"
          ],
          "name": "stdout"
        }
      ]
    },
    {
      "cell_type": "markdown",
      "metadata": {
        "id": "VbhNFzBqvLFJ"
      },
      "source": [
        "Passing only one index to a 2-dimensional array will result in returning the row with the given index as well, providing us with another way to access individual rows."
      ]
    },
    {
      "cell_type": "code",
      "metadata": {
        "colab": {
          "base_uri": "https://localhost:8080/"
        },
        "id": "SRTa916EvLFJ",
        "outputId": "f0166816-dfdd-4311-e96b-a4ebf3c634e6"
      },
      "source": [
        "print (A[0])"
      ],
      "execution_count": null,
      "outputs": [
        {
          "output_type": "stream",
          "text": [
            "[1 2]\n"
          ],
          "name": "stdout"
        }
      ]
    },
    {
      "cell_type": "markdown",
      "metadata": {
        "id": "yuXkreu-vLFJ"
      },
      "source": [
        "Accessing the index of an individual element will return only the element."
      ]
    },
    {
      "cell_type": "code",
      "metadata": {
        "colab": {
          "base_uri": "https://localhost:8080/"
        },
        "id": "MMM1ORO4vLFK",
        "outputId": "22c53baf-84bc-49df-d27a-d03e4fe0b322"
      },
      "source": [
        "print (A[1, 1])"
      ],
      "execution_count": null,
      "outputs": [
        {
          "output_type": "stream",
          "text": [
            "4\n"
          ],
          "name": "stdout"
        }
      ]
    },
    {
      "cell_type": "markdown",
      "metadata": {
        "id": "23UlZwQ-k8Cu"
      },
      "source": [
        "**Mi ejemplo**\r\n",
        "\r\n",
        "Se va a aplicar lo mostrado en la introducción"
      ]
    },
    {
      "cell_type": "code",
      "metadata": {
        "colab": {
          "base_uri": "https://localhost:8080/"
        },
        "id": "6RW2x-9Zk69e",
        "outputId": "ce23dca0-4102-4f71-9dd2-4367350e9440"
      },
      "source": [
        "list_example = [[1,2],[3,4],[1,1]]\r\n",
        "numpyarray = np.array(list_example)\r\n",
        "print(numpyarray)\r\n",
        "print(numpyarray.shape)\r\n",
        "print(numpyarray[0,1])\r\n",
        "print(numpyarray[:,0])\r\n",
        "print(numpyarray[0:,0:])"
      ],
      "execution_count": null,
      "outputs": [
        {
          "output_type": "stream",
          "text": [
            "[[1 2]\n",
            " [3 4]\n",
            " [1 1]]\n",
            "(3, 2)\n",
            "2\n",
            "[1 3 1]\n",
            "[[1 2]\n",
            " [3 4]\n",
            " [1 1]]\n"
          ],
          "name": "stdout"
        }
      ]
    },
    {
      "cell_type": "markdown",
      "metadata": {
        "id": "knxik_H6vLFK"
      },
      "source": [
        "#### Array functions\n",
        "\n",
        "Functions built into NumPy can be easily called on arrays. Most functions are applied to an array element-wise (as scalar multiplication is). For example, if we call `log()` on an array, the logarithm will be taken of each element."
      ]
    },
    {
      "cell_type": "code",
      "metadata": {
        "colab": {
          "base_uri": "https://localhost:8080/"
        },
        "id": "TdXaYdZ7vLFK",
        "outputId": "67ed2ce3-38b0-46c2-ffc9-68581b480aea"
      },
      "source": [
        "print (np.log(returns))"
      ],
      "execution_count": null,
      "outputs": [
        {
          "output_type": "stream",
          "text": [
            "[1.25276297 1.60943791 0.69314718 2.07944154 1.43508453]\n"
          ],
          "name": "stdout"
        }
      ]
    },
    {
      "cell_type": "markdown",
      "metadata": {
        "id": "PaaXqP9WvLFL"
      },
      "source": [
        "Some functions return a single value. This is because they treat the array as a collection (similar to a list), performing the designated function. For example, the `mean()` function will do exactly what you expect, calculating the mean of an array."
      ]
    },
    {
      "cell_type": "code",
      "metadata": {
        "colab": {
          "base_uri": "https://localhost:8080/"
        },
        "id": "KZrnA_amvLFL",
        "outputId": "6ca0eae1-b165-4f4a-bfec-53f58257b67d"
      },
      "source": [
        "print (np.mean(returns))"
      ],
      "execution_count": null,
      "outputs": [
        {
          "output_type": "stream",
          "text": [
            "4.54\n"
          ],
          "name": "stdout"
        }
      ]
    },
    {
      "cell_type": "markdown",
      "metadata": {
        "id": "sGanw71VvLFL"
      },
      "source": [
        "Or the `max()` function will return the maximum element of an array."
      ]
    },
    {
      "cell_type": "code",
      "metadata": {
        "colab": {
          "base_uri": "https://localhost:8080/"
        },
        "id": "CMTUDvPFvLFL",
        "outputId": "7b0c1b1b-d76c-4e58-bd83-7202848114f0"
      },
      "source": [
        "print (np.max(returns))"
      ],
      "execution_count": null,
      "outputs": [
        {
          "output_type": "stream",
          "text": [
            "8.0\n"
          ],
          "name": "stdout"
        }
      ]
    },
    {
      "cell_type": "markdown",
      "metadata": {
        "id": "syc8Rf3EvLFL"
      },
      "source": [
        "For further reading on the universal functions in NumPy, check out the [documentation](https://docs.scipy.org/doc/numpy/user/quickstart.html#universal-functions)."
      ]
    },
    {
      "cell_type": "markdown",
      "metadata": {
        "id": "t5W6msUhndyW"
      },
      "source": [
        "**Mi ejemplo**\r\n",
        "\r\n",
        "Se van a aplicar las funciones de arreglos"
      ]
    },
    {
      "cell_type": "code",
      "metadata": {
        "colab": {
          "base_uri": "https://localhost:8080/"
        },
        "id": "Xl9BC2IgntU_",
        "outputId": "30ea424a-1732-4f5f-af6d-4c95feb19749"
      },
      "source": [
        "list_example = [[1,2],[3,4],[1,1]]\r\n",
        "numpyarray=np.array(list_example)\r\n",
        "print(\"Log de cada casilla: \\n\",np.log(numpyarray))\r\n",
        "print(\"La media de todos es: \",np.mean(numpyarray))\r\n",
        "print(\"El mayor de los datos es: \",np.max(numpyarray))"
      ],
      "execution_count": null,
      "outputs": [
        {
          "output_type": "stream",
          "text": [
            "Log de cada casilla: \n",
            " [[0.         0.69314718]\n",
            " [1.09861229 1.38629436]\n",
            " [0.         0.        ]]\n",
            "La media de todos es:  2.0\n",
            "El mayor de los datos es:  4\n"
          ],
          "name": "stdout"
        }
      ]
    },
    {
      "cell_type": "markdown",
      "metadata": {
        "id": "xpk5wq4ZvLFL"
      },
      "source": [
        "### Return to the returns\n",
        "\n",
        "Now let's modify our returns array with scalar values. If we add a scalar value to an array it will be added to every element of the array. If we multiply an array by a scalar value it will be multiplied against every element of the array. If we do both, both will happen!"
      ]
    },
    {
      "cell_type": "code",
      "metadata": {
        "scrolled": false,
        "colab": {
          "base_uri": "https://localhost:8080/"
        },
        "id": "dTr5eP4NvLFM",
        "outputId": "6644beeb-b92d-44ac-ff03-32f61eef7b09"
      },
      "source": [
        "returns*2 + 5"
      ],
      "execution_count": null,
      "outputs": [
        {
          "output_type": "execute_result",
          "data": {
            "text/plain": [
              "array([12. , 15. ,  9. , 21. , 13.4])"
            ]
          },
          "metadata": {
            "tags": []
          },
          "execution_count": 23
        }
      ]
    },
    {
      "cell_type": "markdown",
      "metadata": {
        "id": "7KBxwuvZvLFM"
      },
      "source": [
        "NumPy also has functions specifically built to operate on arrays. Let's take the mean and standard deviation of this group of returns."
      ]
    },
    {
      "cell_type": "code",
      "metadata": {
        "colab": {
          "base_uri": "https://localhost:8080/"
        },
        "id": "3tKHFuU2vLFM",
        "outputId": "abb18cbc-daaf-4494-8731-7144da94887a"
      },
      "source": [
        "print (\"Mean: \", np.mean(returns), \"Std Dev: \", np.std(returns))"
      ],
      "execution_count": null,
      "outputs": [
        {
          "output_type": "stream",
          "text": [
            "Mean:  4.54 Std Dev:  1.9915822855207364\n"
          ],
          "name": "stdout"
        }
      ]
    },
    {
      "cell_type": "markdown",
      "metadata": {
        "id": "RXiIHg-1odVc"
      },
      "source": [
        "**Mi ejemplo**\r\n",
        "\r\n",
        "Se aplicará lo visto de return of returns"
      ]
    },
    {
      "cell_type": "code",
      "metadata": {
        "colab": {
          "base_uri": "https://localhost:8080/"
        },
        "id": "Gd-xma2zok2V",
        "outputId": "d8dc7d06-7387-4753-de86-747cbc2ed4bb"
      },
      "source": [
        "list_example = [[1,2],[3,4],[1,1]]\r\n",
        "numpyarray=np.array(list_example)\r\n",
        "print(numpyarray)\r\n",
        "print(numpyarray*10 + 1)\r\n",
        "print (\"Mean: \", np.mean(numpyarray), \"-   Std Dev: \", np.std(numpyarray))\r\n"
      ],
      "execution_count": null,
      "outputs": [
        {
          "output_type": "stream",
          "text": [
            "[[1 2]\n",
            " [3 4]\n",
            " [1 1]]\n",
            "[[11 21]\n",
            " [31 41]\n",
            " [11 11]]\n",
            "Mean:  2.0 -   Std Dev:  1.1547005383792515\n"
          ],
          "name": "stdout"
        }
      ]
    },
    {
      "cell_type": "markdown",
      "metadata": {
        "id": "HsZrJOKdvLFM"
      },
      "source": [
        "Let's simulate a universe of stocks using NumPy's functions. First we need to create the arrays to hold the assets and returns that we will use to build a portfolio. This is because arrays are created with a fixed size. Their dimensions can't be changed without creating a new array."
      ]
    },
    {
      "cell_type": "code",
      "metadata": {
        "collapsed": true,
        "id": "Q5Ig1qZBvLFM"
      },
      "source": [
        "N = 10\n",
        "assets = np.zeros((N, 100))\n",
        "returns = np.zeros((N, 100))"
      ],
      "execution_count": null,
      "outputs": []
    },
    {
      "cell_type": "markdown",
      "metadata": {
        "id": "C4dw0M_cvLFN"
      },
      "source": [
        "This function, `zeroes()`, creates a NumPy array with the given dimensions that is entirely filled in with $0$. We can pass a single value or a tuple of as many dimensions as we like. Passing in the tuple `(N, 100)`, will return a two-dimensional array with $N$ rows and $100$ columns. Our result is a $N \\times 100$ array.\n",
        "\n",
        "Now we will simulate a base asset. We want the universe of stocks to be correlated with each other so we will use this initial value to generate the others."
      ]
    },
    {
      "cell_type": "code",
      "metadata": {
        "id": "A5JnPDVWvLFN"
      },
      "source": [
        "R_1 = np.random.normal(1.01, 0.03, 100)\n",
        "returns[0] = R_1\n",
        "assets[0] = np.cumprod(R_1)"
      ],
      "execution_count": null,
      "outputs": []
    },
    {
      "cell_type": "markdown",
      "metadata": {
        "id": "54nLfIsVvLFN"
      },
      "source": [
        "The `random` module in NumPy is exceedingly useful. It contains methods for sampling from many different probability distributions, some of which are covered in the [random variables lecture](https://www.quantopian.com/lectures/random-variables) in the Quantopian lecture series. In this case we draw $N = 100$ random samples from a normal distribution with mean $1.01$ and standard deviation $0.03$. We treat these as the daily percentage returns of our asset and take the cumulative product of these samples to get the current price.\n",
        "\n",
        "The way we have generated our universe, the the individual $R_i$ vectors are each 1-dimensional arrays and the `returns` and `assets` variables contain 2-dimensional arrays. Above, we set the initial row of both `returns` and `assets` to be the first $R_i$ vector and the cumulative asset price based on those returns, respectively.\n",
        "\n",
        "We will now use this base asset to create a few other random assets that are correlated with it."
      ]
    },
    {
      "cell_type": "code",
      "metadata": {
        "id": "teUis8sqvLFN"
      },
      "source": [
        "# Generate assets that are correlated with R_1\n",
        "for i in range(1, N):\n",
        "    R_i = R_1 + np.random.normal(0.001, 0.02, 100)\n",
        "    returns[i] = R_i # Set each row of returns equal to the new R_i array\n",
        "    assets[i] = np.cumprod(R_i)\n",
        "    \n",
        "mean_returns = [(np.mean(R) - 1)*100 for R in returns]\n",
        "return_volatilities = [np.std(R) for R in returns]"
      ],
      "execution_count": null,
      "outputs": []
    },
    {
      "cell_type": "markdown",
      "metadata": {
        "id": "68aCpVMBvLFN"
      },
      "source": [
        "Here we generate the remaining $N - 1$ securities that we want in our universe by adding random noise to $R_1$. This ensures that our $N - 1$ other assets will be correlated with the base asset because they have some underlying information that is shared.\n",
        "\n",
        "Let's plot what the mean return of each asset looks like:"
      ]
    },
    {
      "cell_type": "code",
      "metadata": {
        "scrolled": false,
        "colab": {
          "base_uri": "https://localhost:8080/",
          "height": 295
        },
        "id": "2zw2QAVTvLFO",
        "outputId": "7d76285f-481b-4ad7-cbea-87152e5915d3"
      },
      "source": [
        "plt.bar(np.arange(len(mean_returns)), mean_returns)\n",
        "plt.xlabel('Stock')\n",
        "plt.ylabel('Returns')\n",
        "plt.title('Returns for {0} Random Assets'.format(N));"
      ],
      "execution_count": null,
      "outputs": [
        {
          "output_type": "display_data",
          "data": {
            "image/png": "[encoded data removed]",
            "text/plain": [
              "<Figure size 432x288 with 1 Axes>"
            ]
          },
          "metadata": {
            "tags": [],
            "needs_background": "light"
          }
        }
      ]
    },
    {
      "cell_type": "markdown",
      "metadata": {
        "id": "rzKctSaJqPaf"
      },
      "source": [
        "**Mi ejemplo**\r\n",
        "\r\n",
        "Se realiza un ejemplo simular al mostrado arriba\r\n",
        "\r\n",
        "La función de densidad de la normal es:\r\n",
        "\r\n",
        "$$ f(x) = \\frac{1}{\\sigma \\sqrt{2\\pi}}e^{-\\frac{1}{2}(\\frac{x-\\mu}{\\sigma})^2} \\; \\; \\; \\; \\; \\\\ \\sigma = \\text{desviacion estandar}\\;\\;\\;\\;\\;\\;\\;\\;\\;\\;\\;\\;\\;\\mu = \\text{media}$$\r\n"
      ]
    },
    {
      "cell_type": "code",
      "metadata": {
        "colab": {
          "base_uri": "https://localhost:8080/",
          "height": 312
        },
        "id": "3yFZ4_ZBqT2B",
        "outputId": "c616ef06-cc37-410b-e534-5de05b9e0c4c"
      },
      "source": [
        "N2 = 10\r\n",
        "assets2 = np.zeros((N2, 100))\r\n",
        "returns2 = np.zeros((N2, 100))\r\n",
        "# Se crean dos matrices de N2 x 100\r\n",
        "Rb_1 = np.random.normal(5, 1, 100)#Numeros con media 5 y desviacion de 1\r\n",
        "returns2[0] = Rb_1\r\n",
        "assets2[0] = np.cumprod(Rb_1) #Retorna el producto acumulado\r\n",
        "#Se almacena el primer valor del cual se van a generar los demas, en returns2 los generados y en assets2 el producto acumulado\r\n",
        "# Generate assets that are correlated with R_1\r\n",
        "for i in range(1, N2):\r\n",
        "    Rb_i = Rb_1 + np.random.normal(0.001, 1, 100) #Se generan numeros pequelis y se anaden a Rb_1 para crear Rb_i\r\n",
        "    returns2[i] = Rb_i # Set each row of returns equal to the new R_i array\r\n",
        "    assets2[i] = np.cumprod(Rb_i)\r\n",
        "    \r\n",
        "mean_returns2 = [(np.mean(R1) - 1)*100 for R1 in returns2] #Para cada return se le calcula la media\r\n",
        "return_volatilities2 = [np.std(R1) for R1 in returns2] # A cada return se le calcula la desviacion estandar\r\n",
        "#print(mean_returns2)\r\n",
        "plt.bar(np.arange(len(mean_returns2)), mean_returns2,color=\"orange\")\r\n",
        "plt.xlabel('Stock')\r\n",
        "plt.ylabel('Returns')\r\n",
        "plt.title('Returns for {0} Random Assets'.format(N2));\r\n",
        "plt.ylim([370,420])\r\n"
      ],
      "execution_count": 24,
      "outputs": [
        {
          "output_type": "execute_result",
          "data": {
            "text/plain": [
              "(370.0, 420.0)"
            ]
          },
          "metadata": {
            "tags": []
          },
          "execution_count": 24
        },
        {
          "output_type": "display_data",
          "data": {
            "image/png": "[encoded data removed]",
            "text/plain": [
              "<Figure size 432x288 with 1 Axes>"
            ]
          },
          "metadata": {
            "tags": [],
            "needs_background": "light"
          }
        }
      ]
    },
    {
      "cell_type": "markdown",
      "metadata": {
        "id": "vEvNN7uRvLFO"
      },
      "source": [
        "### Calculating Expected Return\n",
        "\n",
        "So we have a universe of stocks. Great! Now let's put them together in a portfolio and calculate its expected return and risk.\n",
        "\n",
        "We will start off by generating $N$ random weights for each asset in our portfolio."
      ]
    },
    {
      "cell_type": "code",
      "metadata": {
        "id": "gfx4nUXSvLFO"
      },
      "source": [
        "weights = np.random.uniform(0, 1, N)\n",
        "weights = weights/np.sum(weights)"
      ],
      "execution_count": null,
      "outputs": []
    },
    {
      "cell_type": "markdown",
      "metadata": {
        "id": "mmCr7cNIvLFO"
      },
      "source": [
        "We have to rescale the weights so that they all add up to $1$. We do this by scaling the weights vector by the sum total of all the weights. This step ensures that we will be using $100\\%$ of the portfolio's cash.\n",
        "\n",
        "To calculate the mean return of the portfolio, we have to scale each asset's return by its designated weight. We can pull each element of each array and multiply them individually, but it's quicker to use NumPy's linear algebra methods. The function that we want is `dot()`. This will calculate the dot product between two arrays for us. So if $v = \\left[ 1, 2, 3 \\right]$ and $w = \\left[4, 5, 6 \\right]$, then:\n",
        "\n",
        "$$ v \\cdot w = 1 \\times 4 + 2 \\times 5 + 3 \\times 6 $$\n",
        "\n",
        "For a one-dimensional vector, the dot product will multiply each element pointwise and add all the products together! In our case, we have a vector of weights, $\\omega = \\left[ \\omega_1, \\omega_2, \\dots \\omega_N\\right]$ and a vector of returns, $\\mu = \\left[ \\mu_1, \\mu_2, \\dots, \\mu_N\\right]$. If we take the dot product of these two we will get:\n",
        "\n",
        "$$ \\omega \\cdot \\mu = \\omega_1\\mu_1 + \\omega_2\\mu_2 + \\dots + \\omega_N\\mu_N = \\mu_P $$\n",
        "\n",
        "This yields the sum of all the asset returns scaled by their respective weights. This the the portfolio's overall expected return!"
      ]
    },
    {
      "cell_type": "code",
      "metadata": {
        "colab": {
          "base_uri": "https://localhost:8080/"
        },
        "id": "mhzgNemnvLFO",
        "outputId": "82edb83c-3976-49aa-b530-603a7e6a4352"
      },
      "source": [
        "p_returns = np.dot(weights, mean_returns)\n",
        "print (\"Expected return of the portfolio: \", p_returns)"
      ],
      "execution_count": null,
      "outputs": [
        {
          "output_type": "stream",
          "text": [
            "Expected return of the portfolio:  1.0266005157344438\n"
          ],
          "name": "stdout"
        }
      ]
    },
    {
      "cell_type": "markdown",
      "metadata": {
        "id": "kwEg0kMCvLFP"
      },
      "source": [
        "Calculating the mean return is fairly intuitive and does not require too much explanation of linear algebra. However, calculating the variance of our portfolio requires a bit more background."
      ]
    },
    {
      "cell_type": "markdown",
      "metadata": {
        "id": "HtJ793kgzOzO"
      },
      "source": [
        "**Mi ejemplo**\r\n",
        "\r\n",
        "Se completa el ejercicio teniendo en cuenta los weights"
      ]
    },
    {
      "cell_type": "code",
      "metadata": {
        "colab": {
          "base_uri": "https://localhost:8080/"
        },
        "id": "WCA57s1izVoH",
        "outputId": "8afd0fc4-eddf-47a8-caf4-1f0ec4ffacb9"
      },
      "source": [
        "weights2 = np.random.uniform(0, 1, N2)\r\n",
        "print(weights2)\r\n",
        "print(np.sum(weights2))\r\n",
        "weights2 = weights2/np.sum(weights2)\r\n",
        "print(weights2)\r\n",
        "print(mean_returns2)\r\n",
        "p_returns2 = np.dot(weights2, mean_returns2)\r\n",
        "print (\"Expected return of the portfolio: \", p_returns2)"
      ],
      "execution_count": 34,
      "outputs": [
        {
          "output_type": "stream",
          "text": [
            "[0.59306885 0.20358921 0.3699426  0.8249238  0.375223   0.79710628\n",
            " 0.74043968 0.10684375 0.60087703 0.15767984]\n",
            "4.769694042438841\n",
            "[0.12434107 0.04268391 0.07756108 0.17295109 0.07866815 0.16711895\n",
            " 0.1552384  0.02240055 0.12597811 0.03305869]\n",
            "[408.32856875615386, 403.4177187445446, 412.1700438194674, 415.1194008858408, 409.1784262094431, 396.4847067068796, 411.05225946817916, 405.66996743112105, 393.56375696294907, 414.9311560605331]\n",
            "Expected return of the portfolio:  406.4004052265719\n"
          ],
          "name": "stdout"
        }
      ]
    },
    {
      "cell_type": "markdown",
      "metadata": {
        "id": "dsRF-o_PvLFP"
      },
      "source": [
        "#### Beware of NaN values\n",
        "\n",
        "Most of the time, all of these calculations will work without an issue. However, when working with real data we run the risk of having `nan` values in our arrays. This is NumPy's way of saying that the data there is missing or doesn't exist. These `nan` values can lead to errors in mathematical calculations so it is important to be aware of whether your array contains `nan` values and to know how to drop them."
      ]
    },
    {
      "cell_type": "code",
      "metadata": {
        "colab": {
          "base_uri": "https://localhost:8080/"
        },
        "id": "zvHKXCQxvLFP",
        "outputId": "3b2d7a72-1c0e-4ff4-f8c2-a4a823d265d8"
      },
      "source": [
        "v = np.array([1, 2, np.nan, 4, 5])\n",
        "print (v)"
      ],
      "execution_count": null,
      "outputs": [
        {
          "output_type": "stream",
          "text": [
            "[ 1.  2. nan  4.  5.]\n"
          ],
          "name": "stdout"
        }
      ]
    },
    {
      "cell_type": "markdown",
      "metadata": {
        "id": "DyQ81PQxvLFQ"
      },
      "source": [
        "Let's see what happens when we try to take the mean of this array."
      ]
    },
    {
      "cell_type": "code",
      "metadata": {
        "colab": {
          "base_uri": "https://localhost:8080/"
        },
        "id": "DTXfM_HJvLFQ",
        "outputId": "7d51b863-a0e0-41a0-ac5f-de9b52291fcc"
      },
      "source": [
        "print (np.mean(v))"
      ],
      "execution_count": null,
      "outputs": [
        {
          "output_type": "stream",
          "text": [
            "nan\n"
          ],
          "name": "stdout"
        }
      ]
    },
    {
      "cell_type": "markdown",
      "metadata": {
        "id": "ripF94PlvLFQ"
      },
      "source": [
        "Clearly, `nan` values can have a large impact on our calculations. Fortunately, we can check for `nan` values with the `isnan()` function."
      ]
    },
    {
      "cell_type": "code",
      "metadata": {
        "colab": {
          "base_uri": "https://localhost:8080/"
        },
        "id": "YhCeZC2KvLFQ",
        "outputId": "374bdd6d-4299-45b6-b601-c310808f7c02"
      },
      "source": [
        "np.isnan(v)"
      ],
      "execution_count": null,
      "outputs": [
        {
          "output_type": "execute_result",
          "data": {
            "text/plain": [
              "array([False, False,  True, False, False])"
            ]
          },
          "metadata": {
            "tags": []
          },
          "execution_count": 33
        }
      ]
    },
    {
      "cell_type": "markdown",
      "metadata": {
        "id": "iKMiPs6CvLFQ"
      },
      "source": [
        "Calling `isnan()` on an array will call the function on each value of the array, returning a value of `True` if the element is `nan` and `False` if the element is valid. Now, knowing whether your array contains `nan` values is all well and good, but how do we remove `nan`s? Handily enough, NumPy arrays can be indexed by boolean values (`True` or `False`). If we use a boolean array to index an array, we will remove all values of the array that register as `False` under the condition. We use the `isnan()` function in create a boolean array, assigning a `True` value to everything that is *not* `nan` and a `False` to the `nan`s and we use that to index the same array."
      ]
    },
    {
      "cell_type": "code",
      "metadata": {
        "colab": {
          "base_uri": "https://localhost:8080/"
        },
        "id": "RO1kGNKcvLFR",
        "outputId": "55b17d86-b434-4602-c7b0-2a7d14856983"
      },
      "source": [
        "ix = ~np.isnan(v) # the ~ indicates a logical not, inverting the bools\n",
        "print (v[ix]) # We can also just write v = v[~np.isnan(v)]"
      ],
      "execution_count": null,
      "outputs": [
        {
          "output_type": "stream",
          "text": [
            "[1. 2. 4. 5.]\n"
          ],
          "name": "stdout"
        }
      ]
    },
    {
      "cell_type": "code",
      "metadata": {
        "colab": {
          "base_uri": "https://localhost:8080/"
        },
        "id": "tYO7eCMOvLFR",
        "outputId": "07069994-2f02-45ce-ec84-9163fd5374ab"
      },
      "source": [
        "print (np.mean(v[ix]))"
      ],
      "execution_count": null,
      "outputs": [
        {
          "output_type": "stream",
          "text": [
            "3.0\n"
          ],
          "name": "stdout"
        }
      ]
    },
    {
      "cell_type": "markdown",
      "metadata": {
        "id": "xI_yflw7vLFR"
      },
      "source": [
        "There are a few shortcuts to this process in the form of NumPy functions specifically built to handle them, such as `nanmean()`."
      ]
    },
    {
      "cell_type": "code",
      "metadata": {
        "colab": {
          "base_uri": "https://localhost:8080/"
        },
        "id": "CdATVXIPvLFR",
        "outputId": "6a6fafde-d0b7-4b51-90e6-e5b7d2ab26d7"
      },
      "source": [
        "print (np.nanmean(v))"
      ],
      "execution_count": null,
      "outputs": [
        {
          "output_type": "stream",
          "text": [
            "3.0\n"
          ],
          "name": "stdout"
        }
      ]
    },
    {
      "cell_type": "markdown",
      "metadata": {
        "id": "II_qDVFlvLFR"
      },
      "source": [
        "The `nanmean()` function simply calculates the mean of the array as if there were no `nan` values at all! There are a few more of these functions, so feel free to read more about them in the [documentation](https://docs.scipy.org/doc/numpy/user/index.html). These indeterminate values are more an issue with data than linear algebra itself so it is helpful that there are ways to handle them."
      ]
    },
    {
      "cell_type": "markdown",
      "metadata": {
        "id": "FJiJdg2J0KN0"
      },
      "source": [
        "**Mi ejemplo**\r\n",
        "\r\n",
        "Se va a aplicar lo visto con los valores de nan"
      ]
    },
    {
      "cell_type": "code",
      "metadata": {
        "colab": {
          "base_uri": "https://localhost:8080/"
        },
        "id": "D9CAV0yP0PgP",
        "outputId": "5b9800bf-40bc-4734-f041-3c959cee05fc"
      },
      "source": [
        "v2 = np.array([np.nan, 2, np.nan, 4, np.nan,2,1,np.nan,np.nan,1,3,np.nan])\r\n",
        "print (v2)\r\n",
        "print(np.isnan(v2))\r\n",
        "ix2 = ~np.isnan(v2) # the ~ indicates a logical not, inverting the bools\r\n",
        "print (v2[ix2]) # We can also just write v = v[~np.isnan(v)]\r\n",
        "print (np.mean(v2[ix2]))\r\n",
        "print(np.nanmean(v2))"
      ],
      "execution_count": null,
      "outputs": [
        {
          "output_type": "stream",
          "text": [
            "[nan  2. nan  4. nan  2.  1. nan nan  1.  3. nan]\n",
            "[ True False  True False  True False False  True  True False False  True]\n",
            "[2. 4. 2. 1. 1. 3.]\n",
            "2.1666666666666665\n",
            "2.1666666666666665\n"
          ],
          "name": "stdout"
        }
      ]
    },
    {
      "cell_type": "markdown",
      "metadata": {
        "id": "uJt3eMvLvLFS"
      },
      "source": [
        "### Conclusion\n",
        "\n",
        "Linear algebra is pervasive in finance and in general. For example, the calculation of *optimal* weights according to modern portfolio theory is done using linear algebra techniques. The arrays and functions in NumPy allow us to handle these calculations in an intuitive way. For a quick intro to linear algebra and how to use NumPy to do more significant matrix calculations, proceed to the next section."
      ]
    },
    {
      "cell_type": "markdown",
      "metadata": {
        "id": "FFivMhX_vLFS"
      },
      "source": [
        "## A brief foray into linear algebra\n",
        "\n",
        "Let's start with a basic overview of some linear algebra. Linear algebra comes down to the multiplication and composition of scalar and matrix values. A scalar value is just a real number that we multiply against an array. When we scale a matrix or array using a scalar, we multiply each individual element of that matrix or array by the scalar.\n",
        "\n",
        "A matrix is a collection of values, typically represented by an $m \\times n$ grid, where $m$ is the number of rows and $n$ is the number of columns. The edge lengths $m$ and $n$ do not necessarily have to be different. If we have $m = n$, we call this a square matrix. A particularly interesting case of a matrix is when $m = 1$ or $n = 1$. In this case we have a special case of a matrix that we call a vector. While there is a matrix object in NumPy we will be doing everything using NumPy arrays because they can have dimensions greater than $2$. For the purpose of this section, we will be using matrix and array interchangeably.\n",
        "\n",
        "We can express the matrix equation as:\n",
        "\n",
        "$$ y = A\\cdot x $$\n",
        "\n",
        "Where $A$ is an $m \\times n$ matrix, $y$ is a $m \\times 1$ vector, and $x$ is a $n \\times 1$ vector. On the right-hand side of the equation we are multiplying a matrix by a vector. This requires a little bit more clarification, lest we think that we can go about multiplying any matrices by any other matrices.\n",
        "\n",
        "#### Matrix multiplication\n",
        "\n",
        "With matrix multiplication, the order in which the matrices are multiplied matters. Multiplying a matrix on the left side by another matrix may be just fine, but multiplying on the right may be undefined."
      ]
    },
    {
      "cell_type": "code",
      "metadata": {
        "collapsed": true,
        "id": "NajOu8N_vLFS"
      },
      "source": [
        "A = np.array([\n",
        "        [1, 2, 3, 12, 6],\n",
        "        [4, 5, 6, 15, 20],\n",
        "        [7, 8, 9, 10, 10]        \n",
        "    ])\n",
        "B = np.array([\n",
        "        [4, 4, 2],\n",
        "        [2, 3, 1],\n",
        "        [6, 5, 8],\n",
        "        [9, 9, 9]\n",
        "    ])"
      ],
      "execution_count": null,
      "outputs": []
    },
    {
      "cell_type": "markdown",
      "metadata": {
        "id": "1fZH1SrhvLFS"
      },
      "source": [
        "Notice that the above-defined matrices, $A$ and $B$, have different dimensions. $A$ is $3 \\times 5$ and $B$ is $4 \\times 3$. The general rule of what can and cannot be multiplied in which order is based on the dimensions of the matrices. Specifically, the number of columns in the matrix on the left must be equal to the number of rows in the matrix on the right. In super informal terms, let's say that we have an $m \\times n$ matrix and a $p \\times q$ matrix. If we multiply the first by the second on the right, we get the following:\n",
        "\n",
        "$$ (m \\times n) \\cdot (p \\times q) = (m \\times q) $$\n",
        "\n",
        "So the resultant product has the same number of rows as the left matrix and the same number of columns as the right matrix. This limitation of matrix multiplication with regards to dimensions is important to keep track of when writing code. To demonstrate this, we use the `dot()` function to multiply our matrices below:"
      ]
    },
    {
      "cell_type": "code",
      "metadata": {
        "id": "tdmhIPhNvLFS"
      },
      "source": [
        "## print (np.dot(A, B)) Error por diferencia de tamaños\r\n",
        "#No se puede realizar"
      ],
      "execution_count": null,
      "outputs": []
    },
    {
      "cell_type": "markdown",
      "metadata": {
        "id": "eAAicLfdvLFS"
      },
      "source": [
        "These results make sense in accordance with our rule. Multiplying a $3 \\times 5$ matrix on the right by a $4 \\times 3$ matrix results in an error while multiplying a $4 \\times 3$ matrix on the right by a $3 \\times 5$ matrix results in a $4 \\times 5$ matrix."
      ]
    },
    {
      "cell_type": "code",
      "metadata": {
        "colab": {
          "base_uri": "https://localhost:8080/"
        },
        "id": "bvowIgqRvLFS",
        "outputId": "19774bb4-c7af-4c0e-fbb1-8af93e285b3f"
      },
      "source": [
        "print (np.dot(B, A))"
      ],
      "execution_count": null,
      "outputs": [
        {
          "output_type": "stream",
          "text": [
            "[[ 34  44  54 128 124]\n",
            " [ 21  27  33  79  82]\n",
            " [ 82 101 120 227 216]\n",
            " [108 135 162 333 324]]\n"
          ],
          "name": "stdout"
        }
      ]
    },
    {
      "cell_type": "markdown",
      "metadata": {
        "id": "r7HjuHbm5hLq"
      },
      "source": [
        "**Mi ejemplo**\r\n",
        "\r\n",
        "\r\n",
        "Se va a realizar la multiplicacion de matrices tal como se muestra en la explicación anterior, se va a mostrar que la siguiente propiedad de matrices:\r\n",
        "\r\n",
        "$$\r\n",
        "i_{n\\times m} =\r\n",
        " \\left[\\begin{matrix}\r\n",
        "1_{[1,1]}  & \\cdots & 0_{[1,m]}   \\\\\r\n",
        "\\vdots & \\ddots & \\vdots \\\\\r\n",
        "0_{[n,1]}  & \\cdots & 1_{[n,m]}\r\n",
        "\\end{matrix}\\right] \r\n",
        "$$\r\n",
        "Donde:\r\n",
        "$$\r\n",
        "a_{n \\times m} \\times  i_{n \\times m} = a_{n \\times m}\r\n",
        "$$\r\n"
      ]
    },
    {
      "cell_type": "code",
      "metadata": {
        "colab": {
          "base_uri": "https://localhost:8080/"
        },
        "id": "vAp87_yL5otz",
        "outputId": "44659310-9e73-47e8-b1d1-438f391a7d50"
      },
      "source": [
        "A2 = np.array([\r\n",
        "               [1,3,5,2,4],\r\n",
        "               [6,7,1,3,7],\r\n",
        "               [2,2,1,3,4],\r\n",
        "               [1,1,2,3,0],\r\n",
        "               [0,1,2,3,4]\r\n",
        "])\r\n",
        "\r\n",
        "B2 = np.array([\r\n",
        "               [1,0,0,0,0],\r\n",
        "               [0,1,0,0,0],\r\n",
        "               [0,0,1,0,0],\r\n",
        "               [0,0,0,1,0],\r\n",
        "               [0,0,0,0,1]\r\n",
        "])\r\n",
        "print(\"\\n\\n A= \\n\",A2)\r\n",
        "print(\"\\n\\n I= \\n\",B2)\r\n",
        "print (\"\\n\\n A*I= \\n\",np.dot(B2, A2))"
      ],
      "execution_count": null,
      "outputs": [
        {
          "output_type": "stream",
          "text": [
            "\n",
            "\n",
            " A= \n",
            " [[1 3 5 2 4]\n",
            " [6 7 1 3 7]\n",
            " [2 2 1 3 4]\n",
            " [1 1 2 3 0]\n",
            " [0 1 2 3 4]]\n",
            "\n",
            "\n",
            " I= \n",
            " [[1 0 0 0 0]\n",
            " [0 1 0 0 0]\n",
            " [0 0 1 0 0]\n",
            " [0 0 0 1 0]\n",
            " [0 0 0 0 1]]\n",
            "\n",
            "\n",
            " A*I= \n",
            " [[1 3 5 2 4]\n",
            " [6 7 1 3 7]\n",
            " [2 2 1 3 4]\n",
            " [1 1 2 3 0]\n",
            " [0 1 2 3 4]]\n"
          ],
          "name": "stdout"
        }
      ]
    },
    {
      "cell_type": "markdown",
      "metadata": {
        "id": "aZLHi6dcvLFT"
      },
      "source": [
        "### Portfolio Variance\n",
        "\n",
        "Let's return to our portfolio example from before. We calculated the expected return of the portfolio, but how do we calculate the variance? We start by trying to evaluate the portfolio as a sum of each individual asset, scaled by it's weight.\n",
        "\n",
        "$$ VAR[P] = VAR[\\omega_1 S_1 + \\omega_2 S_2 + \\cdots + \\omega_N S_N] $$\n",
        "\n",
        "Where $S_0, \\cdots, S_N$ are the assets contained within our universe. If all of our assets were independent of each other, we could simply evaluate this as\n",
        "\n",
        "$$ VAR[P] = VAR[\\omega_1 S_1] + VAR[\\omega_2 S_2] + \\cdots + VAR[\\omega_N S_N] = \\omega_1^2\\sigma_1^2 + \\omega_2^2\\sigma_2^2 + \\cdots + \\omega_N^2\\sigma_N^2 $$\n",
        "\n",
        "However, all of our assets depend on each other by their construction. They are all in some way related to our base asset and therefore each other. We thus have to calculate the variance of the portfolio by including the individual pairwise covariances of each asset. Our formula for the variance of the portfolio:\n",
        "\n",
        "$$ VAR[P] = \\sigma_P^2 = \\sum_i \\omega_i^2\\sigma_i^2 + \\sum_i\\sum_{i\\neq j} \\omega_i\\omega_j\\sigma_i\\sigma_j\\rho_{i, j}, \\ i, j \\in \\lbrace 1, 2, \\cdots, N \\rbrace $$\n",
        "\n",
        "Where $\\rho_{i,j}$ is the correlation between $S_i$ and $S_j$, $\\rho_{i, j} = \\frac{COV[S_i, S_j]}{\\sigma_i\\sigma_j}$. This seems exceedingly complicated, but we can easily handle all of this using NumPy arrays. First, we calculate the covariance matrix that relates all the individual stocks in our universe."
      ]
    },
    {
      "cell_type": "code",
      "metadata": {
        "id": "sBQxVOzLvLFT",
        "colab": {
          "base_uri": "https://localhost:8080/"
        },
        "outputId": "5406c8b9-83a5-41cf-dfa1-2609c5ba2b1f"
      },
      "source": [
        "cov_mat = np.cov(returns)\n",
        "print (cov_mat)"
      ],
      "execution_count": null,
      "outputs": [
        {
          "output_type": "stream",
          "text": [
            "[[0.00085279 0.00082879 0.00078586 0.00093697 0.00083428 0.00084298\n",
            "  0.00072599 0.00094902 0.00083396 0.00080565]\n",
            " [0.00082879 0.00119411 0.00075654 0.0009318  0.00085399 0.00075014\n",
            "  0.00068354 0.00095801 0.00084028 0.00073307]\n",
            " [0.00078586 0.00075654 0.00112601 0.00083914 0.00077514 0.00076839\n",
            "  0.00061031 0.00085245 0.00074784 0.00072766]\n",
            " [0.00093697 0.0009318  0.00083914 0.00144573 0.00093745 0.00097611\n",
            "  0.00082929 0.00105577 0.00089885 0.00089253]\n",
            " [0.00083428 0.00085399 0.00077514 0.00093745 0.00118449 0.00080555\n",
            "  0.00068607 0.00096758 0.00075336 0.00082622]\n",
            " [0.00084298 0.00075014 0.00076839 0.00097611 0.00080555 0.00126419\n",
            "  0.00071335 0.00087499 0.00084646 0.0007226 ]\n",
            " [0.00072599 0.00068354 0.00061031 0.00082929 0.00068607 0.00071335\n",
            "  0.00101072 0.00090328 0.00068809 0.0007539 ]\n",
            " [0.00094902 0.00095801 0.00085245 0.00105577 0.00096758 0.00087499\n",
            "  0.00090328 0.00143874 0.00091147 0.00089933]\n",
            " [0.00083396 0.00084028 0.00074784 0.00089885 0.00075336 0.00084646\n",
            "  0.00068809 0.00091147 0.00121852 0.0007927 ]\n",
            " [0.00080565 0.00073307 0.00072766 0.00089253 0.00082622 0.0007226\n",
            "  0.0007539  0.00089933 0.0007927  0.00111654]]\n"
          ],
          "name": "stdout"
        }
      ]
    },
    {
      "cell_type": "markdown",
      "metadata": {
        "id": "VapuNgRBC4SO"
      },
      "source": [
        "**Mi ejemplo**\r\n",
        "\r\n",
        "Se aplica la covarianza a los retornes hechos\r\n"
      ]
    },
    {
      "cell_type": "code",
      "metadata": {
        "colab": {
          "base_uri": "https://localhost:8080/"
        },
        "id": "GNkHVTnODA-t",
        "outputId": "d7938f43-867d-46e8-e416-d9cf26a25107"
      },
      "source": [
        "cov_mat2 = np.cov(returns2)\r\n",
        "print (cov_mat2)"
      ],
      "execution_count": 35,
      "outputs": [
        {
          "output_type": "stream",
          "text": [
            "[[1.28312145 1.26500489 1.31951017 1.33562384 1.21767288 1.38111477\n",
            "  1.30629948 1.37112372 1.18185048 1.26419626]\n",
            " [1.26500489 2.34193777 1.42678549 1.23485206 1.23349216 1.31269261\n",
            "  1.35784345 1.32536151 1.08055877 1.20274748]\n",
            " [1.31951017 1.42678549 2.41834992 1.25891505 1.25818766 1.51266691\n",
            "  1.55003562 1.43981646 1.24984916 1.30409154]\n",
            " [1.33562384 1.23485206 1.25891505 2.33197186 1.32010787 1.37303882\n",
            "  1.18944848 1.55259159 1.15880595 1.4455118 ]\n",
            " [1.21767288 1.23349216 1.25818766 1.32010787 1.97830173 1.38970342\n",
            "  1.24078433 1.36376479 1.26395703 1.17235242]\n",
            " [1.38111477 1.31269261 1.51266691 1.37303882 1.38970342 2.49450618\n",
            "  1.37696878 1.44975233 1.22387903 1.1566693 ]\n",
            " [1.30629948 1.35784345 1.55003562 1.18944848 1.24078433 1.37696878\n",
            "  2.31144255 1.35361804 1.28325198 1.16349893]\n",
            " [1.37112372 1.32536151 1.43981646 1.55259159 1.36376479 1.44975233\n",
            "  1.35361804 2.44495917 1.30015614 1.46612301]\n",
            " [1.18185048 1.08055877 1.24984916 1.15880595 1.26395703 1.22387903\n",
            "  1.28325198 1.30015614 1.96035033 1.15252414]\n",
            " [1.26419626 1.20274748 1.30409154 1.4455118  1.17235242 1.1566693\n",
            "  1.16349893 1.46612301 1.15252414 2.16751917]]\n"
          ],
          "name": "stdout"
        }
      ]
    },
    {
      "cell_type": "markdown",
      "metadata": {
        "id": "cVLM316zvLFT"
      },
      "source": [
        "This array is not formatted particularly nicely, but a covariance matrix is a very important concept. The covariance matrix is of the form:\n",
        "\n",
        "$$ \\left[\\begin{matrix}\n",
        "VAR[S_1] & COV[S_1, S_2] & \\cdots & COV[S_1, S_N] \\\\\n",
        "COV[S_2, S_1] & VAR[S_2] & \\cdots & COV[S_2, S_N] \\\\\n",
        "\\vdots & \\vdots & \\ddots & \\vdots \\\\\n",
        "COV[S_N, S_1] & COV[S_N, S_2] & \\cdots & VAR[S_N]\n",
        "\\end{matrix}\\right] $$\n",
        "\n",
        "So each diagonal entry is the variance of that asset at that index and each off-diagonal holds the covariance of two assets indexed by the column and row number. What is important is that once we have the covariance matrix we are able to do some very quick linear algebra to calculate the variance of the overall portfolio. We can represent the variance of the portfolio in array form as:\n",
        "\n",
        "$$ \\sigma_p^2 = \\omega \\ C \\ \\omega^\\intercal$$\n",
        "\n",
        "Where $C$ is the covariance matrix of all the assets and $\\omega$ is the array containing the weights of each individual asset. The superscript $\\intercal$ on the second $\\omega$ listed above denotes the **transpose** of $\\omega$. For a reference on the evaluation of the variance of a portfolio as a matrix equation, please see the Wikipedia article on [modern portfolio theory](https://en.wikipedia.org/wiki/Modern_portfolio_theory).\n",
        "\n",
        "The transpose of an array is what you get when you switch the rows and columns of an array. This has the effect of reflecting an array across what you might imagine as a diagonal. For example, take our array $A$ from before:"
      ]
    },
    {
      "cell_type": "code",
      "metadata": {
        "id": "Es7XJ3gkvLFT",
        "colab": {
          "base_uri": "https://localhost:8080/"
        },
        "outputId": "10a35d8d-4e76-416c-e741-97c303ca9bc3"
      },
      "source": [
        "print (A)"
      ],
      "execution_count": null,
      "outputs": [
        {
          "output_type": "stream",
          "text": [
            "[[ 1  2  3 12  6]\n",
            " [ 4  5  6 15 20]\n",
            " [ 7  8  9 10 10]]\n"
          ],
          "name": "stdout"
        }
      ]
    },
    {
      "cell_type": "markdown",
      "metadata": {
        "id": "YGOgbF_ivLFT"
      },
      "source": [
        "The transpose looks like a mirror image of the same array."
      ]
    },
    {
      "cell_type": "code",
      "metadata": {
        "id": "KCBx8v0XvLFT",
        "colab": {
          "base_uri": "https://localhost:8080/"
        },
        "outputId": "3c9de739-4c0e-45db-f98f-469cc0a5065a"
      },
      "source": [
        "print (np.transpose(A))"
      ],
      "execution_count": null,
      "outputs": [
        {
          "output_type": "stream",
          "text": [
            "[[ 1  4  7]\n",
            " [ 2  5  8]\n",
            " [ 3  6  9]\n",
            " [12 15 10]\n",
            " [ 6 20 10]]\n"
          ],
          "name": "stdout"
        }
      ]
    },
    {
      "cell_type": "markdown",
      "metadata": {
        "id": "85VK0PsIAU5p"
      },
      "source": [
        "**Mi ejemplo**\r\n",
        "\r\n",
        "Se va a aplicar la función de transponer:\r\n",
        "\r\n"
      ]
    },
    {
      "cell_type": "code",
      "metadata": {
        "colab": {
          "base_uri": "https://localhost:8080/"
        },
        "id": "JJpfAEzqAUSO",
        "outputId": "4ef327d4-e4eb-44c2-b93a-13f8a9d186a6"
      },
      "source": [
        "A2 = np.array([\r\n",
        "               [1,3,5,2,4],\r\n",
        "               [6,7,1,3,7],\r\n",
        "               [2,2,1,3,4],\r\n",
        "               [1,1,2,3,0],\r\n",
        "               [0,1,2,3,4]\r\n",
        "])\r\n",
        "print(np.transpose(A2))"
      ],
      "execution_count": null,
      "outputs": [
        {
          "output_type": "stream",
          "text": [
            "[[1 6 2 1 0]\n",
            " [3 7 2 1 1]\n",
            " [5 1 1 2 2]\n",
            " [2 3 3 3 3]\n",
            " [4 7 4 0 4]]\n"
          ],
          "name": "stdout"
        }
      ]
    },
    {
      "cell_type": "markdown",
      "metadata": {
        "id": "lgp55CqcvLFU"
      },
      "source": [
        "But $\\omega$ here is a 1-dimensional array, a vector! It makes perfect to take the transpose of $A$, a $3 \\times 5$ array, as the output will be a $5 \\times 3$ array, but a 1-dimensional array is not quite as intuitive. A typical 1-dimensional array can be thought of as a $1 \\times n$ horizontal vector. Thus, taking the tranpose of this array essentially means changing it into a $n \\times 1$ vertical vector. This makes sense because 1-dimensional arrays are still arrays and any multiplication done between 1-dimensional and higher dimensional arrays must keep in line with our dimensionality issue of matrix multiplication.\n",
        "\n",
        "To make a long story short, we think of $\\omega$ as $1 \\times N$ since we have $N$ securities. This makes it so that $\\omega^\\intercal$ is $N \\times 1$. Again, our covariance matrix is $N \\times N$. So the overall multiplication works out like so, in informal terms:\n",
        "\n",
        "$$ \\text{Dimensions}(\\sigma_p^2) = \\text{Dimensions}(\\omega C \\omega^\\intercal) = (1 \\times N)\\cdot (N \\times N)\\cdot (N \\times 1) = (1 \\times 1)$$\n",
        "\n",
        "Multiplying the covariance matrix on the left by the plain horizontal vector and on the right by that vector's transpose results in the calculation of a single scalar ($1 \\times 1$) value, our portfolio's variance.\n",
        "\n",
        "So knowing this, let's proceed and calculate the portfolio variance! We can easily calculate the product of these arrays by using `dot()` for matrix multiplication, though this time we have to do it twice."
      ]
    },
    {
      "cell_type": "code",
      "metadata": {
        "scrolled": false,
        "id": "-z8DOwYdvLFU",
        "colab": {
          "base_uri": "https://localhost:8080/"
        },
        "outputId": "3163d93d-652c-4723-dff0-5809d6fc49c7"
      },
      "source": [
        "# Calculating the portfolio volatility\n",
        "var_p = np.dot(np.dot(weights, cov_mat), weights.T)\n",
        "vol_p = np.sqrt(var_p)\n",
        "print (\"Portfolio volatility: \", vol_p)"
      ],
      "execution_count": null,
      "outputs": [
        {
          "output_type": "stream",
          "text": [
            "Portfolio volatility:  0.03448850712458532\n"
          ],
          "name": "stdout"
        }
      ]
    },
    {
      "cell_type": "markdown",
      "metadata": {
        "id": "YW3CmbvavLFU"
      },
      "source": [
        "To confirm this calculation, let's simply evaluate the volatility of the portfolio using only NumPy functions."
      ]
    },
    {
      "cell_type": "code",
      "metadata": {
        "id": "9dJ0B82rvLFU",
        "colab": {
          "base_uri": "https://localhost:8080/"
        },
        "outputId": "f79f8871-7877-4a67-e7d4-7b8f158c896b"
      },
      "source": [
        "# Confirming calculation\n",
        "vol_p_alt = np.sqrt(np.var(np.dot(weights, returns), ddof=1))\n",
        "print (\"Portfolio volatility: \", vol_p_alt)"
      ],
      "execution_count": null,
      "outputs": [
        {
          "output_type": "stream",
          "text": [
            "Portfolio volatility:  0.03448850712458533\n"
          ],
          "name": "stdout"
        }
      ]
    },
    {
      "cell_type": "markdown",
      "metadata": {
        "id": "ar6NlwUqvLFU"
      },
      "source": [
        "The `ddof` parameter is a simple integer input that tells the function the number of degrees of freedom to take into account. This is a more statistical concept, but what this tells us that our matrix calculation is correct!\n",
        "\n",
        "A lot of this might not make sense at first glance. It helps to go back and forth between the theory and the code representations until you have a better grasp of the mathematics involved. It is definitely not necessary to be an expert on linear algebra and on matrix operations, but linear algebra can help to streamline the process of working with large amounts of data. For further reading on NumPy, check out the [documentation](https://docs.scipy.org/doc/numpy/user/index.html)."
      ]
    },
    {
      "cell_type": "markdown",
      "metadata": {
        "id": "qLL38pxXA0tk"
      },
      "source": [
        "**Mi ejemplo**\r\n",
        "\r\n",
        "Con lo realizado en los ejemplos anteriores se va a aplicar lo mostrado arriba."
      ]
    },
    {
      "cell_type": "code",
      "metadata": {
        "colab": {
          "base_uri": "https://localhost:8080/"
        },
        "id": "M2_fx_UYA7G0",
        "outputId": "0e4df00e-9977-4868-e7ac-63981303537d"
      },
      "source": [
        "# Calculating the portfolio volatility\r\n",
        "var_p2 = np.dot(np.dot(weights2, cov_mat2), weights2.T)\r\n",
        "vol_p2 = np.sqrt(var_p2)\r\n",
        "print (\"Portfolio volatility: \", vol_p2)\r\n",
        "# Confirming calculation\r\n",
        "vol_p_alt2 = np.sqrt(np.var(np.dot(weights2, returns2), ddof=1))\r\n",
        "print (\"Portfolio volatility: \", vol_p_alt2)"
      ],
      "execution_count": 36,
      "outputs": [
        {
          "output_type": "stream",
          "text": [
            "Portfolio volatility:  1.1891481937642077\n",
            "Portfolio volatility:  1.1891481937642074\n"
          ],
          "name": "stdout"
        }
      ]
    },
    {
      "cell_type": "markdown",
      "metadata": {
        "id": "XYX-B-vHvLFU"
      },
      "source": [
        "*This presentation is for informational purposes only and does not constitute an offer to sell, a solicitation to buy, or a recommendation for any security; nor does it constitute an offer to provide investment advisory or other services by Quantopian, Inc. (\"Quantopian\"). Nothing contained herein constitutes investment advice or offers any opinion with respect to the suitability of any security, and any views expressed herein should not be taken as advice to buy, sell, or hold any security or as an endorsement of any security or company.  In preparing the information contained herein, Quantopian, Inc. has not taken into account the investment needs, objectives, and financial circumstances of any particular investor. Any views expressed and data illustrated herein were prepared based upon information, believed to be reliable, available to Quantopian, Inc. at the time of publication. Quantopian makes no guarantees as to their accuracy or completeness. All information is subject to change and may quickly become unreliable for various reasons, including changes in market conditions or economic circumstances.*"
      ]
    }
  ]
}