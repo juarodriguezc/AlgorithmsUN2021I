{
  "nbformat": 4,
  "nbformat_minor": 0,
  "metadata": {
    "kernelspec": {
      "name": "python3",
      "display_name": "Python 3"
    },
    "colab": {
      "name": "juarodriguezclecture1.ipynb",
      "provenance": [],
      "toc_visible": true
    }
  },
  "cells": [
    {
      "cell_type": "markdown",
      "metadata": {
        "id": "5jj0C7YfStsp"
      },
      "source": [
        "#Introduction to the Research Environment\n",
        "\n",
        "The research environment is powered by IPython notebooks, which allow one to perform a great deal of data analysis and statistical validation. We'll demonstrate a few simple techniques here."
      ]
    },
    {
      "cell_type": "markdown",
      "metadata": {
        "id": "ntRR1jgjStsu"
      },
      "source": [
        "##Code Cells vs. Text Cells\n",
        "\n",
        "As you can see, each cell can be either code or text. To select between them, choose from the 'Cell Type' dropdown menu on the top left."
      ]
    },
    {
      "cell_type": "markdown",
      "metadata": {
        "id": "ggGMYejMStsv"
      },
      "source": [
        "##Executing a Command\n",
        "\n",
        "A code cell will be evaluated when you press play, or when you press the shortcut, shift-enter. Evaluating a cell evaluates each line of code in sequence, and prints the results of the last line below the cell."
      ]
    },
    {
      "cell_type": "code",
      "metadata": {
        "colab": {
          "base_uri": "https://localhost:8080/"
        },
        "id": "hQpLI-_aStsv",
        "outputId": "9447c4f3-ed53-4380-d211-42059932e0ec"
      },
      "source": [
        "2 + 2"
      ],
      "execution_count": null,
      "outputs": [
        {
          "output_type": "execute_result",
          "data": {
            "text/plain": [
              "4"
            ]
          },
          "metadata": {
            "tags": []
          },
          "execution_count": 1
        }
      ]
    },
    {
      "cell_type": "markdown",
      "metadata": {
        "id": "Elp5GqIm5rTB"
      },
      "source": [
        "**Mi ejemplo**"
      ]
    },
    {
      "cell_type": "code",
      "metadata": {
        "colab": {
          "base_uri": "https://localhost:8080/"
        },
        "id": "o9Qux4vA5xDv",
        "outputId": "c2582cbd-d15e-43f9-abeb-38fd498407d6"
      },
      "source": [
        "1+3"
      ],
      "execution_count": null,
      "outputs": [
        {
          "output_type": "execute_result",
          "data": {
            "text/plain": [
              "4"
            ]
          },
          "metadata": {
            "tags": []
          },
          "execution_count": 1
        }
      ]
    },
    {
      "cell_type": "markdown",
      "metadata": {
        "id": "M1TG12rGStsv"
      },
      "source": [
        "Sometimes there is no result to be printed, as is the case with assignment."
      ]
    },
    {
      "cell_type": "code",
      "metadata": {
        "collapsed": true,
        "id": "Q-FnE9xRStsw"
      },
      "source": [
        "X = 2"
      ],
      "execution_count": null,
      "outputs": []
    },
    {
      "cell_type": "markdown",
      "metadata": {
        "id": "T2AFFHOF58-l"
      },
      "source": [
        "**Mi ejemplo**"
      ]
    },
    {
      "cell_type": "code",
      "metadata": {
        "id": "EufwBQXI5-wp"
      },
      "source": [
        "Y = 3"
      ],
      "execution_count": null,
      "outputs": []
    },
    {
      "cell_type": "markdown",
      "metadata": {
        "id": "uhyH5TQmStsw"
      },
      "source": [
        "Remember that only the result from the last line is printed."
      ]
    },
    {
      "cell_type": "code",
      "metadata": {
        "colab": {
          "base_uri": "https://localhost:8080/"
        },
        "id": "VtsXaOcBStsw",
        "outputId": "d27134cc-a7ec-4711-8445-baf4c5781741"
      },
      "source": [
        "2 + 2\n",
        "3 + 3"
      ],
      "execution_count": null,
      "outputs": [
        {
          "output_type": "execute_result",
          "data": {
            "text/plain": [
              "6"
            ]
          },
          "metadata": {
            "tags": []
          },
          "execution_count": 3
        }
      ]
    },
    {
      "cell_type": "markdown",
      "metadata": {
        "id": "IpcGbVvX6SMq"
      },
      "source": [
        "**Mi ejemplo**"
      ]
    },
    {
      "cell_type": "code",
      "metadata": {
        "colab": {
          "base_uri": "https://localhost:8080/"
        },
        "id": "TKePRxWL6VfR",
        "outputId": "21db15c7-292b-4440-c994-58afd3d0ce62"
      },
      "source": [
        " 1 + 4\r\n",
        " 2 + 1\r\n",
        " 3 + 3"
      ],
      "execution_count": null,
      "outputs": [
        {
          "output_type": "execute_result",
          "data": {
            "text/plain": [
              "6"
            ]
          },
          "metadata": {
            "tags": []
          },
          "execution_count": 3
        }
      ]
    },
    {
      "cell_type": "markdown",
      "metadata": {
        "id": "FfurhNrgStsx"
      },
      "source": [
        "However, you can print whichever lines you want using the `print` statement."
      ]
    },
    {
      "cell_type": "code",
      "metadata": {
        "colab": {
          "base_uri": "https://localhost:8080/"
        },
        "id": "S3JjFu4nStsx",
        "outputId": "5327da6f-325d-43c7-9b1f-28826a0dc100"
      },
      "source": [
        "print (2 + 2)\n",
        "3 + 3"
      ],
      "execution_count": null,
      "outputs": [
        {
          "output_type": "stream",
          "text": [
            "4\n"
          ],
          "name": "stdout"
        },
        {
          "output_type": "execute_result",
          "data": {
            "text/plain": [
              "6"
            ]
          },
          "metadata": {
            "tags": []
          },
          "execution_count": 4
        }
      ]
    },
    {
      "cell_type": "markdown",
      "metadata": {
        "id": "-02I11PH6aVk"
      },
      "source": [
        "**Mi ejemplo**"
      ]
    },
    {
      "cell_type": "code",
      "metadata": {
        "colab": {
          "base_uri": "https://localhost:8080/"
        },
        "id": "z7qLh1Kl6bjZ",
        "outputId": "b88e1b97-e742-4688-bdd4-e00bbb674c66"
      },
      "source": [
        "print(1+2)\r\n",
        "0/2"
      ],
      "execution_count": null,
      "outputs": [
        {
          "output_type": "stream",
          "text": [
            "3\n"
          ],
          "name": "stdout"
        },
        {
          "output_type": "execute_result",
          "data": {
            "text/plain": [
              "0.0"
            ]
          },
          "metadata": {
            "tags": []
          },
          "execution_count": 4
        }
      ]
    },
    {
      "cell_type": "markdown",
      "metadata": {
        "id": "R4wdNeP0Stsx"
      },
      "source": [
        "##Knowing When a Cell is Running\n",
        "\n",
        "While a cell is running, a `[*]` will display on the left. When a cell has yet to be executed, `[ ]` will display. When it has been run, a number will display indicating the order in which it was run during the execution of the notebook `[5]`. Try on this cell and note it happening."
      ]
    },
    {
      "cell_type": "code",
      "metadata": {
        "colab": {
          "base_uri": "https://localhost:8080/"
        },
        "id": "aoW5myGrStsx",
        "outputId": "d3fc99f6-2048-45e2-972b-2b0dcd2da07d"
      },
      "source": [
        "#Take some time to run something\n",
        "c = 0\n",
        "for i in range(10000000):\n",
        "    c = c + i\n",
        "c"
      ],
      "execution_count": null,
      "outputs": [
        {
          "output_type": "execute_result",
          "data": {
            "text/plain": [
              "4950"
            ]
          },
          "metadata": {
            "tags": []
          },
          "execution_count": 5
        }
      ]
    },
    {
      "cell_type": "markdown",
      "metadata": {
        "id": "ALWnhXhw6ni8"
      },
      "source": [
        "**Mi ejemplo**"
      ]
    },
    {
      "cell_type": "code",
      "metadata": {
        "colab": {
          "base_uri": "https://localhost:8080/"
        },
        "id": "pA0qhbMq6oMB",
        "outputId": "069ec38f-2bcc-4a4d-d7ae-b0c16e06e920"
      },
      "source": [
        "x = 2\r\n",
        "for i in range(100):\r\n",
        "  x*=2\r\n",
        "x"
      ],
      "execution_count": null,
      "outputs": [
        {
          "output_type": "execute_result",
          "data": {
            "text/plain": [
              "2535301200456458802993406410752"
            ]
          },
          "metadata": {
            "tags": []
          },
          "execution_count": 7
        }
      ]
    },
    {
      "cell_type": "markdown",
      "metadata": {
        "id": "_5OAG6QrStsy"
      },
      "source": [
        "##Importing Libraries\n",
        "\n",
        "The vast majority of the time, you'll want to use functions from pre-built libraries. You can't import every library on Quantopian due to security issues, but you can import most of the common scientific ones. Here I import numpy and pandas, the two most common and useful libraries in quant finance. I recommend copying this import statement to every new notebook.\n",
        "\n",
        "Notice that you can rename libraries to whatever you want after importing. The `as` statement allows this. Here we use `np` and `pd` as aliases for `numpy` and `pandas`. This is a very common aliasing and will be found in most code snippets around the web. The point behind this is to allow you to type fewer characters when you are frequently accessing these libraries."
      ]
    },
    {
      "cell_type": "code",
      "metadata": {
        "collapsed": true,
        "id": "CWHjigDwStsy"
      },
      "source": [
        "import numpy as np\n",
        "import pandas as pd\n",
        "\n",
        "# This is a plotting library for pretty pictures.\n",
        "import matplotlib.pyplot as plt"
      ],
      "execution_count": null,
      "outputs": []
    },
    {
      "cell_type": "markdown",
      "metadata": {
        "id": "qdWTFX1jStsy"
      },
      "source": [
        "##Tab Autocomplete\n",
        "\n",
        "Pressing tab will give you a list of IPython's best guesses for what you might want to type next. This is incredibly valuable and will save you a lot of time. If there is only one possible option for what you could type next, IPython will fill that in for you. Try pressing tab very frequently, it will seldom fill in anything you don't want, as if there is ambiguity a list will be shown. This is a great way to see what functions are available in a library.\n",
        "\n",
        "Try placing your cursor after the `.` and pressing tab."
      ]
    },
    {
      "cell_type": "markdown",
      "metadata": {
        "id": "Q0JONYv2CFSD"
      },
      "source": [
        "**La función binomial se define como:**"
      ]
    },
    {
      "cell_type": "markdown",
      "metadata": {
        "id": "opmydLKKIr5P"
      },
      "source": [
        "$$\r\n",
        "P_{x} = \\binom{n}{x}p^{x}q^{n-x}\r\n",
        "$$"
      ]
    },
    {
      "cell_type": "code",
      "metadata": {
        "colab": {
          "base_uri": "https://localhost:8080/"
        },
        "id": "9SpttYt5Stsy",
        "outputId": "293ddabc-8216-44a1-b9d3-a05a73acf6b3"
      },
      "source": [
        "np.random.binomial"
      ],
      "execution_count": null,
      "outputs": [
        {
          "output_type": "execute_result",
          "data": {
            "text/plain": [
              "<function RandomState.binomial>"
            ]
          },
          "metadata": {
            "tags": []
          },
          "execution_count": 9
        }
      ]
    },
    {
      "cell_type": "markdown",
      "metadata": {
        "id": "D4aPZvE27_jr"
      },
      "source": [
        "**Mi ejemplo con la función exponencial**"
      ]
    },
    {
      "cell_type": "markdown",
      "metadata": {
        "id": "eAjeylhLCqup"
      },
      "source": [
        "Cuya función de densidad es: \\\\\r\n",
        "$$ f(x,\\lambda ) = \\begin{Bmatrix}\r\n",
        "\\lambda e^{-\\lambda x}  \\;\\;\\;\\;  x \\geq 0\r\n",
        "\\\\ \r\n",
        "0 \\;\\;\\;\\;\\;\\;\\;\\;\\;\\;\\;\\; x < 0\r\n",
        "\r\n",
        "\\end{Bmatrix} \r\n",
        "\r\n",
        "$$\r\n",
        "\r\n"
      ]
    },
    {
      "cell_type": "code",
      "metadata": {
        "colab": {
          "base_uri": "https://localhost:8080/"
        },
        "id": "hyb9qp5v8AQh",
        "outputId": "e8480e2a-e3fd-4de9-af57-bf99efda81b5"
      },
      "source": [
        "np.random.exponential"
      ],
      "execution_count": null,
      "outputs": [
        {
          "output_type": "execute_result",
          "data": {
            "text/plain": [
              "<function RandomState.exponential>"
            ]
          },
          "metadata": {
            "tags": []
          },
          "execution_count": 10
        }
      ]
    },
    {
      "cell_type": "markdown",
      "metadata": {
        "id": "P9kP0jv5Stsy"
      },
      "source": [
        "##Getting Documentation Help\n",
        "\n",
        "Placing a question mark after a function and executing that line of code will give you the documentation IPython has for that function. It's often best to do this in a new cell, as you avoid re-executing other code and running into bugs."
      ]
    },
    {
      "cell_type": "code",
      "metadata": {
        "collapsed": true,
        "id": "b0LkwI4TStsz"
      },
      "source": [
        "np.random.normal?"
      ],
      "execution_count": null,
      "outputs": []
    },
    {
      "cell_type": "markdown",
      "metadata": {
        "id": "Cz6fmwzCStsz"
      },
      "source": [
        "##Sampling\n",
        "\n",
        "We'll sample some random data using a function from `numpy`.\n",
        "\n",
        "La función de densidad de la normal es:\n",
        "\n",
        "$$ f(x) = \\frac{1}{\\sigma \\sqrt{2\\pi}}e^{-\\frac{1}{2}(\\frac{x-\\mu}{\\sigma})^2} \\; \\; \\; \\; \\; \\\\ \\sigma = \\text{desviacion estandar}\\;\\;\\;\\;\\;\\;\\;\\;\\;\\;\\;\\;\\;\\mu = \\text{media}$$"
      ]
    },
    {
      "cell_type": "code",
      "metadata": {
        "colab": {
          "base_uri": "https://localhost:8080/"
        },
        "id": "-DfUunUCStsz",
        "outputId": "beeb0833-bea4-42b6-e18f-f3eb8f20a593"
      },
      "source": [
        "# Sample 100 points with a mean of 0 and an std of 1. This is a standard normal distribution.\n",
        "X = np.random.normal(0, 1, 100)\n",
        "print(X)"
      ],
      "execution_count": null,
      "outputs": [
        {
          "output_type": "stream",
          "text": [
            "[-0.58582112  0.67674865  0.59566302  0.2042315  -0.39550663 -0.94132329\n",
            " -0.47310581  2.08655742  1.66689966 -0.95914095 -0.0414623  -0.63586852\n",
            "  2.41791972  0.08108006 -1.64965361 -0.83123773  2.53104117  0.49925579\n",
            " -1.84301384  0.16562913  0.32596126  1.05511521 -0.78160566 -0.23195552\n",
            "  0.31906367  0.95698503 -0.07083833 -0.87088852  0.46996827  2.22466105\n",
            " -0.66768653 -0.99341653 -1.74933174 -1.2871521  -0.66455502 -2.07996703\n",
            "  0.8428968   0.10529179 -0.21231213 -1.29151659 -1.82419352 -0.77761175\n",
            "  1.18026026 -0.23017432 -0.0681917   1.63786443  1.66837567 -1.92749471\n",
            "  0.91139023  1.3622887   0.10027467 -1.2923985  -0.0955026  -0.16960468\n",
            "  1.14847257 -1.18546517 -0.57144069  0.32194985 -0.14282777 -1.43222068\n",
            " -0.6860102  -0.72691821 -1.22820193  0.23705898 -2.23858509  0.59507564\n",
            "  0.9377658   0.14169385  0.44253203 -0.45212394  0.18707251  1.60203814\n",
            " -0.95582873  0.25131673 -0.36822111  0.6059244   0.13661512 -0.68285197\n",
            " -0.83993103  0.27700982  0.63444632 -0.75989113 -1.84073093 -1.49780636\n",
            " -0.85291215 -1.42572284  2.62849135 -1.1533499   0.1736365  -0.3998871\n",
            " -0.40762135  1.46797965 -1.16073786  0.10262697 -0.0443081   1.19241383\n",
            "  2.16451503  0.18730493  0.19681488 -1.46836366]\n"
          ],
          "name": "stdout"
        }
      ]
    },
    {
      "cell_type": "markdown",
      "metadata": {
        "id": "MCemY8EsI52S"
      },
      "source": [
        "**Mi ejemplo**"
      ]
    },
    {
      "cell_type": "markdown",
      "metadata": {
        "id": "r11iJnsnJEUx"
      },
      "source": [
        "Se van a guardar 200 aleatorios de la distribución normal en la variable X2"
      ]
    },
    {
      "cell_type": "code",
      "metadata": {
        "colab": {
          "base_uri": "https://localhost:8080/"
        },
        "id": "i6jjH7Z8I5BZ",
        "outputId": "43b002e0-9ba7-48e5-f00a-a2c2c6a787e4"
      },
      "source": [
        "X2 = np.random.normal(0,1,200)\r\n",
        "print(X2)"
      ],
      "execution_count": null,
      "outputs": [
        {
          "output_type": "stream",
          "text": [
            "[-0.15940427 -1.13949563  0.46270732 -0.31419972 -1.6536479  -0.83950134\n",
            " -2.97468634 -0.17869234 -0.34381488 -0.14850359  1.2972444   1.39367832\n",
            "  0.70928303  0.25746224 -0.38717793 -0.33866841  0.64687687 -0.0549852\n",
            "  0.13378551  0.30801856 -0.56315857 -0.31962591 -1.67077628 -0.16454748\n",
            " -0.45977836  0.42594515 -0.38362903 -1.19471156  0.74341387  1.62129027\n",
            " -0.27009029 -1.64701838 -1.11917599  0.09280128 -0.46983334  1.26987604\n",
            " -1.1305569  -0.31075241  0.2908623   0.6100929   0.05046559  1.46567659\n",
            "  1.49295977 -0.06574916 -0.82159298  1.39561076 -0.31480737  1.09854692\n",
            " -0.6183376   0.52443298 -1.20600406  0.24323234 -1.11406648 -1.08048973\n",
            " -0.55001811  1.03401984  0.59928065 -1.3861271  -0.70258192  0.61037732\n",
            "  1.32774969  1.61845886  0.2608863  -0.24772013  0.54336363  0.17816938\n",
            " -1.07998108  1.77605345  0.81318087 -0.57890216 -0.42262295  1.50443214\n",
            " -0.53243054 -0.93116306  0.08387944  0.68406968 -1.79229254 -0.5518271\n",
            "  0.0803802  -1.89219409 -2.16819556  0.4673005  -0.34263559 -0.50964078\n",
            " -0.20890712  0.0493684  -0.17911802  0.32471641 -0.5796121  -0.75588297\n",
            "  0.15107233  0.96923519 -0.90152365  0.38221842 -0.17575709 -0.52722171\n",
            "  0.38985737  0.25054785 -1.24795154  2.84303541  0.53659524 -0.2777034\n",
            " -0.52841164  0.95875139 -1.13347963 -0.3773795  -0.53075253  0.71085149\n",
            "  1.28528224  0.3068206   0.59440406  0.53788197  0.69196805 -0.63128057\n",
            " -0.0891719  -0.04375724 -0.27179407  0.35882043  1.32894083 -0.54640184\n",
            "  1.36282079 -0.78412572 -1.16473874  1.58359127  0.28433441  0.63503819\n",
            "  0.86851032  1.09671978  1.31538278 -1.63074862  1.35534661 -0.85770114\n",
            "  0.27708294 -0.02840509  0.71448613  1.32785874 -1.68618839 -1.09829258\n",
            " -0.42686046  1.52585409  0.42954287  1.85210211 -0.92198064 -0.79324229\n",
            " -0.77857323  1.58379405 -1.15789774  0.0366953   0.97032613  1.72057989\n",
            " -1.42644058 -0.29164582  1.1690304  -0.44438011 -0.03628128 -0.57706729\n",
            " -2.4480255   1.25181881  0.07114013  0.28476211 -1.89136886  0.43947716\n",
            "  0.67942522 -0.39821518 -0.53899298 -0.64048165  1.42891214  0.21115056\n",
            " -1.46024911 -1.88085093  0.47530052  1.64535135 -1.14314871  0.18952858\n",
            " -0.86454448  1.42104285 -0.74782696 -1.25565146  1.80919744 -0.67932465\n",
            "  0.67254269  0.32972355 -0.93499032  1.30334856 -0.15211789 -1.75624069\n",
            "  1.68568341 -0.2804217   0.82736073 -0.38083582 -0.38022414 -1.66283701\n",
            "  0.21239295  1.34233494 -1.01065071 -0.27545709 -2.65117605 -0.83258292\n",
            " -1.36659076 -0.19737864]\n"
          ],
          "name": "stdout"
        }
      ]
    },
    {
      "cell_type": "markdown",
      "metadata": {
        "id": "3md4e5tNStsz"
      },
      "source": [
        "##Plotting\n",
        "\n",
        "We can use the plotting library we imported as follows."
      ]
    },
    {
      "cell_type": "code",
      "metadata": {
        "colab": {
          "base_uri": "https://localhost:8080/",
          "height": 282
        },
        "id": "jhi0J172Stsz",
        "outputId": "b92950da-ea3b-4517-dff1-7022e3036165"
      },
      "source": [
        "plt.plot(X)"
      ],
      "execution_count": null,
      "outputs": [
        {
          "output_type": "execute_result",
          "data": {
            "text/plain": [
              "[<matplotlib.lines.Line2D at 0x7f218e8625d0>]"
            ]
          },
          "metadata": {
            "tags": []
          },
          "execution_count": 63
        },
        {
          "output_type": "display_data",
          "data": {
            "image/png": "[encoded data removed]",
            "text/plain": [
              "<Figure size 432x288 with 1 Axes>"
            ]
          },
          "metadata": {
            "tags": [],
            "needs_background": "light"
          }
        }
      ]
    },
    {
      "cell_type": "markdown",
      "metadata": {
        "id": "la592DWFJkVB"
      },
      "source": [
        "**Mi ejemplo** \r\n",
        "\r\n",
        "\r\n",
        "\r\n",
        "Ahora se graficará la variable X2"
      ]
    },
    {
      "cell_type": "code",
      "metadata": {
        "colab": {
          "base_uri": "https://localhost:8080/",
          "height": 282
        },
        "id": "U9qdD0whJwUI",
        "outputId": "5dc7d35c-e7a1-4d8b-834e-f5b4b87ceb6d"
      },
      "source": [
        "plt.plot(X2,color=\"green\")"
      ],
      "execution_count": null,
      "outputs": [
        {
          "output_type": "execute_result",
          "data": {
            "text/plain": [
              "[<matplotlib.lines.Line2D at 0x7f218e7e8b90>]"
            ]
          },
          "metadata": {
            "tags": []
          },
          "execution_count": 64
        },
        {
          "output_type": "display_data",
          "data": {
            "image/png": "[encoded data removed]",
            "text/plain": [
              "<Figure size 432x288 with 1 Axes>"
            ]
          },
          "metadata": {
            "tags": [],
            "needs_background": "light"
          }
        }
      ]
    },
    {
      "cell_type": "markdown",
      "metadata": {
        "id": "6_iZmuxLStsz"
      },
      "source": [
        "###Squelching Line Output\n",
        "\n",
        "You might have noticed the annoying line of the form `[<matplotlib.lines.Line2D at 0x7f72fdbc1710>]` before the plots. This is because the `.plot` function actually produces output. Sometimes we wish not to display output, we can accomplish this with the semi-colon as follows."
      ]
    },
    {
      "cell_type": "code",
      "metadata": {
        "colab": {
          "base_uri": "https://localhost:8080/",
          "height": 265
        },
        "id": "PZcsQAOJSts0",
        "outputId": "db8c5079-1180-4fcb-95fd-56bbc7decc0e"
      },
      "source": [
        "plt.plot(X);"
      ],
      "execution_count": null,
      "outputs": [
        {
          "output_type": "display_data",
          "data": {
            "image/png": "[encoded data removed]",
            "text/plain": [
              "<Figure size 432x288 with 1 Axes>"
            ]
          },
          "metadata": {
            "tags": [],
            "needs_background": "light"
          }
        }
      ]
    },
    {
      "cell_type": "markdown",
      "metadata": {
        "id": "1aa-dQ2Spj-n"
      },
      "source": [
        "**Mi ejemplo**\r\n",
        "\r\n",
        "Gráfico de X2 sin la linea inicial"
      ]
    },
    {
      "cell_type": "code",
      "metadata": {
        "colab": {
          "base_uri": "https://localhost:8080/",
          "height": 265
        },
        "id": "PRA9WknUppm9",
        "outputId": "421c7f0f-7bd3-4fa8-f35a-f74012183a36"
      },
      "source": [
        "plt.plot(X2,color=\"green\");"
      ],
      "execution_count": null,
      "outputs": [
        {
          "output_type": "display_data",
          "data": {
            "image/png": "[encoded data removed]",
            "text/plain": [
              "<Figure size 432x288 with 1 Axes>"
            ]
          },
          "metadata": {
            "tags": [],
            "needs_background": "light"
          }
        }
      ]
    },
    {
      "cell_type": "markdown",
      "metadata": {
        "id": "gMc49_CMSts0"
      },
      "source": [
        "###Adding Axis Labels\n",
        "\n",
        "No self-respecting quant leaves a graph without labeled axes. Here are some commands to help with that."
      ]
    },
    {
      "cell_type": "code",
      "metadata": {
        "colab": {
          "base_uri": "https://localhost:8080/",
          "height": 279
        },
        "id": "7WG2iAJwSts0",
        "outputId": "13c3ffa3-92fc-4362-9060-3b37e0ded258"
      },
      "source": [
        "X = np.random.normal(0, 1, 100)\n",
        "X2 = np.random.normal(0, 1, 100)\n",
        "\n",
        "plt.plot(X);\n",
        "plt.plot(X2);\n",
        "plt.xlabel('Time') # The data we generated is unitless, but don't forget units in general.\n",
        "plt.ylabel('Returns')\n",
        "plt.legend(['X', 'X2']);"
      ],
      "execution_count": null,
      "outputs": [
        {
          "output_type": "display_data",
          "data": {
            "image/png": "[encoded data removed]",
            "text/plain": [
              "<Figure size 432x288 with 1 Axes>"
            ]
          },
          "metadata": {
            "tags": [],
            "needs_background": "light"
          }
        }
      ]
    },
    {
      "cell_type": "markdown",
      "metadata": {
        "id": "SxbMTfbapw_m"
      },
      "source": [
        "**Mi ejemplo**\r\n",
        "\r\n",
        "Se van a realizar un gráfico con labels, en este caso el parámetro es $$\\mu = \\frac{1}{\\lambda}$$"
      ]
    },
    {
      "cell_type": "code",
      "metadata": {
        "colab": {
          "base_uri": "https://localhost:8080/",
          "height": 279
        },
        "id": "yJaGE62vp82y",
        "outputId": "49daf90b-3a32-46df-cf38-fd22b2643d61"
      },
      "source": [
        "X = np.random.exponential(1.5,100)\r\n",
        "X2 = np.random.exponential(1.5, 100)\r\n",
        "\r\n",
        "plt.plot(X);\r\n",
        "plt.plot(X2);\r\n",
        "plt.xlabel('Time') # The data we generated is unitless, but don't forget units in general.\r\n",
        "plt.ylabel('Returns - exponencial')\r\n",
        "plt.legend(['X', 'X2']);"
      ],
      "execution_count": null,
      "outputs": [
        {
          "output_type": "display_data",
          "data": {
            "image/png": "[encoded data removed]",
            "text/plain": [
              "<Figure size 432x288 with 1 Axes>"
            ]
          },
          "metadata": {
            "tags": [],
            "needs_background": "light"
          }
        }
      ]
    },
    {
      "cell_type": "markdown",
      "metadata": {
        "id": "k7aml6unSts0"
      },
      "source": [
        "##Generating Statistics\n",
        "\n",
        "Let's use `numpy` to take some simple statistics."
      ]
    },
    {
      "cell_type": "code",
      "metadata": {
        "colab": {
          "base_uri": "https://localhost:8080/"
        },
        "id": "PI-H-c7DSts0",
        "outputId": "f0be2f07-4fa0-4f16-d985-50806a3593d4"
      },
      "source": [
        "np.mean(X)"
      ],
      "execution_count": null,
      "outputs": [
        {
          "output_type": "execute_result",
          "data": {
            "text/plain": [
              "1.5082528929662282"
            ]
          },
          "metadata": {
            "tags": []
          },
          "execution_count": 16
        }
      ]
    },
    {
      "cell_type": "code",
      "metadata": {
        "colab": {
          "base_uri": "https://localhost:8080/"
        },
        "id": "-ulpmO9cSts0",
        "outputId": "b2a70a20-317c-4ef6-9d4e-0327ab921af5"
      },
      "source": [
        "np.std(X)"
      ],
      "execution_count": null,
      "outputs": [
        {
          "output_type": "execute_result",
          "data": {
            "text/plain": [
              "0.9012742183911955"
            ]
          },
          "metadata": {
            "tags": []
          },
          "execution_count": 26
        }
      ]
    },
    {
      "cell_type": "markdown",
      "metadata": {
        "id": "e4x0_g0OrwLn"
      },
      "source": [
        "**Mi ejemplo**"
      ]
    },
    {
      "cell_type": "code",
      "metadata": {
        "colab": {
          "base_uri": "https://localhost:8080/"
        },
        "id": "sF6oFGo_rzg8",
        "outputId": "36af17b6-a913-4487-fd7f-1b45e82c901f"
      },
      "source": [
        "np.mean(X2)"
      ],
      "execution_count": null,
      "outputs": [
        {
          "output_type": "execute_result",
          "data": {
            "text/plain": [
              "1.4780704181833881"
            ]
          },
          "metadata": {
            "tags": []
          },
          "execution_count": 17
        }
      ]
    },
    {
      "cell_type": "code",
      "metadata": {
        "colab": {
          "base_uri": "https://localhost:8080/"
        },
        "id": "9GcFwgmGr5_G",
        "outputId": "884ce118-631f-4514-d9f7-499611a3b612"
      },
      "source": [
        "np.std(X2)"
      ],
      "execution_count": null,
      "outputs": [
        {
          "output_type": "execute_result",
          "data": {
            "text/plain": [
              "1.3405452537098257"
            ]
          },
          "metadata": {
            "tags": []
          },
          "execution_count": 18
        }
      ]
    },
    {
      "cell_type": "markdown",
      "metadata": {
        "id": "mxDvjL6HSts1"
      },
      "source": [
        "##Getting Real Pricing Data\n",
        "\n",
        "Randomly sampled data can be great for testing ideas, but let's get some real data. We can use `get_pricing` to do that. You can use the `?` syntax as discussed above to get more information on `get_pricing`'s arguments."
      ]
    },
    {
      "cell_type": "code",
      "metadata": {
        "colab": {
          "base_uri": "https://localhost:8080/",
          "height": 419
        },
        "id": "x2HXSJylSts1",
        "outputId": "a2bdbab5-cdd4-4855-ddff-5dedc0432f6a"
      },
      "source": [
        "#data = get_pricing('MSFT', start_date='2012-1-1', end_date='2015-6-1')\r\n",
        "import pandas as pd\r\n",
        "data = pd.read_csv(\"MSFT.csv\")\r\n",
        "data"
      ],
      "execution_count": null,
      "outputs": [
        {
          "output_type": "execute_result",
          "data": {
            "text/html": [
              "<div>\n",
              "<style scoped>\n",
              "    .dataframe tbody tr th:only-of-type {\n",
              "        vertical-align: middle;\n",
              "    }\n",
              "\n",
              "    .dataframe tbody tr th {\n",
              "        vertical-align: top;\n",
              "    }\n",
              "\n",
              "    .dataframe thead th {\n",
              "        text-align: right;\n",
              "    }\n",
              "</style>\n",
              "<table border=\"1\" class=\"dataframe\">\n",
              "  <thead>\n",
              "    <tr style=\"text-align: right;\">\n",
              "      <th></th>\n",
              "      <th>Date</th>\n",
              "      <th>Open</th>\n",
              "      <th>High</th>\n",
              "      <th>Low</th>\n",
              "      <th>Close</th>\n",
              "      <th>Adj Close</th>\n",
              "      <th>Volume</th>\n",
              "    </tr>\n",
              "  </thead>\n",
              "  <tbody>\n",
              "    <tr>\n",
              "      <th>0</th>\n",
              "      <td>2012-01-03</td>\n",
              "      <td>26.549999</td>\n",
              "      <td>26.959999</td>\n",
              "      <td>26.389999</td>\n",
              "      <td>26.770000</td>\n",
              "      <td>21.799267</td>\n",
              "      <td>64731500</td>\n",
              "    </tr>\n",
              "    <tr>\n",
              "      <th>1</th>\n",
              "      <td>2012-01-04</td>\n",
              "      <td>26.820000</td>\n",
              "      <td>27.469999</td>\n",
              "      <td>26.780001</td>\n",
              "      <td>27.400000</td>\n",
              "      <td>22.312283</td>\n",
              "      <td>80516100</td>\n",
              "    </tr>\n",
              "    <tr>\n",
              "      <th>2</th>\n",
              "      <td>2012-01-05</td>\n",
              "      <td>27.379999</td>\n",
              "      <td>27.730000</td>\n",
              "      <td>27.290001</td>\n",
              "      <td>27.680000</td>\n",
              "      <td>22.540291</td>\n",
              "      <td>56081400</td>\n",
              "    </tr>\n",
              "    <tr>\n",
              "      <th>3</th>\n",
              "      <td>2012-01-06</td>\n",
              "      <td>27.530001</td>\n",
              "      <td>28.190001</td>\n",
              "      <td>27.530001</td>\n",
              "      <td>28.110001</td>\n",
              "      <td>22.890448</td>\n",
              "      <td>99455500</td>\n",
              "    </tr>\n",
              "    <tr>\n",
              "      <th>4</th>\n",
              "      <td>2012-01-09</td>\n",
              "      <td>28.049999</td>\n",
              "      <td>28.100000</td>\n",
              "      <td>27.719999</td>\n",
              "      <td>27.740000</td>\n",
              "      <td>22.589146</td>\n",
              "      <td>59706800</td>\n",
              "    </tr>\n",
              "    <tr>\n",
              "      <th>...</th>\n",
              "      <td>...</td>\n",
              "      <td>...</td>\n",
              "      <td>...</td>\n",
              "      <td>...</td>\n",
              "      <td>...</td>\n",
              "      <td>...</td>\n",
              "      <td>...</td>\n",
              "    </tr>\n",
              "    <tr>\n",
              "      <th>851</th>\n",
              "      <td>2015-05-22</td>\n",
              "      <td>47.299999</td>\n",
              "      <td>47.349998</td>\n",
              "      <td>46.820000</td>\n",
              "      <td>46.900002</td>\n",
              "      <td>42.135651</td>\n",
              "      <td>25720600</td>\n",
              "    </tr>\n",
              "    <tr>\n",
              "      <th>852</th>\n",
              "      <td>2015-05-26</td>\n",
              "      <td>46.830002</td>\n",
              "      <td>46.880001</td>\n",
              "      <td>46.189999</td>\n",
              "      <td>46.590000</td>\n",
              "      <td>41.857151</td>\n",
              "      <td>29581900</td>\n",
              "    </tr>\n",
              "    <tr>\n",
              "      <th>853</th>\n",
              "      <td>2015-05-27</td>\n",
              "      <td>46.820000</td>\n",
              "      <td>47.770000</td>\n",
              "      <td>46.619999</td>\n",
              "      <td>47.610001</td>\n",
              "      <td>42.773540</td>\n",
              "      <td>27335600</td>\n",
              "    </tr>\n",
              "    <tr>\n",
              "      <th>854</th>\n",
              "      <td>2015-05-28</td>\n",
              "      <td>47.500000</td>\n",
              "      <td>48.020000</td>\n",
              "      <td>47.389999</td>\n",
              "      <td>47.450001</td>\n",
              "      <td>42.629795</td>\n",
              "      <td>19283700</td>\n",
              "    </tr>\n",
              "    <tr>\n",
              "      <th>855</th>\n",
              "      <td>2015-05-29</td>\n",
              "      <td>47.430000</td>\n",
              "      <td>47.570000</td>\n",
              "      <td>46.590000</td>\n",
              "      <td>46.860001</td>\n",
              "      <td>42.099728</td>\n",
              "      <td>36519600</td>\n",
              "    </tr>\n",
              "  </tbody>\n",
              "</table>\n",
              "<p>856 rows × 7 columns</p>\n",
              "</div>"
            ],
            "text/plain": [
              "           Date       Open       High  ...      Close  Adj Close    Volume\n",
              "0    2012-01-03  26.549999  26.959999  ...  26.770000  21.799267  64731500\n",
              "1    2012-01-04  26.820000  27.469999  ...  27.400000  22.312283  80516100\n",
              "2    2012-01-05  27.379999  27.730000  ...  27.680000  22.540291  56081400\n",
              "3    2012-01-06  27.530001  28.190001  ...  28.110001  22.890448  99455500\n",
              "4    2012-01-09  28.049999  28.100000  ...  27.740000  22.589146  59706800\n",
              "..          ...        ...        ...  ...        ...        ...       ...\n",
              "851  2015-05-22  47.299999  47.349998  ...  46.900002  42.135651  25720600\n",
              "852  2015-05-26  46.830002  46.880001  ...  46.590000  41.857151  29581900\n",
              "853  2015-05-27  46.820000  47.770000  ...  47.610001  42.773540  27335600\n",
              "854  2015-05-28  47.500000  48.020000  ...  47.450001  42.629795  19283700\n",
              "855  2015-05-29  47.430000  47.570000  ...  46.860001  42.099728  36519600\n",
              "\n",
              "[856 rows x 7 columns]"
            ]
          },
          "metadata": {
            "tags": []
          },
          "execution_count": 21
        }
      ]
    },
    {
      "cell_type": "markdown",
      "metadata": {
        "id": "BEhW-dh3td-o"
      },
      "source": [
        "**Mi ejemplo**\r\n",
        "\r\n",
        "Para mi ejemplo voy a importar los datos de TESLA desde 2017/01/01 hasta 2021/01/01"
      ]
    },
    {
      "cell_type": "code",
      "metadata": {
        "colab": {
          "base_uri": "https://localhost:8080/",
          "height": 419
        },
        "id": "avzvG2YStqi_",
        "outputId": "83cfd339-8f73-4e55-9a1c-d9b9222266a3"
      },
      "source": [
        "#data = get_pricing('TSLA', start_date='2017-1-1', end_date='2021-1-1')\r\n",
        "import pandas as pd\r\n",
        "dataTesla = pd.read_csv(\"TSLA.csv\")\r\n",
        "dataTesla"
      ],
      "execution_count": null,
      "outputs": [
        {
          "output_type": "execute_result",
          "data": {
            "text/html": [
              "<div>\n",
              "<style scoped>\n",
              "    .dataframe tbody tr th:only-of-type {\n",
              "        vertical-align: middle;\n",
              "    }\n",
              "\n",
              "    .dataframe tbody tr th {\n",
              "        vertical-align: top;\n",
              "    }\n",
              "\n",
              "    .dataframe thead th {\n",
              "        text-align: right;\n",
              "    }\n",
              "</style>\n",
              "<table border=\"1\" class=\"dataframe\">\n",
              "  <thead>\n",
              "    <tr style=\"text-align: right;\">\n",
              "      <th></th>\n",
              "      <th>Date</th>\n",
              "      <th>Open</th>\n",
              "      <th>High</th>\n",
              "      <th>Low</th>\n",
              "      <th>Close</th>\n",
              "      <th>Adj Close</th>\n",
              "      <th>Volume</th>\n",
              "    </tr>\n",
              "  </thead>\n",
              "  <tbody>\n",
              "    <tr>\n",
              "      <th>0</th>\n",
              "      <td>2017-01-03</td>\n",
              "      <td>42.972000</td>\n",
              "      <td>44.066002</td>\n",
              "      <td>42.192001</td>\n",
              "      <td>43.397999</td>\n",
              "      <td>43.397999</td>\n",
              "      <td>29616500</td>\n",
              "    </tr>\n",
              "    <tr>\n",
              "      <th>1</th>\n",
              "      <td>2017-01-04</td>\n",
              "      <td>42.950001</td>\n",
              "      <td>45.599998</td>\n",
              "      <td>42.862000</td>\n",
              "      <td>45.397999</td>\n",
              "      <td>45.397999</td>\n",
              "      <td>56067500</td>\n",
              "    </tr>\n",
              "    <tr>\n",
              "      <th>2</th>\n",
              "      <td>2017-01-05</td>\n",
              "      <td>45.284000</td>\n",
              "      <td>45.495998</td>\n",
              "      <td>44.389999</td>\n",
              "      <td>45.349998</td>\n",
              "      <td>45.349998</td>\n",
              "      <td>29558500</td>\n",
              "    </tr>\n",
              "    <tr>\n",
              "      <th>3</th>\n",
              "      <td>2017-01-06</td>\n",
              "      <td>45.386002</td>\n",
              "      <td>46.062000</td>\n",
              "      <td>45.090000</td>\n",
              "      <td>45.801998</td>\n",
              "      <td>45.801998</td>\n",
              "      <td>27639500</td>\n",
              "    </tr>\n",
              "    <tr>\n",
              "      <th>4</th>\n",
              "      <td>2017-01-09</td>\n",
              "      <td>45.793999</td>\n",
              "      <td>46.383999</td>\n",
              "      <td>45.599998</td>\n",
              "      <td>46.256001</td>\n",
              "      <td>46.256001</td>\n",
              "      <td>19897500</td>\n",
              "    </tr>\n",
              "    <tr>\n",
              "      <th>...</th>\n",
              "      <td>...</td>\n",
              "      <td>...</td>\n",
              "      <td>...</td>\n",
              "      <td>...</td>\n",
              "      <td>...</td>\n",
              "      <td>...</td>\n",
              "      <td>...</td>\n",
              "    </tr>\n",
              "    <tr>\n",
              "      <th>1002</th>\n",
              "      <td>2020-12-24</td>\n",
              "      <td>642.989990</td>\n",
              "      <td>666.090027</td>\n",
              "      <td>641.000000</td>\n",
              "      <td>661.770020</td>\n",
              "      <td>661.770020</td>\n",
              "      <td>22865600</td>\n",
              "    </tr>\n",
              "    <tr>\n",
              "      <th>1003</th>\n",
              "      <td>2020-12-28</td>\n",
              "      <td>674.510010</td>\n",
              "      <td>681.400024</td>\n",
              "      <td>660.799988</td>\n",
              "      <td>663.690002</td>\n",
              "      <td>663.690002</td>\n",
              "      <td>32278600</td>\n",
              "    </tr>\n",
              "    <tr>\n",
              "      <th>1004</th>\n",
              "      <td>2020-12-29</td>\n",
              "      <td>661.000000</td>\n",
              "      <td>669.900024</td>\n",
              "      <td>655.000000</td>\n",
              "      <td>665.989990</td>\n",
              "      <td>665.989990</td>\n",
              "      <td>22910800</td>\n",
              "    </tr>\n",
              "    <tr>\n",
              "      <th>1005</th>\n",
              "      <td>2020-12-30</td>\n",
              "      <td>672.000000</td>\n",
              "      <td>696.599976</td>\n",
              "      <td>668.359985</td>\n",
              "      <td>694.780029</td>\n",
              "      <td>694.780029</td>\n",
              "      <td>42846000</td>\n",
              "    </tr>\n",
              "    <tr>\n",
              "      <th>1006</th>\n",
              "      <td>2020-12-31</td>\n",
              "      <td>699.989990</td>\n",
              "      <td>718.719971</td>\n",
              "      <td>691.119995</td>\n",
              "      <td>705.669983</td>\n",
              "      <td>705.669983</td>\n",
              "      <td>49649900</td>\n",
              "    </tr>\n",
              "  </tbody>\n",
              "</table>\n",
              "<p>1007 rows × 7 columns</p>\n",
              "</div>"
            ],
            "text/plain": [
              "            Date        Open        High  ...       Close   Adj Close    Volume\n",
              "0     2017-01-03   42.972000   44.066002  ...   43.397999   43.397999  29616500\n",
              "1     2017-01-04   42.950001   45.599998  ...   45.397999   45.397999  56067500\n",
              "2     2017-01-05   45.284000   45.495998  ...   45.349998   45.349998  29558500\n",
              "3     2017-01-06   45.386002   46.062000  ...   45.801998   45.801998  27639500\n",
              "4     2017-01-09   45.793999   46.383999  ...   46.256001   46.256001  19897500\n",
              "...          ...         ...         ...  ...         ...         ...       ...\n",
              "1002  2020-12-24  642.989990  666.090027  ...  661.770020  661.770020  22865600\n",
              "1003  2020-12-28  674.510010  681.400024  ...  663.690002  663.690002  32278600\n",
              "1004  2020-12-29  661.000000  669.900024  ...  665.989990  665.989990  22910800\n",
              "1005  2020-12-30  672.000000  696.599976  ...  694.780029  694.780029  42846000\n",
              "1006  2020-12-31  699.989990  718.719971  ...  705.669983  705.669983  49649900\n",
              "\n",
              "[1007 rows x 7 columns]"
            ]
          },
          "metadata": {
            "tags": []
          },
          "execution_count": 24
        }
      ]
    },
    {
      "cell_type": "markdown",
      "metadata": {
        "id": "InMsmsaFSts1"
      },
      "source": [
        "Our data is now a dataframe. You can see the datetime index and the colums with different pricing data."
      ]
    },
    {
      "cell_type": "code",
      "metadata": {
        "colab": {
          "base_uri": "https://localhost:8080/",
          "height": 419
        },
        "id": "OI2zywSESts1",
        "outputId": "b2f15728-a2b3-42ca-d69f-4977b627d28a"
      },
      "source": [
        "data"
      ],
      "execution_count": null,
      "outputs": [
        {
          "output_type": "execute_result",
          "data": {
            "text/html": [
              "<div>\n",
              "<style scoped>\n",
              "    .dataframe tbody tr th:only-of-type {\n",
              "        vertical-align: middle;\n",
              "    }\n",
              "\n",
              "    .dataframe tbody tr th {\n",
              "        vertical-align: top;\n",
              "    }\n",
              "\n",
              "    .dataframe thead th {\n",
              "        text-align: right;\n",
              "    }\n",
              "</style>\n",
              "<table border=\"1\" class=\"dataframe\">\n",
              "  <thead>\n",
              "    <tr style=\"text-align: right;\">\n",
              "      <th></th>\n",
              "      <th>Date</th>\n",
              "      <th>Open</th>\n",
              "      <th>High</th>\n",
              "      <th>Low</th>\n",
              "      <th>Close</th>\n",
              "      <th>Adj Close</th>\n",
              "      <th>Volume</th>\n",
              "    </tr>\n",
              "  </thead>\n",
              "  <tbody>\n",
              "    <tr>\n",
              "      <th>0</th>\n",
              "      <td>2012-01-03</td>\n",
              "      <td>26.549999</td>\n",
              "      <td>26.959999</td>\n",
              "      <td>26.389999</td>\n",
              "      <td>26.770000</td>\n",
              "      <td>21.799267</td>\n",
              "      <td>64731500</td>\n",
              "    </tr>\n",
              "    <tr>\n",
              "      <th>1</th>\n",
              "      <td>2012-01-04</td>\n",
              "      <td>26.820000</td>\n",
              "      <td>27.469999</td>\n",
              "      <td>26.780001</td>\n",
              "      <td>27.400000</td>\n",
              "      <td>22.312283</td>\n",
              "      <td>80516100</td>\n",
              "    </tr>\n",
              "    <tr>\n",
              "      <th>2</th>\n",
              "      <td>2012-01-05</td>\n",
              "      <td>27.379999</td>\n",
              "      <td>27.730000</td>\n",
              "      <td>27.290001</td>\n",
              "      <td>27.680000</td>\n",
              "      <td>22.540291</td>\n",
              "      <td>56081400</td>\n",
              "    </tr>\n",
              "    <tr>\n",
              "      <th>3</th>\n",
              "      <td>2012-01-06</td>\n",
              "      <td>27.530001</td>\n",
              "      <td>28.190001</td>\n",
              "      <td>27.530001</td>\n",
              "      <td>28.110001</td>\n",
              "      <td>22.890448</td>\n",
              "      <td>99455500</td>\n",
              "    </tr>\n",
              "    <tr>\n",
              "      <th>4</th>\n",
              "      <td>2012-01-09</td>\n",
              "      <td>28.049999</td>\n",
              "      <td>28.100000</td>\n",
              "      <td>27.719999</td>\n",
              "      <td>27.740000</td>\n",
              "      <td>22.589146</td>\n",
              "      <td>59706800</td>\n",
              "    </tr>\n",
              "    <tr>\n",
              "      <th>...</th>\n",
              "      <td>...</td>\n",
              "      <td>...</td>\n",
              "      <td>...</td>\n",
              "      <td>...</td>\n",
              "      <td>...</td>\n",
              "      <td>...</td>\n",
              "      <td>...</td>\n",
              "    </tr>\n",
              "    <tr>\n",
              "      <th>851</th>\n",
              "      <td>2015-05-22</td>\n",
              "      <td>47.299999</td>\n",
              "      <td>47.349998</td>\n",
              "      <td>46.820000</td>\n",
              "      <td>46.900002</td>\n",
              "      <td>42.135651</td>\n",
              "      <td>25720600</td>\n",
              "    </tr>\n",
              "    <tr>\n",
              "      <th>852</th>\n",
              "      <td>2015-05-26</td>\n",
              "      <td>46.830002</td>\n",
              "      <td>46.880001</td>\n",
              "      <td>46.189999</td>\n",
              "      <td>46.590000</td>\n",
              "      <td>41.857151</td>\n",
              "      <td>29581900</td>\n",
              "    </tr>\n",
              "    <tr>\n",
              "      <th>853</th>\n",
              "      <td>2015-05-27</td>\n",
              "      <td>46.820000</td>\n",
              "      <td>47.770000</td>\n",
              "      <td>46.619999</td>\n",
              "      <td>47.610001</td>\n",
              "      <td>42.773540</td>\n",
              "      <td>27335600</td>\n",
              "    </tr>\n",
              "    <tr>\n",
              "      <th>854</th>\n",
              "      <td>2015-05-28</td>\n",
              "      <td>47.500000</td>\n",
              "      <td>48.020000</td>\n",
              "      <td>47.389999</td>\n",
              "      <td>47.450001</td>\n",
              "      <td>42.629795</td>\n",
              "      <td>19283700</td>\n",
              "    </tr>\n",
              "    <tr>\n",
              "      <th>855</th>\n",
              "      <td>2015-05-29</td>\n",
              "      <td>47.430000</td>\n",
              "      <td>47.570000</td>\n",
              "      <td>46.590000</td>\n",
              "      <td>46.860001</td>\n",
              "      <td>42.099728</td>\n",
              "      <td>36519600</td>\n",
              "    </tr>\n",
              "  </tbody>\n",
              "</table>\n",
              "<p>856 rows × 7 columns</p>\n",
              "</div>"
            ],
            "text/plain": [
              "           Date       Open       High  ...      Close  Adj Close    Volume\n",
              "0    2012-01-03  26.549999  26.959999  ...  26.770000  21.799267  64731500\n",
              "1    2012-01-04  26.820000  27.469999  ...  27.400000  22.312283  80516100\n",
              "2    2012-01-05  27.379999  27.730000  ...  27.680000  22.540291  56081400\n",
              "3    2012-01-06  27.530001  28.190001  ...  28.110001  22.890448  99455500\n",
              "4    2012-01-09  28.049999  28.100000  ...  27.740000  22.589146  59706800\n",
              "..          ...        ...        ...  ...        ...        ...       ...\n",
              "851  2015-05-22  47.299999  47.349998  ...  46.900002  42.135651  25720600\n",
              "852  2015-05-26  46.830002  46.880001  ...  46.590000  41.857151  29581900\n",
              "853  2015-05-27  46.820000  47.770000  ...  47.610001  42.773540  27335600\n",
              "854  2015-05-28  47.500000  48.020000  ...  47.450001  42.629795  19283700\n",
              "855  2015-05-29  47.430000  47.570000  ...  46.860001  42.099728  36519600\n",
              "\n",
              "[856 rows x 7 columns]"
            ]
          },
          "metadata": {
            "tags": []
          },
          "execution_count": 40
        }
      ]
    },
    {
      "cell_type": "markdown",
      "metadata": {
        "id": "jfZiGlFbSts1"
      },
      "source": [
        "This is a pandas dataframe, so we can index in to just get price like this. For more info on pandas, please [click here](http://pandas.pydata.org/pandas-docs/stable/10min.html)."
      ]
    },
    {
      "cell_type": "code",
      "metadata": {
        "id": "yiDiHEylSts1"
      },
      "source": [
        "X = data['Close']"
      ],
      "execution_count": null,
      "outputs": []
    },
    {
      "cell_type": "markdown",
      "metadata": {
        "id": "6hmfbf7EulO-"
      },
      "source": [
        "**Mi ejemplo**\r\n",
        "\r\n",
        "Se almacenaran los datos de Close de Tesla en X2"
      ]
    },
    {
      "cell_type": "code",
      "metadata": {
        "id": "5huuxmiqupnK"
      },
      "source": [
        "X2 = dataTesla['Close']"
      ],
      "execution_count": null,
      "outputs": []
    },
    {
      "cell_type": "markdown",
      "metadata": {
        "id": "uoQ4ozFzSts1"
      },
      "source": [
        "Because there is now also date information in our data, we provide two series to `.plot`. `X.index` gives us the datetime index, and `X.values` gives us the pricing values. These are used as the X and Y coordinates to make a graph."
      ]
    },
    {
      "cell_type": "code",
      "metadata": {
        "colab": {
          "base_uri": "https://localhost:8080/",
          "height": 265
        },
        "id": "H5FN2rkbSts2",
        "outputId": "f2526b2d-ee40-4300-a19a-e263043560a1"
      },
      "source": [
        "plt.plot(X.index, X.values)\n",
        "plt.ylabel('Price')\n",
        "plt.legend(['MSFT']);"
      ],
      "execution_count": null,
      "outputs": [
        {
          "output_type": "display_data",
          "data": {
            "image/png": "[encoded data removed]",
            "text/plain": [
              "<Figure size 432x288 with 1 Axes>"
            ]
          },
          "metadata": {
            "tags": [],
            "needs_background": "light"
          }
        }
      ]
    },
    {
      "cell_type": "markdown",
      "metadata": {
        "id": "n95MUGvQvlbH"
      },
      "source": [
        "**Mi ejemplo**\r\n",
        "\r\n",
        "El gráfico de los \"close\" de Tesla son:"
      ]
    },
    {
      "cell_type": "code",
      "metadata": {
        "colab": {
          "base_uri": "https://localhost:8080/",
          "height": 265
        },
        "id": "AOKLDj9tvu9O",
        "outputId": "71f56c6e-895c-4985-ab3b-824d1e5649ab"
      },
      "source": [
        "plt.plot(X2.index, X2.values,color='green')\r\n",
        "plt.ylabel('Price')\r\n",
        "plt.legend(['TSLA']);"
      ],
      "execution_count": null,
      "outputs": [
        {
          "output_type": "display_data",
          "data": {
            "image/png": "[encoded data removed]",
            "text/plain": [
              "<Figure size 432x288 with 1 Axes>"
            ]
          },
          "metadata": {
            "tags": [],
            "needs_background": "light"
          }
        }
      ]
    },
    {
      "cell_type": "markdown",
      "metadata": {
        "id": "OLUmt_dZSts2"
      },
      "source": [
        "We can get statistics again on real data."
      ]
    },
    {
      "cell_type": "code",
      "metadata": {
        "colab": {
          "base_uri": "https://localhost:8080/"
        },
        "id": "StW42kTISts2",
        "outputId": "32c52b59-e43c-4be7-facd-9836f715e8dd"
      },
      "source": [
        "np.mean(X)"
      ],
      "execution_count": null,
      "outputs": [
        {
          "output_type": "execute_result",
          "data": {
            "text/plain": [
              "405.1273110396825"
            ]
          },
          "metadata": {
            "tags": []
          },
          "execution_count": 36
        }
      ]
    },
    {
      "cell_type": "code",
      "metadata": {
        "colab": {
          "base_uri": "https://localhost:8080/"
        },
        "id": "ddoovumtSts2",
        "outputId": "158e38f0-92c6-4bb1-dcdc-590618f55feb"
      },
      "source": [
        "np.std(X)"
      ],
      "execution_count": null,
      "outputs": [
        {
          "output_type": "execute_result",
          "data": {
            "text/plain": [
              "235.16261464969685"
            ]
          },
          "metadata": {
            "tags": []
          },
          "execution_count": 37
        }
      ]
    },
    {
      "cell_type": "markdown",
      "metadata": {
        "id": "EMBmJINxwBrW"
      },
      "source": [
        "** Mi ejemplo **\r\n",
        "\r\n",
        "Para Tesla las estadísticas son:\r\n"
      ]
    },
    {
      "cell_type": "code",
      "metadata": {
        "colab": {
          "base_uri": "https://localhost:8080/"
        },
        "id": "gR0JigddwGEM",
        "outputId": "a2a35e97-1807-4e0a-fce3-809c02ac9ddf"
      },
      "source": [
        "np.mean(X2)"
      ],
      "execution_count": null,
      "outputs": [
        {
          "output_type": "execute_result",
          "data": {
            "text/plain": [
              "118.03655999602788"
            ]
          },
          "metadata": {
            "tags": []
          },
          "execution_count": 43
        }
      ]
    },
    {
      "cell_type": "code",
      "metadata": {
        "colab": {
          "base_uri": "https://localhost:8080/"
        },
        "id": "OOph0fdSwH7W",
        "outputId": "c6a86640-f2d9-4082-ced4-9bd92c5c843c"
      },
      "source": [
        "np.std(X2)"
      ],
      "execution_count": null,
      "outputs": [
        {
          "output_type": "execute_result",
          "data": {
            "text/plain": [
              "130.8969669149998"
            ]
          },
          "metadata": {
            "tags": []
          },
          "execution_count": 44
        }
      ]
    },
    {
      "cell_type": "markdown",
      "metadata": {
        "id": "mBb5QdWkSts2"
      },
      "source": [
        "##Getting Returns from Prices\n",
        "\n",
        "We can use the `pct_change` function to get returns. Notice how we drop the first element after doing this, as it will be `NaN` (nothing -> something results in a NaN percent change)."
      ]
    },
    {
      "cell_type": "code",
      "metadata": {
        "id": "m438UrfqSts2"
      },
      "source": [
        "R = X.pct_change()[1:]"
      ],
      "execution_count": null,
      "outputs": []
    },
    {
      "cell_type": "markdown",
      "metadata": {
        "id": "7G1qBgkowmYm"
      },
      "source": [
        "**Mi ejemplo**\r\n",
        "\r\n",
        "Se va a utilizar la función pct_change() con los datos de Tesla, iniciando desde el número 1:\r\n"
      ]
    },
    {
      "cell_type": "code",
      "metadata": {
        "id": "F41gTn17w13H"
      },
      "source": [
        "R2 = X2.pct_change()[1:]"
      ],
      "execution_count": null,
      "outputs": []
    },
    {
      "cell_type": "markdown",
      "metadata": {
        "id": "tfqN6uf-Sts2"
      },
      "source": [
        "We can plot the returns distribution as a histogram."
      ]
    },
    {
      "cell_type": "code",
      "metadata": {
        "colab": {
          "base_uri": "https://localhost:8080/",
          "height": 279
        },
        "id": "YizLDY0pSts3",
        "outputId": "6a993a21-4c03-449d-c0a5-857ee82a6784"
      },
      "source": [
        "plt.hist(R, bins=20)\n",
        "plt.xlabel('Return')\n",
        "plt.ylabel('Frequency')\n",
        "plt.legend(['MSFT Returns']);"
      ],
      "execution_count": null,
      "outputs": [
        {
          "output_type": "display_data",
          "data": {
            "image/png": "[encoded data removed]",
            "text/plain": [
              "<Figure size 432x288 with 1 Axes>"
            ]
          },
          "metadata": {
            "tags": [],
            "needs_background": "light"
          }
        }
      ]
    },
    {
      "cell_type": "markdown",
      "metadata": {
        "id": "ZHlsCkLyxMVv"
      },
      "source": [
        "**Mi ejemplo**\r\n",
        "\r\n",
        "En este caso se realiza un histograma pero con un bins = 40"
      ]
    },
    {
      "cell_type": "code",
      "metadata": {
        "colab": {
          "base_uri": "https://localhost:8080/",
          "height": 279
        },
        "id": "3RhMCkh3xTAW",
        "outputId": "bfc808fb-1dc2-460e-eaae-dd8f5eb60730"
      },
      "source": [
        "plt.hist(R2, bins=40, color = \"green\")\r\n",
        "plt.xlabel('Return')\r\n",
        "plt.ylabel('Frequency')\r\n",
        "plt.legend(['TSLA Returns']);"
      ],
      "execution_count": null,
      "outputs": [
        {
          "output_type": "display_data",
          "data": {
            "image/png": "[encoded data removed]",
            "text/plain": [
              "<Figure size 432x288 with 1 Axes>"
            ]
          },
          "metadata": {
            "tags": [],
            "needs_background": "light"
          }
        }
      ]
    },
    {
      "cell_type": "markdown",
      "metadata": {
        "id": "geFFCmrMSts3"
      },
      "source": [
        "Get statistics again."
      ]
    },
    {
      "cell_type": "code",
      "metadata": {
        "colab": {
          "base_uri": "https://localhost:8080/"
        },
        "id": "CIv_937mSts3",
        "outputId": "7c21f8c3-efd6-471b-904e-7ca9a29c297d"
      },
      "source": [
        "np.mean(R)"
      ],
      "execution_count": null,
      "outputs": [
        {
          "output_type": "execute_result",
          "data": {
            "text/plain": [
              "0.0076845383062331"
            ]
          },
          "metadata": {
            "tags": []
          },
          "execution_count": 40
        }
      ]
    },
    {
      "cell_type": "code",
      "metadata": {
        "colab": {
          "base_uri": "https://localhost:8080/"
        },
        "id": "PMiIjnjFSts3",
        "outputId": "0b13ee4d-f9a8-4e43-ec3f-e1bd17b38822"
      },
      "source": [
        "np.std(R)"
      ],
      "execution_count": null,
      "outputs": [
        {
          "output_type": "execute_result",
          "data": {
            "text/plain": [
              "0.05209170370308763"
            ]
          },
          "metadata": {
            "tags": []
          },
          "execution_count": 41
        }
      ]
    },
    {
      "cell_type": "markdown",
      "metadata": {
        "id": "28KTwbj3ximf"
      },
      "source": [
        "**Mi ejemplo**\r\n",
        "\r\n",
        "Se obtendran las estadísticas de R2 "
      ]
    },
    {
      "cell_type": "code",
      "metadata": {
        "colab": {
          "base_uri": "https://localhost:8080/"
        },
        "id": "HPlwKFVwxtjK",
        "outputId": "34c713e5-a43c-4998-97c9-2d70bbef6256"
      },
      "source": [
        "np.mean(R2)"
      ],
      "execution_count": null,
      "outputs": [
        {
          "output_type": "execute_result",
          "data": {
            "text/plain": [
              "0.0035283071943686996"
            ]
          },
          "metadata": {
            "tags": []
          },
          "execution_count": 48
        }
      ]
    },
    {
      "cell_type": "code",
      "metadata": {
        "colab": {
          "base_uri": "https://localhost:8080/"
        },
        "id": "SfZeB5K_xxqX",
        "outputId": "92795e1f-89a7-4117-8315-347b1174d0d0"
      },
      "source": [
        "np.std(R2)"
      ],
      "execution_count": null,
      "outputs": [
        {
          "output_type": "execute_result",
          "data": {
            "text/plain": [
              "0.03884802020783977"
            ]
          },
          "metadata": {
            "tags": []
          },
          "execution_count": 49
        }
      ]
    },
    {
      "cell_type": "markdown",
      "metadata": {
        "id": "T4g8KljhSts4"
      },
      "source": [
        "Now let's go backwards and generate data out of a normal distribution using the statistics we estimated from Microsoft's returns. We'll see that we have good reason to suspect Microsoft's returns may not be normal, as the resulting normal distribution looks far different."
      ]
    },
    {
      "cell_type": "code",
      "metadata": {
        "colab": {
          "base_uri": "https://localhost:8080/",
          "height": 279
        },
        "id": "_Nbghwb4Sts4",
        "outputId": "beb91e0e-461d-4da9-d6d6-05de5b9715e3"
      },
      "source": [
        "plt.hist(np.random.normal(np.mean(R), np.std(R), 10000), bins=20)\n",
        "plt.xlabel('Return')\n",
        "plt.ylabel('Frequency')\n",
        "plt.legend(['Normally Distributed Returns']);"
      ],
      "execution_count": null,
      "outputs": [
        {
          "output_type": "display_data",
          "data": {
            "image/png": "[encoded data removed]",
            "text/plain": [
              "<Figure size 432x288 with 1 Axes>"
            ]
          },
          "metadata": {
            "tags": [],
            "needs_background": "light"
          }
        }
      ]
    },
    {
      "cell_type": "markdown",
      "metadata": {
        "id": "BMknItR7x-GF"
      },
      "source": [
        "**Mi ejemplo**\r\n",
        "\r\n",
        "Se va a generar datos de las distribución normal usando los datos de Tesla.\r\n"
      ]
    },
    {
      "cell_type": "code",
      "metadata": {
        "colab": {
          "base_uri": "https://localhost:8080/",
          "height": 279
        },
        "id": "byYnBilSywYv",
        "outputId": "27273477-24e1-4eb4-809e-447d772d67ba"
      },
      "source": [
        "plt.hist(np.random.normal(np.mean(R2), np.std(R2), 10000), bins=40, color=\"green\")\r\n",
        "plt.xlabel('Return')\r\n",
        "plt.ylabel('Frequency')\r\n",
        "plt.legend(['Normally Distributed Returns']);"
      ],
      "execution_count": null,
      "outputs": [
        {
          "output_type": "display_data",
          "data": {
            "image/png": "[encoded data removed]",
            "text/plain": [
              "<Figure size 432x288 with 1 Axes>"
            ]
          },
          "metadata": {
            "tags": [],
            "needs_background": "light"
          }
        }
      ]
    },
    {
      "cell_type": "markdown",
      "metadata": {
        "id": "PUgi8gDISts4"
      },
      "source": [
        "##Generating a Moving Average\n",
        "\n",
        "`pandas` has some nice tools to allow us to generate rolling statistics. Here's an example. Notice how there's no moving average for the first 60 days, as we don't have 60 days of data on which to generate the statistic."
      ]
    },
    {
      "cell_type": "code",
      "metadata": {
        "colab": {
          "base_uri": "https://localhost:8080/",
          "height": 265
        },
        "id": "SCv6vsV5Sts4",
        "outputId": "95250750-3501-4fa5-b21b-7373dc0e3fac"
      },
      "source": [
        "# Take the average of the last 60 days at each timepoint.\n",
        "MAVG = pd.DataFrame.rolling(X, window=60).mean()\n",
        "#MAVG = pd.rolling_mean(X, window=60) ---  No funciona\n",
        "plt.plot(X.index, X.values)\n",
        "plt.plot(MAVG.index, MAVG.values)\n",
        "plt.ylabel('Price')\n",
        "plt.legend(['MSFT', '60-day MAVG']);\n",
        "\n"
      ],
      "execution_count": null,
      "outputs": [
        {
          "output_type": "display_data",
          "data": {
            "image/png": "[encoded data removed]",
            "text/plain": [
              "<Figure size 432x288 with 1 Axes>"
            ]
          },
          "metadata": {
            "tags": [],
            "needs_background": "light"
          }
        }
      ]
    },
    {
      "cell_type": "markdown",
      "metadata": {
        "id": "SWWOM1a_1Ihw"
      },
      "source": [
        "**Mi ejemplo**\r\n",
        "\r\n",
        "Ahora se calculará el Moving Average de Tesla, es necesario tener en cuenta que pd.rolling_mean(X,window = 60) no funciona, por lo que se utilizó una función buscada en internet\r\n"
      ]
    },
    {
      "cell_type": "code",
      "metadata": {
        "colab": {
          "base_uri": "https://localhost:8080/",
          "height": 265
        },
        "id": "-QsP4U6w1YdR",
        "outputId": "184c1835-1bb9-4845-9d6c-1003cec1dc3c"
      },
      "source": [
        "# Take the average of the last 60 days at each timepoint.\r\n",
        "MAVG2 = pd.DataFrame.rolling(X2, window=60).mean()\r\n",
        "#MAVG = pd.rolling_mean(X, window=60) ---  No funciona\r\n",
        "plt.plot(X2.index, X2.values,color=\"green\")\r\n",
        "plt.plot(MAVG2.index, MAVG2.values)\r\n",
        "plt.ylabel('Price')\r\n",
        "plt.legend(['TSLA', '60-day MAVG']);"
      ],
      "execution_count": null,
      "outputs": [
        {
          "output_type": "display_data",
          "data": {
            "image/png": "[encoded data removed]",
            "text/plain": [
              "<Figure size 432x288 with 1 Axes>"
            ]
          },
          "metadata": {
            "tags": [],
            "needs_background": "light"
          }
        }
      ]
    },
    {
      "cell_type": "markdown",
      "metadata": {
        "id": "tdgRr93vSts4"
      },
      "source": [
        "This presentation is for informational purposes only and does not constitute an offer to sell, a solicitation to buy, or a recommendation for any security; nor does it constitute an offer to provide investment advisory or other services by Quantopian, Inc. (\"Quantopian\"). Nothing contained herein constitutes investment advice or offers any opinion with respect to the suitability of any security, and any views expressed herein should not be taken as advice to buy, sell, or hold any security or as an endorsement of any security or company. In preparing the information contained herein, Quantopian, Inc. has not taken into account the investment needs, objectives, and financial circumstances of any particular investor. Any views expressed and data illustrated herein were prepared based upon information, believed to be reliable, available to Quantopian, Inc. at the time of publication. Quantopian makes no guarantees as to their accuracy or completeness. All information is subject to change and may quickly become unreliable for various reasons, including changes in market conditions or economic circumstances."
      ]
    }
  ]
}