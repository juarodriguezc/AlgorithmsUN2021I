{
  "nbformat": 4,
  "nbformat_minor": 0,
  "metadata": {
    "colab": {
      "name": "juarodriguezcAlgorithmicToolboxWeek1.ipynb",
      "provenance": [],
      "collapsed_sections": []
    },
    "kernelspec": {
      "name": "python3",
      "display_name": "Python 3"
    },
    "language_info": {
      "name": "python"
    }
  },
  "cells": [
    {
      "cell_type": "markdown",
      "metadata": {
        "id": "N1ok_-56OjB1"
      },
      "source": [
        "# **I Solving the Sum of Two Digits Programming Challenge**"
      ]
    },
    {
      "cell_type": "markdown",
      "metadata": {
        "id": "MMY7kmDSO0KM"
      },
      "source": [
        "## C++"
      ]
    },
    {
      "cell_type": "code",
      "metadata": {
        "colab": {
          "base_uri": "https://localhost:8080/"
        },
        "id": "2pGGf9BkPNIk",
        "outputId": "2ba0ad0f-3600-4963-fbf7-ecdd6062525b"
      },
      "source": [
        "%%writefile AplusB.cpp\n",
        "#include <iostream>\n",
        "\n",
        "int sum_of_two_digits(int first_digit, int second_digit) {\n",
        "    return first_digit + second_digit;\n",
        "}\n",
        "\n",
        "int main() {\n",
        "    int a = 0;\n",
        "    int b = 0;\n",
        "    std::cin >> a;\n",
        "    std::cin >> b;\n",
        "    std::cout << sum_of_two_digits(a, b);\n",
        "    return 0;\n",
        "}"
      ],
      "execution_count": 69,
      "outputs": [
        {
          "output_type": "stream",
          "text": [
            "Writing AplusB.cpp\n"
          ],
          "name": "stdout"
        }
      ]
    },
    {
      "cell_type": "code",
      "metadata": {
        "colab": {
          "base_uri": "https://localhost:8080/"
        },
        "id": "0G3ZKOYAPXSU",
        "outputId": "73784c15-0736-402e-f9d3-d38f04e822f9"
      },
      "source": [
        "!g++ AplusB.cpp -o AplusB\n",
        "!./AplusB"
      ],
      "execution_count": 70,
      "outputs": [
        {
          "output_type": "stream",
          "text": [
            "4 11\n",
            "15"
          ],
          "name": "stdout"
        }
      ]
    },
    {
      "cell_type": "markdown",
      "metadata": {
        "id": "iNkG2HqfTl9c"
      },
      "source": [
        "### Test input output files"
      ]
    },
    {
      "cell_type": "code",
      "metadata": {
        "colab": {
          "base_uri": "https://localhost:8080/"
        },
        "id": "aTzU2efzMxly",
        "outputId": "dabcc74e-9dbf-4e8e-95b2-00cfcbf7a021"
      },
      "source": [
        "%%writefile input1.txt\n",
        "4 8"
      ],
      "execution_count": 72,
      "outputs": [
        {
          "output_type": "stream",
          "text": [
            "Overwriting input1.txt\n"
          ],
          "name": "stdout"
        }
      ]
    },
    {
      "cell_type": "code",
      "metadata": {
        "colab": {
          "base_uri": "https://localhost:8080/"
        },
        "id": "zBJ0Gc0NQRet",
        "outputId": "802281a6-95d7-440d-885f-5acb2d072aa6"
      },
      "source": [
        "%%writefile output1.txt\n",
        "12"
      ],
      "execution_count": 73,
      "outputs": [
        {
          "output_type": "stream",
          "text": [
            "Writing output1.txt\n"
          ],
          "name": "stdout"
        }
      ]
    },
    {
      "cell_type": "code",
      "metadata": {
        "colab": {
          "base_uri": "https://localhost:8080/"
        },
        "id": "IjEcIx63PJAN",
        "outputId": "a9d5335b-8a6a-4ea5-9bf7-8131eae87650"
      },
      "source": [
        "%%writefile input2.txt\n",
        "-5 9"
      ],
      "execution_count": 74,
      "outputs": [
        {
          "output_type": "stream",
          "text": [
            "Writing input2.txt\n"
          ],
          "name": "stdout"
        }
      ]
    },
    {
      "cell_type": "code",
      "metadata": {
        "colab": {
          "base_uri": "https://localhost:8080/"
        },
        "id": "Up9gOrxURTmd",
        "outputId": "a0991269-fbac-4fba-f044-235ca6d72283"
      },
      "source": [
        "%%writefile output2.txt\n",
        "4"
      ],
      "execution_count": 75,
      "outputs": [
        {
          "output_type": "stream",
          "text": [
            "Writing output2.txt\n"
          ],
          "name": "stdout"
        }
      ]
    },
    {
      "cell_type": "code",
      "metadata": {
        "colab": {
          "base_uri": "https://localhost:8080/"
        },
        "id": "PST6G-s-Pwgc",
        "outputId": "9c9de377-dd30-4cb1-a05f-e7b1f278738d"
      },
      "source": [
        "!./AplusB < input1.txt"
      ],
      "execution_count": 76,
      "outputs": [
        {
          "output_type": "stream",
          "text": [
            "12"
          ],
          "name": "stdout"
        }
      ]
    },
    {
      "cell_type": "code",
      "metadata": {
        "colab": {
          "base_uri": "https://localhost:8080/"
        },
        "id": "cKxZOjSlRfIN",
        "outputId": "ef27ca71-0a0c-4dcc-b717-d3216d6743b2"
      },
      "source": [
        "!./AplusB < input2.txt"
      ],
      "execution_count": 77,
      "outputs": [
        {
          "output_type": "stream",
          "text": [
            "4"
          ],
          "name": "stdout"
        }
      ]
    },
    {
      "cell_type": "markdown",
      "metadata": {
        "id": "Qw2TQWCCUwqk"
      },
      "source": [
        "### Comparing files with grep\n",
        "\n",
        "https://askubuntu.com/questions/546796/comparing-two-text-files"
      ]
    },
    {
      "cell_type": "code",
      "metadata": {
        "id": "WVIaAmMKU4QM"
      },
      "source": [
        "!grep -xvFf output1.txt output1.txt "
      ],
      "execution_count": 78,
      "outputs": []
    },
    {
      "cell_type": "code",
      "metadata": {
        "colab": {
          "base_uri": "https://localhost:8080/"
        },
        "id": "MQU8gPPjQuYO",
        "outputId": "7cce5816-98ec-42e3-b3b9-3a1a6c502dc2"
      },
      "source": [
        "!grep -xvFf output1.txt output2.txt "
      ],
      "execution_count": 79,
      "outputs": [
        {
          "output_type": "stream",
          "text": [
            "4\n"
          ],
          "name": "stdout"
        }
      ]
    },
    {
      "cell_type": "code",
      "metadata": {
        "colab": {
          "base_uri": "https://localhost:8080/"
        },
        "id": "jYL9OuYBTD_l",
        "outputId": "a9020ea4-cfec-4546-be46-693aa57e4d34"
      },
      "source": [
        "!grep -xvFf output2.txt output1.txt "
      ],
      "execution_count": 80,
      "outputs": [
        {
          "output_type": "stream",
          "text": [
            "12\n"
          ],
          "name": "stdout"
        }
      ]
    },
    {
      "cell_type": "code",
      "metadata": {
        "id": "Jlja0Xm4TX9M"
      },
      "source": [
        "!./AplusB < input1.txt> ctest1.txt\n",
        "!grep -xvFf output1.txt ctest1.txt"
      ],
      "execution_count": 81,
      "outputs": []
    },
    {
      "cell_type": "code",
      "metadata": {
        "id": "g9OIUZA_QLCQ"
      },
      "source": [
        "!./AplusB < input2.txt > ctest2.txt\n",
        "!grep -xvFf output2.txt ctest2.txt"
      ],
      "execution_count": 82,
      "outputs": []
    },
    {
      "cell_type": "markdown",
      "metadata": {
        "id": "3BgOaDjUVJk6"
      },
      "source": [
        "## Python"
      ]
    },
    {
      "cell_type": "code",
      "metadata": {
        "colab": {
          "base_uri": "https://localhost:8080/"
        },
        "id": "DBvl-T0CTN_8",
        "outputId": "15d4e20b-9ae1-4297-fc66-e3f0d72c91c4"
      },
      "source": [
        "%%writefile sum.py\n",
        "# python3\n",
        "\n",
        "def sum_of_two_digits(first_digit, second_digit):\n",
        "    return first_digit + second_digit\n",
        "\n",
        "if __name__ == '__main__':\n",
        "    a, b = map(int, input().split())\n",
        "    print(sum_of_two_digits(a, b))"
      ],
      "execution_count": 84,
      "outputs": [
        {
          "output_type": "stream",
          "text": [
            "Writing sum.py\n"
          ],
          "name": "stdout"
        }
      ]
    },
    {
      "cell_type": "code",
      "metadata": {
        "colab": {
          "base_uri": "https://localhost:8080/"
        },
        "id": "QKoKM11_WGyF",
        "outputId": "52045f14-72ef-4f87-c93c-4f956eb87f65"
      },
      "source": [
        "!python sum.py"
      ],
      "execution_count": 85,
      "outputs": [
        {
          "output_type": "stream",
          "text": [
            "32 90\n",
            "122\n"
          ],
          "name": "stdout"
        }
      ]
    },
    {
      "cell_type": "code",
      "metadata": {
        "id": "cocFbPRTWrqt"
      },
      "source": [
        "!python AplusB.py  < input1.txt> ptest1.txt\n",
        "!grep -xvFf output1.txt ptest1.txt"
      ],
      "execution_count": 86,
      "outputs": []
    },
    {
      "cell_type": "code",
      "metadata": {
        "id": "MorKTa-XXASN"
      },
      "source": [
        "!python AplusB.py  < input2.txt> ptest2.txt\n",
        "!grep -xvFf output2.txt ptest2.txt"
      ],
      "execution_count": 87,
      "outputs": []
    },
    {
      "cell_type": "markdown",
      "metadata": {
        "id": "uvP-mOubW_5F"
      },
      "source": [
        "# **II Solving The Maximum Pairwise Product Programming Challenge in C++**"
      ]
    },
    {
      "cell_type": "markdown",
      "metadata": {
        "id": "C12yoFR6Xonl"
      },
      "source": [
        "## C++"
      ]
    },
    {
      "cell_type": "code",
      "metadata": {
        "colab": {
          "base_uri": "https://localhost:8080/"
        },
        "id": "YL4qJX3tXxdd",
        "outputId": "8a0b6903-c7b6-4d12-ccf0-7ad0448c3639"
      },
      "source": [
        "%%writefile max_pairwise_product.cpp\n",
        "#include <iostream>\n",
        "#include <vector>\n",
        "#include <algorithm>\n",
        "\n",
        "int MaxPairwiseProduct(const std::vector<int>& numbers) {\n",
        "    int max_product = 0;\n",
        "    int n = numbers.size();\n",
        "\n",
        "    for (int first = 0; first < n; ++first) {\n",
        "        for (int second = first + 1; second < n; ++second) {\n",
        "            max_product = std::max(max_product,\n",
        "                numbers[first] * numbers[second]);\n",
        "        }\n",
        "    }\n",
        "\n",
        "    return max_product;\n",
        "}\n",
        "\n",
        "int main() {\n",
        "    int n;\n",
        "    std::cin >> n;\n",
        "    std::vector<int> numbers(n);\n",
        "    for (int i = 0; i < n; ++i) {\n",
        "        std::cin >> numbers[i];\n",
        "    }\n",
        "\n",
        "    std::cout << MaxPairwiseProduct(numbers) << \"\\n\";\n",
        "    return 0;\n",
        "}\n"
      ],
      "execution_count": 64,
      "outputs": [
        {
          "output_type": "stream",
          "text": [
            "Writing max_pairwise_product.cpp\n"
          ],
          "name": "stdout"
        }
      ]
    },
    {
      "cell_type": "code",
      "metadata": {
        "colab": {
          "base_uri": "https://localhost:8080/"
        },
        "id": "KGxaEjvWX__O",
        "outputId": "d8d0d7fd-5517-447b-e8ac-f6d8bb8263e7"
      },
      "source": [
        "!g++ max_pairwise_product.cpp -o max_pairwise_product\n",
        "!./max_pairwise_product"
      ],
      "execution_count": 66,
      "outputs": [
        {
          "output_type": "stream",
          "text": [
            "6\n",
            "23 1 89 56 34 5 4984\n",
            "4984\n"
          ],
          "name": "stdout"
        }
      ]
    },
    {
      "cell_type": "markdown",
      "metadata": {
        "id": "IeZ3kTjpYmR9"
      },
      "source": [
        "### Test 1: Small numbers"
      ]
    },
    {
      "cell_type": "code",
      "metadata": {
        "colab": {
          "base_uri": "https://localhost:8080/"
        },
        "id": "LQNlZqaqYt7U",
        "outputId": "2d66c810-42b8-4d0c-df1b-8ab4013fdfc7"
      },
      "source": [
        "%%writefile input1.txt\n",
        "10\n",
        "1 2 3 4 5 6 7 8 9 10"
      ],
      "execution_count": 88,
      "outputs": [
        {
          "output_type": "stream",
          "text": [
            "Overwriting input1.txt\n"
          ],
          "name": "stdout"
        }
      ]
    },
    {
      "cell_type": "code",
      "metadata": {
        "colab": {
          "base_uri": "https://localhost:8080/"
        },
        "id": "2Wad2VZUZDxR",
        "outputId": "6c1e10c6-c904-4c27-e090-179ca535e67c"
      },
      "source": [
        "!./max_pairwise_product < input1.txt"
      ],
      "execution_count": 89,
      "outputs": [
        {
          "output_type": "stream",
          "text": [
            "90\n"
          ],
          "name": "stdout"
        }
      ]
    },
    {
      "cell_type": "markdown",
      "metadata": {
        "id": "m_24--z67wZy"
      },
      "source": [
        "##### Test 2: largest input numbers 200000 200000 in the input"
      ]
    },
    {
      "cell_type": "code",
      "metadata": {
        "colab": {
          "base_uri": "https://localhost:8080/"
        },
        "id": "2rlkn7-_71Op",
        "outputId": "ed008ec6-aef9-4389-c523-de80ea21c147"
      },
      "source": [
        "%%writefile input2.txt\n",
        "6\n",
        "1 3 200000 9 200000 23"
      ],
      "execution_count": 90,
      "outputs": [
        {
          "output_type": "stream",
          "text": [
            "Overwriting input2.txt\n"
          ],
          "name": "stdout"
        }
      ]
    },
    {
      "cell_type": "code",
      "metadata": {
        "colab": {
          "base_uri": "https://localhost:8080/"
        },
        "id": "9-bqsbru74ub",
        "outputId": "d8f35937-086e-4b1a-b645-cf06098bfc05"
      },
      "source": [
        "!./max_pairwise_product < input2.txt"
      ],
      "execution_count": 91,
      "outputs": [
        {
          "output_type": "stream",
          "text": [
            "1345294336\n"
          ],
          "name": "stdout"
        }
      ]
    },
    {
      "cell_type": "markdown",
      "metadata": {
        "id": "L8dfhxuc7gFn"
      },
      "source": [
        "Changing the variables to long long"
      ]
    },
    {
      "cell_type": "code",
      "metadata": {
        "colab": {
          "base_uri": "https://localhost:8080/"
        },
        "id": "MPcmsxiQZSfE",
        "outputId": "dbf8f756-4cd8-4ced-ef08-8448a9eb43a4"
      },
      "source": [
        "%%writefile max_pairwise_product_long.cpp\n",
        "#include <iostream>\n",
        "#include <vector>\n",
        "#include <algorithm>\n",
        "\n",
        "long long MaxPairwiseProduct(const std::vector<int>& numbers) {\n",
        "    long long max_product = 0LL;\n",
        "\t  long long aux_product = 0LL;\n",
        "    int n = numbers.size();\n",
        "\n",
        "    for (int first = 0; first < n; ++first) {\n",
        "        for (int second = first + 1; second < n; ++second) {\n",
        "\t\t\t       aux_product =  (long long) numbers[first] * numbers[second];\n",
        "            if ( max_product < aux_product)  {\n",
        "\t\t\t\t        max_product = aux_product;\n",
        "             }\n",
        "        }\n",
        "    }\n",
        "\n",
        "    return max_product;\n",
        "}\n",
        "\n",
        "int main() {\n",
        "    int n;\n",
        "    std::cin >> n;\n",
        "    std::vector<int> numbers(n);\n",
        "    for (int i = 0; i < n; ++i) {\n",
        "        std::cin >> numbers[i];\n",
        "    }\n",
        "\n",
        "    std::cout << MaxPairwiseProduct(numbers) << \"\\n\";\n",
        "    return 0;\n",
        "}\n"
      ],
      "execution_count": 92,
      "outputs": [
        {
          "output_type": "stream",
          "text": [
            "Overwriting max_pairwise_product_long.cpp\n"
          ],
          "name": "stdout"
        }
      ]
    },
    {
      "cell_type": "code",
      "metadata": {
        "colab": {
          "base_uri": "https://localhost:8080/"
        },
        "id": "I5pCeOG1Zm7s",
        "outputId": "76544816-46e7-400c-ad1b-cc459b5fcf9c"
      },
      "source": [
        "!g++ max_pairwise_product_long.cpp -o max_pairwise_product_long\n",
        "!./max_pairwise_product_long < input1.txt\n",
        "!./max_pairwise_product_long < input2.txt"
      ],
      "execution_count": 93,
      "outputs": [
        {
          "output_type": "stream",
          "text": [
            "90\n",
            "40000000000\n"
          ],
          "name": "stdout"
        }
      ]
    },
    {
      "cell_type": "markdown",
      "metadata": {
        "id": "WgblCT7z4zhR"
      },
      "source": [
        "### Test 3 stress tests 20 times random n in [2, 20]"
      ]
    },
    {
      "cell_type": "code",
      "metadata": {
        "colab": {
          "base_uri": "https://localhost:8080/"
        },
        "id": "6Vnwp2cT47-c",
        "outputId": "e833e57c-4fb6-439a-d51f-7702d6aafb20"
      },
      "source": [
        "%%writefile test3.cpp\n",
        "#include <iostream>\n",
        "#include <vector>\n",
        "#include <algorithm>\n",
        "#include <ctime>\n",
        "long long MaxPairwiseProduct(const std::vector<int>& numbers) {\n",
        "    long long max_product = 0LL;\n",
        "\t  long long aux_product = 0LL;\n",
        "    int n = numbers.size();\n",
        "\n",
        "    for (int first = 0; first < n; ++first) {\n",
        "        for (int second = first + 1; second < n; ++second) {\n",
        "\t\t\t       aux_product =  (long long) numbers[first] * numbers[second];\n",
        "            if ( max_product < aux_product)  {\n",
        "\t\t\t\t        max_product = aux_product;\n",
        "             }\n",
        "        }\n",
        "    }\n",
        "\n",
        "    return max_product;\n",
        "}\n",
        "\n",
        "int main()\n",
        "{\n",
        "    srand(time(NULL));\n",
        "    int n, aleatorio;\n",
        "    n = 20;\n",
        "    //std::cout<<n<<\"\\n\";\n",
        "    for(int i=0; i < n; i++){\n",
        "        int nums = rand()%(20-2 + 1) + 2;\n",
        "        std::cout<<nums<<\"\\n\";\n",
        "        std::vector<int> numbers(nums);\n",
        "        for (int j = 0; j < nums; j++)\n",
        "        {\n",
        "            numbers[j] = rand()%200000;\n",
        "        }\n",
        "        std::cout<<MaxPairwiseProduct(numbers)<<\"\\n\";\n",
        "    }\n",
        "    return 0;\n",
        "}"
      ],
      "execution_count": 94,
      "outputs": [
        {
          "output_type": "stream",
          "text": [
            "Overwriting test3.cpp\n"
          ],
          "name": "stdout"
        }
      ]
    },
    {
      "cell_type": "code",
      "metadata": {
        "id": "C64rM5qC6Ur0"
      },
      "source": [
        "!g++ test3.cpp -o test3"
      ],
      "execution_count": null,
      "outputs": []
    },
    {
      "cell_type": "code",
      "metadata": {
        "colab": {
          "base_uri": "https://localhost:8080/"
        },
        "id": "sjcoBYMStJWR",
        "outputId": "a96d0d7f-67c8-4e42-f458-28dbbd0c799c"
      },
      "source": [
        "!./test3 "
      ],
      "execution_count": null,
      "outputs": [
        {
          "output_type": "stream",
          "text": [
            "16\n",
            "35823345064\n",
            "9\n",
            "29677457844\n",
            "10\n",
            "33714683640\n",
            "10\n",
            "24357138968\n",
            "13\n",
            "30440346300\n",
            "18\n",
            "37009876995\n",
            "6\n",
            "17212293395\n",
            "14\n",
            "38749919375\n",
            "14\n",
            "35016580368\n",
            "8\n",
            "15854870140\n",
            "7\n",
            "39758510430\n",
            "17\n",
            "29175950800\n",
            "17\n",
            "35896802265\n",
            "18\n",
            "34281757530\n",
            "4\n",
            "21884714826\n",
            "11\n",
            "21192281850\n",
            "8\n",
            "15221009920\n",
            "7\n",
            "17679597952\n",
            "12\n",
            "28119510924\n",
            "3\n",
            "470147886\n"
          ],
          "name": "stdout"
        }
      ]
    },
    {
      "cell_type": "markdown",
      "metadata": {
        "id": "9z9yr5QkeyJF"
      },
      "source": [
        "### Test 4 time test measure the execution time running with the the largest worst case file (200000 increasing numbers, 200000 and 200000 the end)"
      ]
    },
    {
      "cell_type": "code",
      "metadata": {
        "id": "oLiMjbAIfPlX",
        "colab": {
          "base_uri": "https://localhost:8080/"
        },
        "outputId": "87e3f964-8f2b-4d42-cc56-cda841fb032d"
      },
      "source": [
        "%%writefile Test2Write.cpp\n",
        "\n",
        "#include <iostream>\n",
        "#include <fstream>\n",
        "#include <cstdlib>\n",
        "\n",
        "using namespace std;\n",
        "\n",
        "int main() {\n",
        "  // Create and open a text file\n",
        "  ofstream MyFile(\"input3.txt\");\n",
        "\n",
        " MyFile << 200000 <<\"\\n\";  // n \n",
        " for (int i=1; i < 200001; i++){\n",
        "     MyFile << i <<\" \";\n",
        " }\n",
        "  \n",
        "  // Close the file\n",
        "  MyFile.close();\n",
        "}"
      ],
      "execution_count": 55,
      "outputs": [
        {
          "output_type": "stream",
          "text": [
            "Overwriting Test2Write.cpp\n"
          ],
          "name": "stdout"
        }
      ]
    },
    {
      "cell_type": "code",
      "metadata": {
        "id": "APRV18ylQS3W"
      },
      "source": [
        "!g++ Test2Write.cpp -o Test2Write\n",
        "!./Test2Write"
      ],
      "execution_count": 95,
      "outputs": []
    },
    {
      "cell_type": "markdown",
      "metadata": {
        "id": "ALMuWQULS7wW"
      },
      "source": [
        "Measure time\n",
        "\n",
        "https://askubuntu.com/questions/53444/how-can-i-measure-the-execution-time-of-a-terminal-process"
      ]
    },
    {
      "cell_type": "code",
      "metadata": {
        "colab": {
          "base_uri": "https://localhost:8080/"
        },
        "id": "6p2QLEr576zk",
        "outputId": "e2a4a6aa-3c0c-4d1d-8405-1562c263baf4"
      },
      "source": [
        "!g++ max_pairwise_product_long.cpp -o max_pairwise_product_long\n",
        "!time ./max_pairwise_product_long < input3.txt"
      ],
      "execution_count": null,
      "outputs": [
        {
          "output_type": "stream",
          "text": [
            "39999800000\n",
            "\n",
            "real\t2m9.177s\n",
            "user\t2m8.700s\n",
            "sys\t0m0.033s\n"
          ],
          "name": "stdout"
        }
      ]
    },
    {
      "cell_type": "markdown",
      "metadata": {
        "id": "tzy1qC09JjOr"
      },
      "source": [
        "####Calculate  the number of instructions executed by the algorithm as a function of n, add in each line a comment with the number of instructions that are executed in that line\n",
        "\n",
        "```cpp\n",
        " int main() {                         //N inst exec by line executed  \n",
        "   \n",
        "    int n;                            //1                      \n",
        "    std::cin >> n;                    //1\n",
        "                                              \n",
        "    std::vector<int> numbers(n);      //n    init vector\n",
        "    .\n",
        "    .\n",
        " }\n",
        "\n",
        "```"
      ]
    },
    {
      "cell_type": "code",
      "metadata": {
        "colab": {
          "base_uri": "https://localhost:8080/"
        },
        "id": "McErjwEIJlCx",
        "outputId": "afa1caf7-f683-41de-a6fe-819690e2c751"
      },
      "source": [
        "%%writefile test_init_vectors.cpp\n",
        "#include <iostream>\n",
        "#include <vector>\n",
        "#include <algorithm>\n",
        "int main() {                                                               \n",
        "    int n = 10;                                                                                                                            //1\n",
        "    std::vector<int> numbers(n);                                            \n",
        "    for (int i = 0; i < n; ++i) {                                           \n",
        "        std::cout << numbers[i];                                             \n",
        "    }\n",
        "\n",
        "    std::cout << \"\\n\";                       \n",
        "    return 0;                                                              \n",
        "}  "
      ],
      "execution_count": null,
      "outputs": [
        {
          "output_type": "stream",
          "text": [
            "Writing test_init_vectors.cpp\n"
          ],
          "name": "stdout"
        }
      ]
    },
    {
      "cell_type": "code",
      "metadata": {
        "colab": {
          "base_uri": "https://localhost:8080/"
        },
        "id": "mx4Zm0SIKLoD",
        "outputId": "add52ef6-3c56-468f-e13b-23c754895fc2"
      },
      "source": [
        "!g++ test_init_vectors.cpp -o test_init_vectors\n",
        "!./test_init_vectors"
      ],
      "execution_count": null,
      "outputs": [
        {
          "output_type": "stream",
          "text": [
            "0000000000\n"
          ],
          "name": "stdout"
        }
      ]
    },
    {
      "cell_type": "code",
      "metadata": {
        "colab": {
          "base_uri": "https://localhost:8080/"
        },
        "id": "SiLuLykeKSV7",
        "outputId": "62bb6185-61d0-404f-87d0-882c663e12d1"
      },
      "source": [
        "%%writefile max_pairwise_product_long.cpp\n",
        "#include <iostream>\n",
        "#include <vector>\n",
        "#include <algorithm>\n",
        "\n",
        "long long MaxPairwiseProduct(const std::vector<int>& numbers) {              //N inst exec by line executed \n",
        "    long long max_product = 0LL;                                             //1                                          \n",
        "\t  long long aux_product = 0LL;                                             //1 \n",
        "    int n = numbers.size();                                                  //1 \n",
        "                                                                             \n",
        "    for (int first = 0; first < n; ++first) {                                //1+2n  \n",
        "        for (int second = first + 1; second < n; ++second) {                 //n + (n-1)n \n",
        "\t\t\t       aux_product =  (long long) numbers[first] * numbers[second];    //(n-1)n/2 \n",
        "            if (max_product < aux_product)  {                                //(n-1)n/2 \n",
        "\t\t\t\t        max_product = aux_product;                                   //[0, (n-1)n/2] \n",
        "             }\n",
        "        }\n",
        "    }\n",
        "                                                                             // -------------- \n",
        "    return max_product;                                                      // 4 + 3n + [2(n-1)n, 2.5 (n-1)n] \n",
        "}\n",
        "\n",
        "int main() {                                              //N inst exec by line executed \n",
        "    int n;                                                //1  \n",
        "    std::cin >> n;                                        //1\n",
        "    std::vector<int> numbers(n);                          //n\n",
        "    for (int i = 0; i < n; ++i) {                         //1 + 2n\n",
        "        std::cin >> numbers[i];                           //n\n",
        "    }\n",
        "\n",
        "    std::cout << MaxPairwiseProduct(numbers) << \"\\n\";     //1 + 1  + 4 + 3n + [2(n-1)n, 2.5 (n-1)n]\n",
        "    return 0;                                             // -------------- \n",
        "}                                                         // 9 + 7n + [2(n-1)n, 2.5 (n-1)n]"
      ],
      "execution_count": null,
      "outputs": [
        {
          "output_type": "stream",
          "text": [
            "Overwriting max_pairwise_product_long.cpp\n"
          ],
          "name": "stdout"
        }
      ]
    },
    {
      "cell_type": "markdown",
      "metadata": {
        "id": "CwNdQZ_uKVl7"
      },
      "source": [
        "Count executed intructions in code and verify with inputs 1, 2 and 3"
      ]
    },
    {
      "cell_type": "code",
      "metadata": {
        "colab": {
          "base_uri": "https://localhost:8080/"
        },
        "id": "oti0cAuNKYK6",
        "outputId": "fc7ec20b-b2c7-41c0-8c90-e9308cbfe8ac"
      },
      "source": [
        "%%writefile max_pairwise_product_long_execints.cpp\n",
        "#include <iostream>\n",
        "#include <vector>\n",
        "#include <algorithm>\n",
        "\n",
        "long long MaxPairwiseProduct(const std::vector<int>& numbers, long long &execints) {              //N inst exec by line executed \n",
        "    \n",
        "    long long m = 0LL;                                                       //1\n",
        "    \n",
        "    long long max_product = 0LL;                                             //1\n",
        "    execints++;\n",
        "\n",
        "\t  long long aux_product = 0LL;                                             //1\n",
        "    execints++;\n",
        "\n",
        "    int n = numbers.size();                                                  //1 \n",
        "    execints++;\n",
        "\n",
        "    execints++;                                                                         \n",
        "    for (int first = 0; first < n; ++first) {                                //1+2n  \n",
        "        execints += 2;\n",
        "\n",
        "        long long m = 0LL;\n",
        "\n",
        "        execints++;                                    \n",
        "        for (int second = first + 1; second < n; ++second) {                 //n+ (n-1)n \n",
        "            execints += 2;                                                \n",
        "\n",
        "\t\t\t      aux_product =  (long long) numbers[first] * numbers[second];    //(n-1)n/2 \n",
        "            execints++; \n",
        "\n",
        "            execints++; \n",
        "            if ( max_product < aux_product)  {                               //(n-1)n/2 \n",
        "                       \n",
        "\t\t\t\t        max_product = aux_product;                                   //[0, (n-1)n/2] \n",
        "                execints++; \n",
        "                m++;\n",
        "             }\n",
        "        }\n",
        "        if ( (first <= 10) || (n- first <= 10)) std::cout << m << \"\\n\";\n",
        "    }\n",
        "                                                                            // -------------- \n",
        "    return max_product;                                                     // 4 + 3n + [2(n-1)n, 2.5 (n-1)n] \n",
        "}\n",
        "\n",
        "int main() {                                                 //N inst exec by line executed \n",
        "    long long execints =0LL;\n",
        "\n",
        "    int n;                                                   //1\n",
        "    execints++;                                                              \n",
        "    \n",
        "    std::cin >> n;                                           //1\n",
        "    execints++;\n",
        "\n",
        "    std::vector<int> numbers(n);                             //n\n",
        "    execints += n;\n",
        "    \n",
        "    execints++;\n",
        "    for (int i = 0; i < n; ++i) {                            //1 + 2n\n",
        "        execints += 2;\n",
        "\n",
        "        std::cin >> numbers[i];\n",
        "        execints++;                                          //n\n",
        "    }\n",
        "    \n",
        "    //std::cout << MaxPairwiseProduct(numbers) << \"\\n\";      //1 + 1  + 4 + 3n + [2(n-1)n, 2.5 (n-1)n]\n",
        "\n",
        "    execints++;\n",
        "    int M = MaxPairwiseProduct(numbers,execints);\n",
        "\n",
        "    execints++;\n",
        "    std::cout <<  execints << \"\\n\";                       \n",
        "    return 0;                                                // -------------- \n",
        "}                                                            // 9 + 7n + [2(n-1)n, 2.5 (n-1)n]"
      ],
      "execution_count": null,
      "outputs": [
        {
          "output_type": "stream",
          "text": [
            "Writing max_pairwise_product_long_execints.cpp\n"
          ],
          "name": "stdout"
        }
      ]
    },
    {
      "cell_type": "code",
      "metadata": {
        "colab": {
          "base_uri": "https://localhost:8080/"
        },
        "id": "v-Ng10k_KgJj",
        "outputId": "e18cfd94-840f-43ff-f5c8-9bb31e7d30b6"
      },
      "source": [
        "!g++ max_pairwise_product_long_execints.cpp -o max_pairwise_product_long_execints\n",
        "!./max_pairwise_product_long_execints < input1.txt\n",
        "!./max_pairwise_product_long_execints < input2.txt\n",
        "!./max_pairwise_product_long_execints < input4.txt"
      ],
      "execution_count": null,
      "outputs": [
        {
          "output_type": "stream",
          "text": [
            "9\n",
            "5\n",
            "4\n",
            "3\n",
            "2\n",
            "2\n",
            "2\n",
            "2\n",
            "1\n",
            "0\n",
            "289\n",
            "2\n",
            "1\n",
            "2\n",
            "0\n",
            "0\n",
            "0\n",
            "116\n",
            "200000\n",
            "100001\n",
            "66667\n",
            "50001\n",
            "40001\n",
            "33334\n",
            "28572\n",
            "25001\n",
            "22223\n",
            "20001\n",
            "18182\n",
            "2\n",
            "2\n",
            "2\n",
            "2\n",
            "2\n",
            "2\n",
            "2\n",
            "2\n",
            "1\n",
            "0\n",
            "80004472127\n"
          ],
          "name": "stdout"
        }
      ]
    },
    {
      "cell_type": "markdown",
      "metadata": {
        "id": "jEGRSb8ZAPX4"
      },
      "source": [
        "The number of instructions executed by the algooirithm with a list of size $n$ is  \n",
        "\n",
        "$$T = 9 + 7n + [2(n-1)n, 2.5 (n-1)n]$$\n",
        "\n",
        "It depends on the size of the lists and  the order of the list.\n",
        "\n",
        "For the input1.txt \n",
        "```\n",
        "10\n",
        "1 2 3 4 5 6 7 8 9 10\n",
        "```\n",
        "$$T = 9 + 7(10) + 2(9)(10) +  9 + 5 + 4 + 3 + 2 + 2 + 2 + 2 + 1 + 0  = 289 $$\n",
        "\n",
        "For the input2.txt \n",
        "```\n",
        "6\n",
        "1 3 200000 9 200000 23\n",
        "```\n",
        "$$T = 9 + 7(6) + 2(5)(6)  +  2 + 1 + 2 + 0 + 0 + 0 = 116 $$\n",
        "\n",
        "\n",
        "For the input3.txt that is the worst case (n=200000 and list in incresing order)\n",
        "\n",
        "```\n",
        "200000\n",
        "1 2 3 4 5 6 7 8 9 10 ... 199998 199999 200000\n",
        "```\n",
        "\n",
        "$$\n",
        "\\begin{array}{ll}\n",
        "T &= 9 + 7(200000) + (2)(199999)(200000)  + (199999 +\n",
        "100000 + 66667 +50000 \\cdots 2 + 2 + 1)\\\\\n",
        "&= 80003672077  \\\\\n",
        "  &< 9 + 7(200000) + (2.5)(199999)(200000) \\\\\n",
        "  & = 100000900009\n",
        "\\end{array}\n",
        "  $$"
      ]
    },
    {
      "cell_type": "markdown",
      "metadata": {
        "id": "f59_lNF7MRoS"
      },
      "source": [
        "Calculate estimated time by instruction and number of instructions by second"
      ]
    },
    {
      "cell_type": "code",
      "metadata": {
        "colab": {
          "base_uri": "https://localhost:8080/"
        },
        "id": "PMwIqRHELy-k",
        "outputId": "dfab1a05-61e4-4af8-94ae-b871e666d349"
      },
      "source": [
        "# Estimated time by instruction\n",
        "\n",
        "128/80003672077 \n"
      ],
      "execution_count": null,
      "outputs": [
        {
          "output_type": "execute_result",
          "data": {
            "text/plain": [
              "1.5999265618308827e-09"
            ]
          },
          "metadata": {
            "tags": []
          },
          "execution_count": 66
        }
      ]
    },
    {
      "cell_type": "code",
      "metadata": {
        "colab": {
          "base_uri": "https://localhost:8080/"
        },
        "id": "_nPUP92mMYMN",
        "outputId": "a395776c-1840-43fa-8b19-4d4f946ba822"
      },
      "source": [
        "# Estimated number of instructions by second\n",
        "\n",
        "1/(128/80003672077) "
      ],
      "execution_count": null,
      "outputs": [
        {
          "output_type": "execute_result",
          "data": {
            "text/plain": [
              "625028688.1015625"
            ]
          },
          "metadata": {
            "tags": []
          },
          "execution_count": 67
        }
      ]
    },
    {
      "cell_type": "markdown",
      "metadata": {
        "id": "732sHWbl1w9c"
      },
      "source": [
        "##### Nueva sección"
      ]
    },
    {
      "cell_type": "markdown",
      "metadata": {
        "id": "sc9nOLQrfTm0"
      },
      "source": [
        "### **Efficient solution**"
      ]
    },
    {
      "cell_type": "markdown",
      "metadata": {
        "id": "Ca_hKG3jvsiC"
      },
      "source": [
        "Add in each line a coment with the number of intstrcution that are executed in that line"
      ]
    },
    {
      "cell_type": "code",
      "metadata": {
        "id": "qslDrVXhXT0k",
        "colab": {
          "base_uri": "https://localhost:8080/"
        },
        "outputId": "0edeff66-1fd7-441d-81ab-9b553808ad30"
      },
      "source": [
        "%%writefile max_pairwise_product_eficiente.cpp\n",
        "#include <iostream>\n",
        "#include <vector>\n",
        "#include <algorithm>\n",
        "#include <list>\n",
        "\n",
        "long long MaxPairwiseProductEficiente(const std::vector<int>& numbers, long long &execints) {\n",
        "    int n = numbers.size();                                             //1\n",
        "    execints++;\n",
        "\n",
        "    long long max_product = 0LL;                                        //1\n",
        "    execints++;\n",
        "\n",
        "    long long mayor = 0;                                                //1\n",
        "    execints++;\n",
        "\n",
        "    long long smayor = 0;                                               //1\n",
        "    execints++;\n",
        "\n",
        "    execints++;\n",
        "    long long co1 = 0LL;\n",
        "    long long co2 = 0LL;\n",
        "    long long co3 = 0LL;  \n",
        "    for(int i = 0; i < n; i++){                                         //1+2n\n",
        "        execints+=2;\n",
        "\n",
        "        \n",
        "        execints++;                                                     //n\n",
        "        if(numbers[i]>mayor){\n",
        "          \n",
        "          smayor = mayor;                                             //[0,2n]\n",
        "          execints++;\n",
        "\n",
        "          mayor = numbers[i];                                         \n",
        "          execints++;\n",
        "\n",
        "          co1++;\n",
        "\n",
        "        }else{                                                       //[0,n]\n",
        "            co2++;\n",
        "                                                                \n",
        "            execints++;\n",
        "            if(numbers[i]>smayor){   \n",
        "                co3++;\n",
        "\n",
        "                smayor = numbers[i];                                  //[0,n]\n",
        "                execints++;\n",
        "            }   \n",
        "        }\n",
        "        \n",
        "    }\n",
        "    //std::cout<<\"co1: \"<<co1<<\"\\n\";\n",
        "    //std::cout<<\"co2: \"<<co2<<\"\\n\";\n",
        "    //std::cout<<\"co3: \"<<co3<<\"\\n\";\n",
        "    max_product = (long long)mayor*smayor;                              //1\n",
        "    execints++;\n",
        "                                                              //--------------\n",
        "    return max_product;                                       //  6 + [3n,8n]\n",
        "}\n",
        "\n",
        "int main() {         \n",
        "    long long execints =0LL;                                              \n",
        "\n",
        "    int n;                                                              //1\n",
        "    execints++;\n",
        "\n",
        "    std::cin >> n;                                                      //1\n",
        "    execints++;                                                    \n",
        "\n",
        "    std::vector<int> numbers(n);                                        //n\n",
        "    execints+=n;   \n",
        "                                        \n",
        "    long long maxproduc = 0LL;                                          //1\n",
        "    execints++;\n",
        "\n",
        "\n",
        "    execints++;\n",
        "    for (int i = 0; i < n; ++i) {                                       //1 + 2n\n",
        "        execints+=2;\n",
        "\n",
        "        std::cin >> numbers[i];                                         //n\n",
        "        execints++;\n",
        "\n",
        "    }\n",
        "\n",
        "    maxproduc = MaxPairwiseProductEficiente(numbers,execints);          //  6 + [3n,8n]\n",
        "    execints++;                                                         //1\n",
        "\n",
        "    std::cout<<maxproduc<<\"\\n\";       \n",
        "    \n",
        "    //std::cout <<\"execints: \"<<execints << \"\\n\";                          //-----------------\n",
        "    return 0;                                               //    11 + [7n, 12n]\n",
        "}\n",
        "\n"
      ],
      "execution_count": 124,
      "outputs": [
        {
          "output_type": "stream",
          "text": [
            "Overwriting max_pairwise_product_eficiente.cpp\n"
          ],
          "name": "stdout"
        }
      ]
    },
    {
      "cell_type": "code",
      "metadata": {
        "id": "FJcuAJo5AgHg"
      },
      "source": [
        "!g++ max_pairwise_product_eficiente.cpp -o max_pairwise_product_eficiente"
      ],
      "execution_count": 125,
      "outputs": []
    },
    {
      "cell_type": "markdown",
      "metadata": {
        "id": "u_zhdiItksB7"
      },
      "source": [
        "Test with inputs 1 and 2"
      ]
    },
    {
      "cell_type": "code",
      "metadata": {
        "colab": {
          "base_uri": "https://localhost:8080/"
        },
        "id": "hR-5qnqvksOj",
        "outputId": "ed45e918-648f-44d2-fb9e-ba165909d58c"
      },
      "source": [
        "!./max_pairwise_product_eficiente < input1.txt\n",
        "!./max_pairwise_product_eficiente < input2.txt"
      ],
      "execution_count": 126,
      "outputs": [
        {
          "output_type": "stream",
          "text": [
            "90\n",
            "40000000000\n"
          ],
          "name": "stdout"
        }
      ]
    },
    {
      "cell_type": "markdown",
      "metadata": {
        "id": "F2lx_k71k_1j"
      },
      "source": [
        "Test and time it with input 3"
      ]
    },
    {
      "cell_type": "code",
      "metadata": {
        "colab": {
          "base_uri": "https://localhost:8080/"
        },
        "id": "oNQjrBPslAH7",
        "outputId": "a960aeef-7728-4872-c351-4142008a3c2e"
      },
      "source": [
        "!time ./max_pairwise_product_eficiente < input3.txt"
      ],
      "execution_count": 164,
      "outputs": [
        {
          "output_type": "stream",
          "text": [
            "39999800000\n",
            "\n",
            "real\t0m0.067s\n",
            "user\t0m0.058s\n",
            "sys\t0m0.004s\n"
          ],
          "name": "stdout"
        }
      ]
    },
    {
      "cell_type": "markdown",
      "metadata": {
        "id": "vWFtZUdtlCOT"
      },
      "source": [
        "20 stress tests"
      ]
    },
    {
      "cell_type": "code",
      "metadata": {
        "colab": {
          "base_uri": "https://localhost:8080/"
        },
        "id": "8ChoknztlCji",
        "outputId": "5fd4dd38-e791-494c-c479-2545d2b540b4"
      },
      "source": [
        "%%writefile stresstest_efficient.cpp\n",
        "#include <iostream>\n",
        "#include <vector>\n",
        "#include <algorithm>\n",
        "#include <ctime>\n",
        "long long MaxPairwiseProductEficiente(const std::vector<int>& numbers) {\n",
        "    int n = numbers.size();\n",
        "    long long max_product = 0LL;\n",
        "    long long mayor = 0;\n",
        "    long long smayor = 0;\n",
        "    for(int i = 0; i < n; i++){\n",
        "        if(numbers[i]>mayor){\n",
        "          smayor = mayor;\n",
        "          mayor = numbers[i];\n",
        "        }else{\n",
        "          if(numbers[i]>smayor){\n",
        "            smayor = numbers[i];\n",
        "          }  \n",
        "        } \n",
        "    }\n",
        "    max_product = (long long)mayor*smayor;\n",
        "    return max_product;\n",
        "}\n",
        "\n",
        "int main()\n",
        "{\n",
        "    srand(time(NULL));\n",
        "    int n, aleatorio;\n",
        "    n = 20;\n",
        "    //std::cout<<n<<\"\\n\";\n",
        "    for(int i=0; i < n; i++){\n",
        "        int nums = rand()%(20-2 + 1) + 2;\n",
        "        std::cout<<nums<<\"\\n\";\n",
        "        std::vector<int> numbers(nums);\n",
        "        for (int j = 0; j < nums; j++)\n",
        "        {\n",
        "            numbers[j] = rand()%200000;\n",
        "        }\n",
        "        std::cout<<MaxPairwiseProductEficiente(numbers)<<\"\\n\";\n",
        "        \n",
        "    }\n",
        "    return 0;\n",
        "}"
      ],
      "execution_count": 179,
      "outputs": [
        {
          "output_type": "stream",
          "text": [
            "Overwriting stresstest_efficient.cpp\n"
          ],
          "name": "stdout"
        }
      ]
    },
    {
      "cell_type": "code",
      "metadata": {
        "id": "Wz1awnFQH30l"
      },
      "source": [
        "!g++ stresstest_efficient.cpp -o stresstest_efficient"
      ],
      "execution_count": 180,
      "outputs": []
    },
    {
      "cell_type": "code",
      "metadata": {
        "colab": {
          "base_uri": "https://localhost:8080/"
        },
        "id": "qFfXnO8GH7r8",
        "outputId": "a70119b6-bf0f-49f8-e999-a68d02dca0a9"
      },
      "source": [
        "!./stresstest_efficient"
      ],
      "execution_count": 181,
      "outputs": [
        {
          "output_type": "stream",
          "text": [
            "8\n",
            "28418862031\n",
            "15\n",
            "31302976218\n",
            "11\n",
            "34346906240\n",
            "17\n",
            "36109426201\n",
            "12\n",
            "34319994683\n",
            "10\n",
            "21667398402\n",
            "20\n",
            "37718852544\n",
            "13\n",
            "33313382173\n",
            "13\n",
            "35644342650\n",
            "4\n",
            "18853581824\n",
            "6\n",
            "24124854017\n",
            "5\n",
            "26325662102\n",
            "20\n",
            "38999465593\n",
            "19\n",
            "36455695496\n",
            "7\n",
            "11454562684\n",
            "2\n",
            "34763342908\n",
            "17\n",
            "36699461469\n",
            "20\n",
            "36308514060\n",
            "9\n",
            "30175159304\n",
            "9\n",
            "30854445111\n"
          ],
          "name": "stdout"
        }
      ]
    },
    {
      "cell_type": "markdown",
      "metadata": {
        "id": "jXlHcGlp7e32"
      },
      "source": [
        "Count executed instructions in code and verify with inputs 1,2 and 3"
      ]
    },
    {
      "cell_type": "code",
      "metadata": {
        "colab": {
          "base_uri": "https://localhost:8080/"
        },
        "id": "g6aZAFpjRemh",
        "outputId": "2a626cea-14d4-4edb-c122-f621fb712532"
      },
      "source": [
        "%%writefile max_pairwise_product_eficiente_execints.cpp\n",
        "#include <iostream>\n",
        "#include <vector>\n",
        "#include <algorithm>\n",
        "#include <list>\n",
        "\n",
        "long long MaxPairwiseProductEficiente(const std::vector<int>& numbers, long long &execints) {\n",
        "    int n = numbers.size();                                             //1\n",
        "    execints++;\n",
        "\n",
        "    long long max_product = 0LL;                                        //1\n",
        "    execints++;\n",
        "\n",
        "    long long mayor = 0;                                                //1\n",
        "    execints++;\n",
        "\n",
        "    long long smayor = 0;                                               //1\n",
        "    execints++;\n",
        "\n",
        "    execints++;\n",
        "    long long co1 = 0LL;\n",
        "    long long co2 = 0LL;\n",
        "    long long co3 = 0LL;  \n",
        "    for(int i = 0; i < n; i++){                                         //1+2n\n",
        "        execints+=2;\n",
        "\n",
        "        \n",
        "        execints++;                                                     //n\n",
        "        if(numbers[i]>mayor){\n",
        "          \n",
        "          smayor = mayor;                                             //[0,2n]\n",
        "          execints++;\n",
        "\n",
        "          mayor = numbers[i];                                         \n",
        "          execints++;\n",
        "\n",
        "          co1++;\n",
        "\n",
        "        }else{                                                       //[0,n]\n",
        "            co2++;\n",
        "                                                                \n",
        "            execints++;\n",
        "            if(numbers[i]>smayor){   \n",
        "                co3++;\n",
        "\n",
        "                smayor = numbers[i];                                  //[0,n]\n",
        "                execints++;\n",
        "            }   \n",
        "        }\n",
        "        \n",
        "    }\n",
        "    std::cout<<\"co1: \"<<co1<<\"\\n\";\n",
        "    std::cout<<\"co2: \"<<co2<<\"\\n\";\n",
        "    std::cout<<\"co3: \"<<co3<<\"\\n\";\n",
        "    max_product = (long long)mayor*smayor;                              //1\n",
        "    execints++;\n",
        "                                                              //--------------\n",
        "    return max_product;                                       //  6 + [3n,8n]\n",
        "}\n",
        "\n",
        "int main() {         \n",
        "    long long execints =0LL;                                              \n",
        "\n",
        "    int n;                                                              //1\n",
        "    execints++;\n",
        "\n",
        "    std::cin >> n;                                                      //1\n",
        "    execints++;                                                    \n",
        "\n",
        "    std::vector<int> numbers(n);                                        //n\n",
        "    execints+=n;   \n",
        "                                        \n",
        "    long long maxproduc = 0LL;                                          //1\n",
        "    execints++;\n",
        "\n",
        "\n",
        "    execints++;\n",
        "    for (int i = 0; i < n; ++i) {                                       //1 + 2n\n",
        "        execints+=2;\n",
        "\n",
        "        std::cin >> numbers[i];                                         //n\n",
        "        execints++;\n",
        "\n",
        "    }\n",
        "\n",
        "    maxproduc = MaxPairwiseProductEficiente(numbers,execints);          //  6 + [3n,8n]\n",
        "    execints++;                                                         //1\n",
        "\n",
        "    //std::cout<<maxproduc<<\"\\n\";       \n",
        "    \n",
        "    std::cout <<\"execints: \"<<execints << \"\\n\";                          //-----------------\n",
        "    return 0;                                               //    11 + [7n, 12n]\n",
        "}\n",
        "\n"
      ],
      "execution_count": 131,
      "outputs": [
        {
          "output_type": "stream",
          "text": [
            "Writing max_pairwise_product_eficiente_execints.cpp\n"
          ],
          "name": "stdout"
        }
      ]
    },
    {
      "cell_type": "code",
      "metadata": {
        "id": "kVFZbYDbRsuR"
      },
      "source": [
        "!g++ max_pairwise_product_eficiente_execints.cpp -o max_pairwise_product_eficiente_execints"
      ],
      "execution_count": 132,
      "outputs": []
    },
    {
      "cell_type": "code",
      "metadata": {
        "colab": {
          "base_uri": "https://localhost:8080/"
        },
        "id": "_cHNau05RwOR",
        "outputId": "36455edf-191e-40e9-a9f0-df029da1c1aa"
      },
      "source": [
        "!./max_pairwise_product_eficiente_execints<input1.txt"
      ],
      "execution_count": 133,
      "outputs": [
        {
          "output_type": "stream",
          "text": [
            "co1: 10\n",
            "co2: 0\n",
            "co3: 0\n",
            "execints: 101\n"
          ],
          "name": "stdout"
        }
      ]
    },
    {
      "cell_type": "code",
      "metadata": {
        "colab": {
          "base_uri": "https://localhost:8080/"
        },
        "id": "0GJiYlEXR1dZ",
        "outputId": "4913cf01-7328-409d-b34b-08c3aaeabfd6"
      },
      "source": [
        "!./max_pairwise_product_eficiente_execints<input2.txt"
      ],
      "execution_count": 134,
      "outputs": [
        {
          "output_type": "stream",
          "text": [
            "co1: 3\n",
            "co2: 3\n",
            "co3: 2\n",
            "execints: 64\n"
          ],
          "name": "stdout"
        }
      ]
    },
    {
      "cell_type": "code",
      "metadata": {
        "colab": {
          "base_uri": "https://localhost:8080/"
        },
        "id": "oyCIS4oWR4eI",
        "outputId": "ef0aa3fa-b675-4ed2-e38b-717819726fd5"
      },
      "source": [
        "!./max_pairwise_product_eficiente_execints<input3.txt"
      ],
      "execution_count": 135,
      "outputs": [
        {
          "output_type": "stream",
          "text": [
            "co1: 200000\n",
            "co2: 0\n",
            "co3: 0\n",
            "execints: 1800011\n"
          ],
          "name": "stdout"
        }
      ]
    },
    {
      "cell_type": "markdown",
      "metadata": {
        "id": "ZJ9y6TnqJq6N"
      },
      "source": [
        "\n",
        "For the input1.txt \n",
        "```\n",
        "10\n",
        "1 2 3 4 5 6 7 8 9 10\n",
        "```\n",
        "$$T = 11 + (7)(10) + (2)(10) +  (1)(0) + (1)(0) = 101 $$\n",
        "\n",
        "For the input2.txt \n",
        "```\n",
        "6\n",
        "1 3 200000 9 200000 23\n",
        "```\n",
        "$$T = 11 + 7(6) + 2(3) + (1)(3) + (1)(2)= 64$$\n",
        " \n",
        "\n",
        "For the input3.txt that is the worst case (n=200000 and list in incresing order)\n",
        "\n",
        "```\n",
        "200000\n",
        "1 2 3 4 5 6 7 8 9 10 ... 199998 199999 200000\n",
        "```\n",
        "\n",
        "$$T = 11 + (7)(200000) + (2)(200000) + (1)(0) + (1)(0)= 1800011$$"
      ]
    },
    {
      "cell_type": "markdown",
      "metadata": {
        "id": "NyByXrxc7hOb"
      },
      "source": [
        "Calculate estimated time by instruction and number of instructions by second"
      ]
    },
    {
      "cell_type": "code",
      "metadata": {
        "colab": {
          "base_uri": "https://localhost:8080/"
        },
        "id": "7J6FQmYlVeK0",
        "outputId": "287ffde8-a2dc-4fbf-d6f7-49b07b32c451"
      },
      "source": [
        "# Estimated time by instruction using input 3\n",
        "\n",
        "0.067/1800011"
      ],
      "execution_count": 167,
      "outputs": [
        {
          "output_type": "execute_result",
          "data": {
            "text/plain": [
              "3.7221994754476504e-08"
            ]
          },
          "metadata": {
            "tags": []
          },
          "execution_count": 167
        }
      ]
    },
    {
      "cell_type": "code",
      "metadata": {
        "colab": {
          "base_uri": "https://localhost:8080/"
        },
        "id": "9ewVKT1EVzw5",
        "outputId": "4e14d55f-0ff6-4948-a955-99efe074ac3d"
      },
      "source": [
        "# Estimated number of instructions by second using input 3\n",
        "\n",
        "1/(0.067/1800011)"
      ],
      "execution_count": 168,
      "outputs": [
        {
          "output_type": "execute_result",
          "data": {
            "text/plain": [
              "26865835.82089552"
            ]
          },
          "metadata": {
            "tags": []
          },
          "execution_count": 168
        }
      ]
    },
    {
      "cell_type": "markdown",
      "metadata": {
        "id": "qLhChyp8lFN6"
      },
      "source": [
        "### Super efficient solution\n",
        "\n",
        "Whitout storing the list in memory and whitout calling a function, add in each line a coment with the number of intstrcution that are executed in that line "
      ]
    },
    {
      "cell_type": "code",
      "metadata": {
        "colab": {
          "base_uri": "https://localhost:8080/"
        },
        "id": "CU3O3AZZ7n71",
        "outputId": "2065840d-c5d6-43f0-d68a-d01d6e2961d5"
      },
      "source": [
        "%%writefile max_pairwise_product_super_eficiente.cpp\n",
        "#include <iostream>\n",
        "#include <vector>\n",
        "#include <algorithm>\n",
        "#include <list>\n",
        "\n",
        "\n",
        "int main() {\n",
        "    long long execints =0LL; \n",
        "    long long co1 = 0LL;\n",
        "    long long co2 = 0LL;\n",
        "    long long co3 = 0LL;  \n",
        "\n",
        "    int n;                                                                //1\n",
        "    execints++;\n",
        "\n",
        "    long long max_product = 0LL;                                          //1\n",
        "    execints++;\n",
        "\n",
        "    long long mayor = 0LL;                                                //1\n",
        "    execints++;\n",
        "\n",
        "    long long smayor = 0LL;                                               //1\n",
        "    execints++;\n",
        "\n",
        "    long long temp = 0LL;                                                 //1\n",
        "    execints++;\n",
        "\n",
        "    std::cin >> n;                                                        //1\n",
        "    execints++;\n",
        "\n",
        "    execints++;\n",
        "    for (int i = 0; i < n; ++i) {                                     //2n + 1\n",
        "        execints+=2;\n",
        "\n",
        "        std::cin >> temp;                                                 //1\n",
        "        execints++;\n",
        "\n",
        "        execints++;                                                       //1\n",
        "        if(temp>mayor){                                               //[0,2n]\n",
        "          smayor = mayor;\n",
        "          execints++; \n",
        "\n",
        "          mayor = temp;\n",
        "          execints++; \n",
        "          co1++;\n",
        "        }else{                                                        //[0,n]\n",
        "          co2++;\n",
        "          execints++;                                                     \n",
        "          if(temp>smayor){                                            //[0,n]\n",
        "            co3++;\n",
        "            smayor = temp;\n",
        "            execints++;   \n",
        "\n",
        "          }  \n",
        "        } \n",
        "    }\n",
        "    max_product = (long long)mayor*smayor;                            //1\n",
        "    execints++;                                                     \n",
        "\n",
        "    //std::cout <<\"execints: \"<<execints << \"\\n\";        //-----------                              \n",
        "    std::cout<<max_product<<\"\\n\";\n",
        "    return 0;                                                     // 10 + [2n, 6n]\n",
        "}\n"
      ],
      "execution_count": 193,
      "outputs": [
        {
          "output_type": "stream",
          "text": [
            "Overwriting max_pairwise_product_super_eficiente.cpp\n"
          ],
          "name": "stdout"
        }
      ]
    },
    {
      "cell_type": "code",
      "metadata": {
        "id": "57abRsrMZ_tx"
      },
      "source": [
        "!g++ max_pairwise_product_super_eficiente.cpp -o max_pairwise_product_super_eficiente"
      ],
      "execution_count": 194,
      "outputs": []
    },
    {
      "cell_type": "markdown",
      "metadata": {
        "id": "OvqoosevXT3R"
      },
      "source": [
        "Test with inputs 1 and 2"
      ]
    },
    {
      "cell_type": "code",
      "metadata": {
        "colab": {
          "base_uri": "https://localhost:8080/"
        },
        "id": "6Ir30bQClFgq",
        "outputId": "bfabe42b-c7fb-46ee-ac93-c262a1600d35"
      },
      "source": [
        "!./max_pairwise_product_super_eficiente<input1.txt\n",
        "!./max_pairwise_product_super_eficiente<input2.txt"
      ],
      "execution_count": 195,
      "outputs": [
        {
          "output_type": "stream",
          "text": [
            "90\n",
            "40000000000\n"
          ],
          "name": "stdout"
        }
      ]
    },
    {
      "cell_type": "markdown",
      "metadata": {
        "id": "LxCG2_m1XWww"
      },
      "source": [
        "Test and time it with input 3"
      ]
    },
    {
      "cell_type": "code",
      "metadata": {
        "colab": {
          "base_uri": "https://localhost:8080/"
        },
        "id": "R44N9f1TXaNZ",
        "outputId": "2f0da2f4-e6f0-40c2-91cd-ee1201476bab"
      },
      "source": [
        "!time ./max_pairwise_product_super_eficiente<input3.txt"
      ],
      "execution_count": 215,
      "outputs": [
        {
          "output_type": "stream",
          "text": [
            "39999800000\n",
            "\n",
            "real\t0m0.059s\n",
            "user\t0m0.056s\n",
            "sys\t0m0.003s\n"
          ],
          "name": "stdout"
        }
      ]
    },
    {
      "cell_type": "markdown",
      "metadata": {
        "id": "OWKgjEOwXYYw"
      },
      "source": [
        "20 stress tests"
      ]
    },
    {
      "cell_type": "code",
      "metadata": {
        "colab": {
          "base_uri": "https://localhost:8080/"
        },
        "id": "GfwaVQJnXbM3",
        "outputId": "a5da4d75-3e31-4fe2-cb53-fc6eedda08c8"
      },
      "source": [
        "%%writefile stresstest_superefficient.cpp\n",
        "#include <iostream>\n",
        "#include <vector>\n",
        "#include <algorithm>\n",
        "#include <ctime>\n",
        "\n",
        "int main()\n",
        "{\n",
        "    srand(time(NULL));\n",
        "    int n, aleatorio;\n",
        "    n = 20;\n",
        "    //std::cout<<n<<\"\\n\";\n",
        "    for(int i=0; i < n; i++){\n",
        "        long long max_product = 0LL;\n",
        "        long long mayor = 0LL;\n",
        "        long long smayor = 0LL;\n",
        "        long long temp = 0LL;\n",
        "        int nums = rand()%(20-2 + 1) + 2;\n",
        "        std::cout<<nums<<\"\\n\";\n",
        "        for (int j = 0; j < nums; j++)\n",
        "        {\n",
        "            temp = rand()%200000;\n",
        "            if(temp>mayor){\n",
        "              smayor = mayor;\n",
        "              mayor = temp;\n",
        "            }else if(temp>smayor){\n",
        "              smayor = temp;\n",
        "            }\n",
        "\n",
        "        }\n",
        "        max_product = (long long)mayor*smayor;\n",
        "        std::cout<<max_product<<\"\\n\";\n",
        "        \n",
        "    }\n",
        "    return 0;\n",
        "}"
      ],
      "execution_count": 185,
      "outputs": [
        {
          "output_type": "stream",
          "text": [
            "Overwriting stresstest_superefficient.cpp\n"
          ],
          "name": "stdout"
        }
      ]
    },
    {
      "cell_type": "code",
      "metadata": {
        "id": "YOnqM-grb32y"
      },
      "source": [
        "!g++ stresstest_superefficient.cpp -o stresstest_superefficient"
      ],
      "execution_count": 186,
      "outputs": []
    },
    {
      "cell_type": "code",
      "metadata": {
        "colab": {
          "base_uri": "https://localhost:8080/"
        },
        "id": "ke4e0DvwcDw3",
        "outputId": "19bf70c5-d5f6-4ea6-9692-e2e4f428c2bd"
      },
      "source": [
        "!./stresstest_superefficient"
      ],
      "execution_count": 187,
      "outputs": [
        {
          "output_type": "stream",
          "text": [
            "14\n",
            "36729293475\n",
            "4\n",
            "24540192936\n",
            "9\n",
            "30025920265\n",
            "13\n",
            "38155486278\n",
            "19\n",
            "35916486106\n",
            "5\n",
            "19494903714\n",
            "8\n",
            "29224940473\n",
            "18\n",
            "36066361305\n",
            "11\n",
            "22497822304\n",
            "9\n",
            "18303249875\n",
            "11\n",
            "23159973580\n",
            "10\n",
            "32317159770\n",
            "10\n",
            "27013941500\n",
            "4\n",
            "9120459960\n",
            "14\n",
            "36551117228\n",
            "6\n",
            "19847563047\n",
            "7\n",
            "31331756103\n",
            "17\n",
            "35277837777\n",
            "17\n",
            "25547837669\n",
            "2\n",
            "7845813335\n"
          ],
          "name": "stdout"
        }
      ]
    },
    {
      "cell_type": "markdown",
      "metadata": {
        "id": "eyq-psDTXc_H"
      },
      "source": [
        "Count executed instructions in code and verify with inputs 1,2 and 3"
      ]
    },
    {
      "cell_type": "code",
      "metadata": {
        "colab": {
          "base_uri": "https://localhost:8080/"
        },
        "id": "kVN37q_8XdvA",
        "outputId": "394df333-9fec-4797-e195-0a698a35db00"
      },
      "source": [
        "%%writefile max_pairwise_product_super_eficiente_execints.cpp\n",
        "#include <iostream>\n",
        "#include <vector>\n",
        "#include <algorithm>\n",
        "#include <list>\n",
        "\n",
        "\n",
        "int main() {\n",
        "    long long execints =0LL; \n",
        "    long long co1 = 0LL;\n",
        "    long long co2 = 0LL;\n",
        "    long long co3 = 0LL;  \n",
        "\n",
        "    int n;                                                                //1\n",
        "    execints++;\n",
        "\n",
        "    long long max_product = 0LL;                                          //1\n",
        "    execints++;\n",
        "\n",
        "    long long mayor = 0LL;                                                //1\n",
        "    execints++;\n",
        "\n",
        "    long long smayor = 0LL;                                               //1\n",
        "    execints++;\n",
        "\n",
        "    long long temp = 0LL;                                                 //1\n",
        "    execints++;\n",
        "\n",
        "    std::cin >> n;                                                        //1\n",
        "    execints++;\n",
        "\n",
        "    execints++;\n",
        "    for (int i = 0; i < n; ++i) {                                     //2n + 1\n",
        "        execints+=2;\n",
        "\n",
        "        std::cin >> temp;                                                 //n\n",
        "        execints++;\n",
        "\n",
        "        execints++;                                                       //n\n",
        "        if(temp>mayor){                                               //[0,2n]\n",
        "          smayor = mayor;\n",
        "          execints++; \n",
        "\n",
        "          mayor = temp;\n",
        "          execints++; \n",
        "          co1++;\n",
        "        }else{                                                        //[0,n]\n",
        "          co2++;\n",
        "          execints++;                                                     \n",
        "          if(temp>smayor){                                            //[0,n]\n",
        "            co3++;\n",
        "            smayor = temp;\n",
        "            execints++;   \n",
        "\n",
        "          }  \n",
        "        } \n",
        "    }\n",
        "\n",
        "    max_product = (long long)mayor*smayor;                            //1\n",
        "    execints++;                                                     \n",
        "\n",
        "    std::cout<<\"co1: \"<<co1<<\"\\n\";\n",
        "    std::cout<<\"co2: \"<<co2<<\"\\n\";\n",
        "    std::cout<<\"co3: \"<<co3<<\"\\n\";\n",
        "\n",
        "    std::cout <<\"execints: \"<<execints << \"\\n\";        //-----------                              \n",
        "    //std::cout<<max_product<<\"\\n\";\n",
        "    return 0;                                                     // 8 + [4n, 8n]\n",
        "}\n"
      ],
      "execution_count": 208,
      "outputs": [
        {
          "output_type": "stream",
          "text": [
            "Overwriting max_pairwise_product_super_eficiente_execints.cpp\n"
          ],
          "name": "stdout"
        }
      ]
    },
    {
      "cell_type": "code",
      "metadata": {
        "id": "DwkZYQNEc5JP"
      },
      "source": [
        "!g++ max_pairwise_product_super_eficiente_execints.cpp -o max_pairwise_product_super_eficiente_execints"
      ],
      "execution_count": 209,
      "outputs": []
    },
    {
      "cell_type": "code",
      "metadata": {
        "colab": {
          "base_uri": "https://localhost:8080/"
        },
        "id": "SIB1SDXZdEgg",
        "outputId": "00b8ca20-50a1-4802-ff36-84202b8428bb"
      },
      "source": [
        "! ./max_pairwise_product_super_eficiente_execints<input1.txt"
      ],
      "execution_count": 213,
      "outputs": [
        {
          "output_type": "stream",
          "text": [
            "co1: 10\n",
            "co2: 0\n",
            "co3: 0\n",
            "execints: 68\n"
          ],
          "name": "stdout"
        }
      ]
    },
    {
      "cell_type": "code",
      "metadata": {
        "colab": {
          "base_uri": "https://localhost:8080/"
        },
        "id": "iu-RoeIJdPtH",
        "outputId": "d835f7f4-a9e7-4507-b870-c0608a1e7827"
      },
      "source": [
        "! ./max_pairwise_product_super_eficiente_execints<input2.txt"
      ],
      "execution_count": 211,
      "outputs": [
        {
          "output_type": "stream",
          "text": [
            "co1: 3\n",
            "co2: 3\n",
            "co3: 2\n",
            "execints: 43\n"
          ],
          "name": "stdout"
        }
      ]
    },
    {
      "cell_type": "code",
      "metadata": {
        "colab": {
          "base_uri": "https://localhost:8080/"
        },
        "id": "YGKOY34tdRvn",
        "outputId": "1d97dcba-2056-43f3-99ec-629bde9b1a45"
      },
      "source": [
        "! ./max_pairwise_product_super_eficiente_execints<input3.txt"
      ],
      "execution_count": 212,
      "outputs": [
        {
          "output_type": "stream",
          "text": [
            "co1: 200000\n",
            "co2: 0\n",
            "co3: 0\n",
            "execints: 1200008\n"
          ],
          "name": "stdout"
        }
      ]
    },
    {
      "cell_type": "markdown",
      "metadata": {
        "id": "Qix7smGGdbdX"
      },
      "source": [
        "\n",
        "For the input1.txt \n",
        "```\n",
        "10\n",
        "1 2 3 4 5 6 7 8 9 10\n",
        "```\n",
        "$$T = 8 + (4)(10) + (2)(10) +  (1)(0) + (1)(0) = 68 $$\n",
        "\n",
        "For the input2.txt \n",
        "```\n",
        "6\n",
        "1 3 200000 9 200000 23\n",
        "```\n",
        "$$T = 8 + (4)(6) + 2(3) + (1)(3) + (1)(2)= 43$$\n",
        " \n",
        "\n",
        "For the input3.txt that is the worst case (n=200000 and list in incresing order)\n",
        "\n",
        "```\n",
        "200000\n",
        "1 2 3 4 5 6 7 8 9 10 ... 199998 199999 200000\n",
        "```\n",
        "\n",
        "$$T = 8 + (4)(200000) + (2)(200000) + (1)(0) + (1)(0)= 1200008$$"
      ]
    },
    {
      "cell_type": "markdown",
      "metadata": {
        "id": "_7l7Qbm5gsxr"
      },
      "source": [
        "Calculate estimated time by instruction and number of instructions by second"
      ]
    },
    {
      "cell_type": "code",
      "metadata": {
        "colab": {
          "base_uri": "https://localhost:8080/"
        },
        "id": "kMFUtakagsyF",
        "outputId": "7f618862-d9a4-4ee2-b84e-f7a510e8720a"
      },
      "source": [
        "# Estimated time by instruction using input 3\n",
        "\n",
        "0.059/1200008"
      ],
      "execution_count": 216,
      "outputs": [
        {
          "output_type": "execute_result",
          "data": {
            "text/plain": [
              "4.9166338891074055e-08"
            ]
          },
          "metadata": {
            "tags": []
          },
          "execution_count": 216
        }
      ]
    },
    {
      "cell_type": "code",
      "metadata": {
        "colab": {
          "base_uri": "https://localhost:8080/"
        },
        "id": "QlbzzQ6OgsyH",
        "outputId": "c3f11e15-206b-4a19-e302-c7ce1548c8aa"
      },
      "source": [
        "# Estimated number of instructions by second using input 3\n",
        "\n",
        "1/(0.059/1200008)"
      ],
      "execution_count": 217,
      "outputs": [
        {
          "output_type": "execute_result",
          "data": {
            "text/plain": [
              "20339118.644067798"
            ]
          },
          "metadata": {
            "tags": []
          },
          "execution_count": 217
        }
      ]
    },
    {
      "cell_type": "markdown",
      "metadata": {
        "id": "AuXDLhjgiV9W"
      },
      "source": [
        "## Python"
      ]
    },
    {
      "cell_type": "code",
      "metadata": {
        "colab": {
          "base_uri": "https://localhost:8080/"
        },
        "id": "d1bEarlAiV9X",
        "outputId": "a6c68bbc-b184-45d3-ac17-8226d43ae3c4"
      },
      "source": [
        "%%writefile max_pairwise_product1.py\n",
        "# python3\n",
        "\n",
        "def max_pairwise_product(numbers):\n",
        "    n = len(numbers)\n",
        "    max_product = 0\n",
        "    for first in range(n):\n",
        "        for second in range(first + 1, n):\n",
        "            max_product = max(max_product,\n",
        "                numbers[first] * numbers[second])\n",
        "\n",
        "    return max_product\n",
        "\n",
        "\n",
        "if __name__ == '__main__':\n",
        "    input_n = int(input())\n",
        "    input_numbers = [int(x) for x in input().split()]\n",
        "    print(max_pairwise_product(input_numbers))"
      ],
      "execution_count": 234,
      "outputs": [
        {
          "output_type": "stream",
          "text": [
            "Overwriting max_pairwise_product1.py\n"
          ],
          "name": "stdout"
        }
      ]
    },
    {
      "cell_type": "code",
      "metadata": {
        "colab": {
          "base_uri": "https://localhost:8080/"
        },
        "id": "0Mn1vFkwjQqT",
        "outputId": "45dc4ad6-c568-49c3-ba4c-43d04b6c3b54"
      },
      "source": [
        "!python max_pairwise_product1.py"
      ],
      "execution_count": 235,
      "outputs": [
        {
          "output_type": "stream",
          "text": [
            "6\n",
            "9 8 7 6 5 4 \n",
            "72\n"
          ],
          "name": "stdout"
        }
      ]
    },
    {
      "cell_type": "markdown",
      "metadata": {
        "id": "6OjpDUiYiV92"
      },
      "source": [
        "### Test 1: Small numbers"
      ]
    },
    {
      "cell_type": "code",
      "metadata": {
        "colab": {
          "base_uri": "https://localhost:8080/"
        },
        "id": "jwquUjHfiV94",
        "outputId": "76da3364-d6d3-4cc7-a05c-330e1cecd573"
      },
      "source": [
        "!python max_pairwise_product1.py < input1.txt"
      ],
      "execution_count": 225,
      "outputs": [
        {
          "output_type": "stream",
          "text": [
            "90\n"
          ],
          "name": "stdout"
        }
      ]
    },
    {
      "cell_type": "markdown",
      "metadata": {
        "id": "9cBBrJTpiV95"
      },
      "source": [
        "##### Test 2: largest input numbers 200000 200000 in the input"
      ]
    },
    {
      "cell_type": "code",
      "metadata": {
        "colab": {
          "base_uri": "https://localhost:8080/"
        },
        "id": "qg_55Pi-iV97",
        "outputId": "be2fb45d-23c1-4d6e-9e09-4ed23764f3c7"
      },
      "source": [
        "!python max_pairwise_product1.py< input2.txt"
      ],
      "execution_count": 226,
      "outputs": [
        {
          "output_type": "stream",
          "text": [
            "40000000000\n"
          ],
          "name": "stdout"
        }
      ]
    },
    {
      "cell_type": "markdown",
      "metadata": {
        "id": "O6-CcKi1iV99"
      },
      "source": [
        "### Test 3 stress tests 20 times random n in [2, 20]"
      ]
    },
    {
      "cell_type": "code",
      "metadata": {
        "colab": {
          "base_uri": "https://localhost:8080/"
        },
        "id": "fvM_9jYBiV99",
        "outputId": "64f83559-202f-4cc0-c6b0-e797f99e82f7"
      },
      "source": [
        "%%writefile max_pairwise_product_stressTest.py\n",
        "# python3\n",
        "import numpy as np\n",
        "def max_pairwise_product(numbers):\n",
        "    n = len(numbers)\n",
        "    max_product = 0\n",
        "    for first in range(n):\n",
        "        for second in range(first + 1, n):\n",
        "            max_product = max(max_product,\n",
        "                numbers[first] * numbers[second])\n",
        "\n",
        "    return max_product\n",
        "\n",
        "if __name__ == '__main__':\n",
        "  n = 20\n",
        "  for i in range(n):\n",
        "    nums = np.random.randint(18, size = 1)+2\n",
        "    print(nums[0],\"\\n\")\n",
        "    numbers = np.random.randint(199999, size=nums)\n",
        "    numbers = numbers + 1\n",
        "    print( max_pairwise_product(numbers),\"\\n\")\n"
      ],
      "execution_count": 229,
      "outputs": [
        {
          "output_type": "stream",
          "text": [
            "Overwriting max_pairwise_product_stressTest.py\n"
          ],
          "name": "stdout"
        }
      ]
    },
    {
      "cell_type": "code",
      "metadata": {
        "colab": {
          "base_uri": "https://localhost:8080/"
        },
        "id": "RB3KONv7iV99",
        "outputId": "395bc4f7-2662-42f8-e9b7-ec2c86edc461"
      },
      "source": [
        "!python max_pairwise_product_stressTest.py"
      ],
      "execution_count": 230,
      "outputs": [
        {
          "output_type": "stream",
          "text": [
            "16 \n",
            "\n",
            "29471805160 \n",
            "\n",
            "7 \n",
            "\n",
            "27106707085 \n",
            "\n",
            "14 \n",
            "\n",
            "29777225265 \n",
            "\n",
            "14 \n",
            "\n",
            "27801347445 \n",
            "\n",
            "18 \n",
            "\n",
            "26599747068 \n",
            "\n",
            "9 \n",
            "\n",
            "26925324580 \n",
            "\n",
            "4 \n",
            "\n",
            "16453734479 \n",
            "\n",
            "15 \n",
            "\n",
            "37256600476 \n",
            "\n",
            "11 \n",
            "\n",
            "27744770460 \n",
            "\n",
            "9 \n",
            "\n",
            "16747544037 \n",
            "\n",
            "15 \n",
            "\n",
            "28974301845 \n",
            "\n",
            "3 \n",
            "\n",
            "31114582317 \n",
            "\n",
            "15 \n",
            "\n",
            "23789096045 \n",
            "\n",
            "17 \n",
            "\n",
            "35551642866 \n",
            "\n",
            "15 \n",
            "\n",
            "28206806808 \n",
            "\n",
            "2 \n",
            "\n",
            "10959755409 \n",
            "\n",
            "8 \n",
            "\n",
            "36159959250 \n",
            "\n",
            "9 \n",
            "\n",
            "27588307097 \n",
            "\n",
            "12 \n",
            "\n",
            "36302383744 \n",
            "\n",
            "19 \n",
            "\n",
            "34688419601 \n",
            "\n"
          ],
          "name": "stdout"
        }
      ]
    },
    {
      "cell_type": "markdown",
      "metadata": {
        "id": "g_FftijOiV9-"
      },
      "source": [
        "### Test 4 time test measure the execution time running with the the largest worst case file (200000 increasing numbers, 200000 and 200000 the end)"
      ]
    },
    {
      "cell_type": "code",
      "metadata": {
        "colab": {
          "base_uri": "https://localhost:8080/"
        },
        "id": "I42L1pml1LYk",
        "outputId": "4ac7cde3-8314-4df9-d288-2d6f5c59dafa"
      },
      "source": [
        "!time python max_pairwise_product1.py<input3.txt"
      ],
      "execution_count": null,
      "outputs": [
        {
          "output_type": "stream",
          "text": [
            "40000000000\n",
            "\n",
            "real\t84m44.197s\n",
            "user\t84m3.897s\n",
            "sys\t0m1.346s\n"
          ],
          "name": "stdout"
        }
      ]
    },
    {
      "cell_type": "markdown",
      "metadata": {
        "id": "SQC4nBQDiV-B"
      },
      "source": [
        "### **Efficient solution**"
      ]
    },
    {
      "cell_type": "markdown",
      "metadata": {
        "id": "2eHea7fviV-B"
      },
      "source": [
        "Add in each line a coment with the number of intstrcution that are executed in that line"
      ]
    },
    {
      "cell_type": "code",
      "metadata": {
        "colab": {
          "base_uri": "https://localhost:8080/"
        },
        "id": "99XWtTiIiV-B",
        "outputId": "1f79b8f3-6d09-4319-9f48-3a4fc3ecbf8c"
      },
      "source": [
        "%%writefile max_pairwise_product1_eficiente.py\n",
        "# python3\n",
        "\n",
        "\n",
        "def max_pairwise_product_eficiente(numbers):\n",
        "    co1 = 0\n",
        "    co2 = 0\n",
        "    co3 = 0\n",
        "    global execints\n",
        "    n = len(numbers)                                                #1\n",
        "    execints+=1\n",
        "\n",
        "    max_product = 0                                                 #1    \n",
        "    execints+=1\n",
        "\n",
        "    mayor = 0                                                       #1\n",
        "    execints+=1\n",
        "\n",
        "    smayor=0                                                        #1\n",
        "    execints+=1\n",
        "\n",
        "    for first in range(n):                                          #n\n",
        "      execints+=1\n",
        "\n",
        "      execints+=1                                                   #n\n",
        "      if numbers[first]>mayor:                                     #[0,2n]\n",
        "        smayor = mayor\n",
        "        execints+=1\n",
        "\n",
        "        mayor = numbers[first]\n",
        "        execints+=1\n",
        "        co1+=1\n",
        "      else:                                                        #[0,n]\n",
        "\n",
        "        co2+=1\n",
        "        execints+=1                                                \n",
        "        if numbers[first]>smayor:                                  #[0,n]\n",
        "          co3+=1\n",
        "          smayor = numbers[first]\n",
        "          execints+=1  \n",
        "\n",
        "      #print(\"Mayor: \",mayor,\"  -  Segundo: \",smayor,\"\\n\")\n",
        "    max_product = mayor*smayor                                      #1\n",
        "    execints +=1\n",
        "    \n",
        "    #print(\"co1: \",co1,\"\\n\")\n",
        "    #print(\"co2: \",co2,\"\\n\")\n",
        "    #print(\"co3: \",co3,\"\\n\") \n",
        "    \n",
        "    \n",
        "                                                            #---------------\n",
        "    return max_product                                      #5+[2n,6n]\n",
        "\n",
        "\n",
        "if __name__ == '__main__':\n",
        "    execints = int()\n",
        "    input_n = int(input())                                    #1\n",
        "    execints = execints +1\n",
        "\n",
        "    input_numbers = [int(x) for x in input().split()]         #n\n",
        "    execints += input_n\n",
        "                                                      \n",
        "    execints = execints +1                                      #1\n",
        "                                                                  #-----------\n",
        "    max_prod = (max_pairwise_product_eficiente(input_numbers))      #7+[2n,6n]\n",
        "    print(max_prod)\n",
        "    #print(\"execints: \",execints,\"\\n\")                        #------------\n",
        "                                                             \n",
        "                                                              #7+[3n,7n]\n"
      ],
      "execution_count": 326,
      "outputs": [
        {
          "output_type": "stream",
          "text": [
            "Overwriting max_pairwise_product1_eficiente.py\n"
          ],
          "name": "stdout"
        }
      ]
    },
    {
      "cell_type": "markdown",
      "metadata": {
        "id": "Lj5dVnOeiV-B"
      },
      "source": [
        "Test with inputs 1 and 2"
      ]
    },
    {
      "cell_type": "code",
      "metadata": {
        "colab": {
          "base_uri": "https://localhost:8080/"
        },
        "id": "6BmZM7ZjiV-C",
        "outputId": "1958e8d0-cc4c-47de-d2ce-18905787ce87"
      },
      "source": [
        "!python max_pairwise_product1_eficiente.py<input1.txt\n",
        "!python max_pairwise_product1_eficiente.py<input2.txt"
      ],
      "execution_count": 327,
      "outputs": [
        {
          "output_type": "stream",
          "text": [
            "90\n",
            "40000000000\n"
          ],
          "name": "stdout"
        }
      ]
    },
    {
      "cell_type": "markdown",
      "metadata": {
        "id": "Lno7Gcl7iV-C"
      },
      "source": [
        "Test and time it with input 3"
      ]
    },
    {
      "cell_type": "code",
      "metadata": {
        "colab": {
          "base_uri": "https://localhost:8080/"
        },
        "id": "ROLmO3MCiV-C",
        "outputId": "214f4879-0cca-43e9-c577-35450e23226c"
      },
      "source": [
        "! time python max_pairwise_product1_eficiente.py<input3.txt"
      ],
      "execution_count": 328,
      "outputs": [
        {
          "output_type": "stream",
          "text": [
            "39999800000\n",
            "\n",
            "real\t0m0.250s\n",
            "user\t0m0.204s\n",
            "sys\t0m0.044s\n"
          ],
          "name": "stdout"
        }
      ]
    },
    {
      "cell_type": "markdown",
      "metadata": {
        "id": "B4Rke4-ViV-C"
      },
      "source": [
        "20 stress tests"
      ]
    },
    {
      "cell_type": "code",
      "metadata": {
        "colab": {
          "base_uri": "https://localhost:8080/"
        },
        "id": "yCo4IhguiV-C",
        "outputId": "136a9874-6b67-4344-d4e3-cab184871608"
      },
      "source": [
        "%%writefile efficient_stressTest.py\n",
        "# python3\n",
        "import numpy as np\n",
        "def max_pairwise_product_eficiente(numbers):\n",
        "    n = len(numbers)\n",
        "    max_product = 0\n",
        "    mayor = 0\n",
        "    smayor=0\n",
        "    for first in range(n):\n",
        "      if numbers[first]>mayor:\n",
        "        smayor = mayor\n",
        "        mayor = numbers[first]\n",
        "      else:\n",
        "        if numbers[first]>smayor:\n",
        "          smayor = numbers[first]\n",
        "      #print(\"Mayor: \",mayor,\"  -  Segundo: \",smayor,\"\\n\")\n",
        "    max_product = mayor*smayor\n",
        "    return max_product\n",
        "\n",
        "if __name__ == '__main__':\n",
        "  n = 20\n",
        "  for i in range(n):\n",
        "    nums = np.random.randint(18, size = 1)+2\n",
        "    print(nums[0],\"\\n\")\n",
        "    numbers = np.random.randint(199999, size=nums)\n",
        "    numbers = numbers + 1\n",
        "    print( max_pairwise_product_eficiente(numbers),\"\\n\")\n",
        "    "
      ],
      "execution_count": 284,
      "outputs": [
        {
          "output_type": "stream",
          "text": [
            "Overwriting efficient_stressTest.py\n"
          ],
          "name": "stdout"
        }
      ]
    },
    {
      "cell_type": "code",
      "metadata": {
        "colab": {
          "base_uri": "https://localhost:8080/"
        },
        "id": "UUhujMFM55wc",
        "outputId": "beb0bf91-762f-4074-82ce-d7429c6cd478"
      },
      "source": [
        "!python efficient_stressTest.py"
      ],
      "execution_count": 285,
      "outputs": [
        {
          "output_type": "stream",
          "text": [
            "10 \n",
            "\n",
            "29638140476 \n",
            "\n",
            "16 \n",
            "\n",
            "37301086318 \n",
            "\n",
            "12 \n",
            "\n",
            "35494517022 \n",
            "\n",
            "9 \n",
            "\n",
            "38244078990 \n",
            "\n",
            "4 \n",
            "\n",
            "12502544600 \n",
            "\n",
            "19 \n",
            "\n",
            "34480075368 \n",
            "\n",
            "13 \n",
            "\n",
            "39297011875 \n",
            "\n",
            "14 \n",
            "\n",
            "21634705388 \n",
            "\n",
            "4 \n",
            "\n",
            "27566871384 \n",
            "\n",
            "6 \n",
            "\n",
            "32036090073 \n",
            "\n",
            "12 \n",
            "\n",
            "23259045996 \n",
            "\n",
            "15 \n",
            "\n",
            "31265196170 \n",
            "\n",
            "11 \n",
            "\n",
            "33773164332 \n",
            "\n",
            "14 \n",
            "\n",
            "35696625349 \n",
            "\n",
            "15 \n",
            "\n",
            "32091252675 \n",
            "\n",
            "8 \n",
            "\n",
            "27113136040 \n",
            "\n",
            "9 \n",
            "\n",
            "24888050420 \n",
            "\n",
            "14 \n",
            "\n",
            "35969619658 \n",
            "\n",
            "5 \n",
            "\n",
            "16396322985 \n",
            "\n",
            "8 \n",
            "\n",
            "33631627680 \n",
            "\n"
          ],
          "name": "stdout"
        }
      ]
    },
    {
      "cell_type": "markdown",
      "metadata": {
        "id": "CQLj_Wv9iV-E"
      },
      "source": [
        "Count executed instructions in code and verify with inputs 1,2 and 3"
      ]
    },
    {
      "cell_type": "code",
      "metadata": {
        "colab": {
          "base_uri": "https://localhost:8080/"
        },
        "id": "TtXQpLiliV-F",
        "outputId": "682e0e5d-5ec2-4f3b-9069-de68f963c01c"
      },
      "source": [
        "%%writefile max_pairwise_product1_eficiente_excints.py\n",
        "# python3\n",
        "\n",
        "\n",
        "def max_pairwise_product_eficiente(numbers):\n",
        "    co1 = 0\n",
        "    co2 = 0\n",
        "    co3 = 0\n",
        "    global execints\n",
        "    n = len(numbers)                                                #1\n",
        "    execints+=1\n",
        "\n",
        "    max_product = 0                                                 #1    \n",
        "    execints+=1\n",
        "\n",
        "    mayor = 0                                                       #1\n",
        "    execints+=1\n",
        "\n",
        "    smayor=0                                                        #1\n",
        "    execints+=1\n",
        "\n",
        "    for first in range(n):                                          #n\n",
        "      execints+=1\n",
        "\n",
        "      execints+=1                                                   #n\n",
        "      if numbers[first]>mayor:                                     #[0,2n]\n",
        "        smayor = mayor\n",
        "        execints+=1\n",
        "\n",
        "        mayor = numbers[first]\n",
        "        execints+=1\n",
        "        co1+=1\n",
        "      else:                                                        #[0,n]\n",
        "\n",
        "        co2+=1\n",
        "        execints+=1                                                \n",
        "        if numbers[first]>smayor:                                  #[0,n]\n",
        "          co3+=1\n",
        "          smayor = numbers[first]\n",
        "          execints+=1  \n",
        "\n",
        "      #print(\"Mayor: \",mayor,\"  -  Segundo: \",smayor,\"\\n\")\n",
        "    \n",
        "    max_product = mayor*smayor                                      #1\n",
        "    execints+=1\n",
        "    \n",
        "    print(\"co1: \",co1,\"\\n\")\n",
        "    print(\"co2: \",co2,\"\\n\")\n",
        "    print(\"co3: \",co3,\"\\n\") \n",
        "    \n",
        "    \n",
        "                                                            #---------------\n",
        "    return max_product                                      #5+[2n,6n]\n",
        "\n",
        "\n",
        "if __name__ == '__main__':\n",
        "    execints = int()\n",
        "    input_n = int(input())                                    #1\n",
        "    execints = execints +1\n",
        "\n",
        "    input_numbers = [int(x) for x in input().split()]         #n\n",
        "    execints += input_n\n",
        "                                                      \n",
        "    execints = execints +1                                      #1\n",
        "                                                                  #-----------\n",
        "    max_prod = (max_pairwise_product_eficiente(input_numbers))      #7+[2n,6n]\n",
        "    #print(max_prod)\n",
        "    print(\"execints: \",execints,\"\\n\")                        #------------\n",
        "                                                             \n",
        "                                                              #7+[3n,7n]"
      ],
      "execution_count": 325,
      "outputs": [
        {
          "output_type": "stream",
          "text": [
            "Overwriting max_pairwise_product1_eficiente_excints.py\n"
          ],
          "name": "stdout"
        }
      ]
    },
    {
      "cell_type": "code",
      "metadata": {
        "colab": {
          "base_uri": "https://localhost:8080/"
        },
        "id": "UVF-Pf7R6YhF",
        "outputId": "e2d896c6-a604-41af-939f-72ee34f547ee"
      },
      "source": [
        "!python max_pairwise_product1_eficiente_excints.py<input1.txt"
      ],
      "execution_count": 329,
      "outputs": [
        {
          "output_type": "stream",
          "text": [
            "co1:  10 \n",
            "\n",
            "co2:  0 \n",
            "\n",
            "co3:  0 \n",
            "\n",
            "execints:  57 \n",
            "\n"
          ],
          "name": "stdout"
        }
      ]
    },
    {
      "cell_type": "code",
      "metadata": {
        "colab": {
          "base_uri": "https://localhost:8080/"
        },
        "id": "nWfc8QVu-W7F",
        "outputId": "c6261e89-a7b7-4c25-95fa-7c51db3303d6"
      },
      "source": [
        "!python max_pairwise_product1_eficiente_excints.py<input2.txt"
      ],
      "execution_count": 330,
      "outputs": [
        {
          "output_type": "stream",
          "text": [
            "co1:  3 \n",
            "\n",
            "co2:  3 \n",
            "\n",
            "co3:  2 \n",
            "\n",
            "execints:  36 \n",
            "\n"
          ],
          "name": "stdout"
        }
      ]
    },
    {
      "cell_type": "code",
      "metadata": {
        "colab": {
          "base_uri": "https://localhost:8080/"
        },
        "id": "tcWyzZG5-YtU",
        "outputId": "1efdffeb-f479-49f8-9cec-9b8a7dcdb994"
      },
      "source": [
        "!python max_pairwise_product1_eficiente_excints.py<input3.txt"
      ],
      "execution_count": 331,
      "outputs": [
        {
          "output_type": "stream",
          "text": [
            "co1:  200000 \n",
            "\n",
            "co2:  0 \n",
            "\n",
            "co3:  0 \n",
            "\n",
            "execints:  1000007 \n",
            "\n"
          ],
          "name": "stdout"
        }
      ]
    },
    {
      "cell_type": "markdown",
      "metadata": {
        "id": "NJOYveAOiV-G"
      },
      "source": [
        "\n",
        "For the input1.txt \n",
        "```\n",
        "10\n",
        "1 2 3 4 5 6 7 8 9 10\n",
        "```\n",
        "$$T = 7 + (3)(10) + (2)(10) +  (1)(0) + (1)(0) = 57 $$\n",
        "\n",
        "For the input2.txt \n",
        "```\n",
        "6\n",
        "1 3 200000 9 200000 23\n",
        "```\n",
        "$$T = 7 + 3(6) + 2(3) + (1)(3) + (1)(2)= 36$$\n",
        " \n",
        "\n",
        "For the input3.txt that is the worst case (n=200000 and list in incresing order)\n",
        "\n",
        "```\n",
        "200000\n",
        "1 2 3 4 5 6 7 8 9 10 ... 199998 199999 200000\n",
        "```\n",
        "\n",
        "$$T = 7 + (3)(200000) + (2)(200000) + (1)(0) + (1)(0)= 1000007 $$"
      ]
    },
    {
      "cell_type": "markdown",
      "metadata": {
        "id": "2hj6NZWmiV-G"
      },
      "source": [
        "Calculate estimated time by instruction and number of instructions by second"
      ]
    },
    {
      "cell_type": "code",
      "metadata": {
        "colab": {
          "base_uri": "https://localhost:8080/"
        },
        "id": "FfZ0dq7siV-G",
        "outputId": "06c75ff2-6ff9-4b32-a4df-aa78f89b06c7"
      },
      "source": [
        "# Estimated time by instruction using input 3\n",
        "\n",
        "0.250/1000007"
      ],
      "execution_count": 332,
      "outputs": [
        {
          "output_type": "execute_result",
          "data": {
            "text/plain": [
              "2.499982500122499e-07"
            ]
          },
          "metadata": {
            "tags": []
          },
          "execution_count": 332
        }
      ]
    },
    {
      "cell_type": "code",
      "metadata": {
        "colab": {
          "base_uri": "https://localhost:8080/"
        },
        "id": "Oi4ZVH4RiV-G",
        "outputId": "a5dacd3c-9400-4499-bee1-a83fbb0dd90a"
      },
      "source": [
        "# Estimated number of instructions by second using input 3\n",
        "\n",
        "1/(0.250/1000007)"
      ],
      "execution_count": 333,
      "outputs": [
        {
          "output_type": "execute_result",
          "data": {
            "text/plain": [
              "4000028.0000000005"
            ]
          },
          "metadata": {
            "tags": []
          },
          "execution_count": 333
        }
      ]
    },
    {
      "cell_type": "markdown",
      "metadata": {
        "id": "x2oThQlPiV-G"
      },
      "source": [
        "### Super efficient solution\n",
        "\n",
        "Whitout storing the list in memory and whitout calling a function, add in each line a coment with the number of intstrcution that are executed in that line "
      ]
    },
    {
      "cell_type": "code",
      "metadata": {
        "colab": {
          "base_uri": "https://localhost:8080/"
        },
        "id": "LjDuEF2QiV-G",
        "outputId": "965259f4-a178-46b3-9d32-f860059cf2fa"
      },
      "source": [
        "%%writefile max_pairwise_product1_super_efficient.py\n",
        "# python3\n",
        "\n",
        "if __name__ == '__main__':\n",
        "    \n",
        "    execints = int()\n",
        "    co1 = int()\n",
        "    co2 = int()\n",
        "    co3 = int()\n",
        "    \n",
        "    max_product = 0                       #1\n",
        "    execints+=1\n",
        "\n",
        "    mayor = 0                             #1\n",
        "    execints+=1\n",
        "\n",
        "    smayor = 0                            #1\n",
        "    execints+=1\n",
        "\n",
        "    temp = 0                              #1\n",
        "    execints+=1\n",
        "\n",
        "    input_n = int(input())                #1\n",
        "    execints+=1\n",
        "\n",
        "    for x in input().split():             #n\n",
        "      execints+=1\n",
        "\n",
        "      temp = int(x)                       #n\n",
        "      execints+=1\n",
        "\n",
        "      execints+=1                         #n\n",
        "      if temp>mayor:                    #[0, 2n]\n",
        "        smayor = mayor\n",
        "        execints+=1\n",
        "\n",
        "        mayor = temp\n",
        "        execints+=1\n",
        "        co1+=1\n",
        "      else:                              #[0,n]\n",
        "        co2+=1\n",
        "        execints+=1\n",
        "        if temp>smayor:                  #[0,n]\n",
        "          co3+=1\n",
        "          execints+=1\n",
        "          smayor = temp\n",
        "    \n",
        "    max_product = mayor*smayor           #1\n",
        "    execints+=1\n",
        "\n",
        "                                    #-----------------\n",
        "                                    # 6+[3n,7n]\n",
        "\n",
        "    #print(\"co1: \",co1,\"\\n\")\n",
        "    #print(\"co2: \",co2,\"\\n\")\n",
        "    #print(\"co3: \",co3,\"\\n\") \n",
        "    #print(\"execints: \",execints,\"\\n\") \n",
        "    print(max_product)\n",
        "\n"
      ],
      "execution_count": 354,
      "outputs": [
        {
          "output_type": "stream",
          "text": [
            "Overwriting max_pairwise_product1_super_efficient.py\n"
          ],
          "name": "stdout"
        }
      ]
    },
    {
      "cell_type": "markdown",
      "metadata": {
        "id": "RsJ-9xw7iV-H"
      },
      "source": [
        "Test with inputs 1 and 2"
      ]
    },
    {
      "cell_type": "code",
      "metadata": {
        "colab": {
          "base_uri": "https://localhost:8080/"
        },
        "id": "BLLOh8yjiV-H",
        "outputId": "e93110d7-f002-4a67-8759-369390e65960"
      },
      "source": [
        "!python max_pairwise_product1_super_efficient.py<input1.txt\n",
        "!python max_pairwise_product1_super_efficient.py<input2.txt"
      ],
      "execution_count": 355,
      "outputs": [
        {
          "output_type": "stream",
          "text": [
            "90\n",
            "40000000000\n"
          ],
          "name": "stdout"
        }
      ]
    },
    {
      "cell_type": "markdown",
      "metadata": {
        "id": "GxWHVPpoiV-H"
      },
      "source": [
        "Test and time it with input 3"
      ]
    },
    {
      "cell_type": "code",
      "metadata": {
        "colab": {
          "base_uri": "https://localhost:8080/"
        },
        "id": "Ppp6uymaiV-H",
        "outputId": "5e68c4b5-63db-4492-909d-f54aa57aa857"
      },
      "source": [
        "!time python max_pairwise_product1_super_efficient.py<input3.txt"
      ],
      "execution_count": 376,
      "outputs": [
        {
          "output_type": "stream",
          "text": [
            "39999800000\n",
            "\n",
            "real\t0m0.239s\n",
            "user\t0m0.206s\n",
            "sys\t0m0.034s\n"
          ],
          "name": "stdout"
        }
      ]
    },
    {
      "cell_type": "markdown",
      "metadata": {
        "id": "Pm0G1kawiV-H"
      },
      "source": [
        "20 stress tests"
      ]
    },
    {
      "cell_type": "code",
      "metadata": {
        "colab": {
          "base_uri": "https://localhost:8080/"
        },
        "id": "LCw8SzGEiV-H",
        "outputId": "c0d9e728-f95e-4104-859b-d583af65c9e5"
      },
      "source": [
        "%%writefile super_efficient_stressTest.py\n",
        "# python3\n",
        "import numpy as np\n",
        "\n",
        "if __name__ == '__main__':\n",
        "  n = 20\n",
        "  for i in range(n):\n",
        "    nums = np.random.randint(18, size = 1)+2\n",
        "    print(nums[0],\"\\n\")\n",
        "    numbers = np.random.randint(199999, size=nums)\n",
        "    numbers = numbers + 1\n",
        "\n",
        "\n",
        "    max_product = 0\n",
        "    mayor = 0\n",
        "    smayor = 0\n",
        "    temp = 0\n",
        "    for x in numbers:\n",
        "      temp = int(x)\n",
        "      if temp>mayor:\n",
        "        smayor = mayor\n",
        "        mayor = temp\n",
        "      elif temp>smayor:\n",
        "        smayor = temp\n",
        "    max_product = mayor*smayor\n",
        "    print(max_product)"
      ],
      "execution_count": 341,
      "outputs": [
        {
          "output_type": "stream",
          "text": [
            "Overwriting super_efficient_stressTest.py\n"
          ],
          "name": "stdout"
        }
      ]
    },
    {
      "cell_type": "code",
      "metadata": {
        "colab": {
          "base_uri": "https://localhost:8080/"
        },
        "id": "p2cd8LffiV-I",
        "outputId": "4e542a2c-428a-4433-9c2e-8351ee780d5d"
      },
      "source": [
        "!python super_efficient_stressTest.py"
      ],
      "execution_count": 342,
      "outputs": [
        {
          "output_type": "stream",
          "text": [
            "4 \n",
            "\n",
            "23259759453\n",
            "18 \n",
            "\n",
            "31729518029\n",
            "10 \n",
            "\n",
            "28779218060\n",
            "10 \n",
            "\n",
            "22198161566\n",
            "9 \n",
            "\n",
            "20848446122\n",
            "15 \n",
            "\n",
            "34437339794\n",
            "15 \n",
            "\n",
            "33789920300\n",
            "5 \n",
            "\n",
            "15840695010\n",
            "8 \n",
            "\n",
            "34959333009\n",
            "12 \n",
            "\n",
            "36639940950\n",
            "12 \n",
            "\n",
            "29508277984\n",
            "16 \n",
            "\n",
            "29255321880\n",
            "3 \n",
            "\n",
            "23274738162\n",
            "12 \n",
            "\n",
            "17279965872\n",
            "10 \n",
            "\n",
            "24169800760\n",
            "5 \n",
            "\n",
            "21601636992\n",
            "10 \n",
            "\n",
            "25862992200\n",
            "4 \n",
            "\n",
            "17601619711\n",
            "13 \n",
            "\n",
            "25530138360\n",
            "16 \n",
            "\n",
            "38936936493\n"
          ],
          "name": "stdout"
        }
      ]
    },
    {
      "cell_type": "markdown",
      "metadata": {
        "id": "InF2jczkiV-I"
      },
      "source": [
        "Count executed instructions in code and verify with inputs 1,2 and 3"
      ]
    },
    {
      "cell_type": "code",
      "metadata": {
        "colab": {
          "base_uri": "https://localhost:8080/"
        },
        "id": "omEE8OiXiV-I",
        "outputId": "207c5a2c-992a-4c9a-c2ad-45d0863fc0e2"
      },
      "source": [
        "%%writefile max_pairwise_product1_super_efficient_execints.py\n",
        "# python3\n",
        "\n",
        "if __name__ == '__main__':\n",
        "    \n",
        "    execints = int()\n",
        "    co1 = int()\n",
        "    co2 = int()\n",
        "    co3 = int()\n",
        "    \n",
        "    max_product = 0                       #1\n",
        "    execints+=1\n",
        "\n",
        "    mayor = 0                             #1\n",
        "    execints+=1\n",
        "\n",
        "    smayor = 0                            #1\n",
        "    execints+=1\n",
        "\n",
        "    temp = 0                              #1\n",
        "    execints+=1\n",
        "\n",
        "    input_n = int(input())                #1\n",
        "    execints+=1\n",
        "\n",
        "    for x in input().split():             #n\n",
        "      execints+=1\n",
        "\n",
        "      temp = int(x)                       #n\n",
        "      execints+=1\n",
        "\n",
        "      execints+=1                         #n\n",
        "      if temp>mayor:                    #[0, 2n]\n",
        "        smayor = mayor\n",
        "        execints+=1\n",
        "\n",
        "        mayor = temp\n",
        "        execints+=1\n",
        "        co1+=1\n",
        "      else:                              #[0,n]\n",
        "        co2+=1\n",
        "        execints+=1\n",
        "        if temp>smayor:                  #[0,n]\n",
        "          co3+=1\n",
        "          execints+=1\n",
        "          smayor = temp\n",
        "    \n",
        "    max_product = mayor*smayor           #1\n",
        "    execints+=1\n",
        "\n",
        "                                    #-----------------\n",
        "                                    # 6+[3n,7n]\n",
        "\n",
        "    print(\"co1: \",co1,\"\\n\")\n",
        "    print(\"co2: \",co2,\"\\n\")\n",
        "    print(\"co3: \",co3,\"\\n\") \n",
        "    print(\"execints: \",execints,\"\\n\") \n",
        "    #print(max_product)\n"
      ],
      "execution_count": 350,
      "outputs": [
        {
          "output_type": "stream",
          "text": [
            "Overwriting max_pairwise_product1_super_efficient_execints.py\n"
          ],
          "name": "stdout"
        }
      ]
    },
    {
      "cell_type": "code",
      "metadata": {
        "colab": {
          "base_uri": "https://localhost:8080/"
        },
        "id": "92pJ4m3KiV-I",
        "outputId": "d8e388b3-5148-4cd8-972b-33189292147e"
      },
      "source": [
        "!python max_pairwise_product1_super_efficient_execints.py<input1.txt"
      ],
      "execution_count": 357,
      "outputs": [
        {
          "output_type": "stream",
          "text": [
            "co1:  10 \n",
            "\n",
            "co2:  0 \n",
            "\n",
            "co3:  0 \n",
            "\n",
            "execints:  56 \n",
            "\n"
          ],
          "name": "stdout"
        }
      ]
    },
    {
      "cell_type": "code",
      "metadata": {
        "colab": {
          "base_uri": "https://localhost:8080/"
        },
        "id": "armaN72hDz2A",
        "outputId": "18d2cc9d-fa32-4b38-c4ff-de174bbfca95"
      },
      "source": [
        "!python max_pairwise_product1_super_efficient_execints.py<input2.txt"
      ],
      "execution_count": 358,
      "outputs": [
        {
          "output_type": "stream",
          "text": [
            "co1:  3 \n",
            "\n",
            "co2:  3 \n",
            "\n",
            "co3:  2 \n",
            "\n",
            "execints:  35 \n",
            "\n"
          ],
          "name": "stdout"
        }
      ]
    },
    {
      "cell_type": "code",
      "metadata": {
        "colab": {
          "base_uri": "https://localhost:8080/"
        },
        "id": "kgfjFMjzD1-n",
        "outputId": "54cbe33c-cf95-4ce2-bbf9-cdd4320fd9cc"
      },
      "source": [
        "!python max_pairwise_product1_super_efficient_execints.py<input3.txt"
      ],
      "execution_count": 359,
      "outputs": [
        {
          "output_type": "stream",
          "text": [
            "co1:  200000 \n",
            "\n",
            "co2:  0 \n",
            "\n",
            "co3:  0 \n",
            "\n",
            "execints:  1000006 \n",
            "\n"
          ],
          "name": "stdout"
        }
      ]
    },
    {
      "cell_type": "markdown",
      "metadata": {
        "id": "dRvK3ETtiV-J"
      },
      "source": [
        "\n",
        "For the input1.txt \n",
        "```\n",
        "10\n",
        "1 2 3 4 5 6 7 8 9 10\n",
        "```\n",
        "$$T = 6 + (3)(10) + (2)(10) +  (1)(0) + (1)(0) = 56 $$\n",
        "\n",
        "For the input2.txt \n",
        "```\n",
        "6\n",
        "1 3 200000 9 200000 23\n",
        "```\n",
        "$$T = 6 + (3)(6) + 2(3) + (1)(3) + (1)(2)= 35$$\n",
        " \n",
        "\n",
        "For the input3.txt that is the worst case (n=200000 and list in incresing order)\n",
        "\n",
        "```\n",
        "200000\n",
        "1 2 3 4 5 6 7 8 9 10 ... 199998 199999 200000\n",
        "```\n",
        "\n",
        "$$T = 6 + (3)(200000) + (2)(200000) + (1)(0) + (1)(0)= 1000006$$"
      ]
    },
    {
      "cell_type": "markdown",
      "metadata": {
        "id": "eFNY55SdiV-J"
      },
      "source": [
        "Calculate estimated time by instruction and number of instructions by second"
      ]
    },
    {
      "cell_type": "code",
      "metadata": {
        "colab": {
          "base_uri": "https://localhost:8080/"
        },
        "id": "xsT6WKktiV-J",
        "outputId": "c0511e44-c5e9-4954-e984-6c1c2e639b78"
      },
      "source": [
        "# Estimated time by instruction using input 3\n",
        "\n",
        "0.239/1000006"
      ],
      "execution_count": 378,
      "outputs": [
        {
          "output_type": "execute_result",
          "data": {
            "text/plain": [
              "2.3899856600860394e-07"
            ]
          },
          "metadata": {
            "tags": []
          },
          "execution_count": 378
        }
      ]
    },
    {
      "cell_type": "code",
      "metadata": {
        "colab": {
          "base_uri": "https://localhost:8080/"
        },
        "id": "gckXTEEHiV-J",
        "outputId": "9653fede-b0e5-4120-cade-12a3de21d869"
      },
      "source": [
        "# Estimated number of instructions by second using input 3\n",
        "\n",
        "1/(0.239/1000006)"
      ],
      "execution_count": 379,
      "outputs": [
        {
          "output_type": "execute_result",
          "data": {
            "text/plain": [
              "4184125.5230125524"
            ]
          },
          "metadata": {
            "tags": []
          },
          "execution_count": 379
        }
      ]
    },
    {
      "cell_type": "markdown",
      "metadata": {
        "id": "ka68IkUVSoxt"
      },
      "source": [
        "# **Screenhsoots of the Coursera Submissions in C++ and Python**"
      ]
    },
    {
      "cell_type": "markdown",
      "metadata": {
        "id": "G_vGvIsbSwiC"
      },
      "source": [
        "<img src =\"https://raw.githubusercontent.com/juarodriguezc/AlgorithmsUN2021I/master/Lab6/juarodriguezc.JPG\">"
      ]
    },
    {
      "cell_type": "markdown",
      "metadata": {
        "id": "gp8bbm_fiBE-"
      },
      "source": [
        "<img src = \"https://raw.githubusercontent.com/juarodriguezc/AlgorithmsUN2021I/master/Lab6/juarodriguezc2.JPG\">"
      ]
    }
  ]
}