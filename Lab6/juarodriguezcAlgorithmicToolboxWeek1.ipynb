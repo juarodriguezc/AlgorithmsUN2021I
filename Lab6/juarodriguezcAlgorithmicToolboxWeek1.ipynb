{
  "nbformat": 4,
  "nbformat_minor": 0,
  "metadata": {
    "colab": {
      "name": "juarodriguezcAlgorithmicToolboxWeek1.ipynb",
      "provenance": [],
      "collapsed_sections": []
    },
    "kernelspec": {
      "name": "python3",
      "display_name": "Python 3"
    },
    "language_info": {
      "name": "python"
    }
  },
  "cells": [
    {
      "cell_type": "markdown",
      "metadata": {
        "id": "N1ok_-56OjB1"
      },
      "source": [
        "# I Solving the Sum of Two Digits Programming Challenge"
      ]
    },
    {
      "cell_type": "markdown",
      "metadata": {
        "id": "MMY7kmDSO0KM"
      },
      "source": [
        "## C++"
      ]
    },
    {
      "cell_type": "code",
      "metadata": {
        "colab": {
          "base_uri": "https://localhost:8080/"
        },
        "id": "2pGGf9BkPNIk",
        "outputId": "958e8ca1-3353-4995-896d-acb9f6ea0a6d"
      },
      "source": [
        "%%writefile AplusB.cpp\n",
        "#include <iostream>\n",
        "\n",
        "int sum_of_two_digits(int first_digit, int second_digit) {\n",
        "    return first_digit + second_digit;\n",
        "}\n",
        "\n",
        "int main() {\n",
        "    int a = 0;\n",
        "    int b = 0;\n",
        "    std::cin >> a;\n",
        "    std::cin >> b;\n",
        "    std::cout << sum_of_two_digits(a, b);\n",
        "    return 0;\n",
        "}"
      ],
      "execution_count": null,
      "outputs": [
        {
          "output_type": "stream",
          "text": [
            "Overwriting AplusB.cpp\n"
          ],
          "name": "stdout"
        }
      ]
    },
    {
      "cell_type": "code",
      "metadata": {
        "colab": {
          "base_uri": "https://localhost:8080/"
        },
        "id": "0G3ZKOYAPXSU",
        "outputId": "5dfa6026-4f77-4410-8299-31874d5b561f"
      },
      "source": [
        "!g++ AplusB.cpp -o AplusB\n",
        "!./AplusB"
      ],
      "execution_count": null,
      "outputs": [
        {
          "output_type": "stream",
          "text": [
            "5 7\n",
            "12"
          ],
          "name": "stdout"
        }
      ]
    },
    {
      "cell_type": "markdown",
      "metadata": {
        "id": "iNkG2HqfTl9c"
      },
      "source": [
        "### Test input output files"
      ]
    },
    {
      "cell_type": "code",
      "metadata": {
        "colab": {
          "base_uri": "https://localhost:8080/"
        },
        "id": "aTzU2efzMxly",
        "outputId": "f9bc42ee-e8eb-47cc-c43a-60807834769e"
      },
      "source": [
        "%%writefile input1.txt\n",
        "4 10"
      ],
      "execution_count": null,
      "outputs": [
        {
          "output_type": "stream",
          "text": [
            "Overwriting input1.txt\n"
          ],
          "name": "stdout"
        }
      ]
    },
    {
      "cell_type": "code",
      "metadata": {
        "colab": {
          "base_uri": "https://localhost:8080/"
        },
        "id": "zBJ0Gc0NQRet",
        "outputId": "4c302144-827b-4255-f85d-a5fe803c5f82"
      },
      "source": [
        "%%writefile output1.txt\n",
        "14"
      ],
      "execution_count": null,
      "outputs": [
        {
          "output_type": "stream",
          "text": [
            "Overwriting output1.txt\n"
          ],
          "name": "stdout"
        }
      ]
    },
    {
      "cell_type": "code",
      "metadata": {
        "colab": {
          "base_uri": "https://localhost:8080/"
        },
        "id": "IjEcIx63PJAN",
        "outputId": "e91a94a8-26e0-4bf2-e809-a6d12e9b3d3f"
      },
      "source": [
        "%%writefile input2.txt\n",
        "-5 4"
      ],
      "execution_count": null,
      "outputs": [
        {
          "output_type": "stream",
          "text": [
            "Overwriting input2.txt\n"
          ],
          "name": "stdout"
        }
      ]
    },
    {
      "cell_type": "code",
      "metadata": {
        "colab": {
          "base_uri": "https://localhost:8080/"
        },
        "id": "Up9gOrxURTmd",
        "outputId": "f111b304-3592-4be2-856c-1122e568f272"
      },
      "source": [
        "%%writefile output2.txt\n",
        "-1"
      ],
      "execution_count": null,
      "outputs": [
        {
          "output_type": "stream",
          "text": [
            "Overwriting output2.txt\n"
          ],
          "name": "stdout"
        }
      ]
    },
    {
      "cell_type": "code",
      "metadata": {
        "colab": {
          "base_uri": "https://localhost:8080/"
        },
        "id": "PST6G-s-Pwgc",
        "outputId": "53e7655e-e431-46d8-bb30-ffe912c5b09f"
      },
      "source": [
        "!./AplusB < input1.txt"
      ],
      "execution_count": null,
      "outputs": [
        {
          "output_type": "stream",
          "text": [
            "14"
          ],
          "name": "stdout"
        }
      ]
    },
    {
      "cell_type": "code",
      "metadata": {
        "colab": {
          "base_uri": "https://localhost:8080/"
        },
        "id": "cKxZOjSlRfIN",
        "outputId": "cca2b594-712e-4e47-a87a-e3f1cc310b23"
      },
      "source": [
        "!./AplusB < input2.txt"
      ],
      "execution_count": null,
      "outputs": [
        {
          "output_type": "stream",
          "text": [
            "-1"
          ],
          "name": "stdout"
        }
      ]
    },
    {
      "cell_type": "markdown",
      "metadata": {
        "id": "Qw2TQWCCUwqk"
      },
      "source": [
        "### Comparing files with grep\n",
        "\n",
        "https://askubuntu.com/questions/546796/comparing-two-text-files"
      ]
    },
    {
      "cell_type": "code",
      "metadata": {
        "id": "WVIaAmMKU4QM"
      },
      "source": [
        "!grep -xvFf output1.txt output1.txt "
      ],
      "execution_count": null,
      "outputs": []
    },
    {
      "cell_type": "code",
      "metadata": {
        "colab": {
          "base_uri": "https://localhost:8080/"
        },
        "id": "MQU8gPPjQuYO",
        "outputId": "6ed76a67-6db3-43b7-eca8-ad65ed52d676"
      },
      "source": [
        "!grep -xvFf output1.txt output2.txt "
      ],
      "execution_count": null,
      "outputs": [
        {
          "output_type": "stream",
          "text": [
            "-1\n"
          ],
          "name": "stdout"
        }
      ]
    },
    {
      "cell_type": "code",
      "metadata": {
        "colab": {
          "base_uri": "https://localhost:8080/"
        },
        "id": "jYL9OuYBTD_l",
        "outputId": "9f2f3710-e2ad-402b-ea73-a7b650be28ea"
      },
      "source": [
        "!grep -xvFf output2.txt output1.txt "
      ],
      "execution_count": null,
      "outputs": [
        {
          "output_type": "stream",
          "text": [
            "14\n"
          ],
          "name": "stdout"
        }
      ]
    },
    {
      "cell_type": "code",
      "metadata": {
        "id": "Jlja0Xm4TX9M"
      },
      "source": [
        "!./AplusB < input1.txt> ctest1.txt\n",
        "!grep -xvFf output1.txt ctest1.txt"
      ],
      "execution_count": null,
      "outputs": []
    },
    {
      "cell_type": "code",
      "metadata": {
        "id": "g9OIUZA_QLCQ"
      },
      "source": [
        "!./AplusB < input2.txt > ctest2.txt\n",
        "!grep -xvFf output2.txt ctest2.txt"
      ],
      "execution_count": null,
      "outputs": []
    },
    {
      "cell_type": "markdown",
      "metadata": {
        "id": "3BgOaDjUVJk6"
      },
      "source": [
        "## Python"
      ]
    },
    {
      "cell_type": "code",
      "metadata": {
        "colab": {
          "base_uri": "https://localhost:8080/"
        },
        "id": "DBvl-T0CTN_8",
        "outputId": "c9833783-fae1-424a-9a14-5a3e3d2f3e4c"
      },
      "source": [
        "%%writefile AplusB.py\n",
        "# python3\n",
        "\n",
        "\n",
        "def sum_of_two_digits(first_digit, second_digit):\n",
        "    return first_digit + second_digit\n",
        "\n",
        "if __name__ == '__main__':\n",
        "    a, b = map(int, input().split())\n",
        "    print(sum_of_two_digits(a, b))"
      ],
      "execution_count": null,
      "outputs": [
        {
          "output_type": "stream",
          "text": [
            "Overwriting AplusB.py\n"
          ],
          "name": "stdout"
        }
      ]
    },
    {
      "cell_type": "code",
      "metadata": {
        "colab": {
          "base_uri": "https://localhost:8080/"
        },
        "id": "QKoKM11_WGyF",
        "outputId": "717c1741-5d50-46b2-cd89-8eb061f053da"
      },
      "source": [
        "!python AplusB.py"
      ],
      "execution_count": null,
      "outputs": [
        {
          "output_type": "stream",
          "text": [
            "1 3\n",
            "4\n"
          ],
          "name": "stdout"
        }
      ]
    },
    {
      "cell_type": "code",
      "metadata": {
        "id": "cocFbPRTWrqt"
      },
      "source": [
        "!python AplusB.py  < input1.txt> ptest1.txt\n",
        "!grep -xvFf output1.txt ptest1.txt"
      ],
      "execution_count": null,
      "outputs": []
    },
    {
      "cell_type": "code",
      "metadata": {
        "id": "MorKTa-XXASN"
      },
      "source": [
        "!python AplusB.py  < input2.txt> ptest2.txt\n",
        "!grep -xvFf output2.txt ptest2.txt"
      ],
      "execution_count": null,
      "outputs": []
    },
    {
      "cell_type": "markdown",
      "metadata": {
        "id": "uvP-mOubW_5F"
      },
      "source": [
        "# II Solving The Maximum Pairwise Product Programming Challenge in C++"
      ]
    },
    {
      "cell_type": "markdown",
      "metadata": {
        "id": "C12yoFR6Xonl"
      },
      "source": [
        "## C++"
      ]
    },
    {
      "cell_type": "code",
      "metadata": {
        "colab": {
          "base_uri": "https://localhost:8080/"
        },
        "id": "YL4qJX3tXxdd",
        "outputId": "2cc50b07-e292-4100-c509-30bce815fc6a"
      },
      "source": [
        "%%writefile max_pairwise_product1.cpp\n",
        "#include <iostream>\n",
        "#include <vector>\n",
        "#include <algorithm>\n",
        "\n",
        "int MaxPairwiseProduct(const std::vector<int>& numbers) {\n",
        "    int max_product = 0;\n",
        "    int n = numbers.size();\n",
        "\n",
        "    for (int first = 0; first < n; ++first) {\n",
        "        for (int second = first + 1; second < n; ++second) {\n",
        "            max_product = std::max(max_product,\n",
        "                numbers[first] * numbers[second]);\n",
        "        }\n",
        "    }\n",
        "\n",
        "    return max_product;\n",
        "}\n",
        "\n",
        "int main() {\n",
        "    int n;\n",
        "    std::cin >> n;\n",
        "    std::vector<int> numbers(n);\n",
        "    for (int i = 0; i < n; ++i) {\n",
        "        std::cin >> numbers[i];\n",
        "    }\n",
        "\n",
        "    std::cout << MaxPairwiseProduct(numbers) << \"\\n\";\n",
        "    return 0;\n",
        "}\n"
      ],
      "execution_count": null,
      "outputs": [
        {
          "output_type": "stream",
          "text": [
            "Writing max_pairwise_product1.cpp\n"
          ],
          "name": "stdout"
        }
      ]
    },
    {
      "cell_type": "code",
      "metadata": {
        "colab": {
          "base_uri": "https://localhost:8080/"
        },
        "id": "KGxaEjvWX__O",
        "outputId": "d5bb5f76-273c-4ceb-d6ce-12a6c5b13cc5"
      },
      "source": [
        "!g++ max_pairwise_product1.cpp -o max_pairwise_product1\n",
        "!./max_pairwise_product1"
      ],
      "execution_count": null,
      "outputs": [
        {
          "output_type": "stream",
          "text": [
            "6\n",
            "9\n",
            "8\n",
            "7\n",
            "6\n",
            "5\n",
            "4\n",
            "72\n"
          ],
          "name": "stdout"
        }
      ]
    },
    {
      "cell_type": "markdown",
      "metadata": {
        "id": "IeZ3kTjpYmR9"
      },
      "source": [
        "### Test 1: lagest input numbers 200000 200000 in the input"
      ]
    },
    {
      "cell_type": "code",
      "metadata": {
        "colab": {
          "base_uri": "https://localhost:8080/"
        },
        "id": "LQNlZqaqYt7U",
        "outputId": "7f5b4fa0-6d12-4630-ba31-f584bdd35667"
      },
      "source": [
        "%%writefile input1.txt\n",
        "5\n",
        "1 3 200000 9 200000 23"
      ],
      "execution_count": null,
      "outputs": [
        {
          "output_type": "stream",
          "text": [
            "Writing input1.txt\n"
          ],
          "name": "stdout"
        }
      ]
    },
    {
      "cell_type": "code",
      "metadata": {
        "colab": {
          "base_uri": "https://localhost:8080/"
        },
        "id": "2Wad2VZUZDxR",
        "outputId": "12649272-714e-4dda-a748-11351e52751b"
      },
      "source": [
        "!./max_pairwise_product1 < input1.txt"
      ],
      "execution_count": null,
      "outputs": [
        {
          "output_type": "stream",
          "text": [
            "1345294336\n"
          ],
          "name": "stdout"
        }
      ]
    },
    {
      "cell_type": "code",
      "metadata": {
        "colab": {
          "base_uri": "https://localhost:8080/"
        },
        "id": "MPcmsxiQZSfE",
        "outputId": "efa42e55-bbcf-4f6e-e953-a440ea31fdab"
      },
      "source": [
        "%%writefile max_pairwise_product2.cpp\n",
        "#include <iostream>\n",
        "#include <vector>\n",
        "#include <algorithm>\n",
        "\n",
        "long long MaxPairwiseProduct(const std::vector<int>& numbers) {\n",
        "    long long max_product = 0LL;\n",
        "\t  long long aux_product = 0LL;\n",
        "    int n = numbers.size();\n",
        "\n",
        "    for (int first = 0; first < n; ++first) {\n",
        "        for (int second = first + 1; second < n; ++second) {\n",
        "\t\t\t       aux_product =  (long long) numbers[first] * numbers[second];\n",
        "            if ( max_product < aux_product)  {\n",
        "\t\t\t\t        max_product = aux_product;\n",
        "             }\n",
        "        }\n",
        "    }\n",
        "\n",
        "    return max_product;\n",
        "}\n",
        "\n",
        "int main() {\n",
        "    int n;\n",
        "    std::cin >> n;\n",
        "    std::vector<int> numbers(n);\n",
        "    for (int i = 0; i < n; ++i) {\n",
        "        std::cin >> numbers[i];\n",
        "    }\n",
        "\n",
        "    std::cout << MaxPairwiseProduct(numbers) << \"\\n\";\n",
        "    return 0;\n",
        "}\n"
      ],
      "execution_count": null,
      "outputs": [
        {
          "output_type": "stream",
          "text": [
            "Writing max_pairwise_product2.cpp\n"
          ],
          "name": "stdout"
        }
      ]
    },
    {
      "cell_type": "code",
      "metadata": {
        "colab": {
          "base_uri": "https://localhost:8080/"
        },
        "id": "I5pCeOG1Zm7s",
        "outputId": "c892d3b2-0eb0-475a-ec4b-502dc582f444"
      },
      "source": [
        "!g++ max_pairwise_product2.cpp -o max_pairwise_product2\n",
        "!./max_pairwise_product2 < input1.txt"
      ],
      "execution_count": null,
      "outputs": [
        {
          "output_type": "stream",
          "text": [
            "40000000000\n"
          ],
          "name": "stdout"
        }
      ]
    },
    {
      "cell_type": "markdown",
      "metadata": {
        "id": "9z9yr5QkeyJF"
      },
      "source": [
        "### Test 2  generate a tests file with the maximun n 200000 numbres and measure time"
      ]
    },
    {
      "cell_type": "code",
      "metadata": {
        "id": "oLiMjbAIfPlX",
        "colab": {
          "base_uri": "https://localhost:8080/"
        },
        "outputId": "fbb42457-f9f0-405e-f457-14affc9f88d9"
      },
      "source": [
        "#Se va a crear un programa que genere un txt con 200000 numeros y ejecute \n",
        "%%writefile number_generator.cpp\n",
        "#include <iostream>\n",
        "#include <vector>\n",
        "#include <algorithm>\n",
        "\n",
        "int main() {\n",
        "    int n=200000;\n",
        "    std::cout<<n<<\"\\n\";\n",
        "    for (int i = 2; i <= n; ++i) {\n",
        "        std::cout << i << \" \";\n",
        "    }\n",
        "    std::cout<<n<<\"\\n\";\n",
        "    return 0;\n",
        "}\n",
        "\n"
      ],
      "execution_count": null,
      "outputs": [
        {
          "output_type": "stream",
          "text": [
            "Writing number_generator.cpp\n"
          ],
          "name": "stdout"
        }
      ]
    },
    {
      "cell_type": "code",
      "metadata": {
        "id": "APRV18ylQS3W"
      },
      "source": [
        "!g++ number_generator.cpp -o number_generator"
      ],
      "execution_count": null,
      "outputs": []
    },
    {
      "cell_type": "code",
      "metadata": {
        "id": "fO7CSXNsPsa6"
      },
      "source": [
        "!./number_generator > numeros_generados.txt"
      ],
      "execution_count": null,
      "outputs": []
    },
    {
      "cell_type": "markdown",
      "metadata": {
        "id": "ALMuWQULS7wW"
      },
      "source": [
        "Prueba y medición de tiempo"
      ]
    },
    {
      "cell_type": "code",
      "metadata": {
        "colab": {
          "base_uri": "https://localhost:8080/"
        },
        "id": "aJxQZygBTBcw",
        "outputId": "dcef3e5f-f278-4b9f-8f05-64240f1568f2"
      },
      "source": [
        "!time ./max_pairwise_product2 <numeros_generados.txt"
      ],
      "execution_count": null,
      "outputs": [
        {
          "output_type": "stream",
          "text": [
            "40000000000\n",
            "\n",
            "real\t2m7.291s\n",
            "user\t2m7.017s\n",
            "sys\t0m0.032s\n"
          ],
          "name": "stdout"
        }
      ]
    },
    {
      "cell_type": "markdown",
      "metadata": {
        "id": "jEGRSb8ZAPX4"
      },
      "source": [
        "Por lo que definitivamente no es una solución aceptable al problema.\n",
        "Sin embargo, el resultado obtenido es interesante para analizar las instrucciones que realiza el algoritmo y el tiempo que le toma realizar cada acción."
      ]
    },
    {
      "cell_type": "markdown",
      "metadata": {
        "id": "WRJT26xJVwYi"
      },
      "source": [
        "**Number of instruction**\n",
        "\n",
        "Lo primero que se va a hacer es analizar la cantidad de instrucciones que realiza el algoritmo para las 200000 entradas, viendo el código se puede ver que hay dos for, el for externo itera n veces, mientras que el for interno itera n-1 veces. Haciendo cuentas:"
      ]
    },
    {
      "cell_type": "markdown",
      "metadata": {
        "id": "uIbvvSWNsedt"
      },
      "source": [
        "$$\n",
        "n(n-1)=200.000(200.000-1)\n",
        "$$\n",
        "$$\n",
        "= 39.999.800.000  \\; \\text{ instrucciones}\n",
        "$$"
      ]
    },
    {
      "cell_type": "markdown",
      "metadata": {
        "id": "-rYV8mhCVrqS"
      },
      "source": [
        "**Time x Instruction**"
      ]
    },
    {
      "cell_type": "markdown",
      "metadata": {
        "id": "ymj2T-hitF8H"
      },
      "source": [
        "Una vez con un aproximado de las operaciones realizadas, se calcula el tiempo que tarda haciendo cada instrucción, que es igual a:\n",
        "$$\n",
        "2m7,017s = 127,017s\n",
        "$$\n",
        "Por lo que:\n",
        "$$\n",
        "\\frac{39.999.800.000 \\;\\; \\text{operaciones}}{127,017\\;\\;\\;\\text{segundos}}\n",
        "$$\n",
        "Que es igual a:\n",
        "$$\n",
        "314.916.901 \\frac{\\text{operaciones}}{\\text{segundo}}\n",
        "$$"
      ]
    },
    {
      "cell_type": "markdown",
      "metadata": {
        "id": "sc9nOLQrfTm0"
      },
      "source": [
        "### Efficient solution "
      ]
    },
    {
      "cell_type": "markdown",
      "metadata": {
        "id": "Ca_hKG3jvsiC"
      },
      "source": [
        "Se plantean distintas soluciones eficientes al problema"
      ]
    },
    {
      "cell_type": "code",
      "metadata": {
        "id": "qslDrVXhXT0k",
        "colab": {
          "base_uri": "https://localhost:8080/"
        },
        "outputId": "1c3c08af-eafa-4c68-9744-fa260309ad28"
      },
      "source": [
        "%%writefile max_pairwise_product_eficiente.cpp\n",
        "#include <iostream>\n",
        "#include <vector>\n",
        "#include <algorithm>\n",
        "#include <list>\n",
        "\n",
        "long long MaxPairwiseProductEficiente(const std::vector<int>& numbers) {\n",
        "    int n = numbers.size();\n",
        "    long long max_product = 0LL;\n",
        "    long long mayor = 0;\n",
        "    long long smayor = 0;\n",
        "    for(int i = 0; i < n; i++){\n",
        "        if(numbers[i]>mayor){\n",
        "          smayor = mayor;\n",
        "          mayor = numbers[i];\n",
        "        }else if(numbers[i]>smayor){\n",
        "          smayor = numbers[i];\n",
        "        }\n",
        "    }\n",
        "    max_product = (long long)mayor*smayor;\n",
        "    return max_product;\n",
        "}\n",
        "\n",
        "int main() {\n",
        "    int n;\n",
        "    std::cin >> n;\n",
        "    std::vector<int> numbers(n);\n",
        "    long long maxproduc = 0LL;\n",
        "    for (int i = 0; i < n; ++i) {\n",
        "        std::cin >> numbers[i];\n",
        "    }\n",
        "    maxproduc = MaxPairwiseProductEficiente(numbers);\n",
        "    std::cout<<maxproduc<<\"\\n\";\n",
        "    return 0;\n",
        "}\n",
        "\n"
      ],
      "execution_count": null,
      "outputs": [
        {
          "output_type": "stream",
          "text": [
            "Writing max_pairwise_product_eficiente.cpp\n"
          ],
          "name": "stdout"
        }
      ]
    },
    {
      "cell_type": "code",
      "metadata": {
        "id": "FJcuAJo5AgHg"
      },
      "source": [
        "!g++ max_pairwise_product_eficiente.cpp -o max_pairwise_product_eficiente"
      ],
      "execution_count": null,
      "outputs": []
    },
    {
      "cell_type": "code",
      "metadata": {
        "colab": {
          "base_uri": "https://localhost:8080/"
        },
        "id": "CRJlUw-ICd9B",
        "outputId": "0e479d62-3ffb-450b-c99b-922db5ae5b88"
      },
      "source": [
        "!./max_pairwise_product_eficiente "
      ],
      "execution_count": null,
      "outputs": [
        {
          "output_type": "stream",
          "text": [
            "6\n",
            "9 8 7 6 5 4 72\n",
            "72\n"
          ],
          "name": "stdout"
        }
      ]
    },
    {
      "cell_type": "markdown",
      "metadata": {
        "id": "kEL9_HsnFQHg"
      },
      "source": [
        "Parece que el código anterior funciona correctamente, sin embargo, para estar totalmente seguros es necesario realizar un stress test."
      ]
    },
    {
      "cell_type": "markdown",
      "metadata": {
        "id": "bhqiKQG6fjKM"
      },
      "source": [
        "**Stress** **tests** "
      ]
    },
    {
      "cell_type": "markdown",
      "metadata": {
        "id": "E-87Wn-SurfA"
      },
      "source": [
        "Se realiza un pequeño stress test para comprobar resultados:"
      ]
    },
    {
      "cell_type": "code",
      "metadata": {
        "colab": {
          "base_uri": "https://localhost:8080/"
        },
        "id": "vfiki-8AFZLx",
        "outputId": "7575b373-f70d-47e1-f401-37bb32fd3d8d"
      },
      "source": [
        "\n",
        "%%writefile max_pairwise_product_stressTest.cpp\n",
        "#include <iostream>\n",
        "#include <vector>\n",
        "#include <algorithm>\n",
        "#include <list>\n",
        "#include <cstdlib>\n",
        "\n",
        "long long MaxPairwiseProduct(const std::vector<int>& numbers) {\n",
        "    long long max_product = 0LL;\n",
        "\t  long long aux_product = 0LL;\n",
        "    int n = numbers.size();\n",
        "\n",
        "    for (int first = 0; first < n; ++first) {\n",
        "        for (int second = first + 1; second < n; ++second) {\n",
        "\t\t\t       aux_product =  (long long) numbers[first] * numbers[second];\n",
        "            if ( max_product < aux_product)  {\n",
        "\t\t\t\t        max_product = aux_product;\n",
        "             }\n",
        "        }\n",
        "    }\n",
        "\n",
        "    return max_product;\n",
        "}\n",
        "long long MaxPairwiseProductEficiente(const std::vector<int>& numbers) {\n",
        "    int n = numbers.size();\n",
        "    long long max_product = 0LL;\n",
        "    long long mayor = 0;\n",
        "    long long smayor = 0;\n",
        "    for(int i = 0; i < n; i++){\n",
        "        if(numbers[i]>mayor){\n",
        "          smayor = mayor;\n",
        "          mayor = numbers[i];\n",
        "        }else if(numbers[i]>smayor){\n",
        "          smayor = numbers[i];\n",
        "        }\n",
        "    }\n",
        "    max_product = (long long)mayor*smayor;\n",
        "    return max_product;\n",
        "}\n",
        "int main() {\n",
        "    while(true){\n",
        "        int n = rand()%10000+2;\n",
        "        std::cout<<\"n: \"<<n<<\"\\n\";\n",
        "        std::vector<int> numbers(n);\n",
        "        long long maxproductEficiente = 0LL;\n",
        "        long long maxproduct = 0LL;\n",
        "\n",
        "        for (int i = 0; i < n; ++i) {\n",
        "            numbers[i] = rand()%199998+2;\n",
        "            //std::cout<<numbers[i]<<\" \";\n",
        "        }\n",
        "        maxproductEficiente = MaxPairwiseProductEficiente(numbers);\n",
        "        maxproduct = MaxPairwiseProduct(numbers);\n",
        "        if(maxproductEficiente != maxproduct){\n",
        "            std::cout<<\"Respuesta erronea: \"<<\"No eficiente: \"<<maxproduct<<\"   -   Eficiente: \"<<maxproductEficiente<<\"\\n\";\n",
        "        }else{\n",
        "            std::cout<<\"Ok\\n\";\n",
        "        }\n",
        "\n",
        "    }\n",
        "    \n",
        "    return 0;\n",
        "}"
      ],
      "execution_count": null,
      "outputs": [
        {
          "output_type": "stream",
          "text": [
            "Overwriting max_pairwise_product_stressTest.cpp\n"
          ],
          "name": "stdout"
        }
      ]
    },
    {
      "cell_type": "code",
      "metadata": {
        "id": "D1sHWETqPpB_"
      },
      "source": [
        "!g++ max_pairwise_product_stressTest.cpp -o max_pairwise_product_stressTest"
      ],
      "execution_count": null,
      "outputs": []
    },
    {
      "cell_type": "code",
      "metadata": {
        "colab": {
          "base_uri": "https://localhost:8080/"
        },
        "id": "S4vxHHp-PsHq",
        "outputId": "3f79e1f7-3288-41f5-d437-f4830b1e4f91"
      },
      "source": [
        "!./max_pairwise_product_stressTest"
      ],
      "execution_count": null,
      "outputs": [
        {
          "output_type": "stream",
          "text": [
            "n: 9385\n",
            "Ok\n",
            "n: 5994\n",
            "Ok\n",
            "n: 8956\n",
            "Ok\n",
            "n: 341\n",
            "Ok\n",
            "n: 1965\n",
            "Ok\n",
            "n: 22\n",
            "Ok\n",
            "n: 4229\n",
            "Ok\n",
            "n: 7859\n",
            "Ok\n",
            "n: 8964\n",
            "Ok\n",
            "n: 6305\n",
            "Ok\n",
            "n: 9231\n",
            "^C\n"
          ],
          "name": "stdout"
        }
      ]
    },
    {
      "cell_type": "markdown",
      "metadata": {
        "id": "26bm9GVORYNy"
      },
      "source": [
        "**Measure with test file of the maximun n 200000 numbres**"
      ]
    },
    {
      "cell_type": "markdown",
      "metadata": {
        "id": "MtYpm5JtRaU_"
      },
      "source": [
        "Una vez completado el stress test, se va a realizar la prueba con el documento que se había generado y se va a medir el"
      ]
    },
    {
      "cell_type": "code",
      "metadata": {
        "colab": {
          "base_uri": "https://localhost:8080/"
        },
        "id": "eXgy0LLkRZyD",
        "outputId": "148e36dc-8965-4839-b084-fa114f402440"
      },
      "source": [
        "! time ./max_pairwise_product_eficiente<numeros_generados.txt"
      ],
      "execution_count": null,
      "outputs": [
        {
          "output_type": "stream",
          "text": [
            "40000000000\n",
            "\n",
            "real\t0m0.064s\n",
            "user\t0m0.058s\n",
            "sys\t0m0.003s\n"
          ],
          "name": "stdout"
        }
      ]
    },
    {
      "cell_type": "markdown",
      "metadata": {
        "id": "qNQS5TS4SIRQ"
      },
      "source": [
        "Lo que comprueba que es una solución eficiente, solucionando el problema en menos de 1 segundo"
      ]
    },
    {
      "cell_type": "markdown",
      "metadata": {
        "id": "Le4TWqEVvWIW"
      },
      "source": [
        "**Final super efficient solution (without storing the numbers , without calling a function)**"
      ]
    },
    {
      "cell_type": "markdown",
      "metadata": {
        "id": "4kDZTcSFvptf"
      },
      "source": [
        "Se va a modificar el algoritmo de c++ para que sea más eficiente, esto se va a hacer sin necesidad de almacenar los datos."
      ]
    },
    {
      "cell_type": "code",
      "metadata": {
        "colab": {
          "base_uri": "https://localhost:8080/"
        },
        "id": "sV_3DGklv4Z-",
        "outputId": "67f0674b-6825-41d4-d548-1ae56f95418f"
      },
      "source": [
        "%%writefile max_pairwise_product_super_eficiente.cpp\n",
        "#include <iostream>\n",
        "#include <vector>\n",
        "#include <algorithm>\n",
        "#include <list>\n",
        "\n",
        "\n",
        "int main() {\n",
        "    int n;\n",
        "    long long max_product = 0LL;\n",
        "    long long mayor = 0LL;\n",
        "    long long smayor = 0LL;\n",
        "    long long temp = 0LL;\n",
        "    std::cin >> n;\n",
        "    for (int i = 0; i < n; ++i) {\n",
        "        std::cin >> temp;\n",
        "        if(temp>mayor){\n",
        "          smayor = mayor;\n",
        "          mayor = temp;\n",
        "        }else if(temp>smayor){\n",
        "          smayor = temp;\n",
        "        }\n",
        "    }\n",
        "    max_product = (long long)mayor*smayor;\n",
        "    std::cout<<max_product<<\"\\n\";\n",
        "    return 0;\n",
        "}\n",
        "\n"
      ],
      "execution_count": null,
      "outputs": [
        {
          "output_type": "stream",
          "text": [
            "Overwriting max_pairwise_product_super_eficiente.cpp\n"
          ],
          "name": "stdout"
        }
      ]
    },
    {
      "cell_type": "code",
      "metadata": {
        "id": "v_qTJxt4w4dm"
      },
      "source": [
        "!g++ max_pairwise_product_super_eficiente.cpp -o max_pairwise_product_super_eficiente"
      ],
      "execution_count": null,
      "outputs": []
    },
    {
      "cell_type": "code",
      "metadata": {
        "colab": {
          "base_uri": "https://localhost:8080/"
        },
        "id": "8ZPlvSTjw71O",
        "outputId": "aa4454f8-db5f-4091-eab9-3a879586806d"
      },
      "source": [
        "!./max_pairwise_product_super_eficiente"
      ],
      "execution_count": null,
      "outputs": [
        {
          "output_type": "stream",
          "text": [
            "6\n",
            "9 8 7 6 5 4 72\n",
            "72\n"
          ],
          "name": "stdout"
        }
      ]
    },
    {
      "cell_type": "markdown",
      "metadata": {
        "id": "wQHM1phJx5KQ"
      },
      "source": [
        "Se va a probar la super solución con los casos de prueba máximos:\n",
        "\n",
        "El primero es el de 200.000 y 200.000 paracomprobar que funciona el long long"
      ]
    },
    {
      "cell_type": "code",
      "metadata": {
        "colab": {
          "base_uri": "https://localhost:8080/"
        },
        "id": "32zUnqhgx-i_",
        "outputId": "2f71fae4-158a-49d0-99f5-006bc55b2e0c"
      },
      "source": [
        "!./max_pairwise_product_super_eficiente<input1.txt"
      ],
      "execution_count": null,
      "outputs": [
        {
          "output_type": "stream",
          "text": [
            "40000000000\n"
          ],
          "name": "stdout"
        }
      ]
    },
    {
      "cell_type": "markdown",
      "metadata": {
        "id": "p-0AKqifyRF3"
      },
      "source": [
        "El segundo es el del archivo con 200.000 entradas, en las cuales hay por lo menos dos 200.000, para este se va a medir el tiempo"
      ]
    },
    {
      "cell_type": "code",
      "metadata": {
        "colab": {
          "base_uri": "https://localhost:8080/"
        },
        "id": "vRczqXnByZJf",
        "outputId": "60015991-6013-4c14-89fe-f87fee879d5d"
      },
      "source": [
        "! time ./max_pairwise_product_super_eficiente<numeros_generados.txt"
      ],
      "execution_count": null,
      "outputs": [
        {
          "output_type": "stream",
          "text": [
            "40000000000\n",
            "\n",
            "real\t0m0.063s\n",
            "user\t0m0.057s\n",
            "sys\t0m0.003s\n"
          ],
          "name": "stdout"
        }
      ]
    },
    {
      "cell_type": "markdown",
      "metadata": {
        "id": "aBBYZ_RFyk2v"
      },
      "source": [
        "La diferencia que hay entre la solución eficiente y super eficiente es mínima"
      ]
    },
    {
      "cell_type": "markdown",
      "metadata": {
        "id": "rydCU4bFfrhG"
      },
      "source": [
        "## Python"
      ]
    },
    {
      "cell_type": "markdown",
      "metadata": {
        "id": "c5xbjorwTk8Y"
      },
      "source": [
        "Se va a realizar el mismo ejercicio utilizando Python"
      ]
    },
    {
      "cell_type": "code",
      "metadata": {
        "colab": {
          "base_uri": "https://localhost:8080/"
        },
        "id": "cDMDaP2nTkWo",
        "outputId": "9b8ca808-52f4-4097-d460-5a1b4d712619"
      },
      "source": [
        "%%writefile max_pairwise_product1.py\n",
        "# python3\n",
        "\n",
        "def max_pairwise_product(numbers):\n",
        "    n = len(numbers)\n",
        "    max_product = 0\n",
        "    for first in range(n):\n",
        "        for second in range(first + 1, n):\n",
        "            max_product = max(max_product,\n",
        "                numbers[first] * numbers[second])\n",
        "\n",
        "    return max_product\n",
        "\n",
        "\n",
        "if __name__ == '__main__':\n",
        "    input_n = int(input())\n",
        "    input_numbers = [int(x) for x in input().split()]\n",
        "    print(max_pairwise_product(input_numbers))\n"
      ],
      "execution_count": null,
      "outputs": [
        {
          "output_type": "stream",
          "text": [
            "Writing max_pairwise_product1.py\n"
          ],
          "name": "stdout"
        }
      ]
    },
    {
      "cell_type": "code",
      "metadata": {
        "colab": {
          "base_uri": "https://localhost:8080/"
        },
        "id": "VTfohjoPzRym",
        "outputId": "5b522b40-7e52-40ce-c76b-df1c59a0fe5b"
      },
      "source": [
        "!python max_pairwise_product1.py"
      ],
      "execution_count": null,
      "outputs": [
        {
          "output_type": "stream",
          "text": [
            "6 \n",
            "9 8 7 6 5 4 \n",
            "72\n"
          ],
          "name": "stdout"
        }
      ]
    },
    {
      "cell_type": "markdown",
      "metadata": {
        "id": "1Ay86_cu0TQy"
      },
      "source": [
        "**Test con números grandes**\n",
        "\n"
      ]
    },
    {
      "cell_type": "code",
      "metadata": {
        "colab": {
          "base_uri": "https://localhost:8080/"
        },
        "id": "pmi8biQq0YwP",
        "outputId": "f77361de-bc0a-444d-a286-5f25d7ae369d"
      },
      "source": [
        "!python max_pairwise_product1.py<input1.txt"
      ],
      "execution_count": null,
      "outputs": [
        {
          "output_type": "stream",
          "text": [
            "40000000000\n"
          ],
          "name": "stdout"
        }
      ]
    },
    {
      "cell_type": "markdown",
      "metadata": {
        "id": "7R093ZeY0hvF"
      },
      "source": [
        "Parece que no es necesario aplicar nungún tipo de dato más grande, por lo que ahora es necesario enfocarse en el rendimiento del algoritmo."
      ]
    },
    {
      "cell_type": "code",
      "metadata": {
        "colab": {
          "base_uri": "https://localhost:8080/"
        },
        "id": "I42L1pml1LYk",
        "outputId": "4ac7cde3-8314-4df9-d288-2d6f5c59dafa"
      },
      "source": [
        "!time python max_pairwise_product1.py<numeros_generados.txt"
      ],
      "execution_count": null,
      "outputs": [
        {
          "output_type": "stream",
          "text": [
            "40000000000\n",
            "\n",
            "real\t84m44.197s\n",
            "user\t84m3.897s\n",
            "sys\t0m1.346s\n"
          ],
          "name": "stdout"
        }
      ]
    },
    {
      "cell_type": "markdown",
      "metadata": {
        "id": "OinnqJpZMjZT"
      },
      "source": [
        "Pasados 1 hora, 24 minutos y 44 segundos de ejecución se obtuvo el resultado."
      ]
    },
    {
      "cell_type": "markdown",
      "metadata": {
        "id": "c0LR9jDk0Ejf"
      },
      "source": [
        "**Number of instruction**\n",
        "\n",
        "Lo que se va a hacer a continuación es analizar la cantidad de instrucciones que realiza el algoritmo para las 200000 entradas, viendo el código se puede ver que hay dos for, el for externo itera n veces, mientras que el for interno itera n-1 veces. Haciendo cuentas:"
      ]
    },
    {
      "cell_type": "markdown",
      "metadata": {
        "id": "2WdjUIqL0Ejg"
      },
      "source": [
        "$$\n",
        "n(n-1)=200.000(200.000-1)\n",
        "$$\n",
        "$$\n",
        "= 39.999.800.000  \\; \\text{ instrucciones}\n",
        "$$"
      ]
    },
    {
      "cell_type": "markdown",
      "metadata": {
        "id": "z__JkH3P0Ejg"
      },
      "source": [
        "**Time x Instruction**"
      ]
    },
    {
      "cell_type": "markdown",
      "metadata": {
        "id": "EZU1_RZD0Eji"
      },
      "source": [
        "Una vez con un aproximado de las operaciones realizadas, se calcula el tiempo que tarda haciendo cada instrucción, que es igual a:\n",
        "$$\n",
        "1h24m44s = 5.084s\n",
        "$$\n",
        "Por lo que:\n",
        "$$\n",
        "\\frac{39.999.800.000 \\;\\; \\text{operaciones}}{5.084\\;\\;\\;\\text{segundos}}\n",
        "$$\n",
        "Que es igual a:\n",
        "$$\n",
        "7.867.781 \\frac{\\text{operaciones}}{\\text{segundo}}\n",
        "$$"
      ]
    },
    {
      "cell_type": "markdown",
      "metadata": {
        "id": "Jw9B7f25YiPX"
      },
      "source": [
        "Lo que muestra una gran diferencia en rendimientos entre Python y C++"
      ]
    },
    {
      "cell_type": "markdown",
      "metadata": {
        "id": "xBUECii38eUU"
      },
      "source": [
        "Se puede apreciar como el tiempo sobrepasa los límites, por lo que es necesario hacer un código más eficiente."
      ]
    },
    {
      "cell_type": "code",
      "metadata": {
        "colab": {
          "base_uri": "https://localhost:8080/"
        },
        "id": "XO3vUsXg8oBU",
        "outputId": "354b0924-94f3-4ccf-814c-46864a852332"
      },
      "source": [
        "%%writefile max_pairwise_product1_eficiente.py\n",
        "# python3\n",
        "\n",
        "def max_pairwise_product_eficiente(numbers):\n",
        "    n = len(numbers)\n",
        "    max_product = 0\n",
        "    mayor = 0\n",
        "    smayor=0\n",
        "    for first in range(n):\n",
        "      if numbers[first]>mayor:\n",
        "        smayor = mayor\n",
        "        mayor = numbers[first]\n",
        "      elif numbers[first]>smayor:\n",
        "        smayor = numbers[first]\n",
        "      #print(\"Mayor: \",mayor,\"  -  Segundo: \",smayor,\"\\n\")\n",
        "    max_product = mayor*smayor\n",
        "    return max_product\n",
        "\n",
        "if __name__ == '__main__':\n",
        "    input_n = int(input())\n",
        "    input_numbers = [int(x) for x in input().split()]\n",
        "    print(max_pairwise_product_eficiente(input_numbers))\n"
      ],
      "execution_count": null,
      "outputs": [
        {
          "output_type": "stream",
          "text": [
            "Writing max_pairwise_product1_eficiente.py\n"
          ],
          "name": "stdout"
        }
      ]
    },
    {
      "cell_type": "code",
      "metadata": {
        "colab": {
          "base_uri": "https://localhost:8080/"
        },
        "id": "qXwSanVyBUkD",
        "outputId": "edad9894-16ee-4384-bbb7-9f6faeb7a768"
      },
      "source": [
        "!python max_pairwise_product1_eficiente.py"
      ],
      "execution_count": null,
      "outputs": [
        {
          "output_type": "stream",
          "text": [
            "6\n",
            "9 8 7 6 5 4 \n",
            "72\n"
          ],
          "name": "stdout"
        }
      ]
    },
    {
      "cell_type": "markdown",
      "metadata": {
        "id": "TxwWKVk8Yweu"
      },
      "source": [
        "Parece funcionar bastante bien, es necesario hacer un stress test para verificar"
      ]
    },
    {
      "cell_type": "code",
      "metadata": {
        "colab": {
          "base_uri": "https://localhost:8080/"
        },
        "id": "5S-I5ulaN-7a",
        "outputId": "4db092e3-f63a-40ea-d6d0-e5710a21f57d"
      },
      "source": [
        "%%writefile max_pairwise_product_stressTest.py\n",
        "# python3\n",
        "import numpy as np\n",
        "def max_pairwise_product(numbers):\n",
        "    n = len(numbers)\n",
        "    max_product = 0\n",
        "    for first in range(n):\n",
        "        for second in range(first + 1, n):\n",
        "            max_product = max(max_product,\n",
        "                numbers[first] * numbers[second])\n",
        "\n",
        "    return max_product\n",
        "\n",
        "def max_pairwise_product_eficiente(numbers):\n",
        "    n = len(numbers)\n",
        "    max_product = 0\n",
        "    mayor = 0\n",
        "    smayor=0\n",
        "    for first in range(n):\n",
        "      if numbers[first]>mayor:\n",
        "        smayor = mayor\n",
        "        mayor = numbers[first]\n",
        "      elif numbers[first]>smayor:\n",
        "        smayor = numbers[first]\n",
        "      #print(\"Mayor: \",mayor,\"  -  Segundo: \",smayor,\"\\n\")\n",
        "    max_product = mayor*smayor\n",
        "    return max_product\n",
        "\n",
        "if __name__ == '__main__':\n",
        "  while(True):\n",
        "    n = np.random.randint(10000, size=1)\n",
        "    n = n+2\n",
        "    numbers = np.random.randint(199999, size=n)\n",
        "    numbers = numbers+1\n",
        "    print(\"n: \",n[0],\"\\n\")\n",
        "    #print(numbers,\"\\n\")\n",
        "    produc = max_pairwise_product(numbers)\n",
        "    produc_eficiente = max_pairwise_product_eficiente(numbers)\n",
        "    #print(produc,\"\\n\")\n",
        "    if(produc !=  produc_eficiente):\n",
        "      print(\"Respuesta erronea \",\"    No eficiente: \",maxproduct,\"   -   Eficiente: \",maxproductEficiente,\"\\n\")\n",
        "      break\n",
        "    else:\n",
        "      print(\"Ok \\n\");\n"
      ],
      "execution_count": null,
      "outputs": [
        {
          "output_type": "stream",
          "text": [
            "Overwriting max_pairwise_product_stressTest.py\n"
          ],
          "name": "stdout"
        }
      ]
    },
    {
      "cell_type": "code",
      "metadata": {
        "colab": {
          "base_uri": "https://localhost:8080/"
        },
        "id": "ujM0dRiuOnfd",
        "outputId": "3a2df279-08ad-46c2-8c0f-d00f1e122d8e"
      },
      "source": [
        "!python max_pairwise_product_stressTest.py"
      ],
      "execution_count": null,
      "outputs": [
        {
          "output_type": "stream",
          "text": [
            "n:  8828 \n",
            "\n",
            "Ok \n",
            "\n",
            "n:  4854 \n",
            "\n",
            "Ok \n",
            "\n",
            "n:  4245 \n",
            "\n",
            "Ok \n",
            "\n",
            "n:  9629 \n",
            "\n",
            "Ok \n",
            "\n",
            "n:  513 \n",
            "\n",
            "Ok \n",
            "\n",
            "n:  7012 \n",
            "\n",
            "Ok \n",
            "\n",
            "n:  9329 \n",
            "\n",
            "Traceback (most recent call last):\n",
            "  File \"max_pairwise_product_stressTest.py\", line 36, in <module>\n",
            "    produc = max_pairwise_product(numbers)\n",
            "  File \"max_pairwise_product_stressTest.py\", line 9, in max_pairwise_product\n",
            "    numbers[first] * numbers[second])\n",
            "KeyboardInterrupt\n",
            "^C\n"
          ],
          "name": "stdout"
        }
      ]
    },
    {
      "cell_type": "markdown",
      "metadata": {
        "id": "RKMY0aL9Rsui"
      },
      "source": [
        "Parece que funciona bastante bien, por lo que se va a realizar la prueba de rendimiento con el archivo de texto"
      ]
    },
    {
      "cell_type": "code",
      "metadata": {
        "colab": {
          "base_uri": "https://localhost:8080/"
        },
        "id": "H_lDqKd2SWB6",
        "outputId": "fde69fba-261d-474f-ecef-9b69d343ac55"
      },
      "source": [
        "!time python max_pairwise_product1_eficiente.py<numeros_generados.txt"
      ],
      "execution_count": null,
      "outputs": [
        {
          "output_type": "stream",
          "text": [
            "40000000000\n",
            "\n",
            "real\t0m0.187s\n",
            "user\t0m0.143s\n",
            "sys\t0m0.039s\n"
          ],
          "name": "stdout"
        }
      ]
    },
    {
      "cell_type": "markdown",
      "metadata": {
        "id": "DOd72Z2zSrkq"
      },
      "source": [
        "Por lo que se puede evidenciar que es un algoritmo bastante optimizado"
      ]
    },
    {
      "cell_type": "markdown",
      "metadata": {
        "id": "jqV3_0rgafC_"
      },
      "source": [
        "**Final super efficient solution (without storing the numbers , without calling a function)**"
      ]
    },
    {
      "cell_type": "markdown",
      "metadata": {
        "id": "aYtm7JOucFkU"
      },
      "source": [
        "Se trata de la misma solución eficiente, solamente que en este caso no se almacenan los valores en una lista, sino que se comparan directamente al ser recibidos."
      ]
    },
    {
      "cell_type": "code",
      "metadata": {
        "colab": {
          "base_uri": "https://localhost:8080/"
        },
        "id": "Xg7ypSHVah3G",
        "outputId": "77397c9c-66fa-4809-969c-1cb08c4030ad"
      },
      "source": [
        "%%writefile max_pairwise_product1_super_efficient.py\n",
        "# python3\n",
        "\n",
        "if __name__ == '__main__':\n",
        "    max_product = 0\n",
        "    mayor = 0\n",
        "    smayor = 0\n",
        "    temp = 0\n",
        "    input_n = int(input())\n",
        "    for x in input().split():\n",
        "      temp = int(x)\n",
        "      if temp>mayor:\n",
        "        smayor = mayor\n",
        "        mayor = temp\n",
        "      elif temp>smayor:\n",
        "        smayor = temp\n",
        "    max_product = mayor*smayor\n",
        "    print(max_product)"
      ],
      "execution_count": null,
      "outputs": [
        {
          "output_type": "stream",
          "text": [
            "Overwriting max_pairwise_product1_super_efficient.py\n"
          ],
          "name": "stdout"
        }
      ]
    },
    {
      "cell_type": "code",
      "metadata": {
        "colab": {
          "base_uri": "https://localhost:8080/"
        },
        "id": "bw8gq4rKbGTX",
        "outputId": "27fab45d-b895-4bf0-c6a5-67e5728b2969"
      },
      "source": [
        "!python max_pairwise_product1_super_efficient.py"
      ],
      "execution_count": null,
      "outputs": [
        {
          "output_type": "stream",
          "text": [
            "6\n",
            "9 8 7 6 5 4 \n",
            "72\n"
          ],
          "name": "stdout"
        }
      ]
    },
    {
      "cell_type": "markdown",
      "metadata": {
        "id": "HD2fipSScOYv"
      },
      "source": [
        "Parece que funciona bastante bien, se hará la prueba con 200.000 datos, con por lo menos dos 200.000 en sus entradas:"
      ]
    },
    {
      "cell_type": "code",
      "metadata": {
        "colab": {
          "base_uri": "https://localhost:8080/"
        },
        "id": "Z9dew7j9cWK3",
        "outputId": "eeaae8ec-922b-4382-bb82-3834c739807a"
      },
      "source": [
        "!time python max_pairwise_product1_super_efficient.py<numeros_generados.txt"
      ],
      "execution_count": null,
      "outputs": [
        {
          "output_type": "stream",
          "text": [
            "40000000000\n",
            "\n",
            "real\t0m0.173s\n",
            "user\t0m0.140s\n",
            "sys\t0m0.029s\n"
          ],
          "name": "stdout"
        }
      ]
    },
    {
      "cell_type": "markdown",
      "metadata": {
        "id": "soAz9d-CcdFR"
      },
      "source": [
        "Se aprecia una disminución considerable en el tiempo de ejecución, aproximadamente de 0.014s, que, aunque no sea muy distinguible, es un tiempo considerable, 7,48% menos que el código super optimizado."
      ]
    },
    {
      "cell_type": "markdown",
      "metadata": {
        "id": "ka68IkUVSoxt"
      },
      "source": [
        "# Captura de pantalla coursera"
      ]
    },
    {
      "cell_type": "markdown",
      "metadata": {
        "id": "G_vGvIsbSwiC"
      },
      "source": [
        "<img src =\"https://raw.githubusercontent.com/juarodriguezc/AlgorithmsUN2021I/master/Lab6/juarodriguezc.JPG\">"
      ]
    },
    {
      "cell_type": "markdown",
      "metadata": {
        "id": "s5G-kTl9KU1d"
      },
      "source": [
        "<img src = \"https://raw.githubusercontent.com/juarodriguezc/AlgorithmsUN2021I/master/Lab6/juarodriguezc2.JPG\">"
      ]
    }
  ]
}