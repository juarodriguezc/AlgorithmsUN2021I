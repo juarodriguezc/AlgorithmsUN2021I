{
  "nbformat": 4,
  "nbformat_minor": 0,
  "metadata": {
    "colab": {
      "name": "juarodriguezcAlgorithmicToolboxWeek2.ipynb",
      "provenance": [],
      "collapsed_sections": []
    },
    "kernelspec": {
      "name": "python3",
      "display_name": "Python 3"
    },
    "language_info": {
      "name": "python"
    }
  },
  "cells": [
    {
      "cell_type": "markdown",
      "metadata": {
        "id": "pMCIDRY0VdZE"
      },
      "source": [
        "# **Programming Assignment 2:**\n",
        "##Algorithmic Warm-up"
      ]
    },
    {
      "cell_type": "markdown",
      "metadata": {
        "id": "N1ok_-56OjB1"
      },
      "source": [
        "## **I Solving the Fibonacci Number Challenge**"
      ]
    },
    {
      "cell_type": "markdown",
      "metadata": {
        "id": "f7t9ftDKVw9T"
      },
      "source": [
        "C++"
      ]
    },
    {
      "cell_type": "code",
      "metadata": {
        "colab": {
          "base_uri": "https://localhost:8080/"
        },
        "id": "drIHVdDrVwSd",
        "outputId": "141b0327-c9d0-4029-d9bf-b045f54ce9d2"
      },
      "source": [
        "%%writefile exercise1.cpp\n",
        "#include <iostream>\n",
        "#include <cassert>\n",
        "using namespace std;\n",
        "\n",
        "int fibonacci_naive(int n) {\n",
        "    if (n <= 1)\n",
        "        return n;\n",
        "\n",
        "    return fibonacci_naive(n - 1) + fibonacci_naive(n - 2);\n",
        "}\n",
        "\n",
        "int fibonacci_fast(int n) {\n",
        "    int F[n];\n",
        "    F[0] = 0;\n",
        "    F[1] = 1;\n",
        "    for(int a = 2; a <= n; a++){\n",
        "        F[a] = F[a-1] + F[a-2];\n",
        "    }\n",
        "    return F[n];\n",
        "}\n",
        "\n",
        "void test_solution() {\n",
        "    assert(fibonacci_fast(3) == 2);\n",
        "    assert(fibonacci_fast(10) == 55);\n",
        "    for (int n = 0; n < 20; ++n)\n",
        "        assert(fibonacci_fast(n) == fibonacci_naive(n));\n",
        "}\n",
        "\n",
        "int main() {\n",
        "    int n = 0;\n",
        "    cin >> n;\n",
        "    cout << fibonacci_fast(n) << '\\n';\n",
        "    //test_solution();\n",
        "    return 0;\n",
        "}\n"
      ],
      "execution_count": null,
      "outputs": [
        {
          "output_type": "stream",
          "text": [
            "Writing exercise1.cpp\n"
          ],
          "name": "stdout"
        }
      ]
    },
    {
      "cell_type": "code",
      "metadata": {
        "colab": {
          "base_uri": "https://localhost:8080/"
        },
        "id": "YBkgn9HjWGr7",
        "outputId": "924da509-0d7b-43bc-f9ce-95ef87ebdfc5"
      },
      "source": [
        "!g++ exercise1.cpp -o exercise1\n",
        "!./exercise1"
      ],
      "execution_count": null,
      "outputs": [
        {
          "output_type": "stream",
          "text": [
            "10\n",
            "55\n"
          ],
          "name": "stdout"
        }
      ]
    },
    {
      "cell_type": "markdown",
      "metadata": {
        "id": "9t9mAMwuXdvE"
      },
      "source": [
        "## **II Solving the Last Digit of a Large Fibonacci Number Challenge**"
      ]
    },
    {
      "cell_type": "markdown",
      "metadata": {
        "id": "jpBHhjtkXmJX"
      },
      "source": [
        "C++"
      ]
    },
    {
      "cell_type": "code",
      "metadata": {
        "colab": {
          "base_uri": "https://localhost:8080/"
        },
        "id": "WEV_Zwm6XmJY",
        "outputId": "cf0baccc-69cc-436f-b4d6-0ea75aa97718"
      },
      "source": [
        "%%writefile exercise2.cpp\n",
        "#include <iostream>\n",
        "using namespace std;\n",
        "int get_fibonacci_last_digit_naive(int n) {\n",
        "    if (n <= 1)\n",
        "        return n;\n",
        "\n",
        "    int previous = 0;\n",
        "    int current  = 1;\n",
        "\n",
        "    for (int i = 0; i < n - 1; ++i) {\n",
        "        int tmp_previous = previous;\n",
        "        previous = current;\n",
        "        current = tmp_previous + current;\n",
        "    }\n",
        "\n",
        "    return current % 10;\n",
        "}\n",
        "char get_fibonacci_last_digit_fast(int n){\n",
        "    string pisano_period = \"011235831459437077415617853819099875279651673033695493257291\";\n",
        "    return pisano_period[n%60];\n",
        "}\n",
        "\n",
        "int main() {\n",
        "    int n;\n",
        "    cin >> n;\n",
        "    cout<<get_fibonacci_last_digit_fast(n)<<endl;\n",
        "}\n"
      ],
      "execution_count": null,
      "outputs": [
        {
          "output_type": "stream",
          "text": [
            "Writing exercise2.cpp\n"
          ],
          "name": "stdout"
        }
      ]
    },
    {
      "cell_type": "code",
      "metadata": {
        "colab": {
          "base_uri": "https://localhost:8080/"
        },
        "id": "UgbI0uBcXuq0",
        "outputId": "a67f7113-6b8c-4d60-de82-df9ed7f88530"
      },
      "source": [
        "!g++ exercise2.cpp -o exercise2\n",
        "!./exercise2"
      ],
      "execution_count": null,
      "outputs": [
        {
          "output_type": "stream",
          "text": [
            "327305\n",
            "5\n"
          ],
          "name": "stdout"
        }
      ]
    },
    {
      "cell_type": "markdown",
      "metadata": {
        "id": "zbqh2LeRX76n"
      },
      "source": [
        "## **III Solving the Greatest Common Divisor Challenge**"
      ]
    },
    {
      "cell_type": "markdown",
      "metadata": {
        "id": "Q3ZRCFjgYGHt"
      },
      "source": [
        "C++"
      ]
    },
    {
      "cell_type": "code",
      "metadata": {
        "colab": {
          "base_uri": "https://localhost:8080/"
        },
        "id": "ojka1gLtYGHu",
        "outputId": "a8d2c71c-920a-4c3b-afa1-1d6651df0f95"
      },
      "source": [
        "%%writefile exercise3.cpp\n",
        "#include <iostream>\n",
        "\n",
        "int gcd_naive(int a, int b) {\n",
        "  int current_gcd = 1;\n",
        "  for (int d = 2; d <= a && d <= b; d++) {\n",
        "    if (a % d == 0 && b % d == 0) {\n",
        "      if (d > current_gcd) {\n",
        "        current_gcd = d;\n",
        "      }\n",
        "    }\n",
        "  }\n",
        "  return current_gcd;\n",
        "}\n",
        "\n",
        "int gcd_fast(int a, int b) {\n",
        "  if (b == 0)\n",
        "    return a;\n",
        "  gcd_fast(b, (a%b));\n",
        "}\n",
        "\n",
        "int main() {\n",
        "  int a, b;\n",
        "  std::cin >> a >> b;\n",
        "  std::cout << gcd_fast(a, b) << std::endl;\n",
        "  return 0;\n",
        "}\n"
      ],
      "execution_count": null,
      "outputs": [
        {
          "output_type": "stream",
          "text": [
            "Writing exercise3.cpp\n"
          ],
          "name": "stdout"
        }
      ]
    },
    {
      "cell_type": "code",
      "metadata": {
        "colab": {
          "base_uri": "https://localhost:8080/"
        },
        "id": "mza5mWenYGHv",
        "outputId": "3d2827bd-1592-4f6e-995b-beb5b711f1e6"
      },
      "source": [
        "!g++ exercise3.cpp -o exercise3\n",
        "!./exercise3"
      ],
      "execution_count": null,
      "outputs": [
        {
          "output_type": "stream",
          "text": [
            "28851538 1183019\n",
            "17657\n"
          ],
          "name": "stdout"
        }
      ]
    },
    {
      "cell_type": "markdown",
      "metadata": {
        "id": "TQYUb5JGYV6x"
      },
      "source": [
        "## **IV Solving the Least Common Multiple Challenge**"
      ]
    },
    {
      "cell_type": "markdown",
      "metadata": {
        "id": "___X61G5YV6y"
      },
      "source": [
        "C++"
      ]
    },
    {
      "cell_type": "code",
      "metadata": {
        "colab": {
          "base_uri": "https://localhost:8080/"
        },
        "id": "Ua01SBv6YV6z",
        "outputId": "2c591b06-e57d-4a27-fba3-6c60e38a10bf"
      },
      "source": [
        "%%writefile exercise4.cpp\n",
        "#include <iostream>\n",
        "using namespace std;\n",
        "\n",
        "int gcd(int a, int b) {\n",
        "  if (b == 0)\n",
        "    return a;\n",
        "  gcd(b, (a%b));\n",
        "}\n",
        "long long lcm_naive(int a, int b) {\n",
        "  for (long l = 1; l <= (long long) a * b; ++l)\n",
        "    if (l % a == 0 && l % b == 0)\n",
        "      return l;\n",
        "\n",
        "  return (long long) a * b;\n",
        "}\n",
        "\n",
        "long long lcm_fast(int a, int b) {\n",
        "    long long gcd_n = (long long)gcd(a,b);\n",
        "    long long mult = (long long)a*b;\n",
        "    return (mult/gcd_n);\n",
        "}\n",
        "int main() {\n",
        "  int a, b;\n",
        "  cin >> a >> b;\n",
        "  cout<<lcm_fast(a,b)<<endl;\n",
        "  return 0;\n",
        "}\n"
      ],
      "execution_count": null,
      "outputs": [
        {
          "output_type": "stream",
          "text": [
            "Writing exercise4.cpp\n"
          ],
          "name": "stdout"
        }
      ]
    },
    {
      "cell_type": "code",
      "metadata": {
        "colab": {
          "base_uri": "https://localhost:8080/"
        },
        "id": "V2lgb3SfYV60",
        "outputId": "c8168a53-9400-4047-a747-dbf8233b3265"
      },
      "source": [
        "!g++ exercise4.cpp -o exercise4\n",
        "!./exercise4"
      ],
      "execution_count": null,
      "outputs": [
        {
          "output_type": "stream",
          "text": [
            "761457 614573\n",
            "467970912861\n"
          ],
          "name": "stdout"
        }
      ]
    },
    {
      "cell_type": "markdown",
      "metadata": {
        "id": "sVMDCeOJYpzB"
      },
      "source": [
        "## **V Solving the Fibonacci Number Again Challenge**"
      ]
    },
    {
      "cell_type": "markdown",
      "metadata": {
        "id": "cUsidqp3YpzC"
      },
      "source": [
        "C++"
      ]
    },
    {
      "cell_type": "code",
      "metadata": {
        "colab": {
          "base_uri": "https://localhost:8080/"
        },
        "id": "2M7pcmLlYpzC",
        "outputId": "ee0ac8e1-8512-41de-9845-22e19cdc08fe"
      },
      "source": [
        "%%writefile exercise5.cpp\n",
        "#include <iostream>\n",
        "#include <vector>\n",
        "using namespace std;\n",
        "long long get_fibonacci_huge_naive(long long n, long long m) {\n",
        "    if (n <= 1)\n",
        "        return n;\n",
        "\n",
        "    long long previous = 0;\n",
        "    long long current  = 1;\n",
        "\n",
        "    for (long long i = 0; i < n - 1; ++i) {\n",
        "        long long tmp_previous = previous;\n",
        "        previous = current;\n",
        "        current = tmp_previous + current;\n",
        "    }\n",
        "\n",
        "    return current % m;\n",
        "}\n",
        "\n",
        "long long get_fibonacci_huge_fast(long long n, long long m) {\n",
        "    if (n <= 1)\n",
        "        return n;\n",
        "    long long previous = 0;\n",
        "    long long current  = 1;\n",
        "    std::vector<int> pisano_vector;\n",
        "    pisano_vector.push_back(0);\n",
        "    pisano_vector.push_back(1);\n",
        "    for (long long i = 2; i <= n ; ++i) {\n",
        "        long long tmp_previous = previous % m;\n",
        "        previous = current % m;\n",
        "        current = (tmp_previous + current)%m;\n",
        "        if(pisano_vector.back() ==  0 && current == 1){\n",
        "            pisano_vector.pop_back();\n",
        "            break;\n",
        "        }\n",
        "        pisano_vector.push_back(current);\n",
        "    }\n",
        "    return pisano_vector[n%pisano_vector.size()];\n",
        "\n",
        "}\n",
        "\n",
        "int main() {\n",
        "    long long n, m;\n",
        "    cin >> n >> m;\n",
        "    cout << get_fibonacci_huge_fast(n, m) << '\\n';\n",
        "}\n"
      ],
      "execution_count": null,
      "outputs": [
        {
          "output_type": "stream",
          "text": [
            "Writing exercise5.cpp\n"
          ],
          "name": "stdout"
        }
      ]
    },
    {
      "cell_type": "code",
      "metadata": {
        "colab": {
          "base_uri": "https://localhost:8080/"
        },
        "id": "xo97FwR1YpzD",
        "outputId": "2359f23b-cc5b-471a-ae5f-bf7f0c25eb53"
      },
      "source": [
        "!g++ exercise5.cpp -o exercise5\n",
        "!./exercise5"
      ],
      "execution_count": null,
      "outputs": [
        {
          "output_type": "stream",
          "text": [
            "2816213588 239\n",
            "151\n"
          ],
          "name": "stdout"
        }
      ]
    },
    {
      "cell_type": "markdown",
      "metadata": {
        "id": "xUjAWVQ1ZX_i"
      },
      "source": [
        "## **VI Solving the Last Digit of the Sum of Fibonacci Numbers Challenge**"
      ]
    },
    {
      "cell_type": "markdown",
      "metadata": {
        "id": "5wri63cfZX_j"
      },
      "source": [
        "C++"
      ]
    },
    {
      "cell_type": "code",
      "metadata": {
        "colab": {
          "base_uri": "https://localhost:8080/"
        },
        "id": "sLORy1d1ZX_j",
        "outputId": "904b6eb2-698a-4d0d-b340-f2ff658f076c"
      },
      "source": [
        "%%writefile exercise6.cpp\n",
        "#include <iostream>\n",
        "using namespace std;\n",
        "int fibonacci_sum_naive(long long n) {\n",
        "    if (n <= 1)\n",
        "        return n;\n",
        "\n",
        "    long long previous = 0;\n",
        "    long long current  = 1;\n",
        "    long long sum      = 1;\n",
        "\n",
        "    for (long long i = 0; i < n - 1; ++i) {\n",
        "        long long tmp_previous = previous;\n",
        "        previous = current;\n",
        "        current = tmp_previous + current;\n",
        "        sum += current;\n",
        "    }\n",
        "\n",
        "    return sum;\n",
        "}\n",
        "int fibonacci_sum_fast(long long to) {\n",
        "    if(to == 1)return 1;\n",
        "    int prev = 0;\n",
        "    int next = 1;\n",
        "    int suma = 0;\n",
        "    to = to % 60;\n",
        "    for(int a=0; a < to ; a++){\n",
        "        suma+=next;\n",
        "        int prev_temp = next;\n",
        "        next = (prev + next)%10;\n",
        "        prev = prev_temp;\n",
        "\n",
        "    }\n",
        "    return suma%10;\n",
        "}\n",
        "\n",
        "int main() {\n",
        "    long long n = 0;\n",
        "    cin >> n;\n",
        "    cout <<fibonacci_sum_fast(n);\n",
        "}\n"
      ],
      "execution_count": null,
      "outputs": [
        {
          "output_type": "stream",
          "text": [
            "Writing exercise6.cpp\n"
          ],
          "name": "stdout"
        }
      ]
    },
    {
      "cell_type": "code",
      "metadata": {
        "colab": {
          "base_uri": "https://localhost:8080/"
        },
        "id": "3xWuWAzoZX_k",
        "outputId": "8862cace-67c0-4dce-c87f-9bd28e719c82"
      },
      "source": [
        "!g++ exercise6.cpp -o exercise6\n",
        "!./exercise6"
      ],
      "execution_count": null,
      "outputs": [
        {
          "output_type": "stream",
          "text": [
            "100\n",
            "5"
          ],
          "name": "stdout"
        }
      ]
    },
    {
      "cell_type": "markdown",
      "metadata": {
        "id": "wAnR5ObhZnAm"
      },
      "source": [
        "## **VII Solving the Last Digit of the Sum of Fibonacci Numbers Again Challenge**"
      ]
    },
    {
      "cell_type": "markdown",
      "metadata": {
        "id": "9eE9cHEVZnAm"
      },
      "source": [
        "C++"
      ]
    },
    {
      "cell_type": "code",
      "metadata": {
        "colab": {
          "base_uri": "https://localhost:8080/"
        },
        "id": "H1NxyzWzZnAm",
        "outputId": "3c1105ed-5d99-4ddd-d96c-283c9f3c79fd"
      },
      "source": [
        "%%writefile exercise7.cpp\n",
        "#include <iostream>\n",
        "using namespace std;\n",
        "\n",
        "int fibonacci_sum_fast(long long to) {\n",
        "    if(to == 1)return 1;\n",
        "    int prev = 0;\n",
        "    int next = 1;\n",
        "    int suma = 0;\n",
        "    to = to % 60;\n",
        "    for(int a=0; a < to ; a++){\n",
        "        suma+=next;\n",
        "        int prev_temp = next;\n",
        "        next = (prev + next)%10;\n",
        "        prev = prev_temp;\n",
        "\n",
        "    }\n",
        "    return suma%10;\n",
        "}\n",
        "\n",
        "int get_fibonacci_partial_sum_fast(long long from, long long to){\n",
        "    return (abs((fibonacci_sum_fast(to)+10)-fibonacci_sum_fast(from-1))%10);\n",
        "}\n",
        "\n",
        "int main() {\n",
        "    long long from, to;\n",
        "    cin >> from >> to;\n",
        "    cout << get_fibonacci_partial_sum_fast(from, to) << '\\n';\n",
        "\n",
        "\n",
        "}\n"
      ],
      "execution_count": null,
      "outputs": [
        {
          "output_type": "stream",
          "text": [
            "Writing exercise7.cpp\n"
          ],
          "name": "stdout"
        }
      ]
    },
    {
      "cell_type": "code",
      "metadata": {
        "colab": {
          "base_uri": "https://localhost:8080/"
        },
        "id": "3MjpX7ANZnAn",
        "outputId": "2963c562-dd78-42f9-8792-3dedb582f75d"
      },
      "source": [
        "!g++ exercise7.cpp -o exercise7\n",
        "!./exercise7"
      ],
      "execution_count": null,
      "outputs": [
        {
          "output_type": "stream",
          "text": [
            "10 200\n",
            "2\n"
          ],
          "name": "stdout"
        }
      ]
    },
    {
      "cell_type": "markdown",
      "metadata": {
        "id": "Eo209M2oZ4X0"
      },
      "source": [
        "## **VIII Solving the Last Digit of the Sum of Squares of Fibonacci Numbers Challenge**"
      ]
    },
    {
      "cell_type": "markdown",
      "metadata": {
        "id": "mRjEZfcOZ4X1"
      },
      "source": [
        "C++"
      ]
    },
    {
      "cell_type": "code",
      "metadata": {
        "colab": {
          "base_uri": "https://localhost:8080/"
        },
        "id": "qs9oZXphZ4X2",
        "outputId": "0e2d9f64-9757-4169-8cf1-c8891fb5ead8"
      },
      "source": [
        "%%writefile exercise8.cpp\n",
        "#include <iostream>\n",
        "using namespace std;\n",
        "\n",
        "int fibonacci_sum_squares_naive(long long to) {\n",
        "    if(to == 1)return 1;\n",
        "    int prev = 0;\n",
        "    int next = 1;\n",
        "    int suma = 0;\n",
        "    to = to % 60;\n",
        "    for(int a=0; a < to ; a++){\n",
        "        suma+=(next*next);\n",
        "        int prev_temp = next;\n",
        "        next = (prev + next)%10;\n",
        "        prev = prev_temp;\n",
        "\n",
        "    }\n",
        "    return suma%10;\n",
        "}\n",
        "\n",
        "int main() {\n",
        "    long long n = 0;\n",
        "    cin >> n;\n",
        "    cout <<fibonacci_sum_squares_naive(n);\n",
        "}\n"
      ],
      "execution_count": null,
      "outputs": [
        {
          "output_type": "stream",
          "text": [
            "Overwriting exercise8.cpp\n"
          ],
          "name": "stdout"
        }
      ]
    },
    {
      "cell_type": "code",
      "metadata": {
        "colab": {
          "base_uri": "https://localhost:8080/"
        },
        "id": "uKtnweH9Z4X2",
        "outputId": "af371b7d-c525-4af4-f4b4-ba55626110b8"
      },
      "source": [
        "!g++ exercise8.cpp -o exercise8\n",
        "!./exercise8"
      ],
      "execution_count": null,
      "outputs": [
        {
          "output_type": "stream",
          "text": [
            "1234567890\n",
            "0"
          ],
          "name": "stdout"
        }
      ]
    },
    {
      "cell_type": "markdown",
      "metadata": {
        "id": "ka68IkUVSoxt"
      },
      "source": [
        "## **Screenhsoots of the Coursera Submissions in C++**"
      ]
    },
    {
      "cell_type": "markdown",
      "metadata": {
        "id": "G_vGvIsbSwiC"
      },
      "source": [
        "<img src =\"https://raw.githubusercontent.com/juarodriguezc/AlgorithmsUN2021I/master/Lab8/juarodriguezc.JPG\">"
      ]
    }
  ]
}