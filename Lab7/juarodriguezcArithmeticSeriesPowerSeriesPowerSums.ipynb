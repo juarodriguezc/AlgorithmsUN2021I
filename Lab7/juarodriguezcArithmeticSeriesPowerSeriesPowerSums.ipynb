{
  "nbformat": 4,
  "nbformat_minor": 0,
  "metadata": {
    "colab": {
      "name": "juarodriguezcArithmeticSeriesPowerSeriesPowerSums.ipynb",
      "provenance": [],
      "collapsed_sections": []
    },
    "kernelspec": {
      "name": "python3",
      "display_name": "Python 3"
    }
  },
  "cells": [
    {
      "cell_type": "markdown",
      "metadata": {
        "id": "r4rXWI4gCN5B"
      },
      "source": [
        "# Arithmetic Series\n",
        "\n",
        "## Modified from Arithmetic Series -  [Wolfram MathWorld](https://mathworld.wolfram.com/ArithmeticSeries.html)\n",
        "\n",
        "\n",
        "An arithmetic sequence $\\{a_k\\}$ for $k=1, 2, ..., $ in which each term is computed from the previous one by adding (or subtracting) a constant $d$. \n",
        "\n",
        "\\begin{align*}\n",
        "a_1 & \\\\\n",
        "a_2 &\\ \\ =\\ \\ a_1 + d  \\\\\n",
        "a_3 &\\ \\ =\\ \\ a_2 + d \\ \\ =\\ \\ a_1 + 2d   \\\\\n",
        "a_4 &\\ \\ =\\ \\ a_3 + d \\ \\ =\\ \\ a_2 + 2d \\ \\ =\\ \\ a_1 + 3d  \\\\\n",
        "\\vdots\\\\\n",
        "a_k &\\ \\ =\\ \\ a_{(k-1)}+d \\ =\\  a_{(k-2)}+2d \\ =\\  \\ldots \\ =\\  \\ a_1+(k-1)d\n",
        "\\end{align*}\n",
        "\n",
        "Therefore, for $k>=1$,\n",
        "\n",
        "$$ a_k = a_1 + (k-1)d$$\n",
        "\n",
        "With $a_1$ and $d$ given.\n",
        "\n",
        "<br /> \n",
        "\n",
        "The sequence of the partial sum of the first $n$ terms of a sequence is called a series, in the case of an arithemetic sequence the series is called an arithmetic series.\n",
        "\n",
        "If  $a_1= 1$ and $d=1$ we have, the simplest arithmnetic sequence,  the natural numbers sequence $\\{a_k = k \\}$ for  $k=1, 2, ..., $  i.e. the seuqnece\n",
        "$$1, 2, ...,$$\n",
        "The  corresponmding series is \n",
        "$$ \n",
        "S_n = 1 + 2+ \\ldots + (n-1)+ n = \\sum_{k=1}^n k\n",
        "$$\n",
        "can be calculated as a function of $n$.\n",
        "\n",
        "Assume that we allign one $S_{n-1}$ with a second  $S_{n-1}$ that have the terms adden reverse order and you add term to term, we have\n",
        "\\begin{array}{llclclclclc}\n",
        "  S_{n-1} &=& 1 &+& 2 &+& \\ldots &+& (n-2) &+& (n-1) \\\\\n",
        "  S_{n-1} &=& (n-1)  &+& (n-2)  &+& \\ldots   &+& 2   &+& 1 \\\\\n",
        "   \\hline \\\\\n",
        "   2S_{n-1} &=& n  &+& n  &+& \\ldots   &+& n   &+& n \\\\\n",
        "\\end{array}\n",
        "so\n",
        "$$  2S_{n-1} = (n-1)n $$\n",
        "then\n",
        "$$  S_{n-1} = \\frac{1}{2} (n-1)n$$\n",
        "therefore \n",
        "$$  S_{n} = \\frac{1}{2} n(n+1)$$\n",
        "\n",
        "\n",
        "\\begin{align*}\n",
        "S_n &= \\sum_{k=1}^n a_k\t\\\\\n",
        "    &= \\sum_{k=1}^n[a_1+(k-1)d]\t\t\\\\\n",
        "    &= na_1 + d \\sum_{k=1}^n(k-1)\t\\\\\n",
        "    &= na_1 + d \\sum_{k=0}^{n-1} k\t\\\\\n",
        "    &= na_1 + d \\sum_{k=1}^{n-1} k\t\\\\\n",
        "    &= na_1 +  \\frac{1}{2} d(n-1)n\\\\\n",
        "\\end{align*}\n",
        "so \n",
        "$$ S_n =  \\frac{1}{2} n[2 a_1 +d(n-1)].$$\n",
        "\n",
        "Note, however, that\n",
        "$$a_1+a_n=a_1+[a_1+d(n-1)]=2a_1+d(n-1),$$ \t\n",
        "so\n",
        "$$S_n = \\frac{1}{2}n(a_1+a_n),$$\n",
        "\n",
        "\n",
        "or $n$ times the arithmetic mean of the first and last terms! This is the trick Gauss used as a schoolboy to solve the problem of summing the integers from $1$ to $100$ given as busy-work by his teacher. While his classmates toiled away doing the addition longhand, Gauss wrote a single number, the correct answer\n",
        "\n",
        "$$\\frac{1}{2}(100)(1+100)=50·101=5050$$ \t\n",
        "on his slate (Burton 1989, pp. 80-81; Hoffman 1998, p. 207). When the answers were examined, Gauss's proved to be the only correct one.\n",
        "\n",
        "<br /> \n",
        "\n",
        "If  the sequence starts at index $0$, $\\{a_k\\}$ for $ k=0, 1, 2, ..., $ we have\n",
        "\n",
        "\\begin{align*}\n",
        "a_0 & \\\\\n",
        "a_1 &\\ \\ =\\ \\ a_0 + d  \\\\\n",
        "a_2 &\\ \\ =\\ \\ a_1 + d \\ \\ =\\ \\ a_0 + 2d   \\\\\n",
        "a_3 &\\ \\ =\\ \\ a_2 + d \\ \\ =\\ \\ a_1 + 2d \\ \\ =\\ \\ a_0 + 3d  \\\\\n",
        "\\vdots\\\\\n",
        "a_k &\\ \\ =\\ \\ a_{(k-1)}+d \\ =\\  a_{(k-2)}+2d \\ =\\  \\ldots \\ = \\  \\ a_1+(k-1)d \\ \\ =\\ \\ a_0+kd\n",
        "\\end{align*}\n",
        "\n",
        "<br /> \n",
        "for given   $a_0$ and $d$.\n",
        "\n",
        "In this case the sum of the first $n$ terms  of  the arithemnetic sequence  is then given by\n",
        "\\begin{align*}\n",
        "S_n &= \\sum_{k=0}^{n-1} a_k\t\\\\\n",
        "    &= \\sum_{k=0}^{n-1}[a_0+kd]\t\t\\\\\n",
        "    &= n a_0 + d \\sum_{k=0}^{n-1} k\t\\\\\n",
        "    &= n a_0 + d \\sum_{k=1}^{n-1} k\t\\\\\n",
        "    &= n a_0+  \\frac{1}{2} d(n-1)n \\\\\n",
        "\\end{align*}\n",
        "so \n",
        "$$ S_n =  \\frac{1}{2} n[2 a_0 + d(n-1)].$$\n",
        "<br /> \n",
        "\n"
      ]
    },
    {
      "cell_type": "markdown",
      "metadata": {
        "id": "GfBh-QHRcods"
      },
      "source": [
        "### Code\n",
        "####  The simplest arithmetic sequence and series\n",
        "\n",
        "The simplest arithmnetic sequence is \n",
        "\n",
        "\n",
        "$$S_n = 1, 2, ...,$$"
      ]
    },
    {
      "cell_type": "markdown",
      "metadata": {
        "id": "n36eWqEXiktl"
      },
      "source": [
        "The following code plots the first $n = 15$ terms of the simplest arithmnetic sequence \n",
        "$$\\{a_n = n\\} \\text{ for } n =1,2,\\ldots  $$\n",
        "i.e\n",
        "$$\\{a_n = n\\} =1,2,\\ldots $$\n",
        "adn the corresponding terms of the simplest arithmnetic series \n",
        "$$  S_n = 1 + 2+ \\ldots + (n-1)+ n = \\sum_{k=1}^n =  \\frac{1}{2} n(n+1)$$\n"
      ]
    },
    {
      "cell_type": "markdown",
      "metadata": {
        "id": "_VyGiunIZknK"
      },
      "source": [
        "Plot"
      ]
    },
    {
      "cell_type": "code",
      "metadata": {
        "colab": {
          "base_uri": "https://localhost:8080/",
          "height": 282
        },
        "id": "gx3Q4uo-ONCi",
        "outputId": "8e22cf27-83f8-46ed-b1d7-9063c4276501"
      },
      "source": [
        "import matplotlib.pyplot as plt\n",
        "\n",
        "n = 15\n",
        "S_n = 0\n",
        "Serie_S_n=[]\n",
        "Sequence_a_n =[]\n",
        "for i in range(1,n+1):\n",
        "  S_n = S_n + i\n",
        "  Serie_S_n.append(S_n)\n",
        "  Sequence_a_n.append(i)\n",
        " \n",
        "plt.plot(Serie_S_n, color='black',label='Serie_S_n')\n",
        "plt.plot(Sequence_a_n, color='red',label='Sequence_a_n')\n",
        "plt.legend()\n",
        "\n",
        "\n"
      ],
      "execution_count": null,
      "outputs": [
        {
          "output_type": "execute_result",
          "data": {
            "text/plain": [
              "<matplotlib.legend.Legend at 0x7f004c946350>"
            ]
          },
          "metadata": {
            "tags": []
          },
          "execution_count": 1
        },
        {
          "output_type": "display_data",
          "data": {
            "image/png": "[encoded data removed]",
            "text/plain": [
              "<Figure size 432x288 with 1 Axes>"
            ]
          },
          "metadata": {
            "tags": [],
            "needs_background": "light"
          }
        }
      ]
    },
    {
      "cell_type": "markdown",
      "metadata": {
        "id": "0ybfJdHxZGvW"
      },
      "source": [
        "The following code computes the  $n=10000000$  term of the airthmetic series\n",
        "$$  S_n = 1 + 2+ \\ldots + (n-1)+ n = \\sum_{k=1}^n =  \\frac{1}{2} n(n+1)$$"
      ]
    },
    {
      "cell_type": "code",
      "metadata": {
        "colab": {
          "base_uri": "https://localhost:8080/"
        },
        "id": "99xYHDQycnol",
        "outputId": "468658ca-aaaa-4bb7-e856-ec29f680e8fe"
      },
      "source": [
        "n = 10000000\n",
        "S_n = 0\n",
        "for i in range(1,n+1):  # range(n+1) goes form 1 to n\n",
        "  S_n = S_n + i \n",
        "print(S_n)"
      ],
      "execution_count": null,
      "outputs": [
        {
          "output_type": "stream",
          "text": [
            "50000005000000\n"
          ],
          "name": "stdout"
        }
      ]
    },
    {
      "cell_type": "code",
      "metadata": {
        "colab": {
          "base_uri": "https://localhost:8080/"
        },
        "id": "RGCSuDGHeFwH",
        "outputId": "b01a1b63-dcb5-4792-8e1c-63bef02c5823"
      },
      "source": [
        "(1/2)*n*(n+1)"
      ],
      "execution_count": null,
      "outputs": [
        {
          "output_type": "execute_result",
          "data": {
            "text/plain": [
              "50000005000000.0"
            ]
          },
          "metadata": {
            "tags": []
          },
          "execution_count": 7
        }
      ]
    },
    {
      "cell_type": "markdown",
      "metadata": {
        "id": "bg8zxAhcecpk"
      },
      "source": [
        "The following code computes the $n=10000000$ term of the airthmetic series \n",
        "$$ S_n  = \\sum_{k=1}^n a_k$$\n",
        "\n",
        "<br /> \n",
        "for the airthmetic sequence $a_k = 10 + 3 (k-1) $ for $k=1,2,\\ldots$\n",
        "\n",
        "<br /> \n",
        "$$ 10,13,16,19,21,\\ldots$$\n"
      ]
    },
    {
      "cell_type": "markdown",
      "metadata": {
        "id": "hg3ixQ3bZiVh"
      },
      "source": [
        "Plot"
      ]
    },
    {
      "cell_type": "code",
      "metadata": {
        "colab": {
          "base_uri": "https://localhost:8080/",
          "height": 323
        },
        "id": "w8FP1XqSgnie",
        "outputId": "38090b55-0858-4a6a-d9a9-821040688a35"
      },
      "source": [
        "import matplotlib.pyplot as plt\n",
        "n = 10000000\n",
        "a = 10\n",
        "d = 3\n",
        "S_n = 0\n",
        "Serie_S_n=[]\n",
        "Sequence_a_n =[]\n",
        "for i in range(1,n+1):  # range(n+1) goes form 1 to n\n",
        "  S_n = S_n + a + d * (i-1) \n",
        "  Serie_S_n.append(S_n)\n",
        "  Sequence_a_n.append( a + d * (i-1) ) \n",
        "print(S_n)\n",
        "plt.plot(Serie_S_n, color='black',label='Serie_S_n')\n",
        "plt.plot(Sequence_a_n, color='red',label='Sequence_a_n')\n",
        "plt.legend()"
      ],
      "execution_count": null,
      "outputs": [
        {
          "output_type": "stream",
          "text": [
            "150000085000000\n"
          ],
          "name": "stdout"
        },
        {
          "output_type": "execute_result",
          "data": {
            "text/plain": [
              "<matplotlib.legend.Legend at 0x7f001bc70710>"
            ]
          },
          "metadata": {
            "tags": []
          },
          "execution_count": 8
        },
        {
          "output_type": "display_data",
          "data": {
            "image/png": "[encoded data removed]",
            "text/plain": [
              "<Figure size 432x288 with 1 Axes>"
            ]
          },
          "metadata": {
            "tags": [],
            "needs_background": "light"
          }
        }
      ]
    },
    {
      "cell_type": "code",
      "metadata": {
        "colab": {
          "base_uri": "https://localhost:8080/"
        },
        "id": "g_38RfB_hgg2",
        "outputId": "17720017-9094-4668-8935-1afdfcf66a49"
      },
      "source": [
        "n*(2*a +d*(n-1))/2"
      ],
      "execution_count": null,
      "outputs": [
        {
          "output_type": "execute_result",
          "data": {
            "text/plain": [
              "150000085000000.0"
            ]
          },
          "metadata": {
            "tags": []
          },
          "execution_count": 9
        }
      ]
    },
    {
      "cell_type": "markdown",
      "metadata": {
        "id": "r9qzONSlZq2q"
      },
      "source": [
        "## Your own example of arithmetic series "
      ]
    },
    {
      "cell_type": "markdown",
      "metadata": {
        "id": "uM4ZiQdekYI7"
      },
      "source": [
        "The following code computes the $n=1000$ term of the airthmetic series \n",
        "$$ S_n  = \\sum_{k=1}^n a_k$$\n",
        "\n",
        "<br /> \n",
        "for the airthmetic sequence $a_k = 101 + 101 (k-1) $ for $k=1,2,\\ldots$\n",
        "\n",
        "<br /> \n",
        "$$ 101,202,303,404,505,\\ldots$$\n"
      ]
    },
    {
      "cell_type": "code",
      "metadata": {
        "id": "sJ1yhp4lNVw9",
        "colab": {
          "base_uri": "https://localhost:8080/",
          "height": 310
        },
        "outputId": "130173ef-c554-4756-9514-7f452faf1100"
      },
      "source": [
        "import matplotlib.pyplot as plt\n",
        "n = 1000\n",
        "a = 101\n",
        "d = 101\n",
        "S_n = 0\n",
        "Serie_S_n=[]\n",
        "Sequence_a_n =[]\n",
        "for i in range(1,n+1):  # range(n+1) goes form 1 to n\n",
        "  S_n = S_n + a + d * (i-1) \n",
        "  Serie_S_n.append(S_n)\n",
        "  Sequence_a_n.append( a + d * (i-1) ) \n",
        "print(S_n)\n",
        "plt.plot(Serie_S_n, color='black',label='Serie_S_n')\n",
        "plt.plot(Sequence_a_n, color='red',label='Sequence_a_n')\n",
        "plt.legend()"
      ],
      "execution_count": null,
      "outputs": [
        {
          "output_type": "stream",
          "text": [
            "50550500\n"
          ],
          "name": "stdout"
        },
        {
          "output_type": "execute_result",
          "data": {
            "text/plain": [
              "<matplotlib.legend.Legend at 0x7f001bbe5d50>"
            ]
          },
          "metadata": {
            "tags": []
          },
          "execution_count": 11
        },
        {
          "output_type": "display_data",
          "data": {
            "image/png": "[encoded data removed]",
            "text/plain": [
              "<Figure size 432x288 with 1 Axes>"
            ]
          },
          "metadata": {
            "tags": [],
            "needs_background": "light"
          }
        }
      ]
    },
    {
      "cell_type": "code",
      "metadata": {
        "colab": {
          "base_uri": "https://localhost:8080/"
        },
        "id": "V8zrKeX8k9kK",
        "outputId": "c7aae953-aaa2-4610-a3f0-900a3a5e92d9"
      },
      "source": [
        "(int)(n*(2*a +d*(n-1))/2)"
      ],
      "execution_count": null,
      "outputs": [
        {
          "output_type": "execute_result",
          "data": {
            "text/plain": [
              "50550500"
            ]
          },
          "metadata": {
            "tags": []
          },
          "execution_count": 14
        }
      ]
    },
    {
      "cell_type": "markdown",
      "metadata": {
        "id": "AKWJ1F7hac8T"
      },
      "source": [
        "# Geometric Series\n",
        "\n",
        "## Modified from Arithmetic Series -  [Wolfram MathWorld](https://mathworld.wolfram.com/GeometricSeries.html)\n"
      ]
    },
    {
      "cell_type": "markdown",
      "metadata": {
        "id": "W5zx_-nR81GI"
      },
      "source": [
        "An geometric series is the sum of a sequence $\\{a_k\\}$ for $k=1, 2, ..., $ in which each term is computed from the previous one by adding (or subtracting) a constant $d$. \n",
        "\n",
        "\\begin{align*}\n",
        "a_0 &\\ \\ =\\ \\ r^0 \\ \\ =\\ \\ 1\\\\\n",
        "a_1 &\\ \\ =\\ \\ a_0 *  r \\ \\ =\\ \\  r\\\\\n",
        "a_2 &\\ \\ =\\ \\ a_1 * r\\ \\ =\\ \\ a_0 * r^2  \\ \\ =\\ \\ r^2 \\\\\n",
        "a_3 &\\ \\ =\\ \\ a_2 * r \\ \\ =\\ \\ a_0 * r^3 \\ \\ =\\ \\  r^3  \\\\\n",
        "a_4 &\\ \\ =\\ \\ a_3 * r\\ \\  =\\ \\ a_0 * r^4 \\ \\  =\\ \\ r^4  \\\\\n",
        "\\vdots\\\\\n",
        "a_k &\\ \\ =\\ \\ a_{(k-1)}* r \\ =\\   a_0 * r^k \\ \\  =\\ \\  r^k\n",
        "\\end{align*}\n",
        "\n",
        "The sum of the first $n$ terms  of  the geometric sequence (called an geometric serie)  is then given by\n",
        "$$\n",
        "\\begin{array}{ll}\n",
        "S_n &=  1 + r + r^2 + \\cdots + r^{n-1} +r^n \\\\\n",
        " &=  (1 + r + r^2 + \\cdots + r^{n-1} ) +r^n \\\\\n",
        " &= S_{n-1}  +r^n \n",
        "\\end{array}\n",
        "$$\n",
        "\n",
        "$$\n",
        "\\begin{array}{ll}\n",
        "S_n &=  1 + r + r^2 + \\cdots + r^{n-1} +r^n \\\\\n",
        " &=  1 + (r + r^2 + \\cdots + r^{n-1}  +r^n)  \\\\\n",
        " &=   1 + r (1 +  r  + r^2 + \\cdots + r^{n-1} )  \\\\\n",
        "  &=   1 + r   S_{n-1} \n",
        "\\end{array}\n",
        "$$\n",
        "\n",
        "Then\n",
        "$$\n",
        " S_{n-1}  +r^n =   1 + r   S_{n-1} \n",
        "$$\n",
        "\n",
        "Therefore\n",
        "$$\n",
        " S_{n-1} (1 -r)   +r^n =   1 - r^n \n",
        "$$\n",
        "\n",
        "$$\n",
        " S_{n-1}   =   \\frac{1 - r^n }{1 -r}\n",
        "$$\n",
        "\n",
        "$$\n",
        " S_{n}   =   \\frac{1 - r^{n+1} }{1 -r}  = \\frac{ r^{n+1} - 1}{r -1}\n",
        "$$\n"
      ]
    },
    {
      "cell_type": "markdown",
      "metadata": {
        "id": "CDUYfT8k8crr"
      },
      "source": [
        "## Nodes in Complete Binary Tree with $L=0,1,2,\\cdots , L-1$ levels \n",
        "\n",
        "![](https://raw.githubusercontent.com/gjhernandezp/algorithms/master/Lab7/ComBinTree.png)\n",
        "\n",
        "In a complete binary tree you have in ecah level $k =0,1,2,\\cdots $  $ 2^k $\n",
        "\n",
        "$$\n",
        "\\begin{array}{ll}\n",
        "\\text {Level } 0 \\rightarrow 2^0 = 1 \\text { node (root)} \\\\\n",
        "\\text {Level } 1 \\rightarrow 2^1 = 2 \\text { nodes} \\\\\n",
        "\\text {Level } 2 \\rightarrow 2^2 = 4 \\text { nodes} \\\\\n",
        "\\text {Level } 3 \\rightarrow 2^3 = 8 \\text { nodes} \\\\\n",
        "\\vdots\\\\\n",
        "\\text {Level } k \\rightarrow 2^k  \\text { nodes} \\\\\n",
        "\\end{array}\n",
        "$$\n",
        "\n",
        "nodes, with $l = 0,1,2, ... $ the level\n",
        "\n",
        "Total number of the complte tree with $L=0,1,2,\\cdots , L-1$ levels\n",
        "\n",
        "$$ \n",
        "2^0 + 2^1 + 2^2 + \\cdots +2^{L-1}  = 1 + 2 + 4 + \\cdots +2^{L-1} = \\sum_{k=0}^{L-1} 2^k = \\frac{ 2^{L} - 1}{2 -1} = 2^{L} - 1\n",
        "$$"
      ]
    },
    {
      "cell_type": "markdown",
      "metadata": {
        "id": "YiWlrhLZNMX9"
      },
      "source": [
        "### Code"
      ]
    },
    {
      "cell_type": "code",
      "metadata": {
        "id": "YvMkYU8UNOll",
        "colab": {
          "base_uri": "https://localhost:8080/"
        },
        "outputId": "607a58e6-d27f-4ac1-8c3a-3f0fd7695f23"
      },
      "source": [
        "n = 50\n",
        "r = 2\n",
        "S_n = 0\n",
        "for k in range(0,n+1):  # range goes from 0 to n\n",
        "  S_n = S_n + r**k\n",
        "print(S_n)"
      ],
      "execution_count": null,
      "outputs": [
        {
          "output_type": "stream",
          "text": [
            "2251799813685247\n"
          ],
          "name": "stdout"
        }
      ]
    },
    {
      "cell_type": "code",
      "metadata": {
        "colab": {
          "base_uri": "https://localhost:8080/"
        },
        "id": "8zUMZqAsp0kC",
        "outputId": "0a8a879a-6f4a-4a7e-c0f2-04c709b6ce0f"
      },
      "source": [
        "import math\n",
        "int((1- r**(n+1))/(1-r))\n",
        "#int((1- r**(n+1))/(1-r))"
      ],
      "execution_count": null,
      "outputs": [
        {
          "output_type": "execute_result",
          "data": {
            "text/plain": [
              "2251799813685247"
            ]
          },
          "metadata": {
            "tags": []
          },
          "execution_count": 113
        }
      ]
    },
    {
      "cell_type": "markdown",
      "metadata": {
        "id": "Dd3RWDwJe2xD"
      },
      "source": [
        "## Zenon Arrow\n",
        "\n",
        "![](https://raw.githubusercontent.com/gjhernandezp/algorithms/master/Lab7/zeno-paradox-arrow.png)\n",
        "\n",
        "https://leseditionsdeschavonnes.com/2018/10/15/the-paradox-of-achilles-and-the-tortoise/\n",
        "\n",
        "\n",
        "\n",
        "$$ \n",
        "\\lim_{n\\rightarrow \\infty} \\left\\{\\left(\\frac{1}{2}\\right)^0 + \\left(\\frac{1}{2}\\right)^1 +\\left(\\frac{1}{2}\\right)^2 + \\cdots +\\left(\\frac{1}{2}\\right)^{n} \\right\\} = \\lim_{n\\rightarrow \\infty} \\left\\{ 1 +\\frac{1}{2} + \\frac{1}{4} + \\frac{1}{8} + \\cdots +\\frac{1}{2^{n}}\\right\\}  = \\lim_{n\\rightarrow \\infty} \\sum_{k=0}^{n} \\left(\\frac{1}{2}\\right)^k = \\lim_{n\\rightarrow \\infty} \\frac{ 1- \\left(\\frac{1}{2}\\right)^n  }{1 - \\left(\\frac{1}{2}\\right) } = \\frac{ 1}{1 - \\left(\\frac{1}{2}\\right)} = 2\n",
        "$$"
      ]
    },
    {
      "cell_type": "markdown",
      "metadata": {
        "id": "R-J4EekBNPkd"
      },
      "source": [
        "### Code"
      ]
    },
    {
      "cell_type": "code",
      "metadata": {
        "id": "8xdBovY3NEW_",
        "colab": {
          "base_uri": "https://localhost:8080/"
        },
        "outputId": "0fec653d-f2e7-40b8-f65c-4ed2d039b330"
      },
      "source": [
        "n = 10000000\n",
        "r = 1/2\n",
        "S_n = 0\n",
        "for k in range(0,n+1):  # range goes from 0 to n\n",
        "  S_n = S_n + r**k\n",
        "print(S_n)"
      ],
      "execution_count": null,
      "outputs": [
        {
          "output_type": "stream",
          "text": [
            "2.0\n"
          ],
          "name": "stdout"
        }
      ]
    },
    {
      "cell_type": "code",
      "metadata": {
        "colab": {
          "base_uri": "https://localhost:8080/"
        },
        "id": "zMJk4If7sJ8h",
        "outputId": "c42a7e93-a4eb-4091-eb07-65c577177f1f"
      },
      "source": [
        "(1- r**(n+1))/(1-r)"
      ],
      "execution_count": null,
      "outputs": [
        {
          "output_type": "execute_result",
          "data": {
            "text/plain": [
              "2.0"
            ]
          },
          "metadata": {
            "tags": []
          },
          "execution_count": 119
        }
      ]
    },
    {
      "cell_type": "markdown",
      "metadata": {
        "id": "dh2ntBeoNQlN"
      },
      "source": [
        "# Power Sums \n",
        "\n",
        "*   https://mathworld.wolfram.com/PowerSum.html\n",
        "*   https://www.researchgate.net/publication/331933608_The_Powers_Sums_Bernoulli_Numbers_Bernoulli_Polynomials_Rethinked\n",
        "*   https://en.wikipedia.org/wiki/Sums_of_powers\n",
        "\n"
      ]
    },
    {
      "cell_type": "markdown",
      "metadata": {
        "id": "AHd2DyNLxiuz"
      },
      "source": [
        "There are two kinds of power sums commonly considered. The first is the sum of pth powers of a set of $_{n}$ variables $_{x_{k}}$,\n",
        "$$\n",
        "S_{p}(x_{1}, ..., x_{n}) = \\sum_{k=1}^{n}x_{k}^{p}\n",
        "$$\n",
        "and the second is the special case $x_{k}=k$, i.e.,\n",
        "$$\n",
        "S_{p}(n)=\\sum_{k=1}^{n}k^{p}\n",
        "$$\n",
        "General power sums arise commonly in statistics. For example, k-statistics are most commonly defined in terms of power sums. Power sums are related to symmetric polynomials by the Newton-Girard formulas.\n",
        "\n",
        "The sum of k times the kth power of x is given analytically by"
      ]
    },
    {
      "cell_type": "markdown",
      "metadata": {
        "id": "nkyC7pT677WK"
      },
      "source": [
        "$$\n",
        "\\sum_{k=0}^{n}kx^{k}= \\frac{-(n+1)x^{n+1}+nx^{n+2}}{(x-1)^{2}}\n",
        "$$"
      ]
    },
    {
      "cell_type": "markdown",
      "metadata": {
        "id": "qqvQzp568TdC"
      },
      "source": [
        "Other analytic sums include\n",
        "$$\n",
        "(\\sum_{k=0}^{\\infty}x^{k})^{p}=(1-x)^{-p}\n",
        "$$\n",
        "$  \\\\ $\n",
        "$$\n",
        "=\\frac{1}{(p-1)!}\\sum_{k=0}^{\\infty}\\frac{(n+p-1)!}{n!}x^{n}\n",
        "$$\n",
        "$  \\\\ $\n",
        "$$\n",
        "=\\frac{1}{(p-1)!}\\sum_{k=0}^{\\infty}(n+1)_{p-1}x^{n}\n",
        "$$\n",
        "$  \\\\ $\n",
        "\n",
        "for $|x|<1$, where $(n)_{p}$ is a Pochhammer symbol. The finite version has the elegant closed form\n"
      ]
    },
    {
      "cell_type": "markdown",
      "metadata": {
        "id": "HXFK-PAr_Cyz"
      },
      "source": [
        "$  \\\\ $\n",
        "$$\n",
        "(\\sum_{k=0}^{\\infty}x^{k})^{p} =\\frac{1}{(p-1)!} \\sum_{k=0}^{n p}\\frac{(n-|n-k|+p-1)!}{(n-|n-k|)!}x^{k}$$\n",
        "$  \\\\ $\n",
        "\n",
        "for $p=1$ and $2$. An additional sum is given by\n",
        "\n",
        "$  \\\\ $\n",
        "$$\n",
        "(\\sum_{n=0}^{\\infty}a_{n}x^{n})^{2} = \\sum_{n=0}^{\\infty}a_{n}^{2}x^{2n}+2\\sum_{n=1 \\; i+j = n \\; i<j}^{\\infty}a_{i}a_{j}x^{n}\n",
        "$$\n",
        "$  \\\\ $"
      ]
    },
    {
      "cell_type": "markdown",
      "metadata": {
        "id": "c1kXrrzAcsU0"
      },
      "source": [
        "A double series solution for $S_{p}(n)$ is given by\n",
        "\n",
        "$  \\\\ $\n",
        "\n",
        "$$\n",
        "S_{p}(n) = \\sum_{i=1}^{p}\\sum_{j=0}^{i-1}(-1)^{j}(i-j)^{p}\\binom{n+p-i+1}{n-i}\\binom{p+1}{j}\n",
        "$$\n",
        "\n",
        "$  \\\\ $\n",
        "\n",
        "Computing the sums for $p=1,2,3,4,5$"
      ]
    },
    {
      "cell_type": "markdown",
      "metadata": {
        "id": "tWF0xX1QmLgH"
      },
      "source": [
        "### Using the formula with p = 1"
      ]
    },
    {
      "cell_type": "markdown",
      "metadata": {
        "id": "PTEwNANsmeKp"
      },
      "source": [
        "$$\n",
        "S_{p}(n) = \\sum_{i=1}^{1}\\sum_{j=0}^{i-1}(-1)^{j}(i-j)^{1}\\binom{n+1-i+1}{n-i}\\binom{1+1}{j}\n",
        "$$\n",
        "$  \\\\ $\n",
        "$$\n",
        "= \\sum_{j=0}^{0}(-1)^{j}(1-j)^{1}\\binom{n+1-1+1}{n-1}\\binom{1+1}{j}\n",
        "$$\n",
        "$  \\\\ $\n",
        "$$\n",
        "= (-1)^{0}(1-0)^{1}\\binom{n+1-1+1}{n-1}\\binom{1+1}{0}\n",
        "$$\n",
        "$  \\\\ $\n",
        "$$\n",
        "= \\binom{n+1}{n-1}\\binom{2}{0}\n",
        "$$\n",
        "$  \\\\ $\n",
        "$$\n",
        "= \\left (   \\frac{(n+1)!}{(n-1)!(n+1-(n-1))!}   \\right ) \\left(  \\frac{2!}{0!(2-0)!} \\right)\n",
        "$$\n",
        "$  \\\\ $\n",
        "$$\n",
        "= \\left (   \\frac{(n-1)!(n)(n+1)}{(n-1)!(2!)}   \\right )\n",
        "$$\n",
        "$  \\\\ $\n",
        "$$\n",
        "S_{1}(n) =    \\frac{n(n+1)}{2}  \n",
        "$$\n",
        "$  \\\\ $"
      ]
    },
    {
      "cell_type": "markdown",
      "metadata": {
        "id": "7_IR3tPVr-hT"
      },
      "source": [
        "### Using the formula with p = 2"
      ]
    },
    {
      "cell_type": "markdown",
      "metadata": {
        "id": "zp3Nlbjcr-hU"
      },
      "source": [
        "$$\n",
        "S_{p}(n) = \\sum_{i=1}^{2}\\sum_{j=0}^{i-1}(-1)^{j}(i-j)^{2}\\binom{n+2-i+1}{n-i}\\binom{2+1}{j}\n",
        "$$\n",
        "$  \\\\ $\n",
        "$$\n",
        "= \\sum_{j=0}^{0}(-1)^{j}(1-j)^{2}\\binom{n+2-1+1}{n-1}\\binom{2+1}{j} + \\sum_{j=0}^{1}(-1)^{j}(2-j)^{2}\\binom{n+2-2+1}{n-2}\\binom{2+1}{j}\n",
        "$$\n",
        "$  \\\\ $\n",
        "$$\n",
        "= (-1)^{0}(1-0)^{2}\\binom{n+2}{n-1}\\binom{3}{0} + (-1)^{0}(2-0)^{2}\\binom{n+1}{n-2}\\binom{3}{0} + (-1)^{1}(2-1)^{2}\\binom{n+1}{n-2}\\binom{3}{1}\n",
        "$$\n",
        "$  \\\\ $\n",
        "$$\n",
        "= \\binom{n+2}{n-1} + 4\\binom{n+1}{n-2} + (-1)\\binom{n+1}{n-2}(3)\n",
        "$$\n",
        "$  \\\\ $\n",
        "$$\n",
        "= \\left (   \\frac{(n+2)!}{(n-1)!(n+2-(n-1))!}   \\right ) + 4 \\left (   \\frac{(n+1)!}{(n-2)!(n+1-(n-2))!}   \\right ) -3\\left (   \\frac{(n+1)!}{(n-2)!(n+1-(n-2))!}   \\right )\n",
        "$$\n",
        "$  \\\\ $\n",
        "$$\n",
        "= \\left (   \\frac{(n)(n+1)(n+2)}{3!}   \\right ) + 4 \\left (   \\frac{(n-1)(n)(n+1)}{3!}   \\right ) -3\\left (   \\frac{(n-1)(n)(n+1)}{3!}   \\right )\n",
        "$$\n",
        "$  \\\\ $\n",
        "$$\n",
        "=   \\frac{n^{3}+3n^{2}+2n}{6}    +    \\frac{4(n^{3}-n)}{6} -  \\frac{3(n^{3}-n)}{6}\n",
        "$$\n",
        "$  \\\\ $\n",
        "$$\n",
        "=   \\frac{n^{3}+3n^{2}+2n}{6}    +    \\frac{(n^{3}-n)}{6}\n",
        "$$\n",
        "$  \\\\ $\n",
        "$$\n",
        "=   \\frac{n^{3}+3n^{2}+2n+n^{3}-n}{6}\n",
        "$$\n",
        "$  \\\\ $\n",
        "$$\n",
        "S_{2}(n) =   \\frac{2n^{3}+3n^{2}+n}{6}  \n",
        "$$\n",
        "$  \\\\ $"
      ]
    },
    {
      "cell_type": "markdown",
      "metadata": {
        "id": "IdgypBKRJYrY"
      },
      "source": [
        "##Examples and plot of some Power series:\n",
        "\n"
      ]
    },
    {
      "cell_type": "markdown",
      "metadata": {
        "id": "Wk2kPeesUdHV"
      },
      "source": [
        "\n",
        "$$\n",
        "\\sum_{k=1}^{n}k=\\frac{1}{2}(n^{2}+n)\n",
        "$$"
      ]
    },
    {
      "cell_type": "code",
      "metadata": {
        "colab": {
          "base_uri": "https://localhost:8080/",
          "height": 299
        },
        "id": "kMk5XafNJzZf",
        "outputId": "e2387f3d-4d11-403b-c62e-e9bad9e08d8c"
      },
      "source": [
        "import matplotlib.pyplot as plt\n",
        "n = 1000\n",
        "p = 1\n",
        "j = 1\n",
        "S_n = 0\n",
        "Serie_S_n=[]\n",
        "Sequence_a_n =[]\n",
        "for i in range(1,n+1):  # range(n+1) goes form 1 to n\n",
        "  S_n = S_n + i**j\n",
        "  Serie_S_n.append(S_n)\n",
        "  Sequence_a_n.append( i**j ) \n",
        "print(S_n)\n",
        "plt.plot(Serie_S_n, color='black',label='Serie_S_n')\n",
        "plt.plot(Sequence_a_n, color='red',label='Sequence_a_n')\n",
        "plt.legend()"
      ],
      "execution_count": 12,
      "outputs": [
        {
          "output_type": "stream",
          "text": [
            "500500\n"
          ],
          "name": "stdout"
        },
        {
          "output_type": "execute_result",
          "data": {
            "text/plain": [
              "<matplotlib.legend.Legend at 0x7fcb2bd96b10>"
            ]
          },
          "metadata": {
            "tags": []
          },
          "execution_count": 12
        },
        {
          "output_type": "display_data",
          "data": {
            "image/png": "[encoded data removed]",
            "text/plain": [
              "<Figure size 432x288 with 1 Axes>"
            ]
          },
          "metadata": {
            "tags": [],
            "needs_background": "light"
          }
        }
      ]
    },
    {
      "cell_type": "code",
      "metadata": {
        "colab": {
          "base_uri": "https://localhost:8080/"
        },
        "id": "tDkaixFaNDY6",
        "outputId": "c95e92eb-d15f-4ffc-d8fc-d425f382911d"
      },
      "source": [
        "1/2*(n**2+n)"
      ],
      "execution_count": 13,
      "outputs": [
        {
          "output_type": "execute_result",
          "data": {
            "text/plain": [
              "500500.0"
            ]
          },
          "metadata": {
            "tags": []
          },
          "execution_count": 13
        }
      ]
    },
    {
      "cell_type": "markdown",
      "metadata": {
        "id": "Qpn7twiUUg_U"
      },
      "source": [
        "\n",
        "$$\n",
        "\\sum_{k=1}^{n}k^{2}=\\frac{1}{6}(2n^{3}+3n^{2}+n)\n",
        "$$"
      ]
    },
    {
      "cell_type": "code",
      "metadata": {
        "colab": {
          "base_uri": "https://localhost:8080/",
          "height": 310
        },
        "id": "lbcwSHZZUtJU",
        "outputId": "bd1f6471-a49c-4f1c-8bea-7c0d1f061e75"
      },
      "source": [
        "import matplotlib.pyplot as plt\n",
        "n = 1000\n",
        "p = 1\n",
        "j = 2\n",
        "S_n = 0\n",
        "Serie_S_n=[]\n",
        "Sequence_a_n =[]\n",
        "for i in range(1,n+1):  # range(n+1) goes form 1 to n\n",
        "  S_n = S_n + i**j\n",
        "  Serie_S_n.append(S_n)\n",
        "  Sequence_a_n.append( i**j ) \n",
        "print(S_n)\n",
        "plt.plot(Serie_S_n, color='black',label='Serie_S_n')\n",
        "plt.plot(Sequence_a_n, color='red',label='Sequence_a_n')\n",
        "plt.legend()"
      ],
      "execution_count": 14,
      "outputs": [
        {
          "output_type": "stream",
          "text": [
            "333833500\n"
          ],
          "name": "stdout"
        },
        {
          "output_type": "execute_result",
          "data": {
            "text/plain": [
              "<matplotlib.legend.Legend at 0x7fcb2bd68610>"
            ]
          },
          "metadata": {
            "tags": []
          },
          "execution_count": 14
        },
        {
          "output_type": "display_data",
          "data": {
            "image/png": "[encoded data removed]",
            "text/plain": [
              "<Figure size 432x288 with 1 Axes>"
            ]
          },
          "metadata": {
            "tags": [],
            "needs_background": "light"
          }
        }
      ]
    },
    {
      "cell_type": "code",
      "metadata": {
        "colab": {
          "base_uri": "https://localhost:8080/"
        },
        "id": "P8Nx4PaSUyrM",
        "outputId": "a629c4e1-2f87-4613-b386-9aedb68678a0"
      },
      "source": [
        "1/6*(2*n**3+3*n**2+n)"
      ],
      "execution_count": 15,
      "outputs": [
        {
          "output_type": "execute_result",
          "data": {
            "text/plain": [
              "333833500.0"
            ]
          },
          "metadata": {
            "tags": []
          },
          "execution_count": 15
        }
      ]
    },
    {
      "cell_type": "markdown",
      "metadata": {
        "id": "MP7539VlV31X"
      },
      "source": [
        "\n",
        "$$\n",
        "\\sum_{k=1}^{n}k^{3}=\\frac{1}{4}(n^{4}+2n^{3}+n^{2})\n",
        "$$"
      ]
    },
    {
      "cell_type": "code",
      "metadata": {
        "colab": {
          "base_uri": "https://localhost:8080/",
          "height": 310
        },
        "id": "rraVu5RrV_kc",
        "outputId": "04762b60-8081-4af2-bee5-f803a8618563"
      },
      "source": [
        "import matplotlib.pyplot as plt\n",
        "n = 1000\n",
        "p = 1\n",
        "j = 3\n",
        "S_n = 0\n",
        "Serie_S_n=[]\n",
        "Sequence_a_n =[]\n",
        "for i in range(1,n+1):  # range(n+1) goes form 1 to n\n",
        "  S_n = S_n + i**j\n",
        "  Serie_S_n.append(S_n)\n",
        "  Sequence_a_n.append( i**j ) \n",
        "print(S_n)\n",
        "plt.plot(Serie_S_n, color='black',label='Serie_S_n')\n",
        "plt.plot(Sequence_a_n, color='red',label='Sequence_a_n')\n",
        "plt.legend()"
      ],
      "execution_count": 16,
      "outputs": [
        {
          "output_type": "stream",
          "text": [
            "250500250000\n"
          ],
          "name": "stdout"
        },
        {
          "output_type": "execute_result",
          "data": {
            "text/plain": [
              "<matplotlib.legend.Legend at 0x7fcb2bd30b90>"
            ]
          },
          "metadata": {
            "tags": []
          },
          "execution_count": 16
        },
        {
          "output_type": "display_data",
          "data": {
            "image/png": "[encoded data removed]",
            "text/plain": [
              "<Figure size 432x288 with 1 Axes>"
            ]
          },
          "metadata": {
            "tags": [],
            "needs_background": "light"
          }
        }
      ]
    },
    {
      "cell_type": "code",
      "metadata": {
        "colab": {
          "base_uri": "https://localhost:8080/"
        },
        "id": "1NUTc87WWDeU",
        "outputId": "e94dd65d-ec36-4ca5-b93a-83649f991db1"
      },
      "source": [
        "1/4*(n**4+2*n**3+n**2)"
      ],
      "execution_count": 17,
      "outputs": [
        {
          "output_type": "execute_result",
          "data": {
            "text/plain": [
              "250500250000.0"
            ]
          },
          "metadata": {
            "tags": []
          },
          "execution_count": 17
        }
      ]
    },
    {
      "cell_type": "markdown",
      "metadata": {
        "id": "rkRX8eIsXG6N"
      },
      "source": [
        "\n",
        "$$\n",
        "\\sum_{k=1}^{n}k^{4}=\\frac{1}{30}(6n^{5}+15n^{4}+10n^{3}-n)\n",
        "$$"
      ]
    },
    {
      "cell_type": "code",
      "metadata": {
        "colab": {
          "base_uri": "https://localhost:8080/",
          "height": 310
        },
        "id": "DrcYzPgVXbQD",
        "outputId": "3ecfc8f9-d5ab-4a97-fe4f-66b34e6b5123"
      },
      "source": [
        "import matplotlib.pyplot as plt\n",
        "n = 1000\n",
        "p = 1\n",
        "j = 4\n",
        "S_n = 0\n",
        "Serie_S_n=[]\n",
        "Sequence_a_n =[]\n",
        "for i in range(1,n+1):  # range(n+1) goes form 1 to n\n",
        "  S_n = S_n + i**j\n",
        "  Serie_S_n.append(S_n)\n",
        "  Sequence_a_n.append( i**j ) \n",
        "print(S_n)\n",
        "plt.plot(Serie_S_n, color='black',label='Serie_S_n')\n",
        "plt.plot(Sequence_a_n, color='red',label='Sequence_a_n')\n",
        "plt.legend()"
      ],
      "execution_count": 18,
      "outputs": [
        {
          "output_type": "stream",
          "text": [
            "200500333333300\n"
          ],
          "name": "stdout"
        },
        {
          "output_type": "execute_result",
          "data": {
            "text/plain": [
              "<matplotlib.legend.Legend at 0x7fcb2bc5ab90>"
            ]
          },
          "metadata": {
            "tags": []
          },
          "execution_count": 18
        },
        {
          "output_type": "display_data",
          "data": {
            "image/png": "[encoded data removed]",
            "text/plain": [
              "<Figure size 432x288 with 1 Axes>"
            ]
          },
          "metadata": {
            "tags": [],
            "needs_background": "light"
          }
        }
      ]
    },
    {
      "cell_type": "code",
      "metadata": {
        "colab": {
          "base_uri": "https://localhost:8080/"
        },
        "id": "XDqlhAnyXfqL",
        "outputId": "c4e17819-46f1-4729-eaf7-b189178d968a"
      },
      "source": [
        "1/30*(6*n**5+15*n**4+10*n**3-n)"
      ],
      "execution_count": 19,
      "outputs": [
        {
          "output_type": "execute_result",
          "data": {
            "text/plain": [
              "200500333333300.0"
            ]
          },
          "metadata": {
            "tags": []
          },
          "execution_count": 19
        }
      ]
    },
    {
      "cell_type": "markdown",
      "metadata": {
        "id": "ZvQWrT4IYI8W"
      },
      "source": [
        "\n",
        "$$\n",
        "\\sum_{k=1}^{n}k^{5}=\\frac{1}{12}(2n^{6}+6n^{5}+5n^{4}-n^{2})\n",
        "$$"
      ]
    },
    {
      "cell_type": "code",
      "metadata": {
        "colab": {
          "base_uri": "https://localhost:8080/",
          "height": 310
        },
        "id": "nkV2CWbwYZec",
        "outputId": "cb2691f1-7030-476c-c85c-91eefa58ecd2"
      },
      "source": [
        "import matplotlib.pyplot as plt\n",
        "n = 1000\n",
        "p = 1\n",
        "j = 5\n",
        "S_n = 0\n",
        "Serie_S_n=[]\n",
        "Sequence_a_n =[]\n",
        "for i in range(1,n+1):  # range(n+1) goes form 1 to n\n",
        "  S_n = S_n + i**j\n",
        "  Serie_S_n.append(S_n)\n",
        "  Sequence_a_n.append( i**j ) \n",
        "print(S_n)\n",
        "plt.plot(Serie_S_n, color='black',label='Serie_S_n')\n",
        "plt.plot(Sequence_a_n, color='red',label='Sequence_a_n')\n",
        "plt.legend()"
      ],
      "execution_count": 20,
      "outputs": [
        {
          "output_type": "stream",
          "text": [
            "167167083333250000\n"
          ],
          "name": "stdout"
        },
        {
          "output_type": "execute_result",
          "data": {
            "text/plain": [
              "<matplotlib.legend.Legend at 0x7fcb2bb8d250>"
            ]
          },
          "metadata": {
            "tags": []
          },
          "execution_count": 20
        },
        {
          "output_type": "display_data",
          "data": {
            "image/png": "[encoded data removed]",
            "text/plain": [
              "<Figure size 432x288 with 1 Axes>"
            ]
          },
          "metadata": {
            "tags": [],
            "needs_background": "light"
          }
        }
      ]
    },
    {
      "cell_type": "code",
      "metadata": {
        "colab": {
          "base_uri": "https://localhost:8080/"
        },
        "id": "bOtj5WcdYfi7",
        "outputId": "f30bdd34-5a32-4a45-9f74-43deba6f43af"
      },
      "source": [
        "print(1/12*(2*n**6+6*n**5+5*n**4-n**2))\n",
        "print(int(1/12*(2*n**6+6*n**5+5*n**4-n**2)))"
      ],
      "execution_count": 28,
      "outputs": [
        {
          "output_type": "stream",
          "text": [
            "1.6716708333325e+17\n",
            "167167083333249984\n"
          ],
          "name": "stdout"
        }
      ]
    }
  ]
}