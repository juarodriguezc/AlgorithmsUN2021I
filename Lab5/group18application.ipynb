{
  "nbformat": 4,
  "nbformat_minor": 0,
  "metadata": {
    "colab": {
      "name": "group18application.ipynb",
      "provenance": []
    },
    "kernelspec": {
      "name": "python3",
      "display_name": "Python 3"
    },
    "language_info": {
      "name": "python"
    }
  },
  "cells": [
    {
      "cell_type": "markdown",
      "metadata": {
        "id": "ACG8O9-HgoRN"
      },
      "source": [
        "# LAB 5 Simple Flask web based application in pythonanywhere\n",
        "\n",
        "Rios García David Ricardo\n",
        "\n",
        "Rodríguez Barragan Daniel Alejandro\n",
        "\n",
        "Rodríguez Castellanos Juan Sebastián"
      ]
    },
    {
      "cell_type": "markdown",
      "metadata": {
        "id": "SBcAgZ4rhUqv"
      },
      "source": [
        "\n",
        "Link de la aplicación funcionando:\n",
        "\n",
        "http://drriosg.pythonanywhere.com/"
      ]
    },
    {
      "cell_type": "markdown",
      "metadata": {
        "id": "EZ9XKaErg6yu"
      },
      "source": [
        "## Código fuente python"
      ]
    },
    {
      "cell_type": "markdown",
      "metadata": {
        "id": "QUbB2K8NhkQF"
      },
      "source": [
        "**FlaskApp_1.py**"
      ]
    },
    {
      "cell_type": "code",
      "metadata": {
        "id": "59G-yz4jgdAU"
      },
      "source": [
        "from flask import Flask, render_template, request\n",
        "\n",
        "app = Flask(__name__)\n",
        "\n",
        "#Codigo obtenido de https://github.com/rajatguptarg/calc\n",
        "@app.route('/')\n",
        "def homepage():\n",
        "    return render_template('form.html')\n",
        "\n",
        "@app.route('/result', methods=['POST'])\n",
        "def result():\n",
        "    var_1 = request.form.get(\"var_1\", type=int)\n",
        "    var_2 = request.form.get(\"var_2\", type=int)\n",
        "    operation = request.form.get(\"operation\")\n",
        "    if(operation == 'Addition'):\n",
        "        result = var_1 + var_2\n",
        "    elif(operation == 'Subtraction'):\n",
        "        result = var_1 - var_2\n",
        "    elif(operation == 'Multiplication'):\n",
        "        result = var_1 * var_2\n",
        "    elif(operation == 'Division'):\n",
        "        result = var_1 / var_2\n",
        "    elif(operation == 'Modulo'):\n",
        "        result = var_1%var_2\n",
        "    elif(operation == 'Potencia'):\n",
        "        result = var_1**var_2\n",
        "    elif(operation == 'Fibonacci variable 1'):\n",
        "        result = fibonacci(var_1)\n",
        "    else:\n",
        "        result = 'INVALID CHOICE'\n",
        "    entry = result\n",
        "    return render_template('result.html', entry=entry)\n",
        "def fibonacci(n):\n",
        "    if n <= 1:\n",
        "        return n\n",
        "    else:\n",
        "        return(fibonacci(n-1) + fibonacci(n-2))\n",
        "\n",
        "if __name__=='__main__':\n",
        "    app.run(debug=True)"
      ],
      "execution_count": null,
      "outputs": []
    },
    {
      "cell_type": "markdown",
      "metadata": {
        "id": "UxDvQA9uhEOl"
      },
      "source": [
        "## Códigos html dentro de templates"
      ]
    },
    {
      "cell_type": "markdown",
      "metadata": {
        "id": "0AyiGt3EhLyM"
      },
      "source": [
        "**form.html**"
      ]
    },
    {
      "cell_type": "code",
      "metadata": {
        "id": "vPxLJ3QUhIw1"
      },
      "source": [
        "<!DOCTYPE html>\n",
        "<html lang=\"en\">\n",
        "    <head>\n",
        "        <title>Calculator</title>\n",
        "\t\t<link href=\"https://maxcdn.bootstrapcdn.com/bootstrap/3.3.2/css/bootstrap.min.css\" rel=\"stylesheet\">\n",
        "\t</head>\n",
        "\n",
        "\t<body align=center>\n",
        "\t\t<div class=\"row\">\n",
        "\t\t\t<div class=\"col-md-4\"></div>\n",
        "\t\t\t<div class=\"col-md-4\"><legend><h1>CALCULATOR</h1></legend></div>\n",
        "\t\t\t<img src=\"https://media.tenor.com/images/8f740294e9c6d15ecc5dd92c84d4eff2/tenor.gif\">\n",
        "\t\t\t<div class=\"col-md-4\"></div>\n",
        "\t\t</div>\n",
        "\t\t\t<br>\n",
        "\t\t\t<div class=\"row\">\n",
        "\t\t\t<div class=\"col-md-4\"></div>\n",
        "\t\t\t<div class=\"col-md-4\">\n",
        "\t\t\t\t<form class=\"form-horizontal\" action={{ url_for('result') }}  method=\"post\">\n",
        "\t\t\t\t\t<div class=\"form-group\">\n",
        "\t\t\t\t\t\t<label class=\"control-label col-xs-3\" for=\"var_1\">VARIABLE 1:</label>\n",
        "\t\t\t\t\t\t<div class=\"col-xs-7\">\n",
        "\t\t\t\t\t\t\t<input type=\"number\" class=\"form-control\" name=\"var_1\" placeholder=\"&nbsp;0&nbsp;\">\n",
        "\t\t\t\t\t\t</div>\n",
        "\t\t\t\t\t</div>\n",
        "\t\t\t\t\t<div class=\"form-group\">\n",
        "\t\t\t\t\t\t<label class=\"control-label col-xs-3\" for=\"var_1\">VARIABLE 2:</label>\n",
        "\t\t\t\t\t\t<div class=\"col-xs-7\">\n",
        "\t\t\t\t\t\t\t<input type=\"number\" class=\"form-control\" name=\"var_2\" placeholder=\"&nbsp;0&nbsp;\">\n",
        "\t\t\t\t\t\t</div>\n",
        "\t\t\t\t\t</div>\n",
        "\t\t\t\t\t<div class=\"form-group\">\n",
        "            \t\t\t<label class=\"control-label col-xs-3\">Operation:</label>\n",
        "            \t\t\t<div class=\"col-xs-5\">\n",
        "                \t\t\t<select class=\"form-control\" name=\"operation\">\n",
        "                    \t\t\t<option>Addition</option>\n",
        "                    \t\t\t<option>Subtraction</option>\n",
        "                    \t\t\t<option>Multiplication</option>\n",
        "                    \t\t\t<option>Division</option>\n",
        "\t\t\t\t\t\t\t\t<option>Modulo</option>\n",
        "\t\t\t\t\t\t\t\t<option>Potencia</option>\n",
        "\t\t\t\t\t\t\t\t<option>Fibonacci variable 1</option>\n",
        "                \t\t\t</select>\n",
        "            \t\t\t</div>\n",
        "            \t\t</div>\n",
        "\t\t\t\t\t<div class=\"form-group\">\n",
        "            \t\t\t<div class=\"col-xs-offset-3 col-xs-9\">\n",
        "                \t\t\t<input type=\"submit\" class=\"btn btn-success\" value=\"Enviar\">\n",
        "                \t\t\t<input type=\"reset\" class=\"btn btn-danger\" value=\"Reiniciar\">\n",
        "            \t\t\t</div>\n",
        "        \t\t\t</div>\n",
        "        \t\t</form>\n",
        "        \t</div>\n",
        "        \t<div class=\"col-md-4\"></div></div>\n",
        "\n",
        "\t\t\t\n",
        "\n",
        "\t\t</div>\n",
        "\n",
        "\t\t<div class=\"container\">\n",
        "\t\t\t<div class=\"container\"><legend>Código modificado, el link del repositorio original es: https://github.com/rajatguptarg/calc </legend></div>\n",
        "\t\t</div>\n",
        "\t</body>\n",
        "</html>"
      ],
      "execution_count": null,
      "outputs": []
    },
    {
      "cell_type": "markdown",
      "metadata": {
        "id": "Cr1sxN8vhOok"
      },
      "source": [
        "**result.html**"
      ]
    },
    {
      "cell_type": "code",
      "metadata": {
        "id": "1GESbvjAhRit"
      },
      "source": [
        "<!DOCTYPE html>\n",
        "<html lang=\"en\">\n",
        "    <head>\n",
        "        <title>RESULT</title>\n",
        "        <link href=\"https://maxcdn.bootstrapcdn.com/bootstrap/3.3.2/css/bootstrap.min.css\" rel=\"stylesheet\">\n",
        "    </head>\n",
        "\n",
        "    <body align=center>\n",
        "        <div class=\"row\">\n",
        "            <div class=\"col-md-4\"></div>\n",
        "            <div class=\"col-md-4\"><legend><h1>YOUR RESULT IS</h1></legend></div>\n",
        "            <img src=\"https://media.tenor.com/images/8f740294e9c6d15ecc5dd92c84d4eff2/tenor.gif\">\n",
        "            <div class=\"col-md-4\"></div>\n",
        "        </div>\n",
        "        <form class=\"form-horizontal\">\n",
        "            <fieldset disabled>\n",
        "                <div class=\"form-group\">\n",
        "                    <label class=\"control-label col-xs-4\" for=\"result\"></label>\n",
        "                    <div class=\"col-xs-4\" align=\"center\">\n",
        "                        <input type=\"text\" name=\"result\" class=\"form-control\" placeholder={{ entry }}>\n",
        "                    </div>\n",
        "                </div>\n",
        "            </fieldset>\n",
        "        </form>\n",
        "    </body>\n",
        "</html>"
      ],
      "execution_count": null,
      "outputs": []
    }
  ]
}