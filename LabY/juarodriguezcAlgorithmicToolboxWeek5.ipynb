{
  "nbformat": 4,
  "nbformat_minor": 0,
  "metadata": {
    "colab": {
      "name": "juarodriguezcAlgorithmicToolboxWeek5.ipynb",
      "provenance": [],
      "collapsed_sections": []
    },
    "kernelspec": {
      "name": "python3",
      "display_name": "Python 3"
    },
    "language_info": {
      "name": "python"
    }
  },
  "cells": [
    {
      "cell_type": "markdown",
      "metadata": {
        "id": "pMCIDRY0VdZE"
      },
      "source": [
        "# **Programming Assignment 5:**\n",
        "##Dynamic Programming 1"
      ]
    },
    {
      "cell_type": "markdown",
      "metadata": {
        "id": "N1ok_-56OjB1"
      },
      "source": [
        "## **I Solving the Money Change Again Challenge**"
      ]
    },
    {
      "cell_type": "markdown",
      "metadata": {
        "id": "f7t9ftDKVw9T"
      },
      "source": [
        "C++"
      ]
    },
    {
      "cell_type": "code",
      "metadata": {
        "colab": {
          "base_uri": "https://localhost:8080/"
        },
        "id": "drIHVdDrVwSd",
        "outputId": "e70f7fc6-b99d-4c45-b347-e4413451bfb4"
      },
      "source": [
        "%%writefile exercise1.cpp\n",
        "#include <iostream>\n",
        "#include <vector>\n",
        "\n",
        "using std::vector;\n",
        "using std::endl;\n",
        "using std::cout;\n",
        "using std::cin;\n",
        "int get_change(vector<int> &mon_values, int money) {\n",
        "    vector<int> MinNumCoins(money+1);\n",
        "    int n = mon_values.size();\n",
        "    MinNumCoins[0] = 0;\n",
        "    for(int m=1 ; m <= money; m++){\n",
        "        MinNumCoins[m] = 1001;\n",
        "        for (int i = 0; i < n; i++){\n",
        "            if(m >= mon_values[i]){\n",
        "                int NumCoins = MinNumCoins[m - mon_values[i]]+1;\n",
        "                if(NumCoins < MinNumCoins[m]){\n",
        "                    MinNumCoins[m] = NumCoins;\n",
        "                }\n",
        "            }\n",
        "        }\n",
        "    }\n",
        "    return MinNumCoins[money];\n",
        "}\n",
        "\n",
        "int main() {\n",
        "    vector<int> mon_values{1,3,4};\n",
        "    int m = 0;\n",
        "    cin>>m;\n",
        "    cout<<get_change(mon_values, m)<<endl;\n",
        "}\n",
        "\n"
      ],
      "execution_count": 1,
      "outputs": [
        {
          "output_type": "stream",
          "text": [
            "Writing exercise1.cpp\n"
          ],
          "name": "stdout"
        }
      ]
    },
    {
      "cell_type": "code",
      "metadata": {
        "colab": {
          "base_uri": "https://localhost:8080/"
        },
        "id": "YBkgn9HjWGr7",
        "outputId": "b6976508-c183-4156-a3f3-e9ad813116c6"
      },
      "source": [
        "!g++ exercise1.cpp -o exercise1\n",
        "!./exercise1"
      ],
      "execution_count": 2,
      "outputs": [
        {
          "output_type": "stream",
          "text": [
            "34\n",
            "9\n"
          ],
          "name": "stdout"
        }
      ]
    },
    {
      "cell_type": "markdown",
      "metadata": {
        "id": "9t9mAMwuXdvE"
      },
      "source": [
        "## **II Solving the Primitive Calculator Challenge**"
      ]
    },
    {
      "cell_type": "markdown",
      "metadata": {
        "id": "jpBHhjtkXmJX"
      },
      "source": [
        "C++"
      ]
    },
    {
      "cell_type": "code",
      "metadata": {
        "colab": {
          "base_uri": "https://localhost:8080/"
        },
        "id": "WEV_Zwm6XmJY",
        "outputId": "39763bbc-5091-4622-8b28-366079b1ed78"
      },
      "source": [
        "%%writefile exercise2.cpp\n",
        "#include <iostream>\n",
        "#include <vector>\n",
        "#include <algorithm>\n",
        "\n",
        "using std::vector;\n",
        "using std::cin;\n",
        "using std::endl;\n",
        "using std::cout;\n",
        "int getMinIndex(vector<int> num_array){\n",
        "    int index = 0;\n",
        "    int minVal = num_array[index];\n",
        "    for(int a = 1; a<num_array.size(); a++){\n",
        "        if(num_array[a] < minVal){\n",
        "            minVal = num_array[a];\n",
        "            index = a;\n",
        "        }\n",
        "    }\n",
        "    return index;\n",
        "}\n",
        "vector<int> optimal_sequence(int n) {\n",
        "    vector <vector<int>> sequence(n+1);\n",
        "    sequence[1].push_back(1);\n",
        "    for(int a = 2; a <= n; a++){\n",
        "        vector<int> numMovements{1000001,1000001,1000001};\n",
        "        if(a % 3 == 0)numMovements[0] = sequence[a/3].size()+1;\n",
        "        if(a % 2 == 0)numMovements[1] = sequence[a/2].size()+1;\n",
        "        numMovements[2] = sequence[a-1].size()+1;\n",
        "        switch(getMinIndex(numMovements)){\n",
        "            case 0:\n",
        "                sequence[a] = sequence [a/3];\n",
        "                sequence[a].push_back(a);\n",
        "            break;\n",
        "            case 1:\n",
        "                sequence[a] = sequence [a/2];\n",
        "                sequence[a].push_back(a);\n",
        "            break;\n",
        "            case 2:\n",
        "                sequence[a] = sequence [a-1];\n",
        "                sequence[a].push_back(a);\n",
        "            break;\n",
        "        }\n",
        "\n",
        "    }\n",
        "    return sequence[n];\n",
        "}\n",
        "\n",
        "int main() {\n",
        "  int n;\n",
        "  std::cin >> n;\n",
        "  vector<int> sequence = optimal_sequence(n);\n",
        "  std::cout << sequence.size() - 1 << std::endl;\n",
        "  for (size_t i = 0; i < sequence.size(); ++i) {\n",
        "    std::cout << sequence[i] << \" \";\n",
        "  }\n",
        "}\n",
        "\n",
        "\n"
      ],
      "execution_count": 3,
      "outputs": [
        {
          "output_type": "stream",
          "text": [
            "Writing exercise2.cpp\n"
          ],
          "name": "stdout"
        }
      ]
    },
    {
      "cell_type": "code",
      "metadata": {
        "colab": {
          "base_uri": "https://localhost:8080/"
        },
        "id": "UgbI0uBcXuq0",
        "outputId": "8bcdb258-ba8a-4343-b92c-213e03d6191c"
      },
      "source": [
        "!g++ exercise2.cpp -o exercise2\n",
        "!./exercise2"
      ],
      "execution_count": 4,
      "outputs": [
        {
          "output_type": "stream",
          "text": [
            "96234\n",
            "14\n",
            "1 3 9 10 11 22 66 198 594 1782 5346 16038 16039 32078 96234 "
          ],
          "name": "stdout"
        }
      ]
    },
    {
      "cell_type": "markdown",
      "metadata": {
        "id": "zbqh2LeRX76n"
      },
      "source": [
        "## **III Solving the Edit Distance Challenge**"
      ]
    },
    {
      "cell_type": "markdown",
      "metadata": {
        "id": "Q3ZRCFjgYGHt"
      },
      "source": [
        "C++"
      ]
    },
    {
      "cell_type": "code",
      "metadata": {
        "colab": {
          "base_uri": "https://localhost:8080/"
        },
        "id": "ojka1gLtYGHu",
        "outputId": "e7bd6f7b-f212-434a-c891-f40be8decb89"
      },
      "source": [
        "%%writefile exercise3.cpp\n",
        "#include <iostream>\n",
        "#include <string>\n",
        "#include <vector>\n",
        "\n",
        "using std::string;\n",
        "using std::vector;\n",
        "using std::cin;\n",
        "using std::endl;\n",
        "using std::cout;\n",
        "using std::min;\n",
        "void initializeMatrix(vector<vector<int>> &matrix, string &str1, string &str2){\n",
        "    str1 = \" \"+str1;\n",
        "    str2 = \" \"+str2;\n",
        "    matrix.resize(str2.size());\n",
        "    for(int i = 0; i < str2.size(); i++){\n",
        "        matrix[i].resize(str1.size()+1);\n",
        "    }\n",
        "    for(int i = 0; i < str2.size(); i++){\n",
        "        matrix[i][0] = i;\n",
        "    }\n",
        "    for(int j = 0; j < str1.size(); j++){\n",
        "        matrix[0][j] = j;\n",
        "    }\n",
        "}\n",
        "int edit_distance(string &str1, string &str2) {\n",
        "    vector < vector <int> > matrix;\n",
        "    initializeMatrix(matrix, str1, str2);\n",
        "    for (int i = 1; i < str2.size(); i++){\n",
        "        for( int j = 1; j < str1.size(); j++){\n",
        "            int insertion = matrix[i][j-1]+1;\n",
        "            int deletion = matrix[i-1][j]+1;\n",
        "            int match = matrix[i-1][j-1];\n",
        "            int mismatc = matrix [i-1][j-1]+1;\n",
        "            if(str2[i] == str1[j]){\n",
        "                matrix[i][j] = min(insertion, min(deletion, match));\n",
        "            }\n",
        "            else{\n",
        "                matrix[i][j] = min(insertion, min(deletion, mismatc));\n",
        "            }\n",
        "        }\n",
        "    }\n",
        "    return matrix[str2.size()-1][str1.size()-1];\n",
        "}\n",
        "\n",
        "int main() {\n",
        "    string str1;\n",
        "    string str2;\n",
        "    std::cin >> str1 >> str2;\n",
        "    std::cout << edit_distance(str1, str2) << std::endl;\n",
        "    return 0;\n",
        "}\n"
      ],
      "execution_count": 5,
      "outputs": [
        {
          "output_type": "stream",
          "text": [
            "Writing exercise3.cpp\n"
          ],
          "name": "stdout"
        }
      ]
    },
    {
      "cell_type": "code",
      "metadata": {
        "colab": {
          "base_uri": "https://localhost:8080/"
        },
        "id": "mza5mWenYGHv",
        "outputId": "7696cefb-9ee6-4b30-dcb6-6bf23cab563b"
      },
      "source": [
        "!g++ exercise3.cpp -o exercise3\n",
        "!./exercise3"
      ],
      "execution_count": 6,
      "outputs": [
        {
          "output_type": "stream",
          "text": [
            "editing\n",
            "distance\n",
            "5\n"
          ],
          "name": "stdout"
        }
      ]
    },
    {
      "cell_type": "markdown",
      "metadata": {
        "id": "ka68IkUVSoxt"
      },
      "source": [
        "## **Screenhsoots of the Coursera Submissions in C++**"
      ]
    },
    {
      "cell_type": "markdown",
      "metadata": {
        "id": "G_vGvIsbSwiC"
      },
      "source": [
        "<img src =\"https://raw.githubusercontent.com/juarodriguezc/AlgorithmsUN2021I/master/LabX/juarodriguezc.JPG\">"
      ]
    }
  ]
}