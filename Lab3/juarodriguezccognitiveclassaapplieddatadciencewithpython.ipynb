{
  "nbformat": 4,
  "nbformat_minor": 0,
  "metadata": {
    "kernelspec": {
      "display_name": "Python 3",
      "language": "python",
      "name": "python3"
    },
    "language_info": {
      "codemirror_mode": {
        "name": "ipython",
        "version": 3
      },
      "file_extension": ".py",
      "mimetype": "text/x-python",
      "name": "python",
      "nbconvert_exporter": "python",
      "pygments_lexer": "ipython3",
      "version": "3.6.4"
    },
    "colab": {
      "name": "juarodriguezccognitiveclassaapplieddatadciencewithpython.ipynb",
      "provenance": [],
      "collapsed_sections": []
    }
  },
  "cells": [
    {
      "cell_type": "markdown",
      "metadata": {
        "id": "huVR14E4ny3Y"
      },
      "source": [
        "# LAB 3 cognitiveclass.ai Applied Data Science with Python"
      ]
    },
    {
      "cell_type": "markdown",
      "metadata": {
        "id": "09oWZgC5pAWs"
      },
      "source": [
        "El link del Linkedin es:\n",
        "https://www.linkedin.com/in/juan-sebastian-rodriguez-castellanos-3b2a33208"
      ]
    },
    {
      "cell_type": "markdown",
      "metadata": {
        "id": "aarZwhpln39P"
      },
      "source": [
        "## Python for Data Science"
      ]
    },
    {
      "cell_type": "markdown",
      "metadata": {
        "id": "u7bDvVKdpqeF"
      },
      "source": [
        "<img src=\"https://raw.githubusercontent.com/juarodriguezc/AlgorithmsUN2021I/master/Lab3/juarodriguezcpytjonfordatascience.jpg\">"
      ]
    },
    {
      "cell_type": "markdown",
      "metadata": {
        "id": "pGs4DHObn9hV"
      },
      "source": [
        "## Data Analysis with Python"
      ]
    },
    {
      "cell_type": "markdown",
      "metadata": {
        "id": "wGtygRGEqzl8"
      },
      "source": [
        "<img src=\"https://raw.githubusercontent.com/juarodriguezc/AlgorithmsUN2021I/master/Lab3/juarodriguezcdataanalysis.jpg\">"
      ]
    },
    {
      "cell_type": "markdown",
      "metadata": {
        "id": "tt4kAKfBn_kE"
      },
      "source": [
        "## Data Visualization with Python"
      ]
    },
    {
      "cell_type": "markdown",
      "metadata": {
        "id": "mpZu1Jigq5Sr"
      },
      "source": [
        "<img src=\"https://raw.githubusercontent.com/juarodriguezc/AlgorithmsUN2021I/master/Lab3/juarodriguezcdatavisualization.jpg\">"
      ]
    },
    {
      "cell_type": "markdown",
      "metadata": {
        "id": "XHm2HFq8oqXk"
      },
      "source": [
        "## Certificados en Linkedin"
      ]
    },
    {
      "cell_type": "markdown",
      "metadata": {
        "id": "OmZcXbzxo4_E"
      },
      "source": [
        "<center><img src=\"https://raw.githubusercontent.com/juarodriguezc/AlgorithmsUN2021I/master/Lab3/juarodriguezccognitiveclassaapplieddatadciencewithpython.jpg\"></center>"
      ]
    },
    {
      "cell_type": "markdown",
      "metadata": {
        "id": "Xxg1f2USow8c"
      },
      "source": [
        "<center><img src=\"https://raw.githubusercontent.com/juarodriguezc/AlgorithmsUN2021I/master/Lab3/juarodriguezccognitiveclassaapplieddatadciencewithpython.jpg></img><center>"
      ]
    }
  ]
}